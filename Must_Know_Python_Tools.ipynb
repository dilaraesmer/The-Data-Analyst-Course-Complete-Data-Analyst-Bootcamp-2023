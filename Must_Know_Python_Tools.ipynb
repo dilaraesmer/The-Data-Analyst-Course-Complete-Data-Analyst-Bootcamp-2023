{
  "nbformat": 4,
  "nbformat_minor": 0,
  "metadata": {
    "colab": {
      "provenance": [],
      "authorship_tag": "ABX9TyOX4pEl2TUPZHynu3nqYwWN",
      "include_colab_link": true
    },
    "kernelspec": {
      "name": "python3",
      "display_name": "Python 3"
    },
    "language_info": {
      "name": "python"
    }
  },
  "cells": [
    {
      "cell_type": "markdown",
      "metadata": {
        "id": "view-in-github",
        "colab_type": "text"
      },
      "source": [
        "<a href=\"https://colab.research.google.com/github/dilaraesmer/The-Data-Analyst-Course-Complete-Data-Analyst-Bootcamp-2023/blob/main/Must_Know_Python_Tools.ipynb\" target=\"_parent\"><img src=\"https://colab.research.google.com/assets/colab-badge.svg\" alt=\"Open In Colab\"/></a>"
      ]
    },
    {
      "cell_type": "markdown",
      "source": [
        "Iterating over Range Objects"
      ],
      "metadata": {
        "id": "ev0FBPxfTPcB"
      }
    },
    {
      "cell_type": "code",
      "execution_count": 4,
      "metadata": {
        "colab": {
          "base_uri": "https://localhost:8080/"
        },
        "id": "dX1oSvNzTCZW",
        "outputId": "4265dc57-85c7-4c9f-957c-962e033b3e38"
      },
      "outputs": [
        {
          "output_type": "execute_result",
          "data": {
            "text/plain": [
              "(5, 6, 7, 8)"
            ]
          },
          "metadata": {},
          "execution_count": 4
        }
      ],
      "source": [
        "# tuple\n",
        "t = (5,6,7,8)\n",
        "t"
      ]
    },
    {
      "cell_type": "code",
      "source": [
        "# list\n",
        "l = [10.5, 20.75, 30.00]\n",
        "l"
      ],
      "metadata": {
        "id": "q953ZXEGTuXn"
      },
      "execution_count": null,
      "outputs": []
    }
  ]
}