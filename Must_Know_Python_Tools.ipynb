{
  "nbformat": 4,
  "nbformat_minor": 0,
  "metadata": {
    "colab": {
      "provenance": [],
      "authorship_tag": "ABX9TyM3iWG3iwt/r7XjdDNi4PQF",
      "include_colab_link": true
    },
    "kernelspec": {
      "name": "python3",
      "display_name": "Python 3"
    },
    "language_info": {
      "name": "python"
    }
  },
  "cells": [
    {
      "cell_type": "markdown",
      "metadata": {
        "id": "view-in-github",
        "colab_type": "text"
      },
      "source": [
        "<a href=\"https://colab.research.google.com/github/dilaraesmer/The-Data-Analyst-Course-Complete-Data-Analyst-Bootcamp-2023/blob/main/Must_Know_Python_Tools.ipynb\" target=\"_parent\"><img src=\"https://colab.research.google.com/assets/colab-badge.svg\" alt=\"Open In Colab\"/></a>"
      ]
    },
    {
      "cell_type": "markdown",
      "source": [
        "Iterating over Range Objects"
      ],
      "metadata": {
        "id": "ev0FBPxfTPcB"
      }
    },
    {
      "cell_type": "code",
      "execution_count": 36,
      "metadata": {
        "colab": {
          "base_uri": "https://localhost:8080/"
        },
        "id": "dX1oSvNzTCZW",
        "outputId": "1afd2dcc-e5f7-4230-b980-93eb7005f131"
      },
      "outputs": [
        {
          "output_type": "execute_result",
          "data": {
            "text/plain": [
              "(5, 6, 7, 8)"
            ]
          },
          "metadata": {},
          "execution_count": 36
        }
      ],
      "source": [
        "# tuple\n",
        "t = (5,6,7,8)\n",
        "t"
      ]
    },
    {
      "cell_type": "code",
      "source": [
        "# list\n",
        "l = [10.5, 20.75, 30.00]\n",
        "l"
      ],
      "metadata": {
        "id": "q953ZXEGTuXn",
        "colab": {
          "base_uri": "https://localhost:8080/"
        },
        "outputId": "837d5bbd-0461-4975-9bb2-868882572d8b"
      },
      "execution_count": 37,
      "outputs": [
        {
          "output_type": "execute_result",
          "data": {
            "text/plain": [
              "[10.5, 20.75, 30.0]"
            ]
          },
          "metadata": {},
          "execution_count": 37
        }
      ]
    },
    {
      "cell_type": "code",
      "source": [
        "# string\n",
        "s = 'abcdef'\n",
        "s"
      ],
      "metadata": {
        "colab": {
          "base_uri": "https://localhost:8080/",
          "height": 35
        },
        "id": "luGTUoB_UGhR",
        "outputId": "713677a3-0e7f-4ee1-f06c-bf76754f5f07"
      },
      "execution_count": 38,
      "outputs": [
        {
          "output_type": "execute_result",
          "data": {
            "text/plain": [
              "'abcdef'"
            ],
            "application/vnd.google.colaboratory.intrinsic+json": {
              "type": "string"
            }
          },
          "metadata": {},
          "execution_count": 38
        }
      ]
    },
    {
      "cell_type": "code",
      "source": [
        "# i = loop variable = iterator variable\n",
        "# t = iterable - any object that you can iterate (loop) over\n",
        "for i in t:\n",
        "  print(i, end=\" \")"
      ],
      "metadata": {
        "colab": {
          "base_uri": "https://localhost:8080/"
        },
        "id": "ETFYQlPKUQ-r",
        "outputId": "fbf243cc-de08-4039-9635-4c9f306190fe"
      },
      "execution_count": 39,
      "outputs": [
        {
          "output_type": "stream",
          "name": "stdout",
          "text": [
            "5 6 7 8 "
          ]
        }
      ]
    },
    {
      "cell_type": "code",
      "source": [
        "range(5)"
      ],
      "metadata": {
        "colab": {
          "base_uri": "https://localhost:8080/"
        },
        "id": "F2deweK8VpMD",
        "outputId": "fe2f8377-3aa1-4fa2-c425-1e772943f384"
      },
      "execution_count": 40,
      "outputs": [
        {
          "output_type": "execute_result",
          "data": {
            "text/plain": [
              "range(0, 5)"
            ]
          },
          "metadata": {},
          "execution_count": 40
        }
      ]
    },
    {
      "cell_type": "code",
      "source": [
        "for i in range(5):\n",
        "  print(i, end = \" \")"
      ],
      "metadata": {
        "colab": {
          "base_uri": "https://localhost:8080/"
        },
        "id": "0QSA22gZUjxd",
        "outputId": "ac8be852-e9a3-41f2-b5a0-7c2e910e2f1e"
      },
      "execution_count": 41,
      "outputs": [
        {
          "output_type": "stream",
          "name": "stdout",
          "text": [
            "0 1 2 3 4 "
          ]
        }
      ]
    },
    {
      "cell_type": "markdown",
      "source": [
        "Nested For Loops"
      ],
      "metadata": {
        "id": "IwQimqjvWDOi"
      }
    },
    {
      "cell_type": "code",
      "source": [
        "for i in range(2):\n",
        "  print(i)"
      ],
      "metadata": {
        "colab": {
          "base_uri": "https://localhost:8080/"
        },
        "id": "uniogZLLWHZv",
        "outputId": "390159e9-8408-4ac7-c6bb-6381b228b81d"
      },
      "execution_count": 42,
      "outputs": [
        {
          "output_type": "stream",
          "name": "stdout",
          "text": [
            "0\n",
            "1\n"
          ]
        }
      ]
    },
    {
      "cell_type": "code",
      "source": [
        "for j in range(5):\n",
        "  print(j)"
      ],
      "metadata": {
        "colab": {
          "base_uri": "https://localhost:8080/"
        },
        "id": "4hFCZUgEWlmG",
        "outputId": "e447f09b-975b-45d4-f02e-18fd4f689c20"
      },
      "execution_count": 43,
      "outputs": [
        {
          "output_type": "stream",
          "name": "stdout",
          "text": [
            "0\n",
            "1\n",
            "2\n",
            "3\n",
            "4\n"
          ]
        }
      ]
    },
    {
      "cell_type": "code",
      "source": [
        "for i in range(2):\n",
        "  for j in range(5):\n",
        "    print(j)"
      ],
      "metadata": {
        "colab": {
          "base_uri": "https://localhost:8080/"
        },
        "id": "BAD4jWnbW1Ws",
        "outputId": "019617d6-a152-4f57-ef6d-80bc808805cd"
      },
      "execution_count": 44,
      "outputs": [
        {
          "output_type": "stream",
          "name": "stdout",
          "text": [
            "0\n",
            "1\n",
            "2\n",
            "3\n",
            "4\n",
            "0\n",
            "1\n",
            "2\n",
            "3\n",
            "4\n"
          ]
        }
      ]
    },
    {
      "cell_type": "code",
      "source": [
        "for i in range(2):\n",
        "  for j in range(5):\n",
        "    print([i,j])"
      ],
      "metadata": {
        "colab": {
          "base_uri": "https://localhost:8080/"
        },
        "id": "XyIEXRpoXGyU",
        "outputId": "b8550d2f-1cdc-47a0-ebc8-3f5b1aa30c4e"
      },
      "execution_count": 45,
      "outputs": [
        {
          "output_type": "stream",
          "name": "stdout",
          "text": [
            "[0, 0]\n",
            "[0, 1]\n",
            "[0, 2]\n",
            "[0, 3]\n",
            "[0, 4]\n",
            "[1, 0]\n",
            "[1, 1]\n",
            "[1, 2]\n",
            "[1, 3]\n",
            "[1, 4]\n"
          ]
        }
      ]
    },
    {
      "cell_type": "markdown",
      "source": [
        "Triple Nested For Loops"
      ],
      "metadata": {
        "id": "iv2WlpmIZ-gR"
      }
    },
    {
      "cell_type": "code",
      "source": [
        "products = [\"Product A\", \"Product B\"]\n",
        "exp_sales = [10000, 11000, 12000, 13000, 14000]"
      ],
      "metadata": {
        "id": "QNIA82yyaCvn"
      },
      "execution_count": 46,
      "outputs": []
    },
    {
      "cell_type": "code",
      "source": [
        "# monthly, quarterly, and annual expected sales revenue\n",
        "time_horizon = (1,3,12)"
      ],
      "metadata": {
        "id": "Si8dw7TLbpzA"
      },
      "execution_count": 47,
      "outputs": []
    },
    {
      "cell_type": "code",
      "source": [
        "for i in products:\n",
        "  for j in exp_sales:\n",
        "    for k in time_horizon:\n",
        "      print([i, j*k])"
      ],
      "metadata": {
        "colab": {
          "base_uri": "https://localhost:8080/"
        },
        "id": "zFFk15_CcDOW",
        "outputId": "64601676-ad14-4318-b9d6-5367a08346df"
      },
      "execution_count": 48,
      "outputs": [
        {
          "output_type": "stream",
          "name": "stdout",
          "text": [
            "['Product A', 10000]\n",
            "['Product A', 30000]\n",
            "['Product A', 120000]\n",
            "['Product A', 11000]\n",
            "['Product A', 33000]\n",
            "['Product A', 132000]\n",
            "['Product A', 12000]\n",
            "['Product A', 36000]\n",
            "['Product A', 144000]\n",
            "['Product A', 13000]\n",
            "['Product A', 39000]\n",
            "['Product A', 156000]\n",
            "['Product A', 14000]\n",
            "['Product A', 42000]\n",
            "['Product A', 168000]\n",
            "['Product B', 10000]\n",
            "['Product B', 30000]\n",
            "['Product B', 120000]\n",
            "['Product B', 11000]\n",
            "['Product B', 33000]\n",
            "['Product B', 132000]\n",
            "['Product B', 12000]\n",
            "['Product B', 36000]\n",
            "['Product B', 144000]\n",
            "['Product B', 13000]\n",
            "['Product B', 39000]\n",
            "['Product B', 156000]\n",
            "['Product B', 14000]\n",
            "['Product B', 42000]\n",
            "['Product B', 168000]\n"
          ]
        }
      ]
    },
    {
      "cell_type": "code",
      "source": [
        "for prod in products:\n",
        "   for t_hor in time_horizon:\n",
        "     for sale in exp_sales:\n",
        "        print('Expected sales for a period of {0} month(s) for {1}: ${sales}'.format(t_hor, prod, sales = sale * t_hor))"
      ],
      "metadata": {
        "colab": {
          "base_uri": "https://localhost:8080/"
        },
        "id": "_p87v_zKc3x-",
        "outputId": "830aba17-9ffb-438a-b6ea-0e61e6fb6435"
      },
      "execution_count": 49,
      "outputs": [
        {
          "output_type": "stream",
          "name": "stdout",
          "text": [
            "Expected sales for a period of 1 month(s) for Product A: $10000\n",
            "Expected sales for a period of 1 month(s) for Product A: $11000\n",
            "Expected sales for a period of 1 month(s) for Product A: $12000\n",
            "Expected sales for a period of 1 month(s) for Product A: $13000\n",
            "Expected sales for a period of 1 month(s) for Product A: $14000\n",
            "Expected sales for a period of 3 month(s) for Product A: $30000\n",
            "Expected sales for a period of 3 month(s) for Product A: $33000\n",
            "Expected sales for a period of 3 month(s) for Product A: $36000\n",
            "Expected sales for a period of 3 month(s) for Product A: $39000\n",
            "Expected sales for a period of 3 month(s) for Product A: $42000\n",
            "Expected sales for a period of 12 month(s) for Product A: $120000\n",
            "Expected sales for a period of 12 month(s) for Product A: $132000\n",
            "Expected sales for a period of 12 month(s) for Product A: $144000\n",
            "Expected sales for a period of 12 month(s) for Product A: $156000\n",
            "Expected sales for a period of 12 month(s) for Product A: $168000\n",
            "Expected sales for a period of 1 month(s) for Product B: $10000\n",
            "Expected sales for a period of 1 month(s) for Product B: $11000\n",
            "Expected sales for a period of 1 month(s) for Product B: $12000\n",
            "Expected sales for a period of 1 month(s) for Product B: $13000\n",
            "Expected sales for a period of 1 month(s) for Product B: $14000\n",
            "Expected sales for a period of 3 month(s) for Product B: $30000\n",
            "Expected sales for a period of 3 month(s) for Product B: $33000\n",
            "Expected sales for a period of 3 month(s) for Product B: $36000\n",
            "Expected sales for a period of 3 month(s) for Product B: $39000\n",
            "Expected sales for a period of 3 month(s) for Product B: $42000\n",
            "Expected sales for a period of 12 month(s) for Product B: $120000\n",
            "Expected sales for a period of 12 month(s) for Product B: $132000\n",
            "Expected sales for a period of 12 month(s) for Product B: $144000\n",
            "Expected sales for a period of 12 month(s) for Product B: $156000\n",
            "Expected sales for a period of 12 month(s) for Product B: $168000\n"
          ]
        }
      ]
    },
    {
      "cell_type": "markdown",
      "source": [
        "List Comprehensions"
      ],
      "metadata": {
        "id": "XNmTgQpk5LEa"
      }
    },
    {
      "cell_type": "code",
      "source": [
        "numbers = [1, 13, 4, 5, 63, 100]\n",
        "numbers"
      ],
      "metadata": {
        "colab": {
          "base_uri": "https://localhost:8080/"
        },
        "id": "MI7LBfoK5GLx",
        "outputId": "eedbe041-a0cd-46fe-c615-052247ea1a3f"
      },
      "execution_count": 54,
      "outputs": [
        {
          "output_type": "execute_result",
          "data": {
            "text/plain": [
              "[1, 13, 4, 5, 63, 100]"
            ]
          },
          "metadata": {},
          "execution_count": 54
        }
      ]
    },
    {
      "cell_type": "code",
      "source": [
        "new_numbers = []\n",
        "\n",
        "for n in numbers:\n",
        "  new_numbers.append(n * 2)\n",
        "\n",
        "print(new_numbers)"
      ],
      "metadata": {
        "colab": {
          "base_uri": "https://localhost:8080/"
        },
        "id": "Gd3oLLcO5XXL",
        "outputId": "224c5e28-5794-4954-ffa9-c3ec8d12a530"
      },
      "execution_count": 55,
      "outputs": [
        {
          "output_type": "stream",
          "name": "stdout",
          "text": [
            "[2, 26, 8, 10, 126, 200]\n"
          ]
        }
      ]
    }
  ]
}