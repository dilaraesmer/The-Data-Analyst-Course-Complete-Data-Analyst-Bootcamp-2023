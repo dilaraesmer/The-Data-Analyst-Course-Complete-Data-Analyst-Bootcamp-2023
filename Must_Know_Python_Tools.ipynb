{
  "nbformat": 4,
  "nbformat_minor": 0,
  "metadata": {
    "colab": {
      "provenance": [],
      "authorship_tag": "ABX9TyOSqCr6Vu1Q6AXK33RToLvG",
      "include_colab_link": true
    },
    "kernelspec": {
      "name": "python3",
      "display_name": "Python 3"
    },
    "language_info": {
      "name": "python"
    }
  },
  "cells": [
    {
      "cell_type": "markdown",
      "metadata": {
        "id": "view-in-github",
        "colab_type": "text"
      },
      "source": [
        "<a href=\"https://colab.research.google.com/github/dilaraesmer/The-Data-Analyst-Course-Complete-Data-Analyst-Bootcamp-2023/blob/main/Must_Know_Python_Tools.ipynb\" target=\"_parent\"><img src=\"https://colab.research.google.com/assets/colab-badge.svg\" alt=\"Open In Colab\"/></a>"
      ]
    },
    {
      "cell_type": "markdown",
      "source": [
        "Iterating over Range Objects"
      ],
      "metadata": {
        "id": "ev0FBPxfTPcB"
      }
    },
    {
      "cell_type": "code",
      "execution_count": 4,
      "metadata": {
        "colab": {
          "base_uri": "https://localhost:8080/"
        },
        "id": "dX1oSvNzTCZW",
        "outputId": "4265dc57-85c7-4c9f-957c-962e033b3e38"
      },
      "outputs": [
        {
          "output_type": "execute_result",
          "data": {
            "text/plain": [
              "(5, 6, 7, 8)"
            ]
          },
          "metadata": {},
          "execution_count": 4
        }
      ],
      "source": [
        "# tuple\n",
        "t = (5,6,7,8)\n",
        "t"
      ]
    },
    {
      "cell_type": "code",
      "source": [
        "# list\n",
        "l = [10.5, 20.75, 30.00]\n",
        "l"
      ],
      "metadata": {
        "id": "q953ZXEGTuXn"
      },
      "execution_count": null,
      "outputs": []
    },
    {
      "cell_type": "code",
      "source": [
        "# string\n",
        "s = 'abcdef'\n",
        "s"
      ],
      "metadata": {
        "colab": {
          "base_uri": "https://localhost:8080/",
          "height": 35
        },
        "id": "luGTUoB_UGhR",
        "outputId": "28d496eb-35eb-47c7-c980-6779cbe8f855"
      },
      "execution_count": 6,
      "outputs": [
        {
          "output_type": "execute_result",
          "data": {
            "text/plain": [
              "'abcdef'"
            ],
            "application/vnd.google.colaboratory.intrinsic+json": {
              "type": "string"
            }
          },
          "metadata": {},
          "execution_count": 6
        }
      ]
    },
    {
      "cell_type": "code",
      "source": [
        "# i = loop variable = iterator variable\n",
        "# t = iterable - any object that you can iterate (loop) over\n",
        "for i in t:\n",
        "  print(i, end=\" \")"
      ],
      "metadata": {
        "colab": {
          "base_uri": "https://localhost:8080/"
        },
        "id": "ETFYQlPKUQ-r",
        "outputId": "3a8aaeff-20a2-482c-dc84-09b0b2942154"
      },
      "execution_count": 9,
      "outputs": [
        {
          "output_type": "stream",
          "name": "stdout",
          "text": [
            "5 6 7 8 "
          ]
        }
      ]
    },
    {
      "cell_type": "code",
      "source": [
        "range(5)"
      ],
      "metadata": {
        "colab": {
          "base_uri": "https://localhost:8080/"
        },
        "id": "F2deweK8VpMD",
        "outputId": "76c6269b-ad19-43ad-d5db-5f5b7ae45ee6"
      },
      "execution_count": 11,
      "outputs": [
        {
          "output_type": "execute_result",
          "data": {
            "text/plain": [
              "range(0, 5)"
            ]
          },
          "metadata": {},
          "execution_count": 11
        }
      ]
    },
    {
      "cell_type": "code",
      "source": [
        "for i in range(5):\n",
        "  print(i, end = \" \")"
      ],
      "metadata": {
        "colab": {
          "base_uri": "https://localhost:8080/"
        },
        "id": "0QSA22gZUjxd",
        "outputId": "8add70fa-e1ee-4092-c8de-22944a75b813"
      },
      "execution_count": 10,
      "outputs": [
        {
          "output_type": "stream",
          "name": "stdout",
          "text": [
            "0 1 2 3 4 "
          ]
        }
      ]
    },
    {
      "cell_type": "markdown",
      "source": [
        "Nested For Loops"
      ],
      "metadata": {
        "id": "IwQimqjvWDOi"
      }
    },
    {
      "cell_type": "code",
      "source": [
        "for i in range(2):\n",
        "  print(i)"
      ],
      "metadata": {
        "colab": {
          "base_uri": "https://localhost:8080/"
        },
        "id": "uniogZLLWHZv",
        "outputId": "0d917f7e-0dd7-4abc-b660-41959500a06e"
      },
      "execution_count": 12,
      "outputs": [
        {
          "output_type": "stream",
          "name": "stdout",
          "text": [
            "0\n",
            "1\n"
          ]
        }
      ]
    },
    {
      "cell_type": "code",
      "source": [
        "for j in range(5):\n",
        "  print(j)"
      ],
      "metadata": {
        "colab": {
          "base_uri": "https://localhost:8080/"
        },
        "id": "4hFCZUgEWlmG",
        "outputId": "fe7dabef-a47f-4fe5-d5db-9dccfe9278c9"
      },
      "execution_count": 13,
      "outputs": [
        {
          "output_type": "stream",
          "name": "stdout",
          "text": [
            "0\n",
            "1\n",
            "2\n",
            "3\n",
            "4\n"
          ]
        }
      ]
    },
    {
      "cell_type": "code",
      "source": [
        "for i in range(2):\n",
        "  for j in range(5):\n",
        "    print(j)"
      ],
      "metadata": {
        "colab": {
          "base_uri": "https://localhost:8080/"
        },
        "id": "BAD4jWnbW1Ws",
        "outputId": "c0d48e7b-47cf-4ea4-9bf8-678502e4f59a"
      },
      "execution_count": 17,
      "outputs": [
        {
          "output_type": "stream",
          "name": "stdout",
          "text": [
            "0\n",
            "1\n",
            "2\n",
            "3\n",
            "4\n",
            "0\n",
            "1\n",
            "2\n",
            "3\n",
            "4\n"
          ]
        }
      ]
    },
    {
      "cell_type": "code",
      "source": [
        "for i in range(2):\n",
        "  for j in range(5):\n",
        "    print([i,j])"
      ],
      "metadata": {
        "colab": {
          "base_uri": "https://localhost:8080/"
        },
        "id": "XyIEXRpoXGyU",
        "outputId": "f79556e4-8e70-424e-cd81-076d081f4909"
      },
      "execution_count": 18,
      "outputs": [
        {
          "output_type": "stream",
          "name": "stdout",
          "text": [
            "[0, 0]\n",
            "[0, 1]\n",
            "[0, 2]\n",
            "[0, 3]\n",
            "[0, 4]\n",
            "[1, 0]\n",
            "[1, 1]\n",
            "[1, 2]\n",
            "[1, 3]\n",
            "[1, 4]\n"
          ]
        }
      ]
    },
    {
      "cell_type": "markdown",
      "source": [
        "Triple Nested For Loops"
      ],
      "metadata": {
        "id": "iv2WlpmIZ-gR"
      }
    },
    {
      "cell_type": "code",
      "source": [
        "products = [\"Product A\", \"Product B\"]\n",
        "exp_sales = [10000, 11000, 12000, 13000, 14000]"
      ],
      "metadata": {
        "id": "QNIA82yyaCvn"
      },
      "execution_count": 22,
      "outputs": []
    },
    {
      "cell_type": "code",
      "source": [
        "# monthly, quarterly, and annual expected sales revenue\n",
        "time_horizon = (1,3,12)"
      ],
      "metadata": {
        "id": "Si8dw7TLbpzA"
      },
      "execution_count": 21,
      "outputs": []
    },
    {
      "cell_type": "code",
      "source": [
        "for i in products:\n",
        "  for j in exp_sales:\n",
        "    for k in time_horizon:\n",
        "      print([i, j*k])"
      ],
      "metadata": {
        "colab": {
          "base_uri": "https://localhost:8080/"
        },
        "id": "zFFk15_CcDOW",
        "outputId": "23673f78-bfb6-4280-e177-dd7cc1ec97e5"
      },
      "execution_count": 27,
      "outputs": [
        {
          "output_type": "stream",
          "name": "stdout",
          "text": [
            "['Product A', 10000]\n",
            "['Product A', 30000]\n",
            "['Product A', 120000]\n",
            "['Product A', 11000]\n",
            "['Product A', 33000]\n",
            "['Product A', 132000]\n",
            "['Product A', 12000]\n",
            "['Product A', 36000]\n",
            "['Product A', 144000]\n",
            "['Product A', 13000]\n",
            "['Product A', 39000]\n",
            "['Product A', 156000]\n",
            "['Product A', 14000]\n",
            "['Product A', 42000]\n",
            "['Product A', 168000]\n",
            "['Product B', 10000]\n",
            "['Product B', 30000]\n",
            "['Product B', 120000]\n",
            "['Product B', 11000]\n",
            "['Product B', 33000]\n",
            "['Product B', 132000]\n",
            "['Product B', 12000]\n",
            "['Product B', 36000]\n",
            "['Product B', 144000]\n",
            "['Product B', 13000]\n",
            "['Product B', 39000]\n",
            "['Product B', 156000]\n",
            "['Product B', 14000]\n",
            "['Product B', 42000]\n",
            "['Product B', 168000]\n"
          ]
        }
      ]
    },
    {
      "cell_type": "code",
      "source": [
        "for prod in products:\n",
        "   for t_hor in time_horizon:\n",
        "     for sale in exp_sales:\n",
        "        print('Expected sales for a period of {0} month(s) for {1}: ${sales}'.format(t_hor, prod, sales = sale * t_hor))"
      ],
      "metadata": {
        "colab": {
          "base_uri": "https://localhost:8080/"
        },
        "id": "_p87v_zKc3x-",
        "outputId": "198a00ba-0e70-42c7-c7d7-314ad2383ec9"
      },
      "execution_count": 35,
      "outputs": [
        {
          "output_type": "stream",
          "name": "stdout",
          "text": [
            "Expected sales for a period of 1 month(s) for Product A: $10000\n",
            "Expected sales for a period of 1 month(s) for Product A: $11000\n",
            "Expected sales for a period of 1 month(s) for Product A: $12000\n",
            "Expected sales for a period of 1 month(s) for Product A: $13000\n",
            "Expected sales for a period of 1 month(s) for Product A: $14000\n",
            "Expected sales for a period of 3 month(s) for Product A: $30000\n",
            "Expected sales for a period of 3 month(s) for Product A: $33000\n",
            "Expected sales for a period of 3 month(s) for Product A: $36000\n",
            "Expected sales for a period of 3 month(s) for Product A: $39000\n",
            "Expected sales for a period of 3 month(s) for Product A: $42000\n",
            "Expected sales for a period of 12 month(s) for Product A: $120000\n",
            "Expected sales for a period of 12 month(s) for Product A: $132000\n",
            "Expected sales for a period of 12 month(s) for Product A: $144000\n",
            "Expected sales for a period of 12 month(s) for Product A: $156000\n",
            "Expected sales for a period of 12 month(s) for Product A: $168000\n",
            "Expected sales for a period of 1 month(s) for Product B: $10000\n",
            "Expected sales for a period of 1 month(s) for Product B: $11000\n",
            "Expected sales for a period of 1 month(s) for Product B: $12000\n",
            "Expected sales for a period of 1 month(s) for Product B: $13000\n",
            "Expected sales for a period of 1 month(s) for Product B: $14000\n",
            "Expected sales for a period of 3 month(s) for Product B: $30000\n",
            "Expected sales for a period of 3 month(s) for Product B: $33000\n",
            "Expected sales for a period of 3 month(s) for Product B: $36000\n",
            "Expected sales for a period of 3 month(s) for Product B: $39000\n",
            "Expected sales for a period of 3 month(s) for Product B: $42000\n",
            "Expected sales for a period of 12 month(s) for Product B: $120000\n",
            "Expected sales for a period of 12 month(s) for Product B: $132000\n",
            "Expected sales for a period of 12 month(s) for Product B: $144000\n",
            "Expected sales for a period of 12 month(s) for Product B: $156000\n",
            "Expected sales for a period of 12 month(s) for Product B: $168000\n"
          ]
        }
      ]
    }
  ]
}