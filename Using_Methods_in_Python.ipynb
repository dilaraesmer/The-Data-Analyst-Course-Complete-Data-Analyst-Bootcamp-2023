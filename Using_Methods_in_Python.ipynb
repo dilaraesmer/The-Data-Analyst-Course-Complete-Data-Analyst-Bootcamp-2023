{
  "nbformat": 4,
  "nbformat_minor": 0,
  "metadata": {
    "colab": {
      "provenance": [],
      "authorship_tag": "ABX9TyPR3rJRFeTJ97q36Gdpo2Wx",
      "include_colab_link": true
    },
    "kernelspec": {
      "name": "python3",
      "display_name": "Python 3"
    },
    "language_info": {
      "name": "python"
    }
  },
  "cells": [
    {
      "cell_type": "markdown",
      "metadata": {
        "id": "view-in-github",
        "colab_type": "text"
      },
      "source": [
        "<a href=\"https://colab.research.google.com/github/dilaraesmer/The-Data-Analyst-Course-Complete-Data-Analyst-Bootcamp-2023/blob/main/Using_Methods_in_Python.ipynb\" target=\"_parent\"><img src=\"https://colab.research.google.com/assets/colab-badge.svg\" alt=\"Open In Colab\"/></a>"
      ]
    },
    {
      "cell_type": "code",
      "execution_count": 2,
      "metadata": {
        "id": "FK8B0ErdxNwZ"
      },
      "outputs": [],
      "source": [
        "import pandas as pd"
      ]
    },
    {
      "cell_type": "code",
      "source": [
        "start_date_deposits = pd.Series({\n",
        "    '7/4/2014'  : 2000,\n",
        "    '1/2/2015'  : 2000,\n",
        "    '12/8/2012' : 1000,\n",
        "    '2/20/2015' : 2000,\n",
        "    '10/28/2013': 2000,\n",
        "    '4/19/2015' : 2000,\n",
        "    '7/4/2016'  : 2000,\n",
        "    '4/24/2014' : 2000,\n",
        "    '9/3/2015'  : 4000,\n",
        "    '7/25/2016' : 2000,\n",
        "    '5/1/2014'  : 2000,\n",
        "    '3/29/2013' : 2000,\n",
        "    '10/3/2014' : 2000,\n",
        "    '9/18/2015' : 2500\n",
        "})"
      ],
      "metadata": {
        "id": "au9VflOs7N3G"
      },
      "execution_count": 3,
      "outputs": []
    },
    {
      "cell_type": "code",
      "source": [
        "start_date_deposits"
      ],
      "metadata": {
        "colab": {
          "base_uri": "https://localhost:8080/"
        },
        "id": "xa4dewhK9Y9x",
        "outputId": "86bd537e-b864-44bc-d727-29bd23fc3910"
      },
      "execution_count": 4,
      "outputs": [
        {
          "output_type": "execute_result",
          "data": {
            "text/plain": [
              "7/4/2014      2000\n",
              "1/2/2015      2000\n",
              "12/8/2012     1000\n",
              "2/20/2015     2000\n",
              "10/28/2013    2000\n",
              "4/19/2015     2000\n",
              "7/4/2016      2000\n",
              "4/24/2014     2000\n",
              "9/3/2015      4000\n",
              "7/25/2016     2000\n",
              "5/1/2014      2000\n",
              "3/29/2013     2000\n",
              "10/3/2014     2000\n",
              "9/18/2015     2500\n",
              "dtype: int64"
            ]
          },
          "metadata": {},
          "execution_count": 4
        }
      ]
    },
    {
      "cell_type": "code",
      "source": [
        "start_date_deposits.sum"
      ],
      "metadata": {
        "colab": {
          "base_uri": "https://localhost:8080/"
        },
        "id": "k8cFBZ7U94gG",
        "outputId": "d7368118-1d1d-44ad-a610-7a50313a63f2"
      },
      "execution_count": 6,
      "outputs": [
        {
          "output_type": "execute_result",
          "data": {
            "text/plain": [
              "<bound method NDFrame._add_numeric_operations.<locals>.sum of 7/4/2014      2000\n",
              "1/2/2015      2000\n",
              "12/8/2012     1000\n",
              "2/20/2015     2000\n",
              "10/28/2013    2000\n",
              "4/19/2015     2000\n",
              "7/4/2016      2000\n",
              "4/24/2014     2000\n",
              "9/3/2015      4000\n",
              "7/25/2016     2000\n",
              "5/1/2014      2000\n",
              "3/29/2013     2000\n",
              "10/3/2014     2000\n",
              "9/18/2015     2500\n",
              "dtype: int64>"
            ]
          },
          "metadata": {},
          "execution_count": 6
        }
      ]
    },
    {
      "cell_type": "code",
      "source": [
        "start_date_deposits.sum()"
      ],
      "metadata": {
        "colab": {
          "base_uri": "https://localhost:8080/"
        },
        "id": "w-SNlhvK-VJQ",
        "outputId": "bb390770-a1db-461b-d73f-722eea374763"
      },
      "execution_count": 8,
      "outputs": [
        {
          "output_type": "execute_result",
          "data": {
            "text/plain": [
              "29500"
            ]
          },
          "metadata": {},
          "execution_count": 8
        }
      ]
    },
    {
      "cell_type": "code",
      "source": [
        "start_date_deposits.max()"
      ],
      "metadata": {
        "colab": {
          "base_uri": "https://localhost:8080/"
        },
        "id": "X_FUMkXe-WGJ",
        "outputId": "6d774167-c07c-45ab-a26c-6183d2e0e7c9"
      },
      "execution_count": 9,
      "outputs": [
        {
          "output_type": "execute_result",
          "data": {
            "text/plain": [
              "4000"
            ]
          },
          "metadata": {},
          "execution_count": 9
        }
      ]
    },
    {
      "cell_type": "code",
      "source": [
        "start_date_deposits.min()"
      ],
      "metadata": {
        "colab": {
          "base_uri": "https://localhost:8080/"
        },
        "id": "59i9SXgs-eAv",
        "outputId": "44242eca-bb5f-49df-cb53-0333cde01045"
      },
      "execution_count": 10,
      "outputs": [
        {
          "output_type": "execute_result",
          "data": {
            "text/plain": [
              "1000"
            ]
          },
          "metadata": {},
          "execution_count": 10
        }
      ]
    },
    {
      "cell_type": "markdown",
      "source": [
        "idxmax() - returns the index label corresponding to the highest value in a series."
      ],
      "metadata": {
        "id": "D1YZgeDU-pS2"
      }
    },
    {
      "cell_type": "code",
      "source": [
        "start_date_deposits.idxmax()"
      ],
      "metadata": {
        "colab": {
          "base_uri": "https://localhost:8080/",
          "height": 35
        },
        "id": "K09NbHUm-9QK",
        "outputId": "5395525b-36dd-4faa-8953-98505764d9bb"
      },
      "execution_count": 11,
      "outputs": [
        {
          "output_type": "execute_result",
          "data": {
            "text/plain": [
              "'9/3/2015'"
            ],
            "application/vnd.google.colaboratory.intrinsic+json": {
              "type": "string"
            }
          },
          "metadata": {},
          "execution_count": 11
        }
      ]
    },
    {
      "cell_type": "markdown",
      "source": [
        "idxmin() - returns the index label corresponding to the smallest value in a series."
      ],
      "metadata": {
        "id": "yLRwe9yd_c57"
      }
    },
    {
      "cell_type": "code",
      "source": [
        "start_date_deposits.idxmin()"
      ],
      "metadata": {
        "colab": {
          "base_uri": "https://localhost:8080/",
          "height": 35
        },
        "id": "ou5Fr_sA_2FS",
        "outputId": "ae7c8c0d-69fe-4cf8-a973-bc6bf6bf8b27"
      },
      "execution_count": 12,
      "outputs": [
        {
          "output_type": "execute_result",
          "data": {
            "text/plain": [
              "'12/8/2012'"
            ],
            "application/vnd.google.colaboratory.intrinsic+json": {
              "type": "string"
            }
          },
          "metadata": {},
          "execution_count": 12
        }
      ]
    },
    {
      "cell_type": "code",
      "source": [
        "start_date_deposits.head()"
      ],
      "metadata": {
        "id": "HLS3AE9WA_1U",
        "outputId": "373ff47f-e902-4da2-afdd-f23d62cd5070",
        "colab": {
          "base_uri": "https://localhost:8080/"
        }
      },
      "execution_count": 13,
      "outputs": [
        {
          "output_type": "execute_result",
          "data": {
            "text/plain": [
              "7/4/2014      2000\n",
              "1/2/2015      2000\n",
              "12/8/2012     1000\n",
              "2/20/2015     2000\n",
              "10/28/2013    2000\n",
              "dtype: int64"
            ]
          },
          "metadata": {},
          "execution_count": 13
        }
      ]
    }
  ]
}