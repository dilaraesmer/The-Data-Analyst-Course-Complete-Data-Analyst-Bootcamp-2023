{
  "nbformat": 4,
  "nbformat_minor": 0,
  "metadata": {
    "colab": {
      "provenance": [],
      "authorship_tag": "ABX9TyN3q3XwlGyKq+pMVyb9FBYl",
      "include_colab_link": true
    },
    "kernelspec": {
      "name": "python3",
      "display_name": "Python 3"
    },
    "language_info": {
      "name": "python"
    }
  },
  "cells": [
    {
      "cell_type": "markdown",
      "metadata": {
        "id": "view-in-github",
        "colab_type": "text"
      },
      "source": [
        "<a href=\"https://colab.research.google.com/github/dilaraesmer/The-Data-Analyst-Course-Complete-Data-Analyst-Bootcamp-2023/blob/main/Using_Methods_in_Python.ipynb\" target=\"_parent\"><img src=\"https://colab.research.google.com/assets/colab-badge.svg\" alt=\"Open In Colab\"/></a>"
      ]
    },
    {
      "cell_type": "code",
      "execution_count": 2,
      "metadata": {
        "id": "FK8B0ErdxNwZ"
      },
      "outputs": [],
      "source": [
        "import pandas as pd"
      ]
    },
    {
      "cell_type": "code",
      "source": [
        "start_date_deposits = pd.Series({\n",
        "    '7/4/2014'  : 2000,\n",
        "    '1/2/2015'  : 2000,\n",
        "    '12/8/2012' : 1000,\n",
        "    '2/20/2015' : 2000,\n",
        "    '10/28/2013': 2000,\n",
        "    '4/19/2015' : 2000,\n",
        "    '7/4/2016'  : 2000,\n",
        "    '4/24/2014' : 2000,\n",
        "    '9/3/2015'  : 4000,\n",
        "    '7/25/2016' : 2000,\n",
        "    '5/1/2014'  : 2000,\n",
        "    '3/29/2013' : 2000,\n",
        "    '10/3/2014' : 2000,\n",
        "    '9/18/2015' : 2500\n",
        "})"
      ],
      "metadata": {
        "id": "au9VflOs7N3G"
      },
      "execution_count": 3,
      "outputs": []
    },
    {
      "cell_type": "code",
      "source": [
        "start_date_deposits"
      ],
      "metadata": {
        "colab": {
          "base_uri": "https://localhost:8080/"
        },
        "id": "xa4dewhK9Y9x",
        "outputId": "86bd537e-b864-44bc-d727-29bd23fc3910"
      },
      "execution_count": 4,
      "outputs": [
        {
          "output_type": "execute_result",
          "data": {
            "text/plain": [
              "7/4/2014      2000\n",
              "1/2/2015      2000\n",
              "12/8/2012     1000\n",
              "2/20/2015     2000\n",
              "10/28/2013    2000\n",
              "4/19/2015     2000\n",
              "7/4/2016      2000\n",
              "4/24/2014     2000\n",
              "9/3/2015      4000\n",
              "7/25/2016     2000\n",
              "5/1/2014      2000\n",
              "3/29/2013     2000\n",
              "10/3/2014     2000\n",
              "9/18/2015     2500\n",
              "dtype: int64"
            ]
          },
          "metadata": {},
          "execution_count": 4
        }
      ]
    },
    {
      "cell_type": "code",
      "source": [
        "start_date_deposits.sum"
      ],
      "metadata": {
        "colab": {
          "base_uri": "https://localhost:8080/"
        },
        "id": "k8cFBZ7U94gG",
        "outputId": "d7368118-1d1d-44ad-a610-7a50313a63f2"
      },
      "execution_count": 6,
      "outputs": [
        {
          "output_type": "execute_result",
          "data": {
            "text/plain": [
              "<bound method NDFrame._add_numeric_operations.<locals>.sum of 7/4/2014      2000\n",
              "1/2/2015      2000\n",
              "12/8/2012     1000\n",
              "2/20/2015     2000\n",
              "10/28/2013    2000\n",
              "4/19/2015     2000\n",
              "7/4/2016      2000\n",
              "4/24/2014     2000\n",
              "9/3/2015      4000\n",
              "7/25/2016     2000\n",
              "5/1/2014      2000\n",
              "3/29/2013     2000\n",
              "10/3/2014     2000\n",
              "9/18/2015     2500\n",
              "dtype: int64>"
            ]
          },
          "metadata": {},
          "execution_count": 6
        }
      ]
    },
    {
      "cell_type": "code",
      "source": [
        "start_date_deposits.sum()"
      ],
      "metadata": {
        "colab": {
          "base_uri": "https://localhost:8080/"
        },
        "id": "w-SNlhvK-VJQ",
        "outputId": "bb390770-a1db-461b-d73f-722eea374763"
      },
      "execution_count": 8,
      "outputs": [
        {
          "output_type": "execute_result",
          "data": {
            "text/plain": [
              "29500"
            ]
          },
          "metadata": {},
          "execution_count": 8
        }
      ]
    },
    {
      "cell_type": "code",
      "source": [
        "()"
      ],
      "metadata": {
        "id": "X_FUMkXe-WGJ"
      },
      "execution_count": null,
      "outputs": []
    }
  ]
}