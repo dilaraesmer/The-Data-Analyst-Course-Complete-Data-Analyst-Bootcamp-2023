{
  "nbformat": 4,
  "nbformat_minor": 0,
  "metadata": {
    "colab": {
      "provenance": [],
      "authorship_tag": "ABX9TyNyRXWQa1W7SLyPJzC9dDyp",
      "include_colab_link": true
    },
    "kernelspec": {
      "name": "python3",
      "display_name": "Python 3"
    },
    "language_info": {
      "name": "python"
    }
  },
  "cells": [
    {
      "cell_type": "markdown",
      "metadata": {
        "id": "view-in-github",
        "colab_type": "text"
      },
      "source": [
        "<a href=\"https://colab.research.google.com/github/dilaraesmer/The-Data-Analyst-Course-Complete-Data-Analyst-Bootcamp-2023/blob/main/Using_Methods_in_Python.ipynb\" target=\"_parent\"><img src=\"https://colab.research.google.com/assets/colab-badge.svg\" alt=\"Open In Colab\"/></a>"
      ]
    },
    {
      "cell_type": "code",
      "execution_count": 2,
      "metadata": {
        "id": "FK8B0ErdxNwZ"
      },
      "outputs": [],
      "source": [
        "import pandas as pd"
      ]
    },
    {
      "cell_type": "code",
      "source": [
        "start_date_deposits = pd.Series({\n",
        "    '7/4/2014'  : 2000,\n",
        "    '1/2/2015'  : 2000,\n",
        "    '12/8/2012' : 1000,\n",
        "    '2/20/2015' : 2000,\n",
        "    '10/28/2013': 2000,\n",
        "    '4/19/2015' : 2000,\n",
        "    '7/4/2016'  : 2000,\n",
        "    '4/24/2014' : 2000,\n",
        "    '9/3/2015'  : 4000,\n",
        "    '7/25/2016' : 2000,\n",
        "    '5/1/2014'  : 2000,\n",
        "    '3/29/2013' : 2000,\n",
        "    '10/3/2014' : 2000,\n",
        "    '9/18/2015' : 2500\n",
        "})"
      ],
      "metadata": {
        "id": "au9VflOs7N3G"
      },
      "execution_count": 3,
      "outputs": []
    },
    {
      "cell_type": "code",
      "source": [],
      "metadata": {
        "id": "xa4dewhK9Y9x"
      },
      "execution_count": null,
      "outputs": []
    }
  ]
}