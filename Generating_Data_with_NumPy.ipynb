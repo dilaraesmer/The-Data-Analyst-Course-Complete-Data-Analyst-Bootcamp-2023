{
  "nbformat": 4,
  "nbformat_minor": 0,
  "metadata": {
    "colab": {
      "provenance": [],
      "authorship_tag": "ABX9TyOGyaTbLP2YrPj4jYO4gtg+",
      "include_colab_link": true
    },
    "kernelspec": {
      "name": "python3",
      "display_name": "Python 3"
    },
    "language_info": {
      "name": "python"
    }
  },
  "cells": [
    {
      "cell_type": "markdown",
      "metadata": {
        "id": "view-in-github",
        "colab_type": "text"
      },
      "source": [
        "<a href=\"https://colab.research.google.com/github/dilaraesmer/The-Data-Analyst-Course-Complete-Data-Analyst-Bootcamp-2023/blob/main/Generating_Data_with_NumPy.ipynb\" target=\"_parent\"><img src=\"https://colab.research.google.com/assets/colab-badge.svg\" alt=\"Open In Colab\"/></a>"
      ]
    },
    {
      "cell_type": "code",
      "execution_count": null,
      "metadata": {
        "id": "itN6rNnuBIkx"
      },
      "outputs": [],
      "source": [
        "import numpy as np"
      ]
    },
    {
      "cell_type": "markdown",
      "source": [
        "np.empty(), np.zeros(), np.ones(), np.full()"
      ],
      "metadata": {
        "id": "fzwS1MoWChZv"
      }
    },
    {
      "cell_type": "code",
      "source": [
        "array_empty = np.empty(shape=(2,3))\n",
        "array_empty"
      ],
      "metadata": {
        "colab": {
          "base_uri": "https://localhost:8080/"
        },
        "id": "SHyyjWY9ChPK",
        "outputId": "07c91a57-4c20-4263-d241-4e0bbdfb65f9"
      },
      "execution_count": null,
      "outputs": [
        {
          "output_type": "execute_result",
          "data": {
            "text/plain": [
              "array([[1.8317069e-316, 0.0000000e+000, 0.0000000e+000],\n",
              "       [0.0000000e+000, 0.0000000e+000, 0.0000000e+000]])"
            ]
          },
          "metadata": {},
          "execution_count": 2
        }
      ]
    },
    {
      "cell_type": "code",
      "source": [
        "array_0s = np.zeros(shape=(2,5))\n",
        "array_0s"
      ],
      "metadata": {
        "colab": {
          "base_uri": "https://localhost:8080/"
        },
        "id": "eO5Tty3ZDn5_",
        "outputId": "f261dae7-8d56-4f30-90b3-e272839d9923"
      },
      "execution_count": null,
      "outputs": [
        {
          "output_type": "execute_result",
          "data": {
            "text/plain": [
              "array([[0., 0., 0., 0., 0.],\n",
              "       [0., 0., 0., 0., 0.]])"
            ]
          },
          "metadata": {},
          "execution_count": 3
        }
      ]
    },
    {
      "cell_type": "code",
      "source": [
        "array_0s = np.zeros(shape=(2,5), dtype = np.int8)\n",
        "array_0s"
      ],
      "metadata": {
        "colab": {
          "base_uri": "https://localhost:8080/"
        },
        "id": "NY5t8R_-D5wG",
        "outputId": "49580e4e-347b-47d7-d0d6-0d112d664950"
      },
      "execution_count": null,
      "outputs": [
        {
          "output_type": "execute_result",
          "data": {
            "text/plain": [
              "array([[0, 0, 0, 0, 0],\n",
              "       [0, 0, 0, 0, 0]], dtype=int8)"
            ]
          },
          "metadata": {},
          "execution_count": 4
        }
      ]
    },
    {
      "cell_type": "code",
      "source": [
        "array_1s = np.ones(shape=(2,5))\n",
        "array_1s"
      ],
      "metadata": {
        "colab": {
          "base_uri": "https://localhost:8080/"
        },
        "id": "PTdprExVEqxq",
        "outputId": "ead67649-7280-4cd7-ad4c-f750485ac139"
      },
      "execution_count": null,
      "outputs": [
        {
          "output_type": "execute_result",
          "data": {
            "text/plain": [
              "array([[1., 1., 1., 1., 1.],\n",
              "       [1., 1., 1., 1., 1.]])"
            ]
          },
          "metadata": {},
          "execution_count": 5
        }
      ]
    },
    {
      "cell_type": "code",
      "source": [
        "array_full = np.full(shape=(2,4), fill_value=2023)\n",
        "array_full"
      ],
      "metadata": {
        "colab": {
          "base_uri": "https://localhost:8080/"
        },
        "id": "_AGoiFYCFDU_",
        "outputId": "23521fb8-ef70-4c09-cfe0-9bc9dc91380f"
      },
      "execution_count": null,
      "outputs": [
        {
          "output_type": "execute_result",
          "data": {
            "text/plain": [
              "array([[2023, 2023, 2023, 2023],\n",
              "       [2023, 2023, 2023, 2023]])"
            ]
          },
          "metadata": {},
          "execution_count": 6
        }
      ]
    },
    {
      "cell_type": "markdown",
      "source": [
        "\"_like\" functions"
      ],
      "metadata": {
        "id": "vvlzHSkqPC9V"
      }
    },
    {
      "cell_type": "code",
      "source": [
        "matrix_A = np.array([[45,56,23,53,78], [45,29,54,86,31], [49,39,52,78,32]])\n",
        "matrix_A"
      ],
      "metadata": {
        "colab": {
          "base_uri": "https://localhost:8080/"
        },
        "id": "ompwNdhmPJ1s",
        "outputId": "1af8d531-f3df-4497-e122-cb6ab141bf0b"
      },
      "execution_count": null,
      "outputs": [
        {
          "output_type": "execute_result",
          "data": {
            "text/plain": [
              "array([[45, 56, 23, 53, 78],\n",
              "       [45, 29, 54, 86, 31],\n",
              "       [49, 39, 52, 78, 32]])"
            ]
          },
          "metadata": {},
          "execution_count": 7
        }
      ]
    },
    {
      "cell_type": "code",
      "source": [
        "matrix_A.shape"
      ],
      "metadata": {
        "colab": {
          "base_uri": "https://localhost:8080/"
        },
        "id": "pdAy52UoQe27",
        "outputId": "34b36f7d-9eee-4f6e-cd00-644566c4ba9b"
      },
      "execution_count": null,
      "outputs": [
        {
          "output_type": "execute_result",
          "data": {
            "text/plain": [
              "(3, 5)"
            ]
          },
          "metadata": {},
          "execution_count": 8
        }
      ]
    },
    {
      "cell_type": "code",
      "source": [
        "array_empty_like = np.empty_like(matrix_A)\n",
        "array_empty_like"
      ],
      "metadata": {
        "colab": {
          "base_uri": "https://localhost:8080/"
        },
        "id": "sf-W4nfZQ2bu",
        "outputId": "412b20ba-310c-482e-d1a3-a64eb60d1331"
      },
      "execution_count": null,
      "outputs": [
        {
          "output_type": "execute_result",
          "data": {
            "text/plain": [
              "array([[            40460352,                    0, -4376688855236805467,\n",
              "             140688413172144,              9488912],\n",
              "       [ -305880666143776305,      140688032062384,              9478112,\n",
              "        -1020080836521940779,      140688032062448],\n",
              "       [             9478112,  7933418333901674334,      140688031770032,\n",
              "             140687899050368,                  128]])"
            ]
          },
          "metadata": {},
          "execution_count": 12
        }
      ]
    },
    {
      "cell_type": "code",
      "source": [
        "array_0s_like = np.zeros_like(matrix_A)\n",
        "array_0s_like"
      ],
      "metadata": {
        "colab": {
          "base_uri": "https://localhost:8080/"
        },
        "id": "o0vZBbt1ROxw",
        "outputId": "759138b5-c510-4338-fa10-e03762ff2ebb"
      },
      "execution_count": null,
      "outputs": [
        {
          "output_type": "execute_result",
          "data": {
            "text/plain": [
              "array([[0, 0, 0, 0, 0],\n",
              "       [0, 0, 0, 0, 0],\n",
              "       [0, 0, 0, 0, 0]])"
            ]
          },
          "metadata": {},
          "execution_count": 16
        }
      ]
    },
    {
      "cell_type": "markdown",
      "source": [
        "np.arange()"
      ],
      "metadata": {
        "id": "Fq7ielKBcU9a"
      }
    },
    {
      "cell_type": "code",
      "source": [
        "list(range(30))"
      ],
      "metadata": {
        "id": "OqgF6CztRZjV",
        "colab": {
          "base_uri": "https://localhost:8080/"
        },
        "outputId": "c56f460d-31a5-48d1-f15c-dfc73f203fff"
      },
      "execution_count": 17,
      "outputs": [
        {
          "output_type": "execute_result",
          "data": {
            "text/plain": [
              "[0,\n",
              " 1,\n",
              " 2,\n",
              " 3,\n",
              " 4,\n",
              " 5,\n",
              " 6,\n",
              " 7,\n",
              " 8,\n",
              " 9,\n",
              " 10,\n",
              " 11,\n",
              " 12,\n",
              " 13,\n",
              " 14,\n",
              " 15,\n",
              " 16,\n",
              " 17,\n",
              " 18,\n",
              " 19,\n",
              " 20,\n",
              " 21,\n",
              " 22,\n",
              " 23,\n",
              " 24,\n",
              " 25,\n",
              " 26,\n",
              " 27,\n",
              " 28,\n",
              " 29]"
            ]
          },
          "metadata": {},
          "execution_count": 17
        }
      ]
    },
    {
      "cell_type": "code",
      "source": [
        "array_rng = np.arange(30)\n",
        "array_rng"
      ],
      "metadata": {
        "colab": {
          "base_uri": "https://localhost:8080/"
        },
        "id": "gtaryskjftx1",
        "outputId": "ee3a13c0-d433-4e4d-a849-2c7a2f2093f9"
      },
      "execution_count": 18,
      "outputs": [
        {
          "output_type": "execute_result",
          "data": {
            "text/plain": [
              "array([ 0,  1,  2,  3,  4,  5,  6,  7,  8,  9, 10, 11, 12, 13, 14, 15, 16,\n",
              "       17, 18, 19, 20, 21, 22, 23, 24, 25, 26, 27, 28, 29])"
            ]
          },
          "metadata": {},
          "execution_count": 18
        }
      ]
    },
    {
      "cell_type": "code",
      "source": [
        "array_rng = np.arange(start = 0, stop = 30)\n",
        "array_rng"
      ],
      "metadata": {
        "colab": {
          "base_uri": "https://localhost:8080/"
        },
        "id": "hRbSD7NfjGPj",
        "outputId": "be5642a6-da67-4e71-b50a-821a36d17be1"
      },
      "execution_count": 21,
      "outputs": [
        {
          "output_type": "execute_result",
          "data": {
            "text/plain": [
              "array([ 0,  1,  2,  3,  4,  5,  6,  7,  8,  9, 10, 11, 12, 13, 14, 15, 16,\n",
              "       17, 18, 19, 20, 21, 22, 23, 24, 25, 26, 27, 28, 29])"
            ]
          },
          "metadata": {},
          "execution_count": 21
        }
      ]
    },
    {
      "cell_type": "code",
      "source": [
        "array_rng = np.arange(start = 0, stop = 30, step = 3)\n",
        "array_rng"
      ],
      "metadata": {
        "colab": {
          "base_uri": "https://localhost:8080/"
        },
        "id": "QVQcVnMwj1A3",
        "outputId": "ca17c7b3-248b-4977-e931-15ebf7a247e3"
      },
      "execution_count": 22,
      "outputs": [
        {
          "output_type": "execute_result",
          "data": {
            "text/plain": [
              "array([ 0,  3,  6,  9, 12, 15, 18, 21, 24, 27])"
            ]
          },
          "metadata": {},
          "execution_count": 22
        }
      ]
    },
    {
      "cell_type": "code",
      "source": [
        "array_rng = np.arange(start = 0, stop = 30, step = 3, dtype = np.float64)\n",
        "array_rng"
      ],
      "metadata": {
        "colab": {
          "base_uri": "https://localhost:8080/"
        },
        "id": "KHHkA5Bgj9gD",
        "outputId": "a6235595-2830-4e9d-c057-2e74c137bcf6"
      },
      "execution_count": 25,
      "outputs": [
        {
          "output_type": "execute_result",
          "data": {
            "text/plain": [
              "array([ 0.,  3.,  6.,  9., 12., 15., 18., 21., 24., 27.])"
            ]
          },
          "metadata": {},
          "execution_count": 25
        }
      ]
    },
    {
      "cell_type": "markdown",
      "source": [],
      "metadata": {
        "id": "1EWOG4EglljN"
      }
    },
    {
      "cell_type": "code",
      "source": [
        "array_rng = np.arange(start = 0, stop = 30, step = 2.5, dtype = np.int32)\n",
        "array_rng"
      ],
      "metadata": {
        "colab": {
          "base_uri": "https://localhost:8080/"
        },
        "id": "HQYAiQK8kkfK",
        "outputId": "bef253b9-0118-434f-b337-15ff2083f9ab"
      },
      "execution_count": 27,
      "outputs": [
        {
          "output_type": "execute_result",
          "data": {
            "text/plain": [
              "array([ 0,  2,  4,  6,  8, 10, 12, 14, 16, 18, 20, 22], dtype=int32)"
            ]
          },
          "metadata": {},
          "execution_count": 27
        }
      ]
    },
    {
      "cell_type": "markdown",
      "source": [
        "## Random Generators"
      ],
      "metadata": {
        "id": "kWLVpt_vld0t"
      }
    },
    {
      "cell_type": "markdown",
      "source": [
        "Defining Random Generators"
      ],
      "metadata": {
        "id": "AyxM4236lmYP"
      }
    },
    {
      "cell_type": "code",
      "source": [
        "from numpy.random import Generator as gen\n",
        "from numpy.random import PCG64 as pcg"
      ],
      "metadata": {
        "id": "QTAs4bRilw24"
      },
      "execution_count": 31,
      "outputs": []
    },
    {
      "cell_type": "code",
      "source": [
        "array_RG = gen(pcg())\n",
        "array_RG.normal(size=5)"
      ],
      "metadata": {
        "colab": {
          "base_uri": "https://localhost:8080/"
        },
        "id": "7PMLlGp6mS8k",
        "outputId": "d6319360-732d-4d89-9493-d99b4554ccdb"
      },
      "execution_count": 35,
      "outputs": [
        {
          "output_type": "execute_result",
          "data": {
            "text/plain": [
              "array([ 0.50368038,  0.17513885, -0.07423652, -1.13906455, -0.71039988])"
            ]
          },
          "metadata": {},
          "execution_count": 35
        }
      ]
    }
  ]
}