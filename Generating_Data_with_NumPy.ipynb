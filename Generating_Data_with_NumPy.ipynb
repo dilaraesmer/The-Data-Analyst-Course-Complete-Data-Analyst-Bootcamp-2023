{
  "nbformat": 4,
  "nbformat_minor": 0,
  "metadata": {
    "colab": {
      "provenance": [],
      "authorship_tag": "ABX9TyPc5AsLtXStByMTmp85v/60",
      "include_colab_link": true
    },
    "kernelspec": {
      "name": "python3",
      "display_name": "Python 3"
    },
    "language_info": {
      "name": "python"
    }
  },
  "cells": [
    {
      "cell_type": "markdown",
      "metadata": {
        "id": "view-in-github",
        "colab_type": "text"
      },
      "source": [
        "<a href=\"https://colab.research.google.com/github/dilaraesmer/The-Data-Analyst-Course-Complete-Data-Analyst-Bootcamp-2023/blob/main/Generating_Data_with_NumPy.ipynb\" target=\"_parent\"><img src=\"https://colab.research.google.com/assets/colab-badge.svg\" alt=\"Open In Colab\"/></a>"
      ]
    },
    {
      "cell_type": "code",
      "execution_count": null,
      "metadata": {
        "id": "itN6rNnuBIkx"
      },
      "outputs": [],
      "source": [
        "import numpy as np"
      ]
    },
    {
      "cell_type": "markdown",
      "source": [
        "np.empty(), np.zeros(), np.ones(), np.full()"
      ],
      "metadata": {
        "id": "fzwS1MoWChZv"
      }
    },
    {
      "cell_type": "code",
      "source": [
        "array_empty = np.empty(shape=(2,3))\n",
        "array_empty"
      ],
      "metadata": {
        "colab": {
          "base_uri": "https://localhost:8080/"
        },
        "id": "SHyyjWY9ChPK",
        "outputId": "07c91a57-4c20-4263-d241-4e0bbdfb65f9"
      },
      "execution_count": null,
      "outputs": [
        {
          "output_type": "execute_result",
          "data": {
            "text/plain": [
              "array([[1.8317069e-316, 0.0000000e+000, 0.0000000e+000],\n",
              "       [0.0000000e+000, 0.0000000e+000, 0.0000000e+000]])"
            ]
          },
          "metadata": {},
          "execution_count": 2
        }
      ]
    },
    {
      "cell_type": "code",
      "source": [
        "array_0s = np.zeros(shape=(2,5))\n",
        "array_0s"
      ],
      "metadata": {
        "colab": {
          "base_uri": "https://localhost:8080/"
        },
        "id": "eO5Tty3ZDn5_",
        "outputId": "f261dae7-8d56-4f30-90b3-e272839d9923"
      },
      "execution_count": null,
      "outputs": [
        {
          "output_type": "execute_result",
          "data": {
            "text/plain": [
              "array([[0., 0., 0., 0., 0.],\n",
              "       [0., 0., 0., 0., 0.]])"
            ]
          },
          "metadata": {},
          "execution_count": 3
        }
      ]
    },
    {
      "cell_type": "code",
      "source": [
        "array_0s = np.zeros(shape=(2,5), dtype = np.int8)\n",
        "array_0s"
      ],
      "metadata": {
        "colab": {
          "base_uri": "https://localhost:8080/"
        },
        "id": "NY5t8R_-D5wG",
        "outputId": "49580e4e-347b-47d7-d0d6-0d112d664950"
      },
      "execution_count": null,
      "outputs": [
        {
          "output_type": "execute_result",
          "data": {
            "text/plain": [
              "array([[0, 0, 0, 0, 0],\n",
              "       [0, 0, 0, 0, 0]], dtype=int8)"
            ]
          },
          "metadata": {},
          "execution_count": 4
        }
      ]
    },
    {
      "cell_type": "code",
      "source": [
        "array_1s = np.ones(shape=(2,5))\n",
        "array_1s"
      ],
      "metadata": {
        "colab": {
          "base_uri": "https://localhost:8080/"
        },
        "id": "PTdprExVEqxq",
        "outputId": "ead67649-7280-4cd7-ad4c-f750485ac139"
      },
      "execution_count": null,
      "outputs": [
        {
          "output_type": "execute_result",
          "data": {
            "text/plain": [
              "array([[1., 1., 1., 1., 1.],\n",
              "       [1., 1., 1., 1., 1.]])"
            ]
          },
          "metadata": {},
          "execution_count": 5
        }
      ]
    },
    {
      "cell_type": "code",
      "source": [
        "array_full = np.full(shape=(2,4), fill_value=2023)\n",
        "array_full"
      ],
      "metadata": {
        "colab": {
          "base_uri": "https://localhost:8080/"
        },
        "id": "_AGoiFYCFDU_",
        "outputId": "23521fb8-ef70-4c09-cfe0-9bc9dc91380f"
      },
      "execution_count": null,
      "outputs": [
        {
          "output_type": "execute_result",
          "data": {
            "text/plain": [
              "array([[2023, 2023, 2023, 2023],\n",
              "       [2023, 2023, 2023, 2023]])"
            ]
          },
          "metadata": {},
          "execution_count": 6
        }
      ]
    },
    {
      "cell_type": "markdown",
      "source": [
        "\"_like\" functions"
      ],
      "metadata": {
        "id": "vvlzHSkqPC9V"
      }
    },
    {
      "cell_type": "code",
      "source": [
        "matrix_A = np.array([[45,56,23,53,78], [45,29,54,86,31], [49,39,52,78,32]])\n",
        "matrix_A"
      ],
      "metadata": {
        "colab": {
          "base_uri": "https://localhost:8080/"
        },
        "id": "ompwNdhmPJ1s",
        "outputId": "1af8d531-f3df-4497-e122-cb6ab141bf0b"
      },
      "execution_count": null,
      "outputs": [
        {
          "output_type": "execute_result",
          "data": {
            "text/plain": [
              "array([[45, 56, 23, 53, 78],\n",
              "       [45, 29, 54, 86, 31],\n",
              "       [49, 39, 52, 78, 32]])"
            ]
          },
          "metadata": {},
          "execution_count": 7
        }
      ]
    },
    {
      "cell_type": "code",
      "source": [
        "matrix_A.shape"
      ],
      "metadata": {
        "colab": {
          "base_uri": "https://localhost:8080/"
        },
        "id": "pdAy52UoQe27",
        "outputId": "34b36f7d-9eee-4f6e-cd00-644566c4ba9b"
      },
      "execution_count": null,
      "outputs": [
        {
          "output_type": "execute_result",
          "data": {
            "text/plain": [
              "(3, 5)"
            ]
          },
          "metadata": {},
          "execution_count": 8
        }
      ]
    },
    {
      "cell_type": "code",
      "source": [
        "array_empty_like = np.empty_like(matrix_A)\n",
        "array_empty_like"
      ],
      "metadata": {
        "colab": {
          "base_uri": "https://localhost:8080/"
        },
        "id": "sf-W4nfZQ2bu",
        "outputId": "412b20ba-310c-482e-d1a3-a64eb60d1331"
      },
      "execution_count": null,
      "outputs": [
        {
          "output_type": "execute_result",
          "data": {
            "text/plain": [
              "array([[            40460352,                    0, -4376688855236805467,\n",
              "             140688413172144,              9488912],\n",
              "       [ -305880666143776305,      140688032062384,              9478112,\n",
              "        -1020080836521940779,      140688032062448],\n",
              "       [             9478112,  7933418333901674334,      140688031770032,\n",
              "             140687899050368,                  128]])"
            ]
          },
          "metadata": {},
          "execution_count": 12
        }
      ]
    },
    {
      "cell_type": "code",
      "source": [
        "array_0s_like = np.zeros_like(matrix_A)\n",
        "array_0s_like"
      ],
      "metadata": {
        "colab": {
          "base_uri": "https://localhost:8080/"
        },
        "id": "o0vZBbt1ROxw",
        "outputId": "759138b5-c510-4338-fa10-e03762ff2ebb"
      },
      "execution_count": null,
      "outputs": [
        {
          "output_type": "execute_result",
          "data": {
            "text/plain": [
              "array([[0, 0, 0, 0, 0],\n",
              "       [0, 0, 0, 0, 0],\n",
              "       [0, 0, 0, 0, 0]])"
            ]
          },
          "metadata": {},
          "execution_count": 16
        }
      ]
    },
    {
      "cell_type": "markdown",
      "source": [
        "np.arange()"
      ],
      "metadata": {
        "id": "Fq7ielKBcU9a"
      }
    },
    {
      "cell_type": "code",
      "source": [
        "list(range(30))"
      ],
      "metadata": {
        "id": "OqgF6CztRZjV",
        "colab": {
          "base_uri": "https://localhost:8080/"
        },
        "outputId": "c56f460d-31a5-48d1-f15c-dfc73f203fff"
      },
      "execution_count": 17,
      "outputs": [
        {
          "output_type": "execute_result",
          "data": {
            "text/plain": [
              "[0,\n",
              " 1,\n",
              " 2,\n",
              " 3,\n",
              " 4,\n",
              " 5,\n",
              " 6,\n",
              " 7,\n",
              " 8,\n",
              " 9,\n",
              " 10,\n",
              " 11,\n",
              " 12,\n",
              " 13,\n",
              " 14,\n",
              " 15,\n",
              " 16,\n",
              " 17,\n",
              " 18,\n",
              " 19,\n",
              " 20,\n",
              " 21,\n",
              " 22,\n",
              " 23,\n",
              " 24,\n",
              " 25,\n",
              " 26,\n",
              " 27,\n",
              " 28,\n",
              " 29]"
            ]
          },
          "metadata": {},
          "execution_count": 17
        }
      ]
    },
    {
      "cell_type": "code",
      "source": [
        "array_rng = np.arange(30)\n",
        "array_rng"
      ],
      "metadata": {
        "colab": {
          "base_uri": "https://localhost:8080/"
        },
        "id": "gtaryskjftx1",
        "outputId": "ee3a13c0-d433-4e4d-a849-2c7a2f2093f9"
      },
      "execution_count": 18,
      "outputs": [
        {
          "output_type": "execute_result",
          "data": {
            "text/plain": [
              "array([ 0,  1,  2,  3,  4,  5,  6,  7,  8,  9, 10, 11, 12, 13, 14, 15, 16,\n",
              "       17, 18, 19, 20, 21, 22, 23, 24, 25, 26, 27, 28, 29])"
            ]
          },
          "metadata": {},
          "execution_count": 18
        }
      ]
    },
    {
      "cell_type": "code",
      "source": [
        "array_rng = np.arange(start = 0, stop = 30)\n",
        "array_rng"
      ],
      "metadata": {
        "colab": {
          "base_uri": "https://localhost:8080/"
        },
        "id": "hRbSD7NfjGPj",
        "outputId": "be5642a6-da67-4e71-b50a-821a36d17be1"
      },
      "execution_count": 21,
      "outputs": [
        {
          "output_type": "execute_result",
          "data": {
            "text/plain": [
              "array([ 0,  1,  2,  3,  4,  5,  6,  7,  8,  9, 10, 11, 12, 13, 14, 15, 16,\n",
              "       17, 18, 19, 20, 21, 22, 23, 24, 25, 26, 27, 28, 29])"
            ]
          },
          "metadata": {},
          "execution_count": 21
        }
      ]
    },
    {
      "cell_type": "code",
      "source": [
        "array_rng = np.arange(start = 0, stop = 30, step = 3)\n",
        "array_rng"
      ],
      "metadata": {
        "colab": {
          "base_uri": "https://localhost:8080/"
        },
        "id": "QVQcVnMwj1A3",
        "outputId": "ca17c7b3-248b-4977-e931-15ebf7a247e3"
      },
      "execution_count": 22,
      "outputs": [
        {
          "output_type": "execute_result",
          "data": {
            "text/plain": [
              "array([ 0,  3,  6,  9, 12, 15, 18, 21, 24, 27])"
            ]
          },
          "metadata": {},
          "execution_count": 22
        }
      ]
    },
    {
      "cell_type": "code",
      "source": [
        "array_rng = np.arange(start = 0, stop = 30, step = 3, dtype = np.float64)\n",
        "array_rng"
      ],
      "metadata": {
        "colab": {
          "base_uri": "https://localhost:8080/"
        },
        "id": "KHHkA5Bgj9gD",
        "outputId": "a6235595-2830-4e9d-c057-2e74c137bcf6"
      },
      "execution_count": 25,
      "outputs": [
        {
          "output_type": "execute_result",
          "data": {
            "text/plain": [
              "array([ 0.,  3.,  6.,  9., 12., 15., 18., 21., 24., 27.])"
            ]
          },
          "metadata": {},
          "execution_count": 25
        }
      ]
    },
    {
      "cell_type": "markdown",
      "source": [],
      "metadata": {
        "id": "1EWOG4EglljN"
      }
    },
    {
      "cell_type": "code",
      "source": [
        "array_rng = np.arange(start = 0, stop = 30, step = 2.5, dtype = np.int32)\n",
        "array_rng"
      ],
      "metadata": {
        "colab": {
          "base_uri": "https://localhost:8080/"
        },
        "id": "HQYAiQK8kkfK",
        "outputId": "bef253b9-0118-434f-b337-15ff2083f9ab"
      },
      "execution_count": 27,
      "outputs": [
        {
          "output_type": "execute_result",
          "data": {
            "text/plain": [
              "array([ 0,  2,  4,  6,  8, 10, 12, 14, 16, 18, 20, 22], dtype=int32)"
            ]
          },
          "metadata": {},
          "execution_count": 27
        }
      ]
    },
    {
      "cell_type": "markdown",
      "source": [
        "## Random Generators"
      ],
      "metadata": {
        "id": "kWLVpt_vld0t"
      }
    },
    {
      "cell_type": "markdown",
      "source": [
        "Defining Random Generators"
      ],
      "metadata": {
        "id": "AyxM4236lmYP"
      }
    },
    {
      "cell_type": "code",
      "source": [
        "from numpy.random import Generator as gen\n",
        "from numpy.random import PCG64 as pcg"
      ],
      "metadata": {
        "id": "QTAs4bRilw24"
      },
      "execution_count": 31,
      "outputs": []
    },
    {
      "cell_type": "code",
      "source": [
        "array_RG = gen(pcg())\n",
        "array_RG.normal(size= (5,6))"
      ],
      "metadata": {
        "colab": {
          "base_uri": "https://localhost:8080/"
        },
        "id": "7PMLlGp6mS8k",
        "outputId": "d2aba066-a9a3-4948-a42b-68342551f0ce"
      },
      "execution_count": 37,
      "outputs": [
        {
          "output_type": "execute_result",
          "data": {
            "text/plain": [
              "array([[ 1.41211297, -1.13029843,  1.16639585, -0.30130696,  1.28393729,\n",
              "        -0.74244023],\n",
              "       [ 0.59302081,  1.57476427,  2.23890392,  0.62105816, -1.75452305,\n",
              "         1.9963859 ],\n",
              "       [-0.13898251,  1.28967579, -0.42285762,  1.32236684, -2.41656872,\n",
              "         1.89877786],\n",
              "       [-0.39962551,  2.26165046, -1.00187661, -0.06307383,  0.41283159,\n",
              "        -0.57402208],\n",
              "       [-0.49789142, -1.59741078,  0.21483799, -0.62504965, -2.98240474,\n",
              "        -0.411426  ]])"
            ]
          },
          "metadata": {},
          "execution_count": 37
        }
      ]
    },
    {
      "cell_type": "code",
      "source": [
        "# The result we expect to see every time\n",
        "array_RG = gen(pcg(seed=365))\n",
        "array_RG.normal(size= (5,6))"
      ],
      "metadata": {
        "colab": {
          "base_uri": "https://localhost:8080/"
        },
        "id": "uG-dUyixnPZD",
        "outputId": "bc79c6ab-4fb5-4434-ebd5-ade855215037"
      },
      "execution_count": 47,
      "outputs": [
        {
          "output_type": "execute_result",
          "data": {
            "text/plain": [
              "array([[-0.13640899,  0.09414431, -0.06300442,  1.05391641, -0.6866818 ,\n",
              "        -0.50922173],\n",
              "       [-0.7999526 ,  0.73041825,  0.08825439, -2.1177576 ,  0.65526774,\n",
              "        -0.48095012],\n",
              "       [-0.5519114 , -0.58578662, -0.98257896,  1.12378166, -1.30984316,\n",
              "        -0.04703774],\n",
              "       [ 0.955272  ,  0.26071745, -0.20023668, -1.50172484, -1.4929163 ,\n",
              "         0.96535084],\n",
              "       [ 1.18694633, -0.76065577,  1.48158358,  0.01200258, -0.06846959,\n",
              "         0.25301664]])"
            ]
          },
          "metadata": {},
          "execution_count": 47
        }
      ]
    },
    {
      "cell_type": "code",
      "source": [
        "# whenever we intend to use a \"seed\", we'll have to reset it every time\n",
        "array_RG.normal(size= (5,6))"
      ],
      "metadata": {
        "colab": {
          "base_uri": "https://localhost:8080/"
        },
        "id": "9ZDxU8Uboa_t",
        "outputId": "3e8a1689-fc09-4dd7-f9c4-33fb82bf5fe3"
      },
      "execution_count": 50,
      "outputs": [
        {
          "output_type": "execute_result",
          "data": {
            "text/plain": [
              "array([[-0.02153055,  1.27926297,  1.62188437, -0.56612507, -0.51265843,\n",
              "         0.64317322],\n",
              "       [ 0.03355112, -0.78542576,  2.4075666 ,  0.28802775, -0.25906657,\n",
              "        -0.16532638],\n",
              "       [-0.47735775, -0.52855221,  1.70374643, -0.24469883, -0.14733608,\n",
              "        -0.4081149 ],\n",
              "       [ 0.85591897,  0.2208273 , -0.50401804, -0.31628129,  0.37721236,\n",
              "         0.72377218],\n",
              "       [-1.05689925, -1.0395866 ,  0.39665421, -0.50851684, -0.38667483,\n",
              "        -0.28611018]])"
            ]
          },
          "metadata": {},
          "execution_count": 50
        }
      ]
    },
    {
      "cell_type": "markdown",
      "source": [
        "Generating Integers, Probabilities and Random Choices"
      ],
      "metadata": {
        "id": "ZHhSjWJGqL_s"
      }
    },
    {
      "cell_type": "code",
      "source": [
        "array_RG = gen(pcg(seed = 365))\n",
        "array_RG.integers(10, size = (5,5))"
      ],
      "metadata": {
        "colab": {
          "base_uri": "https://localhost:8080/"
        },
        "id": "yr_Lmxwhp0oe",
        "outputId": "4c222903-b98d-4002-c489-1d9fa8880802"
      },
      "execution_count": 51,
      "outputs": [
        {
          "output_type": "execute_result",
          "data": {
            "text/plain": [
              "array([[0, 7, 6, 7, 8],\n",
              "       [6, 6, 2, 0, 6],\n",
              "       [3, 0, 3, 7, 9],\n",
              "       [1, 1, 8, 7, 4],\n",
              "       [4, 8, 6, 4, 9]])"
            ]
          },
          "metadata": {},
          "execution_count": 51
        }
      ]
    },
    {
      "cell_type": "code",
      "source": [
        "array_RG = gen(pcg(seed = 365))\n",
        "array_RG.integers(low=10, high = 100, size = (5,5))"
      ],
      "metadata": {
        "colab": {
          "base_uri": "https://localhost:8080/"
        },
        "id": "hNIQ4mIWqcHP",
        "outputId": "1ce17155-097f-4038-bc34-652960e4aef6"
      },
      "execution_count": 52,
      "outputs": [
        {
          "output_type": "execute_result",
          "data": {
            "text/plain": [
              "array([[18, 78, 64, 78, 84],\n",
              "       [66, 67, 28, 10, 69],\n",
              "       [45, 15, 37, 74, 96],\n",
              "       [19, 21, 89, 73, 54],\n",
              "       [53, 84, 66, 51, 92]])"
            ]
          },
          "metadata": {},
          "execution_count": 52
        }
      ]
    },
    {
      "cell_type": "code",
      "source": [
        "array_RG = gen(pcg(seed = 365))\n",
        "array_RG.random(size = (5,5))"
      ],
      "metadata": {
        "colab": {
          "base_uri": "https://localhost:8080/"
        },
        "id": "64b6DFg9rpCX",
        "outputId": "73f32b97-92af-41c0-c355-912a0bb6c0a2"
      },
      "execution_count": 54,
      "outputs": [
        {
          "output_type": "execute_result",
          "data": {
            "text/plain": [
              "array([[0.75915734, 0.7662218 , 0.6291028 , 0.20336599, 0.66501486],\n",
              "       [0.06559111, 0.71326309, 0.10812106, 0.87969046, 0.49405844],\n",
              "       [0.82472673, 0.45652944, 0.07367232, 0.69628564, 0.36690736],\n",
              "       [0.29787156, 0.4996155 , 0.4865245 , 0.62740703, 0.54952637],\n",
              "       [0.64894629, 0.04411757, 0.7206516 , 0.84594003, 0.17159792]])"
            ]
          },
          "metadata": {},
          "execution_count": 54
        }
      ]
    },
    {
      "cell_type": "code",
      "source": [
        "array_RG = gen(pcg(seed = 365))\n",
        "array_RG.choice([1,2,3,4,5], size = (5,5))"
      ],
      "metadata": {
        "colab": {
          "base_uri": "https://localhost:8080/"
        },
        "id": "WtiqlZa2sDU6",
        "outputId": "83aadbc0-44f4-4422-ec62-c99eb08c6b67"
      },
      "execution_count": 55,
      "outputs": [
        {
          "output_type": "execute_result",
          "data": {
            "text/plain": [
              "array([[1, 4, 4, 4, 5],\n",
              "       [4, 4, 2, 1, 4],\n",
              "       [2, 1, 2, 4, 5],\n",
              "       [1, 1, 5, 4, 3],\n",
              "       [3, 5, 4, 3, 5]])"
            ]
          },
          "metadata": {},
          "execution_count": 55
        }
      ]
    },
    {
      "cell_type": "markdown",
      "source": [
        "Generating Arrays From Known Distributions"
      ],
      "metadata": {
        "id": "aI-fmk06tK05"
      }
    },
    {
      "cell_type": "code",
      "source": [
        "array_RG = gen(pcg(seed=365))\n",
        "array_RG.poisson(size=(4,4))"
      ],
      "metadata": {
        "colab": {
          "base_uri": "https://localhost:8080/"
        },
        "id": "Mz2_d9v6s-mP",
        "outputId": "a9fd99d1-35fc-4c9b-a7e4-17117fbe4a36"
      },
      "execution_count": 56,
      "outputs": [
        {
          "output_type": "execute_result",
          "data": {
            "text/plain": [
              "array([[2, 0, 1, 1],\n",
              "       [2, 1, 1, 0],\n",
              "       [1, 1, 1, 2],\n",
              "       [1, 1, 0, 0]])"
            ]
          },
          "metadata": {},
          "execution_count": 56
        }
      ]
    },
    {
      "cell_type": "code",
      "source": [
        "array_RG = gen(pcg(seed=365))\n",
        "array_RG.poisson(lam=12, size=(4,4))"
      ],
      "metadata": {
        "colab": {
          "base_uri": "https://localhost:8080/"
        },
        "id": "jsgCF3JMtks9",
        "outputId": "d947af6e-4eea-4324-d3b8-f65facf47934"
      },
      "execution_count": 58,
      "outputs": [
        {
          "output_type": "execute_result",
          "data": {
            "text/plain": [
              "array([[13, 14, 14, 17],\n",
              "       [16,  6, 11, 12],\n",
              "       [13, 14,  8, 10],\n",
              "       [13,  9, 12, 16]])"
            ]
          },
          "metadata": {},
          "execution_count": 58
        }
      ]
    },
    {
      "cell_type": "code",
      "source": [
        "array_RG = gen(pcg(seed=365))\n",
        "array_RG.binomial(n=100, p=0.4, size=(4,4))"
      ],
      "metadata": {
        "colab": {
          "base_uri": "https://localhost:8080/"
        },
        "id": "gQ1oYo5Jt-3z",
        "outputId": "435c462c-c269-4c62-c3f9-851d64f8e895"
      },
      "execution_count": 60,
      "outputs": [
        {
          "output_type": "execute_result",
          "data": {
            "text/plain": [
              "array([[42, 44, 30, 36],\n",
              "       [45, 36, 41, 38],\n",
              "       [42, 41, 35, 31],\n",
              "       [35, 46, 29, 41]])"
            ]
          },
          "metadata": {},
          "execution_count": 60
        }
      ]
    },
    {
      "cell_type": "code",
      "source": [
        "array_RG = gen(pcg(seed=365))\n",
        "array_RG.logistic(loc=7, scale= 3.6, size=(4,4))"
      ],
      "metadata": {
        "colab": {
          "base_uri": "https://localhost:8080/"
        },
        "id": "E5UDE60EuvMy",
        "outputId": "fe23e09a-596f-426c-bf29-aece60afe43f"
      },
      "execution_count": 61,
      "outputs": [
        {
          "output_type": "execute_result",
          "data": {
            "text/plain": [
              "array([[11.13303466, 11.27355588,  8.90213101,  2.0846028 ],\n",
              "       [ 9.4686036 , -2.56330625, 10.28062692, -0.59628405],\n",
              "       [14.16220768,  6.91443754, 12.57534094,  6.37243952],\n",
              "       [-2.11376299,  9.98682042,  5.03617353,  3.91316566]])"
            ]
          },
          "metadata": {},
          "execution_count": 61
        }
      ]
    },
    {
      "cell_type": "markdown",
      "source": [
        "Applications of Random Generators"
      ],
      "metadata": {
        "id": "_Fkpji38vkql"
      }
    },
    {
      "cell_type": "code",
      "source": [
        "array_RG = gen(pcg(seed=365))\n",
        "\n",
        "array_column_1 = array_RG.normal(loc=2, scale=3, size=(1000))\n",
        "array_column_2 = array_RG.normal(loc=7, scale=2, size=(1000))\n",
        "array_column_3 = array_RG.logistic(loc=11, scale=3, size=(1000))\n",
        "array_column_4 = array_RG.exponential(scale=4, size=(1000))\n",
        "array_column_5 = array_RG.geometric(p=0.7, size=(1000))"
      ],
      "metadata": {
        "id": "owKgltzjvrAw"
      },
      "execution_count": 64,
      "outputs": []
    },
    {
      "cell_type": "code",
      "source": [
        "random_test_data = np.array([array_column_1, array_column_2, array_column_3, array_column_4, array_column_5])\n",
        "random_test_data"
      ],
      "metadata": {
        "colab": {
          "base_uri": "https://localhost:8080/"
        },
        "id": "l1VYvBeSw4s4",
        "outputId": "263c3c66-05b0-42bd-9b63-11f80d8915f4"
      },
      "execution_count": 65,
      "outputs": [
        {
          "output_type": "execute_result",
          "data": {
            "text/plain": [
              "array([[ 1.59077303,  2.28243293,  1.81098674, ...,  0.1973629 ,\n",
              "        -2.21015722,  2.91161235],\n",
              "       [ 6.42174295,  8.57902322,  5.17270135, ...,  4.3465854 ,\n",
              "         8.2176402 ,  7.90337695],\n",
              "       [10.14698427, 15.93309953, -0.46878789, ...,  2.66485989,\n",
              "        12.69328115, 11.79840961],\n",
              "       [ 6.91500737,  6.243605  ,  2.44997251, ...,  0.80935387,\n",
              "         0.50644607,  4.86816939],\n",
              "       [ 1.        ,  1.        ,  1.        , ...,  1.        ,\n",
              "         2.        ,  1.        ]])"
            ]
          },
          "metadata": {},
          "execution_count": 65
        }
      ]
    },
    {
      "cell_type": "code",
      "source": [
        "random_test_data.shape"
      ],
      "metadata": {
        "colab": {
          "base_uri": "https://localhost:8080/"
        },
        "id": "J9XH-qD1xcHO",
        "outputId": "c90c4fd4-4a12-4f30-8b08-a6687f2bc779"
      },
      "execution_count": 66,
      "outputs": [
        {
          "output_type": "execute_result",
          "data": {
            "text/plain": [
              "(5, 1000)"
            ]
          },
          "metadata": {},
          "execution_count": 66
        }
      ]
    },
    {
      "cell_type": "code",
      "source": [
        "np.savetxt(\"Random-Text-from-NumPy.csv\", random_test_data, fmt=\"%s\", delimiter=',')"
      ],
      "metadata": {
        "id": "MaXOhewfxrVA"
      },
      "execution_count": 67,
      "outputs": []
    },
    {
      "cell_type": "code",
      "source": [
        "np.genfromtxt(\"Random-Text-from-NumPy.csv\", delimiter=',')"
      ],
      "metadata": {
        "colab": {
          "base_uri": "https://localhost:8080/"
        },
        "id": "zEb_SNNCyJPz",
        "outputId": "70bd56da-66ab-44db-86e8-7ccb656122a6"
      },
      "execution_count": 69,
      "outputs": [
        {
          "output_type": "execute_result",
          "data": {
            "text/plain": [
              "array([[ 1.59077303,  2.28243293,  1.81098674, ...,  0.1973629 ,\n",
              "        -2.21015722,  2.91161235],\n",
              "       [ 6.42174295,  8.57902322,  5.17270135, ...,  4.3465854 ,\n",
              "         8.2176402 ,  7.90337695],\n",
              "       [10.14698427, 15.93309953, -0.46878789, ...,  2.66485989,\n",
              "        12.69328115, 11.79840961],\n",
              "       [ 6.91500737,  6.243605  ,  2.44997251, ...,  0.80935387,\n",
              "         0.50644607,  4.86816939],\n",
              "       [ 1.        ,  1.        ,  1.        , ...,  1.        ,\n",
              "         2.        ,  1.        ]])"
            ]
          },
          "metadata": {},
          "execution_count": 69
        }
      ]
    }
  ]
}