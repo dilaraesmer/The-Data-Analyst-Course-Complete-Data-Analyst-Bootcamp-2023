{
  "nbformat": 4,
  "nbformat_minor": 0,
  "metadata": {
    "colab": {
      "provenance": [],
      "authorship_tag": "ABX9TyPq47OF6rDfBpXJX5Frm42y",
      "include_colab_link": true
    },
    "kernelspec": {
      "name": "python3",
      "display_name": "Python 3"
    },
    "language_info": {
      "name": "python"
    }
  },
  "cells": [
    {
      "cell_type": "markdown",
      "metadata": {
        "id": "view-in-github",
        "colab_type": "text"
      },
      "source": [
        "<a href=\"https://colab.research.google.com/github/dilaraesmer/The-Data-Analyst-Course-Complete-Data-Analyst-Bootcamp-2023/blob/main/Working_with_Text_Files.ipynb\" target=\"_parent\"><img src=\"https://colab.research.google.com/assets/colab-badge.svg\" alt=\"Open In Colab\"/></a>"
      ]
    },
    {
      "cell_type": "markdown",
      "source": [
        "Naming Convention\n",
        "\n",
        "* Text files \n",
        "* Variables\n",
        "* Functions \n",
        "* Other entities in your code and documentation\n",
        "\n"
      ],
      "metadata": {
        "id": "OFIhBlKpfYY-"
      }
    },
    {
      "cell_type": "markdown",
      "source": [
        "Import the text file into a file object in Python"
      ],
      "metadata": {
        "id": "Pwt0pdn0vk8e"
      }
    },
    {
      "cell_type": "markdown",
      "source": [
        "open() \n",
        "\n",
        "Importing data into a file object is technically no different from assigning any other sort of data to a variable"
      ],
      "metadata": {
        "id": "lsAFrI-iwNK5"
      }
    },
    {
      "cell_type": "code",
      "execution_count": null,
      "metadata": {
        "id": "thUtYC3uWoW-"
      },
      "outputs": [],
      "source": []
    }
  ]
}