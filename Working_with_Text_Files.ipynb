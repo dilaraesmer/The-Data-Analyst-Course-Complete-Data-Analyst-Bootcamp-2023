{
  "nbformat": 4,
  "nbformat_minor": 0,
  "metadata": {
    "colab": {
      "provenance": [],
      "authorship_tag": "ABX9TyO34pU5Lpssuh3rXFVBc7fN",
      "include_colab_link": true
    },
    "kernelspec": {
      "name": "python3",
      "display_name": "Python 3"
    },
    "language_info": {
      "name": "python"
    }
  },
  "cells": [
    {
      "cell_type": "markdown",
      "metadata": {
        "id": "view-in-github",
        "colab_type": "text"
      },
      "source": [
        "<a href=\"https://colab.research.google.com/github/dilaraesmer/The-Data-Analyst-Course-Complete-Data-Analyst-Bootcamp-2023/blob/main/Working_with_Text_Files.ipynb\" target=\"_parent\"><img src=\"https://colab.research.google.com/assets/colab-badge.svg\" alt=\"Open In Colab\"/></a>"
      ]
    },
    {
      "cell_type": "markdown",
      "source": [
        "Naming Convention\n",
        "\n",
        "* Text files \n",
        "* Variables\n",
        "* Functions \n",
        "* Other entities in your code and documentation\n",
        "\n"
      ],
      "metadata": {
        "id": "OFIhBlKpfYY-"
      }
    },
    {
      "cell_type": "markdown",
      "source": [
        "Import the text file into a file object in Python"
      ],
      "metadata": {
        "id": "Pwt0pdn0vk8e"
      }
    },
    {
      "cell_type": "markdown",
      "source": [
        "open() \n",
        "\n",
        "Importing data into a file object is technically no different from assigning any other sort of data to a variable"
      ],
      "metadata": {
        "id": "lsAFrI-iwNK5"
      }
    },
    {
      "cell_type": "code",
      "source": [
        "filename = \"source.txt\""
      ],
      "metadata": {
        "id": "YVmj7akvx1k7"
      },
      "execution_count": 25,
      "outputs": []
    },
    {
      "cell_type": "code",
      "source": [
        "filename"
      ],
      "metadata": {
        "colab": {
          "base_uri": "https://localhost:8080/",
          "height": 35
        },
        "id": "-kJmmPcvx7H0",
        "outputId": "401f22a0-f38c-4764-d103-659ceb988320"
      },
      "execution_count": 15,
      "outputs": [
        {
          "output_type": "execute_result",
          "data": {
            "text/plain": [
              "'source.txt'"
            ],
            "application/vnd.google.colaboratory.intrinsic+json": {
              "type": "string"
            }
          },
          "metadata": {},
          "execution_count": 15
        }
      ]
    },
    {
      "cell_type": "code",
      "execution_count": 16,
      "metadata": {
        "id": "thUtYC3uWoW-"
      },
      "outputs": [],
      "source": [
        "file = open(filename, mode = 'r')"
      ]
    },
    {
      "cell_type": "code",
      "source": [
        "file"
      ],
      "metadata": {
        "colab": {
          "base_uri": "https://localhost:8080/"
        },
        "id": "JE77WBhYyTqh",
        "outputId": "c6ab02ee-f0ce-4f9a-f51b-fec953d84b26"
      },
      "execution_count": 17,
      "outputs": [
        {
          "output_type": "execute_result",
          "data": {
            "text/plain": [
              "<_io.TextIOWrapper name='source.txt' mode='r' encoding='UTF-8'>"
            ]
          },
          "metadata": {},
          "execution_count": 17
        }
      ]
    },
    {
      "cell_type": "code",
      "source": [
        "file.read()"
      ],
      "metadata": {
        "colab": {
          "base_uri": "https://localhost:8080/",
          "height": 35
        },
        "id": "Ki-JXJZgynxt",
        "outputId": "ea528634-ca92-4f4c-efcb-c2d057142fbe"
      },
      "execution_count": 18,
      "outputs": [
        {
          "output_type": "execute_result",
          "data": {
            "text/plain": [
              "'This is the simplest plain text file!\\n'"
            ],
            "application/vnd.google.colaboratory.intrinsic+json": {
              "type": "string"
            }
          },
          "metadata": {},
          "execution_count": 18
        }
      ]
    },
    {
      "cell_type": "markdown",
      "source": [
        ".read() will read the file only once"
      ],
      "metadata": {
        "id": "XI_hOLicy6SC"
      }
    },
    {
      "cell_type": "code",
      "source": [
        "file.read()"
      ],
      "metadata": {
        "colab": {
          "base_uri": "https://localhost:8080/",
          "height": 35
        },
        "id": "kx4tNkDhzIn_",
        "outputId": "b6941a2a-49f1-4115-aa15-f834abacc0b1"
      },
      "execution_count": 19,
      "outputs": [
        {
          "output_type": "execute_result",
          "data": {
            "text/plain": [
              "''"
            ],
            "application/vnd.google.colaboratory.intrinsic+json": {
              "type": "string"
            }
          },
          "metadata": {},
          "execution_count": 19
        }
      ]
    },
    {
      "cell_type": "code",
      "source": [
        "file = open(filename, mode = 'r')\n",
        "text = file.read()\n",
        "text"
      ],
      "metadata": {
        "colab": {
          "base_uri": "https://localhost:8080/",
          "height": 35
        },
        "id": "cBHWdH7nzNW9",
        "outputId": "0f33609a-e466-421f-dc52-6ac784d12f03"
      },
      "execution_count": 26,
      "outputs": [
        {
          "output_type": "execute_result",
          "data": {
            "text/plain": [
              "'This is the simplest plain text file!\\n'"
            ],
            "application/vnd.google.colaboratory.intrinsic+json": {
              "type": "string"
            }
          },
          "metadata": {},
          "execution_count": 26
        }
      ]
    },
    {
      "cell_type": "markdown",
      "source": [
        "Make sure you always close all connections to your file system that you open.\n",
        "\n",
        "Check if your file is closed"
      ],
      "metadata": {
        "id": "jEHNlpYkz3wR"
      }
    },
    {
      "cell_type": "code",
      "source": [
        "file.closed"
      ],
      "metadata": {
        "colab": {
          "base_uri": "https://localhost:8080/"
        },
        "id": "GW9NlwGb1NDN",
        "outputId": "ba5f541e-066c-484c-aee6-c239f5be5f52"
      },
      "execution_count": 27,
      "outputs": [
        {
          "output_type": "execute_result",
          "data": {
            "text/plain": [
              "False"
            ]
          },
          "metadata": {},
          "execution_count": 27
        }
      ]
    },
    {
      "cell_type": "code",
      "source": [
        "file.close()"
      ],
      "metadata": {
        "id": "8t2tilCZ1Y5c"
      },
      "execution_count": 28,
      "outputs": []
    },
    {
      "cell_type": "code",
      "source": [
        "file.closed"
      ],
      "metadata": {
        "colab": {
          "base_uri": "https://localhost:8080/"
        },
        "id": "tuJ4ktJ41fia",
        "outputId": "ed5ae535-753f-4ff1-df80-4206f8273f7e"
      },
      "execution_count": 29,
      "outputs": [
        {
          "output_type": "execute_result",
          "data": {
            "text/plain": [
              "True"
            ]
          },
          "metadata": {},
          "execution_count": 29
        }
      ]
    },
    {
      "cell_type": "code",
      "source": [
        "print(text)"
      ],
      "metadata": {
        "colab": {
          "base_uri": "https://localhost:8080/"
        },
        "id": "MRHTuNoT1y7D",
        "outputId": "034a0602-260f-4c1f-8171-064fbb94aaee"
      },
      "execution_count": 30,
      "outputs": [
        {
          "output_type": "stream",
          "name": "stdout",
          "text": [
            "This is the simplest plain text file!\n",
            "\n"
          ]
        }
      ]
    },
    {
      "cell_type": "code",
      "source": [
        "with open(filename, mode=\"r\") as out_file:\n",
        "  out_file.read()"
      ],
      "metadata": {
        "id": "K9gvWY_cGXPn"
      },
      "execution_count": 31,
      "outputs": []
    }
  ]
}