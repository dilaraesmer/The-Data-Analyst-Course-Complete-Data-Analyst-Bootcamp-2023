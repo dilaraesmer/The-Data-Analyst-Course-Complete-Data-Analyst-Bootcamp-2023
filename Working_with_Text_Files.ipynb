{
  "nbformat": 4,
  "nbformat_minor": 0,
  "metadata": {
    "colab": {
      "provenance": [],
      "authorship_tag": "ABX9TyMUHzZAHW5tZQMKZsn0FZEG",
      "include_colab_link": true
    },
    "kernelspec": {
      "name": "python3",
      "display_name": "Python 3"
    },
    "language_info": {
      "name": "python"
    }
  },
  "cells": [
    {
      "cell_type": "markdown",
      "metadata": {
        "id": "view-in-github",
        "colab_type": "text"
      },
      "source": [
        "<a href=\"https://colab.research.google.com/github/dilaraesmer/The-Data-Analyst-Course-Complete-Data-Analyst-Bootcamp-2023/blob/main/Working_with_Text_Files.ipynb\" target=\"_parent\"><img src=\"https://colab.research.google.com/assets/colab-badge.svg\" alt=\"Open In Colab\"/></a>"
      ]
    },
    {
      "cell_type": "markdown",
      "source": [
        "Naming Convention\n",
        "\n",
        "* Text files \n",
        "* Variables\n",
        "* Functions \n",
        "* Other entities in your code and documentation\n",
        "\n"
      ],
      "metadata": {
        "id": "OFIhBlKpfYY-"
      }
    },
    {
      "cell_type": "markdown",
      "source": [
        "Import the text file into a file object in Python"
      ],
      "metadata": {
        "id": "Pwt0pdn0vk8e"
      }
    },
    {
      "cell_type": "markdown",
      "source": [
        "open() \n",
        "\n",
        "Importing data into a file object is technically no different from assigning any other sort of data to a variable"
      ],
      "metadata": {
        "id": "lsAFrI-iwNK5"
      }
    },
    {
      "cell_type": "code",
      "source": [
        "filename = \"source.txt\""
      ],
      "metadata": {
        "id": "YVmj7akvx1k7"
      },
      "execution_count": 1,
      "outputs": []
    },
    {
      "cell_type": "code",
      "source": [
        "filename"
      ],
      "metadata": {
        "colab": {
          "base_uri": "https://localhost:8080/",
          "height": 35
        },
        "id": "-kJmmPcvx7H0",
        "outputId": "69f0896a-fb9a-49d0-cea4-8214d5e8e3cd"
      },
      "execution_count": 2,
      "outputs": [
        {
          "output_type": "execute_result",
          "data": {
            "text/plain": [
              "'source.txt'"
            ],
            "application/vnd.google.colaboratory.intrinsic+json": {
              "type": "string"
            }
          },
          "metadata": {},
          "execution_count": 2
        }
      ]
    },
    {
      "cell_type": "code",
      "execution_count": 5,
      "metadata": {
        "id": "thUtYC3uWoW-"
      },
      "outputs": [],
      "source": [
        "file = open(filename, mode = 'r')"
      ]
    },
    {
      "cell_type": "code",
      "source": [
        "file"
      ],
      "metadata": {
        "colab": {
          "base_uri": "https://localhost:8080/"
        },
        "id": "JE77WBhYyTqh",
        "outputId": "fdd300b3-d4b5-4338-e55f-96cb248873e1"
      },
      "execution_count": 6,
      "outputs": [
        {
          "output_type": "execute_result",
          "data": {
            "text/plain": [
              "<_io.TextIOWrapper name='source.txt' mode='r' encoding='UTF-8'>"
            ]
          },
          "metadata": {},
          "execution_count": 6
        }
      ]
    },
    {
      "cell_type": "code",
      "source": [
        "file.read()"
      ],
      "metadata": {
        "id": "Ki-JXJZgynxt",
        "outputId": "d26ef671-73db-4249-91a0-7dcae8effc55",
        "colab": {
          "base_uri": "https://localhost:8080/",
          "height": 35
        }
      },
      "execution_count": 7,
      "outputs": [
        {
          "output_type": "execute_result",
          "data": {
            "text/plain": [
              "'This is the simplest plain text file!\\n'"
            ],
            "application/vnd.google.colaboratory.intrinsic+json": {
              "type": "string"
            }
          },
          "metadata": {},
          "execution_count": 7
        }
      ]
    }
  ]
}