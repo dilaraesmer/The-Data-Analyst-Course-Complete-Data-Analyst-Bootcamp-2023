{
  "nbformat": 4,
  "nbformat_minor": 0,
  "metadata": {
    "colab": {
      "provenance": [],
      "authorship_tag": "ABX9TyOECubVkC1ul8hmA0k5amlW",
      "include_colab_link": true
    },
    "kernelspec": {
      "name": "python3",
      "display_name": "Python 3"
    },
    "language_info": {
      "name": "python"
    }
  },
  "cells": [
    {
      "cell_type": "markdown",
      "metadata": {
        "id": "view-in-github",
        "colab_type": "text"
      },
      "source": [
        "<a href=\"https://colab.research.google.com/github/dilaraesmer/The-Data-Analyst-Course-Complete-Data-Analyst-Bootcamp-2023/blob/main/Pandas_DataFrames.ipynb\" target=\"_parent\"><img src=\"https://colab.research.google.com/assets/colab-badge.svg\" alt=\"Open In Colab\"/></a>"
      ]
    },
    {
      "cell_type": "code",
      "execution_count": 1,
      "metadata": {
        "id": "4P1wCmpLBbPU"
      },
      "outputs": [],
      "source": [
        "import pandas as pandas\n",
        "import numpy as np"
      ]
    },
    {
      "cell_type": "markdown",
      "source": [
        "DataFrame - a tabular structure that contains multiple observations for a given set of variables"
      ],
      "metadata": {
        "id": "WlY8ft6qL7tF"
      }
    },
    {
      "cell_type": "code",
      "source": [
        "array_a = np.array([[3,2,1], [6,3,2]])\n",
        "array_a"
      ],
      "metadata": {
        "colab": {
          "base_uri": "https://localhost:8080/"
        },
        "id": "sBsnC7UdO7Zm",
        "outputId": "d391ba43-61be-4f4b-e9b8-48c3daef162e"
      },
      "execution_count": 2,
      "outputs": [
        {
          "output_type": "execute_result",
          "data": {
            "text/plain": [
              "array([[3, 2, 1],\n",
              "       [6, 3, 2]])"
            ]
          },
          "metadata": {},
          "execution_count": 2
        }
      ]
    }
  ]
}