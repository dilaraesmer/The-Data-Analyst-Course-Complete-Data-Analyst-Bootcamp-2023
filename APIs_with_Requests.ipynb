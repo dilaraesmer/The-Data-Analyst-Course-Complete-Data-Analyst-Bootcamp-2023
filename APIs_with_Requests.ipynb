{
  "nbformat": 4,
  "nbformat_minor": 0,
  "metadata": {
    "colab": {
      "provenance": [],
      "authorship_tag": "ABX9TyOGL39bMpiXrd5ybDc6wKEO",
      "include_colab_link": true
    },
    "kernelspec": {
      "name": "python3",
      "display_name": "Python 3"
    },
    "language_info": {
      "name": "python"
    }
  },
  "cells": [
    {
      "cell_type": "markdown",
      "metadata": {
        "id": "view-in-github",
        "colab_type": "text"
      },
      "source": [
        "<a href=\"https://colab.research.google.com/github/dilaraesmer/The-Data-Analyst-Course-Complete-Data-Analyst-Bootcamp-2023/blob/main/APIs_with_Requests.ipynb\" target=\"_parent\"><img src=\"https://colab.research.google.com/assets/colab-badge.svg\" alt=\"Open In Colab\"/></a>"
      ]
    },
    {
      "cell_type": "code",
      "source": [
        "import requests"
      ],
      "metadata": {
        "id": "eIokxCkCAUxr"
      },
      "execution_count": 50,
      "outputs": []
    },
    {
      "cell_type": "code",
      "source": [
        "baseurl = 'https://rickandmortyapi.com/api/'"
      ],
      "metadata": {
        "id": "cKRePa7gAYXg"
      },
      "execution_count": 51,
      "outputs": []
    },
    {
      "cell_type": "code",
      "source": [
        "endpoint = 'character'"
      ],
      "metadata": {
        "id": "5qCIGofjAyFZ"
      },
      "execution_count": 52,
      "outputs": []
    },
    {
      "cell_type": "code",
      "source": [
        "r = requests.get(baseurl + endpoint)"
      ],
      "metadata": {
        "id": "2wSkoOE_BROA"
      },
      "execution_count": 53,
      "outputs": []
    },
    {
      "cell_type": "code",
      "source": [
        "print(r)"
      ],
      "metadata": {
        "colab": {
          "base_uri": "https://localhost:8080/"
        },
        "id": "RU0OUfMuBjxh",
        "outputId": "e6f4ded5-b9a8-4845-f9dc-c372fa0d48cf"
      },
      "execution_count": 54,
      "outputs": [
        {
          "output_type": "stream",
          "name": "stdout",
          "text": [
            "<Response [200]>\n"
          ]
        }
      ]
    },
    {
      "cell_type": "code",
      "source": [
        "data = r.json()"
      ],
      "metadata": {
        "id": "iVt8R3VvBuZO"
      },
      "execution_count": 55,
      "outputs": []
    },
    {
      "cell_type": "code",
      "source": [
        "pages = data['info']['pages']"
      ],
      "metadata": {
        "id": "7umLywzSCDEh"
      },
      "execution_count": 56,
      "outputs": []
    },
    {
      "cell_type": "code",
      "source": [
        "data['results']"
      ],
      "metadata": {
        "colab": {
          "base_uri": "https://localhost:8080/"
        },
        "id": "W1nYjBF0DuW9",
        "outputId": "f5d858fb-bd17-4c4e-be5d-92f93bbb1f6b"
      },
      "execution_count": 60,
      "outputs": [
        {
          "output_type": "execute_result",
          "data": {
            "text/plain": [
              "[{'id': 1,\n",
              "  'name': 'Rick Sanchez',\n",
              "  'status': 'Alive',\n",
              "  'species': 'Human',\n",
              "  'type': '',\n",
              "  'gender': 'Male',\n",
              "  'origin': {'name': 'Earth (C-137)',\n",
              "   'url': 'https://rickandmortyapi.com/api/location/1'},\n",
              "  'location': {'name': 'Citadel of Ricks',\n",
              "   'url': 'https://rickandmortyapi.com/api/location/3'},\n",
              "  'image': 'https://rickandmortyapi.com/api/character/avatar/1.jpeg',\n",
              "  'episode': ['https://rickandmortyapi.com/api/episode/1',\n",
              "   'https://rickandmortyapi.com/api/episode/2',\n",
              "   'https://rickandmortyapi.com/api/episode/3',\n",
              "   'https://rickandmortyapi.com/api/episode/4',\n",
              "   'https://rickandmortyapi.com/api/episode/5',\n",
              "   'https://rickandmortyapi.com/api/episode/6',\n",
              "   'https://rickandmortyapi.com/api/episode/7',\n",
              "   'https://rickandmortyapi.com/api/episode/8',\n",
              "   'https://rickandmortyapi.com/api/episode/9',\n",
              "   'https://rickandmortyapi.com/api/episode/10',\n",
              "   'https://rickandmortyapi.com/api/episode/11',\n",
              "   'https://rickandmortyapi.com/api/episode/12',\n",
              "   'https://rickandmortyapi.com/api/episode/13',\n",
              "   'https://rickandmortyapi.com/api/episode/14',\n",
              "   'https://rickandmortyapi.com/api/episode/15',\n",
              "   'https://rickandmortyapi.com/api/episode/16',\n",
              "   'https://rickandmortyapi.com/api/episode/17',\n",
              "   'https://rickandmortyapi.com/api/episode/18',\n",
              "   'https://rickandmortyapi.com/api/episode/19',\n",
              "   'https://rickandmortyapi.com/api/episode/20',\n",
              "   'https://rickandmortyapi.com/api/episode/21',\n",
              "   'https://rickandmortyapi.com/api/episode/22',\n",
              "   'https://rickandmortyapi.com/api/episode/23',\n",
              "   'https://rickandmortyapi.com/api/episode/24',\n",
              "   'https://rickandmortyapi.com/api/episode/25',\n",
              "   'https://rickandmortyapi.com/api/episode/26',\n",
              "   'https://rickandmortyapi.com/api/episode/27',\n",
              "   'https://rickandmortyapi.com/api/episode/28',\n",
              "   'https://rickandmortyapi.com/api/episode/29',\n",
              "   'https://rickandmortyapi.com/api/episode/30',\n",
              "   'https://rickandmortyapi.com/api/episode/31',\n",
              "   'https://rickandmortyapi.com/api/episode/32',\n",
              "   'https://rickandmortyapi.com/api/episode/33',\n",
              "   'https://rickandmortyapi.com/api/episode/34',\n",
              "   'https://rickandmortyapi.com/api/episode/35',\n",
              "   'https://rickandmortyapi.com/api/episode/36',\n",
              "   'https://rickandmortyapi.com/api/episode/37',\n",
              "   'https://rickandmortyapi.com/api/episode/38',\n",
              "   'https://rickandmortyapi.com/api/episode/39',\n",
              "   'https://rickandmortyapi.com/api/episode/40',\n",
              "   'https://rickandmortyapi.com/api/episode/41',\n",
              "   'https://rickandmortyapi.com/api/episode/42',\n",
              "   'https://rickandmortyapi.com/api/episode/43',\n",
              "   'https://rickandmortyapi.com/api/episode/44',\n",
              "   'https://rickandmortyapi.com/api/episode/45',\n",
              "   'https://rickandmortyapi.com/api/episode/46',\n",
              "   'https://rickandmortyapi.com/api/episode/47',\n",
              "   'https://rickandmortyapi.com/api/episode/48',\n",
              "   'https://rickandmortyapi.com/api/episode/49',\n",
              "   'https://rickandmortyapi.com/api/episode/50',\n",
              "   'https://rickandmortyapi.com/api/episode/51'],\n",
              "  'url': 'https://rickandmortyapi.com/api/character/1',\n",
              "  'created': '2017-11-04T18:48:46.250Z'},\n",
              " {'id': 2,\n",
              "  'name': 'Morty Smith',\n",
              "  'status': 'Alive',\n",
              "  'species': 'Human',\n",
              "  'type': '',\n",
              "  'gender': 'Male',\n",
              "  'origin': {'name': 'unknown', 'url': ''},\n",
              "  'location': {'name': 'Citadel of Ricks',\n",
              "   'url': 'https://rickandmortyapi.com/api/location/3'},\n",
              "  'image': 'https://rickandmortyapi.com/api/character/avatar/2.jpeg',\n",
              "  'episode': ['https://rickandmortyapi.com/api/episode/1',\n",
              "   'https://rickandmortyapi.com/api/episode/2',\n",
              "   'https://rickandmortyapi.com/api/episode/3',\n",
              "   'https://rickandmortyapi.com/api/episode/4',\n",
              "   'https://rickandmortyapi.com/api/episode/5',\n",
              "   'https://rickandmortyapi.com/api/episode/6',\n",
              "   'https://rickandmortyapi.com/api/episode/7',\n",
              "   'https://rickandmortyapi.com/api/episode/8',\n",
              "   'https://rickandmortyapi.com/api/episode/9',\n",
              "   'https://rickandmortyapi.com/api/episode/10',\n",
              "   'https://rickandmortyapi.com/api/episode/11',\n",
              "   'https://rickandmortyapi.com/api/episode/12',\n",
              "   'https://rickandmortyapi.com/api/episode/13',\n",
              "   'https://rickandmortyapi.com/api/episode/14',\n",
              "   'https://rickandmortyapi.com/api/episode/15',\n",
              "   'https://rickandmortyapi.com/api/episode/16',\n",
              "   'https://rickandmortyapi.com/api/episode/17',\n",
              "   'https://rickandmortyapi.com/api/episode/18',\n",
              "   'https://rickandmortyapi.com/api/episode/19',\n",
              "   'https://rickandmortyapi.com/api/episode/20',\n",
              "   'https://rickandmortyapi.com/api/episode/21',\n",
              "   'https://rickandmortyapi.com/api/episode/22',\n",
              "   'https://rickandmortyapi.com/api/episode/23',\n",
              "   'https://rickandmortyapi.com/api/episode/24',\n",
              "   'https://rickandmortyapi.com/api/episode/25',\n",
              "   'https://rickandmortyapi.com/api/episode/26',\n",
              "   'https://rickandmortyapi.com/api/episode/27',\n",
              "   'https://rickandmortyapi.com/api/episode/28',\n",
              "   'https://rickandmortyapi.com/api/episode/29',\n",
              "   'https://rickandmortyapi.com/api/episode/30',\n",
              "   'https://rickandmortyapi.com/api/episode/31',\n",
              "   'https://rickandmortyapi.com/api/episode/32',\n",
              "   'https://rickandmortyapi.com/api/episode/33',\n",
              "   'https://rickandmortyapi.com/api/episode/34',\n",
              "   'https://rickandmortyapi.com/api/episode/35',\n",
              "   'https://rickandmortyapi.com/api/episode/36',\n",
              "   'https://rickandmortyapi.com/api/episode/37',\n",
              "   'https://rickandmortyapi.com/api/episode/38',\n",
              "   'https://rickandmortyapi.com/api/episode/39',\n",
              "   'https://rickandmortyapi.com/api/episode/40',\n",
              "   'https://rickandmortyapi.com/api/episode/41',\n",
              "   'https://rickandmortyapi.com/api/episode/42',\n",
              "   'https://rickandmortyapi.com/api/episode/43',\n",
              "   'https://rickandmortyapi.com/api/episode/44',\n",
              "   'https://rickandmortyapi.com/api/episode/45',\n",
              "   'https://rickandmortyapi.com/api/episode/46',\n",
              "   'https://rickandmortyapi.com/api/episode/47',\n",
              "   'https://rickandmortyapi.com/api/episode/48',\n",
              "   'https://rickandmortyapi.com/api/episode/49',\n",
              "   'https://rickandmortyapi.com/api/episode/50',\n",
              "   'https://rickandmortyapi.com/api/episode/51'],\n",
              "  'url': 'https://rickandmortyapi.com/api/character/2',\n",
              "  'created': '2017-11-04T18:50:21.651Z'},\n",
              " {'id': 3,\n",
              "  'name': 'Summer Smith',\n",
              "  'status': 'Alive',\n",
              "  'species': 'Human',\n",
              "  'type': '',\n",
              "  'gender': 'Female',\n",
              "  'origin': {'name': 'Earth (Replacement Dimension)',\n",
              "   'url': 'https://rickandmortyapi.com/api/location/20'},\n",
              "  'location': {'name': 'Earth (Replacement Dimension)',\n",
              "   'url': 'https://rickandmortyapi.com/api/location/20'},\n",
              "  'image': 'https://rickandmortyapi.com/api/character/avatar/3.jpeg',\n",
              "  'episode': ['https://rickandmortyapi.com/api/episode/6',\n",
              "   'https://rickandmortyapi.com/api/episode/7',\n",
              "   'https://rickandmortyapi.com/api/episode/8',\n",
              "   'https://rickandmortyapi.com/api/episode/9',\n",
              "   'https://rickandmortyapi.com/api/episode/10',\n",
              "   'https://rickandmortyapi.com/api/episode/11',\n",
              "   'https://rickandmortyapi.com/api/episode/12',\n",
              "   'https://rickandmortyapi.com/api/episode/14',\n",
              "   'https://rickandmortyapi.com/api/episode/15',\n",
              "   'https://rickandmortyapi.com/api/episode/16',\n",
              "   'https://rickandmortyapi.com/api/episode/17',\n",
              "   'https://rickandmortyapi.com/api/episode/18',\n",
              "   'https://rickandmortyapi.com/api/episode/19',\n",
              "   'https://rickandmortyapi.com/api/episode/20',\n",
              "   'https://rickandmortyapi.com/api/episode/21',\n",
              "   'https://rickandmortyapi.com/api/episode/22',\n",
              "   'https://rickandmortyapi.com/api/episode/23',\n",
              "   'https://rickandmortyapi.com/api/episode/24',\n",
              "   'https://rickandmortyapi.com/api/episode/25',\n",
              "   'https://rickandmortyapi.com/api/episode/26',\n",
              "   'https://rickandmortyapi.com/api/episode/27',\n",
              "   'https://rickandmortyapi.com/api/episode/29',\n",
              "   'https://rickandmortyapi.com/api/episode/30',\n",
              "   'https://rickandmortyapi.com/api/episode/31',\n",
              "   'https://rickandmortyapi.com/api/episode/32',\n",
              "   'https://rickandmortyapi.com/api/episode/33',\n",
              "   'https://rickandmortyapi.com/api/episode/34',\n",
              "   'https://rickandmortyapi.com/api/episode/35',\n",
              "   'https://rickandmortyapi.com/api/episode/36',\n",
              "   'https://rickandmortyapi.com/api/episode/38',\n",
              "   'https://rickandmortyapi.com/api/episode/39',\n",
              "   'https://rickandmortyapi.com/api/episode/40',\n",
              "   'https://rickandmortyapi.com/api/episode/41',\n",
              "   'https://rickandmortyapi.com/api/episode/42',\n",
              "   'https://rickandmortyapi.com/api/episode/43',\n",
              "   'https://rickandmortyapi.com/api/episode/44',\n",
              "   'https://rickandmortyapi.com/api/episode/45',\n",
              "   'https://rickandmortyapi.com/api/episode/46',\n",
              "   'https://rickandmortyapi.com/api/episode/47',\n",
              "   'https://rickandmortyapi.com/api/episode/48',\n",
              "   'https://rickandmortyapi.com/api/episode/49',\n",
              "   'https://rickandmortyapi.com/api/episode/51'],\n",
              "  'url': 'https://rickandmortyapi.com/api/character/3',\n",
              "  'created': '2017-11-04T19:09:56.428Z'},\n",
              " {'id': 4,\n",
              "  'name': 'Beth Smith',\n",
              "  'status': 'Alive',\n",
              "  'species': 'Human',\n",
              "  'type': '',\n",
              "  'gender': 'Female',\n",
              "  'origin': {'name': 'Earth (Replacement Dimension)',\n",
              "   'url': 'https://rickandmortyapi.com/api/location/20'},\n",
              "  'location': {'name': 'Earth (Replacement Dimension)',\n",
              "   'url': 'https://rickandmortyapi.com/api/location/20'},\n",
              "  'image': 'https://rickandmortyapi.com/api/character/avatar/4.jpeg',\n",
              "  'episode': ['https://rickandmortyapi.com/api/episode/6',\n",
              "   'https://rickandmortyapi.com/api/episode/7',\n",
              "   'https://rickandmortyapi.com/api/episode/8',\n",
              "   'https://rickandmortyapi.com/api/episode/9',\n",
              "   'https://rickandmortyapi.com/api/episode/10',\n",
              "   'https://rickandmortyapi.com/api/episode/11',\n",
              "   'https://rickandmortyapi.com/api/episode/12',\n",
              "   'https://rickandmortyapi.com/api/episode/14',\n",
              "   'https://rickandmortyapi.com/api/episode/15',\n",
              "   'https://rickandmortyapi.com/api/episode/16',\n",
              "   'https://rickandmortyapi.com/api/episode/18',\n",
              "   'https://rickandmortyapi.com/api/episode/19',\n",
              "   'https://rickandmortyapi.com/api/episode/20',\n",
              "   'https://rickandmortyapi.com/api/episode/21',\n",
              "   'https://rickandmortyapi.com/api/episode/22',\n",
              "   'https://rickandmortyapi.com/api/episode/23',\n",
              "   'https://rickandmortyapi.com/api/episode/24',\n",
              "   'https://rickandmortyapi.com/api/episode/25',\n",
              "   'https://rickandmortyapi.com/api/episode/26',\n",
              "   'https://rickandmortyapi.com/api/episode/27',\n",
              "   'https://rickandmortyapi.com/api/episode/28',\n",
              "   'https://rickandmortyapi.com/api/episode/29',\n",
              "   'https://rickandmortyapi.com/api/episode/30',\n",
              "   'https://rickandmortyapi.com/api/episode/31',\n",
              "   'https://rickandmortyapi.com/api/episode/32',\n",
              "   'https://rickandmortyapi.com/api/episode/33',\n",
              "   'https://rickandmortyapi.com/api/episode/34',\n",
              "   'https://rickandmortyapi.com/api/episode/35',\n",
              "   'https://rickandmortyapi.com/api/episode/36',\n",
              "   'https://rickandmortyapi.com/api/episode/38',\n",
              "   'https://rickandmortyapi.com/api/episode/39',\n",
              "   'https://rickandmortyapi.com/api/episode/40',\n",
              "   'https://rickandmortyapi.com/api/episode/41',\n",
              "   'https://rickandmortyapi.com/api/episode/42',\n",
              "   'https://rickandmortyapi.com/api/episode/43',\n",
              "   'https://rickandmortyapi.com/api/episode/44',\n",
              "   'https://rickandmortyapi.com/api/episode/45',\n",
              "   'https://rickandmortyapi.com/api/episode/46',\n",
              "   'https://rickandmortyapi.com/api/episode/47',\n",
              "   'https://rickandmortyapi.com/api/episode/48',\n",
              "   'https://rickandmortyapi.com/api/episode/49',\n",
              "   'https://rickandmortyapi.com/api/episode/51'],\n",
              "  'url': 'https://rickandmortyapi.com/api/character/4',\n",
              "  'created': '2017-11-04T19:22:43.665Z'},\n",
              " {'id': 5,\n",
              "  'name': 'Jerry Smith',\n",
              "  'status': 'Alive',\n",
              "  'species': 'Human',\n",
              "  'type': '',\n",
              "  'gender': 'Male',\n",
              "  'origin': {'name': 'Earth (Replacement Dimension)',\n",
              "   'url': 'https://rickandmortyapi.com/api/location/20'},\n",
              "  'location': {'name': 'Earth (Replacement Dimension)',\n",
              "   'url': 'https://rickandmortyapi.com/api/location/20'},\n",
              "  'image': 'https://rickandmortyapi.com/api/character/avatar/5.jpeg',\n",
              "  'episode': ['https://rickandmortyapi.com/api/episode/6',\n",
              "   'https://rickandmortyapi.com/api/episode/7',\n",
              "   'https://rickandmortyapi.com/api/episode/8',\n",
              "   'https://rickandmortyapi.com/api/episode/9',\n",
              "   'https://rickandmortyapi.com/api/episode/10',\n",
              "   'https://rickandmortyapi.com/api/episode/11',\n",
              "   'https://rickandmortyapi.com/api/episode/12',\n",
              "   'https://rickandmortyapi.com/api/episode/13',\n",
              "   'https://rickandmortyapi.com/api/episode/14',\n",
              "   'https://rickandmortyapi.com/api/episode/15',\n",
              "   'https://rickandmortyapi.com/api/episode/16',\n",
              "   'https://rickandmortyapi.com/api/episode/18',\n",
              "   'https://rickandmortyapi.com/api/episode/19',\n",
              "   'https://rickandmortyapi.com/api/episode/20',\n",
              "   'https://rickandmortyapi.com/api/episode/21',\n",
              "   'https://rickandmortyapi.com/api/episode/22',\n",
              "   'https://rickandmortyapi.com/api/episode/23',\n",
              "   'https://rickandmortyapi.com/api/episode/26',\n",
              "   'https://rickandmortyapi.com/api/episode/29',\n",
              "   'https://rickandmortyapi.com/api/episode/30',\n",
              "   'https://rickandmortyapi.com/api/episode/31',\n",
              "   'https://rickandmortyapi.com/api/episode/32',\n",
              "   'https://rickandmortyapi.com/api/episode/33',\n",
              "   'https://rickandmortyapi.com/api/episode/35',\n",
              "   'https://rickandmortyapi.com/api/episode/36',\n",
              "   'https://rickandmortyapi.com/api/episode/38',\n",
              "   'https://rickandmortyapi.com/api/episode/39',\n",
              "   'https://rickandmortyapi.com/api/episode/40',\n",
              "   'https://rickandmortyapi.com/api/episode/41',\n",
              "   'https://rickandmortyapi.com/api/episode/42',\n",
              "   'https://rickandmortyapi.com/api/episode/43',\n",
              "   'https://rickandmortyapi.com/api/episode/44',\n",
              "   'https://rickandmortyapi.com/api/episode/45',\n",
              "   'https://rickandmortyapi.com/api/episode/46',\n",
              "   'https://rickandmortyapi.com/api/episode/47',\n",
              "   'https://rickandmortyapi.com/api/episode/48',\n",
              "   'https://rickandmortyapi.com/api/episode/49',\n",
              "   'https://rickandmortyapi.com/api/episode/50',\n",
              "   'https://rickandmortyapi.com/api/episode/51'],\n",
              "  'url': 'https://rickandmortyapi.com/api/character/5',\n",
              "  'created': '2017-11-04T19:26:56.301Z'},\n",
              " {'id': 6,\n",
              "  'name': 'Abadango Cluster Princess',\n",
              "  'status': 'Alive',\n",
              "  'species': 'Alien',\n",
              "  'type': '',\n",
              "  'gender': 'Female',\n",
              "  'origin': {'name': 'Abadango',\n",
              "   'url': 'https://rickandmortyapi.com/api/location/2'},\n",
              "  'location': {'name': 'Abadango',\n",
              "   'url': 'https://rickandmortyapi.com/api/location/2'},\n",
              "  'image': 'https://rickandmortyapi.com/api/character/avatar/6.jpeg',\n",
              "  'episode': ['https://rickandmortyapi.com/api/episode/27'],\n",
              "  'url': 'https://rickandmortyapi.com/api/character/6',\n",
              "  'created': '2017-11-04T19:50:28.250Z'},\n",
              " {'id': 7,\n",
              "  'name': 'Abradolf Lincler',\n",
              "  'status': 'unknown',\n",
              "  'species': 'Human',\n",
              "  'type': 'Genetic experiment',\n",
              "  'gender': 'Male',\n",
              "  'origin': {'name': 'Earth (Replacement Dimension)',\n",
              "   'url': 'https://rickandmortyapi.com/api/location/20'},\n",
              "  'location': {'name': 'Testicle Monster Dimension',\n",
              "   'url': 'https://rickandmortyapi.com/api/location/21'},\n",
              "  'image': 'https://rickandmortyapi.com/api/character/avatar/7.jpeg',\n",
              "  'episode': ['https://rickandmortyapi.com/api/episode/10',\n",
              "   'https://rickandmortyapi.com/api/episode/11'],\n",
              "  'url': 'https://rickandmortyapi.com/api/character/7',\n",
              "  'created': '2017-11-04T19:59:20.523Z'},\n",
              " {'id': 8,\n",
              "  'name': 'Adjudicator Rick',\n",
              "  'status': 'Dead',\n",
              "  'species': 'Human',\n",
              "  'type': '',\n",
              "  'gender': 'Male',\n",
              "  'origin': {'name': 'unknown', 'url': ''},\n",
              "  'location': {'name': 'Citadel of Ricks',\n",
              "   'url': 'https://rickandmortyapi.com/api/location/3'},\n",
              "  'image': 'https://rickandmortyapi.com/api/character/avatar/8.jpeg',\n",
              "  'episode': ['https://rickandmortyapi.com/api/episode/28'],\n",
              "  'url': 'https://rickandmortyapi.com/api/character/8',\n",
              "  'created': '2017-11-04T20:03:34.737Z'},\n",
              " {'id': 9,\n",
              "  'name': 'Agency Director',\n",
              "  'status': 'Dead',\n",
              "  'species': 'Human',\n",
              "  'type': '',\n",
              "  'gender': 'Male',\n",
              "  'origin': {'name': 'Earth (Replacement Dimension)',\n",
              "   'url': 'https://rickandmortyapi.com/api/location/20'},\n",
              "  'location': {'name': 'Earth (Replacement Dimension)',\n",
              "   'url': 'https://rickandmortyapi.com/api/location/20'},\n",
              "  'image': 'https://rickandmortyapi.com/api/character/avatar/9.jpeg',\n",
              "  'episode': ['https://rickandmortyapi.com/api/episode/24'],\n",
              "  'url': 'https://rickandmortyapi.com/api/character/9',\n",
              "  'created': '2017-11-04T20:06:54.976Z'},\n",
              " {'id': 10,\n",
              "  'name': 'Alan Rails',\n",
              "  'status': 'Dead',\n",
              "  'species': 'Human',\n",
              "  'type': 'Superhuman (Ghost trains summoner)',\n",
              "  'gender': 'Male',\n",
              "  'origin': {'name': 'unknown', 'url': ''},\n",
              "  'location': {'name': \"Worldender's lair\",\n",
              "   'url': 'https://rickandmortyapi.com/api/location/4'},\n",
              "  'image': 'https://rickandmortyapi.com/api/character/avatar/10.jpeg',\n",
              "  'episode': ['https://rickandmortyapi.com/api/episode/25'],\n",
              "  'url': 'https://rickandmortyapi.com/api/character/10',\n",
              "  'created': '2017-11-04T20:19:09.017Z'},\n",
              " {'id': 11,\n",
              "  'name': 'Albert Einstein',\n",
              "  'status': 'Dead',\n",
              "  'species': 'Human',\n",
              "  'type': '',\n",
              "  'gender': 'Male',\n",
              "  'origin': {'name': 'Earth (C-137)',\n",
              "   'url': 'https://rickandmortyapi.com/api/location/1'},\n",
              "  'location': {'name': 'Earth (Replacement Dimension)',\n",
              "   'url': 'https://rickandmortyapi.com/api/location/20'},\n",
              "  'image': 'https://rickandmortyapi.com/api/character/avatar/11.jpeg',\n",
              "  'episode': ['https://rickandmortyapi.com/api/episode/12'],\n",
              "  'url': 'https://rickandmortyapi.com/api/character/11',\n",
              "  'created': '2017-11-04T20:20:20.965Z'},\n",
              " {'id': 12,\n",
              "  'name': 'Alexander',\n",
              "  'status': 'Dead',\n",
              "  'species': 'Human',\n",
              "  'type': '',\n",
              "  'gender': 'Male',\n",
              "  'origin': {'name': 'Earth (C-137)',\n",
              "   'url': 'https://rickandmortyapi.com/api/location/1'},\n",
              "  'location': {'name': 'Anatomy Park',\n",
              "   'url': 'https://rickandmortyapi.com/api/location/5'},\n",
              "  'image': 'https://rickandmortyapi.com/api/character/avatar/12.jpeg',\n",
              "  'episode': ['https://rickandmortyapi.com/api/episode/3'],\n",
              "  'url': 'https://rickandmortyapi.com/api/character/12',\n",
              "  'created': '2017-11-04T20:32:33.144Z'},\n",
              " {'id': 13,\n",
              "  'name': 'Alien Googah',\n",
              "  'status': 'unknown',\n",
              "  'species': 'Alien',\n",
              "  'type': '',\n",
              "  'gender': 'unknown',\n",
              "  'origin': {'name': 'unknown', 'url': ''},\n",
              "  'location': {'name': 'Earth (Replacement Dimension)',\n",
              "   'url': 'https://rickandmortyapi.com/api/location/20'},\n",
              "  'image': 'https://rickandmortyapi.com/api/character/avatar/13.jpeg',\n",
              "  'episode': ['https://rickandmortyapi.com/api/episode/31'],\n",
              "  'url': 'https://rickandmortyapi.com/api/character/13',\n",
              "  'created': '2017-11-04T20:33:30.779Z'},\n",
              " {'id': 14,\n",
              "  'name': 'Alien Morty',\n",
              "  'status': 'unknown',\n",
              "  'species': 'Alien',\n",
              "  'type': '',\n",
              "  'gender': 'Male',\n",
              "  'origin': {'name': 'unknown', 'url': ''},\n",
              "  'location': {'name': 'Citadel of Ricks',\n",
              "   'url': 'https://rickandmortyapi.com/api/location/3'},\n",
              "  'image': 'https://rickandmortyapi.com/api/character/avatar/14.jpeg',\n",
              "  'episode': ['https://rickandmortyapi.com/api/episode/10'],\n",
              "  'url': 'https://rickandmortyapi.com/api/character/14',\n",
              "  'created': '2017-11-04T20:51:31.373Z'},\n",
              " {'id': 15,\n",
              "  'name': 'Alien Rick',\n",
              "  'status': 'unknown',\n",
              "  'species': 'Alien',\n",
              "  'type': '',\n",
              "  'gender': 'Male',\n",
              "  'origin': {'name': 'unknown', 'url': ''},\n",
              "  'location': {'name': 'Citadel of Ricks',\n",
              "   'url': 'https://rickandmortyapi.com/api/location/3'},\n",
              "  'image': 'https://rickandmortyapi.com/api/character/avatar/15.jpeg',\n",
              "  'episode': ['https://rickandmortyapi.com/api/episode/10'],\n",
              "  'url': 'https://rickandmortyapi.com/api/character/15',\n",
              "  'created': '2017-11-04T20:56:13.215Z'},\n",
              " {'id': 16,\n",
              "  'name': 'Amish Cyborg',\n",
              "  'status': 'Dead',\n",
              "  'species': 'Alien',\n",
              "  'type': 'Parasite',\n",
              "  'gender': 'Male',\n",
              "  'origin': {'name': 'unknown', 'url': ''},\n",
              "  'location': {'name': 'Earth (Replacement Dimension)',\n",
              "   'url': 'https://rickandmortyapi.com/api/location/20'},\n",
              "  'image': 'https://rickandmortyapi.com/api/character/avatar/16.jpeg',\n",
              "  'episode': ['https://rickandmortyapi.com/api/episode/15'],\n",
              "  'url': 'https://rickandmortyapi.com/api/character/16',\n",
              "  'created': '2017-11-04T21:12:45.235Z'},\n",
              " {'id': 17,\n",
              "  'name': 'Annie',\n",
              "  'status': 'Alive',\n",
              "  'species': 'Human',\n",
              "  'type': '',\n",
              "  'gender': 'Female',\n",
              "  'origin': {'name': 'Earth (C-137)',\n",
              "   'url': 'https://rickandmortyapi.com/api/location/1'},\n",
              "  'location': {'name': 'Anatomy Park',\n",
              "   'url': 'https://rickandmortyapi.com/api/location/5'},\n",
              "  'image': 'https://rickandmortyapi.com/api/character/avatar/17.jpeg',\n",
              "  'episode': ['https://rickandmortyapi.com/api/episode/3'],\n",
              "  'url': 'https://rickandmortyapi.com/api/character/17',\n",
              "  'created': '2017-11-04T22:21:24.481Z'},\n",
              " {'id': 18,\n",
              "  'name': 'Antenna Morty',\n",
              "  'status': 'Alive',\n",
              "  'species': 'Human',\n",
              "  'type': 'Human with antennae',\n",
              "  'gender': 'Male',\n",
              "  'origin': {'name': 'unknown', 'url': ''},\n",
              "  'location': {'name': 'Citadel of Ricks',\n",
              "   'url': 'https://rickandmortyapi.com/api/location/3'},\n",
              "  'image': 'https://rickandmortyapi.com/api/character/avatar/18.jpeg',\n",
              "  'episode': ['https://rickandmortyapi.com/api/episode/10',\n",
              "   'https://rickandmortyapi.com/api/episode/28'],\n",
              "  'url': 'https://rickandmortyapi.com/api/character/18',\n",
              "  'created': '2017-11-04T22:25:29.008Z'},\n",
              " {'id': 19,\n",
              "  'name': 'Antenna Rick',\n",
              "  'status': 'unknown',\n",
              "  'species': 'Human',\n",
              "  'type': 'Human with antennae',\n",
              "  'gender': 'Male',\n",
              "  'origin': {'name': 'unknown', 'url': ''},\n",
              "  'location': {'name': 'unknown', 'url': ''},\n",
              "  'image': 'https://rickandmortyapi.com/api/character/avatar/19.jpeg',\n",
              "  'episode': ['https://rickandmortyapi.com/api/episode/10'],\n",
              "  'url': 'https://rickandmortyapi.com/api/character/19',\n",
              "  'created': '2017-11-04T22:28:13.756Z'},\n",
              " {'id': 20,\n",
              "  'name': 'Ants in my Eyes Johnson',\n",
              "  'status': 'unknown',\n",
              "  'species': 'Human',\n",
              "  'type': 'Human with ants in his eyes',\n",
              "  'gender': 'Male',\n",
              "  'origin': {'name': 'unknown', 'url': ''},\n",
              "  'location': {'name': 'Interdimensional Cable',\n",
              "   'url': 'https://rickandmortyapi.com/api/location/6'},\n",
              "  'image': 'https://rickandmortyapi.com/api/character/avatar/20.jpeg',\n",
              "  'episode': ['https://rickandmortyapi.com/api/episode/8'],\n",
              "  'url': 'https://rickandmortyapi.com/api/character/20',\n",
              "  'created': '2017-11-04T22:34:53.659Z'}]"
            ]
          },
          "metadata": {},
          "execution_count": 60
        }
      ]
    },
    {
      "cell_type": "code",
      "source": [
        "name = print(data['results'][0]['name'])"
      ],
      "metadata": {
        "colab": {
          "base_uri": "https://localhost:8080/"
        },
        "id": "nslsOKHLCpRj",
        "outputId": "66269f5e-1c3d-4a63-fd37-b0a69d7cea05"
      },
      "execution_count": 94,
      "outputs": [
        {
          "output_type": "stream",
          "name": "stdout",
          "text": [
            "Rick Sanchez\n"
          ]
        }
      ]
    },
    {
      "cell_type": "code",
      "source": [
        "episodes = print(data['results'][0]['episode'])"
      ],
      "metadata": {
        "colab": {
          "base_uri": "https://localhost:8080/"
        },
        "id": "urTyfJK_EA5s",
        "outputId": "2f71a8d1-ffdc-450f-b811-b9300c68a84b"
      },
      "execution_count": 95,
      "outputs": [
        {
          "output_type": "stream",
          "name": "stdout",
          "text": [
            "['https://rickandmortyapi.com/api/episode/1', 'https://rickandmortyapi.com/api/episode/2', 'https://rickandmortyapi.com/api/episode/3', 'https://rickandmortyapi.com/api/episode/4', 'https://rickandmortyapi.com/api/episode/5', 'https://rickandmortyapi.com/api/episode/6', 'https://rickandmortyapi.com/api/episode/7', 'https://rickandmortyapi.com/api/episode/8', 'https://rickandmortyapi.com/api/episode/9', 'https://rickandmortyapi.com/api/episode/10', 'https://rickandmortyapi.com/api/episode/11', 'https://rickandmortyapi.com/api/episode/12', 'https://rickandmortyapi.com/api/episode/13', 'https://rickandmortyapi.com/api/episode/14', 'https://rickandmortyapi.com/api/episode/15', 'https://rickandmortyapi.com/api/episode/16', 'https://rickandmortyapi.com/api/episode/17', 'https://rickandmortyapi.com/api/episode/18', 'https://rickandmortyapi.com/api/episode/19', 'https://rickandmortyapi.com/api/episode/20', 'https://rickandmortyapi.com/api/episode/21', 'https://rickandmortyapi.com/api/episode/22', 'https://rickandmortyapi.com/api/episode/23', 'https://rickandmortyapi.com/api/episode/24', 'https://rickandmortyapi.com/api/episode/25', 'https://rickandmortyapi.com/api/episode/26', 'https://rickandmortyapi.com/api/episode/27', 'https://rickandmortyapi.com/api/episode/28', 'https://rickandmortyapi.com/api/episode/29', 'https://rickandmortyapi.com/api/episode/30', 'https://rickandmortyapi.com/api/episode/31', 'https://rickandmortyapi.com/api/episode/32', 'https://rickandmortyapi.com/api/episode/33', 'https://rickandmortyapi.com/api/episode/34', 'https://rickandmortyapi.com/api/episode/35', 'https://rickandmortyapi.com/api/episode/36', 'https://rickandmortyapi.com/api/episode/37', 'https://rickandmortyapi.com/api/episode/38', 'https://rickandmortyapi.com/api/episode/39', 'https://rickandmortyapi.com/api/episode/40', 'https://rickandmortyapi.com/api/episode/41', 'https://rickandmortyapi.com/api/episode/42', 'https://rickandmortyapi.com/api/episode/43', 'https://rickandmortyapi.com/api/episode/44', 'https://rickandmortyapi.com/api/episode/45', 'https://rickandmortyapi.com/api/episode/46', 'https://rickandmortyapi.com/api/episode/47', 'https://rickandmortyapi.com/api/episode/48', 'https://rickandmortyapi.com/api/episode/49', 'https://rickandmortyapi.com/api/episode/50', 'https://rickandmortyapi.com/api/episode/51']\n"
          ]
        }
      ]
    },
    {
      "cell_type": "code",
      "source": [
        "def main_request(baseurl, endpoit):\n",
        "  r = requests.get(baseurl + endpoint)\n",
        "  return r.json()"
      ],
      "metadata": {
        "id": "ULEoz4MfEZCJ"
      },
      "execution_count": 96,
      "outputs": []
    },
    {
      "cell_type": "code",
      "source": [
        "def get_pages(response):\n",
        "  return response['info']['pages']"
      ],
      "metadata": {
        "id": "C5f2V6RcFnCx"
      },
      "execution_count": 97,
      "outputs": []
    },
    {
      "cell_type": "code",
      "source": [
        "def parse_json(response):\n",
        "  for item in response['results']:\n",
        "   print(item['name'], len(item['episode']))\n",
        "  return"
      ],
      "metadata": {
        "id": "UokP3ak4GZIS"
      },
      "execution_count": 98,
      "outputs": []
    },
    {
      "cell_type": "code",
      "source": [
        "data = main_request(baseurl, endpoint)\n",
        "print(get_pages(data))\n"
      ],
      "metadata": {
        "colab": {
          "base_uri": "https://localhost:8080/"
        },
        "id": "a5Ag3FPsFc96",
        "outputId": "64e0147e-e897-4e30-c0dd-a4a1968601d0"
      },
      "execution_count": 99,
      "outputs": [
        {
          "output_type": "stream",
          "name": "stdout",
          "text": [
            "42\n"
          ]
        }
      ]
    },
    {
      "cell_type": "code",
      "source": [
        "parse_json(data)"
      ],
      "metadata": {
        "colab": {
          "base_uri": "https://localhost:8080/"
        },
        "id": "Iz_wn45iPBFc",
        "outputId": "cc3c4700-df03-4fc0-fa43-0d041706e6c5"
      },
      "execution_count": 100,
      "outputs": [
        {
          "output_type": "stream",
          "name": "stdout",
          "text": [
            "Rick Sanchez 51\n",
            "Morty Smith 51\n",
            "Summer Smith 42\n",
            "Beth Smith 42\n",
            "Jerry Smith 39\n",
            "Abadango Cluster Princess 1\n",
            "Abradolf Lincler 2\n",
            "Adjudicator Rick 1\n",
            "Agency Director 1\n",
            "Alan Rails 1\n",
            "Albert Einstein 1\n",
            "Alexander 1\n",
            "Alien Googah 1\n",
            "Alien Morty 1\n",
            "Alien Rick 1\n",
            "Amish Cyborg 1\n",
            "Annie 1\n",
            "Antenna Morty 2\n",
            "Antenna Rick 1\n",
            "Ants in my Eyes Johnson 1\n"
          ]
        }
      ]
    },
    {
      "cell_type": "code",
      "source": [
        "def parse_json(response):\n",
        "  charlist = []\n",
        "  for item in response['results']:\n",
        "    char = {\n",
        "    'name' : item['name'], \n",
        "    'no_ep': len(item['episode'])\n",
        "    }\n",
        "    charlist.append(char)\n",
        "  return charlist"
      ],
      "metadata": {
        "id": "8o25mzZVObS_"
      },
      "execution_count": 101,
      "outputs": []
    },
    {
      "cell_type": "code",
      "source": [
        "parse_json(data)"
      ],
      "metadata": {
        "colab": {
          "base_uri": "https://localhost:8080/"
        },
        "id": "-QOcK-GfHdm3",
        "outputId": "25c78bdb-9f44-4ac5-e7a5-ae76651b3765"
      },
      "execution_count": 102,
      "outputs": [
        {
          "output_type": "execute_result",
          "data": {
            "text/plain": [
              "[{'name': 'Rick Sanchez', 'no_ep': 51},\n",
              " {'name': 'Morty Smith', 'no_ep': 51},\n",
              " {'name': 'Summer Smith', 'no_ep': 42},\n",
              " {'name': 'Beth Smith', 'no_ep': 42},\n",
              " {'name': 'Jerry Smith', 'no_ep': 39},\n",
              " {'name': 'Abadango Cluster Princess', 'no_ep': 1},\n",
              " {'name': 'Abradolf Lincler', 'no_ep': 2},\n",
              " {'name': 'Adjudicator Rick', 'no_ep': 1},\n",
              " {'name': 'Agency Director', 'no_ep': 1},\n",
              " {'name': 'Alan Rails', 'no_ep': 1},\n",
              " {'name': 'Albert Einstein', 'no_ep': 1},\n",
              " {'name': 'Alexander', 'no_ep': 1},\n",
              " {'name': 'Alien Googah', 'no_ep': 1},\n",
              " {'name': 'Alien Morty', 'no_ep': 1},\n",
              " {'name': 'Alien Rick', 'no_ep': 1},\n",
              " {'name': 'Amish Cyborg', 'no_ep': 1},\n",
              " {'name': 'Annie', 'no_ep': 1},\n",
              " {'name': 'Antenna Morty', 'no_ep': 2},\n",
              " {'name': 'Antenna Rick', 'no_ep': 1},\n",
              " {'name': 'Ants in my Eyes Johnson', 'no_ep': 1}]"
            ]
          },
          "metadata": {},
          "execution_count": 102
        }
      ]
    }
  ]
}