{
  "nbformat": 4,
  "nbformat_minor": 0,
  "metadata": {
    "colab": {
      "provenance": [],
      "authorship_tag": "ABX9TyNAr5fsWzwc4X4fUCgriQhp",
      "include_colab_link": true
    },
    "kernelspec": {
      "name": "python3",
      "display_name": "Python 3"
    },
    "language_info": {
      "name": "python"
    }
  },
  "cells": [
    {
      "cell_type": "markdown",
      "metadata": {
        "id": "view-in-github",
        "colab_type": "text"
      },
      "source": [
        "<a href=\"https://colab.research.google.com/github/dilaraesmer/The-Data-Analyst-Course-Complete-Data-Analyst-Bootcamp-2023/blob/main/Working_with_Text_Data.ipynb\" target=\"_parent\"><img src=\"https://colab.research.google.com/assets/colab-badge.svg\" alt=\"Open In Colab\"/></a>"
      ]
    },
    {
      "cell_type": "code",
      "execution_count": 8,
      "metadata": {
        "colab": {
          "base_uri": "https://localhost:8080/"
        },
        "id": "b6h63V7fs-lv",
        "outputId": "3d44774e-e56c-4a5e-bc5e-746816ed79a2"
      },
      "outputs": [
        {
          "output_type": "stream",
          "name": "stdout",
          "text": [
            "This item is from product category \"%s\".\n"
          ]
        }
      ],
      "source": [
        "product_category = 'A'\n",
        "print('This item is from product category \"%s\".')"
      ]
    },
    {
      "cell_type": "code",
      "source": [
        "product_category = 'A'\n",
        "print('This item is from product category \"%s\".' % product_category)"
      ],
      "metadata": {
        "colab": {
          "base_uri": "https://localhost:8080/"
        },
        "id": "5Vtxm7livosX",
        "outputId": "8dc39f7b-f9a2-4bcc-99e1-5236368dbec5"
      },
      "execution_count": 9,
      "outputs": [
        {
          "output_type": "stream",
          "name": "stdout",
          "text": [
            "This item is from product category \"A\".\n"
          ]
        }
      ]
    },
    {
      "cell_type": "code",
      "source": [
        "product_category = ['A','B']\n",
        "print('This item is from product category \"%s\".' % product_category)"
      ],
      "metadata": {
        "colab": {
          "base_uri": "https://localhost:8080/"
        },
        "id": "HjPoEb1bxo4Y",
        "outputId": "838b60a5-2ad3-472b-9ad8-25d09f4dc1b1"
      },
      "execution_count": 10,
      "outputs": [
        {
          "output_type": "stream",
          "name": "stdout",
          "text": [
            "This item is from product category \"['A', 'B']\".\n"
          ]
        }
      ]
    },
    {
      "cell_type": "code",
      "source": [
        "product_category = ['A','B']\n",
        "print('This item is from product category \"%s\".' % product_category[1])"
      ],
      "metadata": {
        "colab": {
          "base_uri": "https://localhost:8080/"
        },
        "id": "kPz5p9eYx16e",
        "outputId": "3e908ada-60cf-44fc-b0c7-b00e3e733c5f"
      },
      "execution_count": 11,
      "outputs": [
        {
          "output_type": "stream",
          "name": "stdout",
          "text": [
            "This item is from product category \"B\".\n"
          ]
        }
      ]
    },
    {
      "cell_type": "code",
      "source": [
        "quantities = [500,600]\n",
        "print('This item is from product category \"%s\".' % quantities[1])"
      ],
      "metadata": {
        "colab": {
          "base_uri": "https://localhost:8080/"
        },
        "id": "L6aGYQ4CyOU7",
        "outputId": "c74b693a-1f19-4267-ff9a-8868704f2527"
      },
      "execution_count": 12,
      "outputs": [
        {
          "output_type": "stream",
          "name": "stdout",
          "text": [
            "This item is from product category \"600\".\n"
          ]
        }
      ]
    },
    {
      "cell_type": "code",
      "source": [
        "print(\"We currently have %d available units of this item.\" % quantities[0])"
      ],
      "metadata": {
        "colab": {
          "base_uri": "https://localhost:8080/"
        },
        "id": "C9Ub-AmNyqFd",
        "outputId": "4af6944f-7f34-42b5-c165-409597302394"
      },
      "execution_count": 13,
      "outputs": [
        {
          "output_type": "stream",
          "name": "stdout",
          "text": [
            "We currently have 500 available units of this item.\n"
          ]
        }
      ]
    },
    {
      "cell_type": "code",
      "source": [
        "stock_share_price_list = [40,50,60,35]\n",
        "print(\"This stock costs $%.2f per share.\" % stock_share_price_list[1] )"
      ],
      "metadata": {
        "colab": {
          "base_uri": "https://localhost:8080/"
        },
        "id": "8MRMKk2az0WI",
        "outputId": "44fb627e-34d0-4cd9-ded0-affc73e235ab"
      },
      "execution_count": 16,
      "outputs": [
        {
          "output_type": "stream",
          "name": "stdout",
          "text": [
            "This stock costs $50.00 per share.\n"
          ]
        }
      ]
    }
  ]
}