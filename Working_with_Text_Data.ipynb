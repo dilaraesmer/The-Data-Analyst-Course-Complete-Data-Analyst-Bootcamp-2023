{
  "nbformat": 4,
  "nbformat_minor": 0,
  "metadata": {
    "colab": {
      "provenance": [],
      "authorship_tag": "ABX9TyOKyqRgET4nEh6t97CF/gud",
      "include_colab_link": true
    },
    "kernelspec": {
      "name": "python3",
      "display_name": "Python 3"
    },
    "language_info": {
      "name": "python"
    }
  },
  "cells": [
    {
      "cell_type": "markdown",
      "metadata": {
        "id": "view-in-github",
        "colab_type": "text"
      },
      "source": [
        "<a href=\"https://colab.research.google.com/github/dilaraesmer/The-Data-Analyst-Course-Complete-Data-Analyst-Bootcamp-2023/blob/main/Working_with_Text_Data.ipynb\" target=\"_parent\"><img src=\"https://colab.research.google.com/assets/colab-badge.svg\" alt=\"Open In Colab\"/></a>"
      ]
    },
    {
      "cell_type": "code",
      "execution_count": 1,
      "metadata": {
        "colab": {
          "base_uri": "https://localhost:8080/"
        },
        "id": "b6h63V7fs-lv",
        "outputId": "bbfc9f9a-f696-4365-ad01-26d734453a3e"
      },
      "outputs": [
        {
          "output_type": "stream",
          "name": "stdout",
          "text": [
            "This item is from product category \"%s\".\n"
          ]
        }
      ],
      "source": [
        "product_category = 'A'\n",
        "print('This item is from product category \"%s\".')"
      ]
    },
    {
      "cell_type": "code",
      "source": [
        "product_category = 'A'\n",
        "print('This item is from product category \"%s\".' % product_category)"
      ],
      "metadata": {
        "colab": {
          "base_uri": "https://localhost:8080/"
        },
        "id": "5Vtxm7livosX",
        "outputId": "8c9279e9-c975-4ece-98d6-2248a90eda0d"
      },
      "execution_count": 2,
      "outputs": [
        {
          "output_type": "stream",
          "name": "stdout",
          "text": [
            "This item is from product category \"A\".\n"
          ]
        }
      ]
    },
    {
      "cell_type": "code",
      "source": [
        "product_category = ['A','B']\n",
        "print('This item is from product category \"%s\".' % product_category)"
      ],
      "metadata": {
        "colab": {
          "base_uri": "https://localhost:8080/"
        },
        "id": "HjPoEb1bxo4Y",
        "outputId": "891514d3-19ab-4362-e00f-35a9d9ff274f"
      },
      "execution_count": 3,
      "outputs": [
        {
          "output_type": "stream",
          "name": "stdout",
          "text": [
            "This item is from product category \"['A', 'B']\".\n"
          ]
        }
      ]
    },
    {
      "cell_type": "code",
      "source": [
        "product_category = ['A','B']\n",
        "print('This item is from product category \"%s\".' % product_category[1])"
      ],
      "metadata": {
        "colab": {
          "base_uri": "https://localhost:8080/"
        },
        "id": "kPz5p9eYx16e",
        "outputId": "cf2ccd74-3fb0-4fca-8ee3-0e4f6c47a15d"
      },
      "execution_count": 4,
      "outputs": [
        {
          "output_type": "stream",
          "name": "stdout",
          "text": [
            "This item is from product category \"B\".\n"
          ]
        }
      ]
    },
    {
      "cell_type": "code",
      "source": [
        "quantities = [500,600]\n",
        "print('This item is from product category \"%s\".' % quantities[1])"
      ],
      "metadata": {
        "colab": {
          "base_uri": "https://localhost:8080/"
        },
        "id": "L6aGYQ4CyOU7",
        "outputId": "d8457258-6c58-4ed0-8019-8a103bb327e6"
      },
      "execution_count": 5,
      "outputs": [
        {
          "output_type": "stream",
          "name": "stdout",
          "text": [
            "This item is from product category \"600\".\n"
          ]
        }
      ]
    },
    {
      "cell_type": "code",
      "source": [
        "print(\"We currently have %d available units of this item.\" % quantities[0])"
      ],
      "metadata": {
        "colab": {
          "base_uri": "https://localhost:8080/"
        },
        "id": "C9Ub-AmNyqFd",
        "outputId": "f9db9e72-175a-498b-d052-f81faeef9895"
      },
      "execution_count": 6,
      "outputs": [
        {
          "output_type": "stream",
          "name": "stdout",
          "text": [
            "We currently have 500 available units of this item.\n"
          ]
        }
      ]
    },
    {
      "cell_type": "code",
      "source": [
        "stock_share_price_list = [40,50,60,35]\n",
        "print(\"This stock costs $%.2f per share.\" % stock_share_price_list[1] )"
      ],
      "metadata": {
        "colab": {
          "base_uri": "https://localhost:8080/"
        },
        "id": "8MRMKk2az0WI",
        "outputId": "6c3524a5-254c-4fed-fd47-94419d7b626b"
      },
      "execution_count": 7,
      "outputs": [
        {
          "output_type": "stream",
          "name": "stdout",
          "text": [
            "This stock costs $50.00 per share.\n"
          ]
        }
      ]
    },
    {
      "cell_type": "markdown",
      "source": [
        "Manipulating Python Strings"
      ],
      "metadata": {
        "id": "buiMgYBP6No3"
      }
    },
    {
      "cell_type": "code",
      "source": [
        "print('This product is from Category \"A\". ')"
      ],
      "metadata": {
        "colab": {
          "base_uri": "https://localhost:8080/"
        },
        "id": "5elNgi_M6NIs",
        "outputId": "1f2423bb-be25-4910-fcdc-9c3af61a5151"
      },
      "execution_count": 8,
      "outputs": [
        {
          "output_type": "stream",
          "name": "stdout",
          "text": [
            "This product is from Category \"A\". \n"
          ]
        }
      ]
    },
    {
      "cell_type": "code",
      "source": [
        "print('This product is from \\n\\nCategory \"A\". ')"
      ],
      "metadata": {
        "colab": {
          "base_uri": "https://localhost:8080/"
        },
        "id": "yLWezX2n72Cp",
        "outputId": "b85056d3-f6b9-493d-95a2-7d5c3b79b81e"
      },
      "execution_count": 12,
      "outputs": [
        {
          "output_type": "stream",
          "name": "stdout",
          "text": [
            "This product is from \n",
            "\n",
            "Category \"A\". \n"
          ]
        }
      ]
    },
    {
      "cell_type": "code",
      "source": [
        "print('This product is from Category \"A\". ' + 'This product is from Category \"B\"')"
      ],
      "metadata": {
        "colab": {
          "base_uri": "https://localhost:8080/"
        },
        "id": "KSHu4R0t6m5y",
        "outputId": "a8065ced-3e36-4295-eb2c-3765659e5dd7"
      },
      "execution_count": 9,
      "outputs": [
        {
          "output_type": "stream",
          "name": "stdout",
          "text": [
            "This product is from Category \"A\". This product is from Category \"B\"\n"
          ]
        }
      ]
    },
    {
      "cell_type": "code",
      "source": [
        "print('This product is from Category \"A\". \\tThis product is from Category \"B\"')"
      ],
      "metadata": {
        "colab": {
          "base_uri": "https://localhost:8080/"
        },
        "id": "bays00H8_g0W",
        "outputId": "4ca53856-2c6f-4318-8328-8defccb6969f"
      },
      "execution_count": 17,
      "outputs": [
        {
          "output_type": "stream",
          "name": "stdout",
          "text": [
            "This product is from Category \"A\". \tThis product is from Category \"B\"\n"
          ]
        }
      ]
    },
    {
      "cell_type": "code",
      "source": [
        "print('This product is from Category \"A\". \\rProduct 01')"
      ],
      "metadata": {
        "colab": {
          "base_uri": "https://localhost:8080/"
        },
        "id": "NVzrpfqe7QUC",
        "outputId": "7bc314cd-531d-4489-ee50-45521b23105d"
      },
      "execution_count": 10,
      "outputs": [
        {
          "output_type": "stream",
          "name": "stdout",
          "text": [
            "This product is from Category \"A\". \rProduct 01\n"
          ]
        }
      ]
    },
    {
      "cell_type": "code",
      "source": [
        "s = 'Price per unit'\n",
        "s"
      ],
      "metadata": {
        "colab": {
          "base_uri": "https://localhost:8080/",
          "height": 35
        },
        "id": "Vrxwg12REAvZ",
        "outputId": "85936f49-5e0e-4c59-a09d-f422d3ecd1d8"
      },
      "execution_count": 18,
      "outputs": [
        {
          "output_type": "execute_result",
          "data": {
            "text/plain": [
              "'Price per unit'"
            ],
            "application/vnd.google.colaboratory.intrinsic+json": {
              "type": "string"
            }
          },
          "metadata": {},
          "execution_count": 18
        }
      ]
    },
    {
      "cell_type": "code",
      "source": [
        "s1 = s.replace('Price', 'Cost')\n",
        "s1"
      ],
      "metadata": {
        "colab": {
          "base_uri": "https://localhost:8080/",
          "height": 35
        },
        "id": "XNl_UDUjENzz",
        "outputId": "708950bc-653f-4706-cf1a-19be3e861e8e"
      },
      "execution_count": 19,
      "outputs": [
        {
          "output_type": "execute_result",
          "data": {
            "text/plain": [
              "'Cost per unit'"
            ],
            "application/vnd.google.colaboratory.intrinsic+json": {
              "type": "string"
            }
          },
          "metadata": {},
          "execution_count": 19
        }
      ]
    },
    {
      "cell_type": "code",
      "source": [],
      "metadata": {
        "id": "2GTofY8WEVil"
      },
      "execution_count": null,
      "outputs": []
    }
  ]
}