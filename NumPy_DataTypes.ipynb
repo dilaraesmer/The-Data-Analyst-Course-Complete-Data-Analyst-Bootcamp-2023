{
  "nbformat": 4,
  "nbformat_minor": 0,
  "metadata": {
    "colab": {
      "provenance": [],
      "authorship_tag": "ABX9TyOizawaMi1CZ8g6j+SD3bZB",
      "include_colab_link": true
    },
    "kernelspec": {
      "name": "python3",
      "display_name": "Python 3"
    },
    "language_info": {
      "name": "python"
    }
  },
  "cells": [
    {
      "cell_type": "markdown",
      "metadata": {
        "id": "view-in-github",
        "colab_type": "text"
      },
      "source": [
        "<a href=\"https://colab.research.google.com/github/dilaraesmer/The-Data-Analyst-Course-Complete-Data-Analyst-Bootcamp-2023/blob/main/NumPy_DataTypes.ipynb\" target=\"_parent\"><img src=\"https://colab.research.google.com/assets/colab-badge.svg\" alt=\"Open In Colab\"/></a>"
      ]
    },
    {
      "cell_type": "markdown",
      "source": [
        "## Data Types"
      ],
      "metadata": {
        "id": "So2XqaxpzKfv"
      }
    },
    {
      "cell_type": "code",
      "execution_count": 1,
      "metadata": {
        "id": "xNXFvgtUx4GP"
      },
      "outputs": [],
      "source": [
        "import numpy as np"
      ]
    },
    {
      "cell_type": "markdown",
      "source": [
        "Ndarrays"
      ],
      "metadata": {
        "id": "vLOzhVEdzndQ"
      }
    },
    {
      "cell_type": "code",
      "source": [
        "array_a = np.array([1,2,3])"
      ],
      "metadata": {
        "id": "jC8Dp3iWzmJW"
      },
      "execution_count": 2,
      "outputs": []
    },
    {
      "cell_type": "code",
      "source": [
        "array_a"
      ],
      "metadata": {
        "colab": {
          "base_uri": "https://localhost:8080/"
        },
        "id": "N8bIdnVzzyn2",
        "outputId": "a8f56a91-b923-47ad-e051-5dc3f6324daf"
      },
      "execution_count": 3,
      "outputs": [
        {
          "output_type": "execute_result",
          "data": {
            "text/plain": [
              "array([1, 2, 3])"
            ]
          },
          "metadata": {},
          "execution_count": 3
        }
      ]
    },
    {
      "cell_type": "code",
      "source": [
        "print(array_a)"
      ],
      "metadata": {
        "colab": {
          "base_uri": "https://localhost:8080/"
        },
        "id": "umOpvpWy1Rhx",
        "outputId": "e22a98c4-d089-46c7-95eb-6d081c2624a7"
      },
      "execution_count": 4,
      "outputs": [
        {
          "output_type": "stream",
          "name": "stdout",
          "text": [
            "[1 2 3]\n"
          ]
        }
      ]
    },
    {
      "cell_type": "code",
      "source": [
        "type(array_a)"
      ],
      "metadata": {
        "colab": {
          "base_uri": "https://localhost:8080/"
        },
        "id": "4dcw9Q-f0Rxy",
        "outputId": "a8564702-5735-4735-92d4-9d0ebaa29a89"
      },
      "execution_count": 5,
      "outputs": [
        {
          "output_type": "execute_result",
          "data": {
            "text/plain": [
              "numpy.ndarray"
            ]
          },
          "metadata": {},
          "execution_count": 5
        }
      ]
    },
    {
      "cell_type": "code",
      "source": [
        "array_a.shape"
      ],
      "metadata": {
        "colab": {
          "base_uri": "https://localhost:8080/"
        },
        "id": "QkQBpKZM1QJN",
        "outputId": "332df562-3293-4151-93f8-bbe5d9b1f001"
      },
      "execution_count": 6,
      "outputs": [
        {
          "output_type": "execute_result",
          "data": {
            "text/plain": [
              "(3,)"
            ]
          },
          "metadata": {},
          "execution_count": 6
        }
      ]
    },
    {
      "cell_type": "code",
      "source": [
        "array_b = np.array([[7,8,9], [10,11,12]])"
      ],
      "metadata": {
        "id": "IzUhgFWK2ARC"
      },
      "execution_count": 7,
      "outputs": []
    },
    {
      "cell_type": "code",
      "source": [
        "type(array_b)"
      ],
      "metadata": {
        "colab": {
          "base_uri": "https://localhost:8080/"
        },
        "id": "JDaiH1YA240X",
        "outputId": "e2e18428-5add-4c28-8d20-d77ec76f41bd"
      },
      "execution_count": 8,
      "outputs": [
        {
          "output_type": "execute_result",
          "data": {
            "text/plain": [
              "numpy.ndarray"
            ]
          },
          "metadata": {},
          "execution_count": 8
        }
      ]
    },
    {
      "cell_type": "code",
      "source": [
        "array_b.shape[1]"
      ],
      "metadata": {
        "colab": {
          "base_uri": "https://localhost:8080/"
        },
        "id": "FlyZFfWz28Jg",
        "outputId": "104c4254-d1a3-401f-9606-cb624c9f76b5"
      },
      "execution_count": 9,
      "outputs": [
        {
          "output_type": "execute_result",
          "data": {
            "text/plain": [
              "3"
            ]
          },
          "metadata": {},
          "execution_count": 9
        }
      ]
    },
    {
      "cell_type": "code",
      "source": [
        "array_c = np.array(13)"
      ],
      "metadata": {
        "id": "wYHTCF5rp1sQ"
      },
      "execution_count": 10,
      "outputs": []
    },
    {
      "cell_type": "code",
      "source": [
        "type(array_c)"
      ],
      "metadata": {
        "colab": {
          "base_uri": "https://localhost:8080/"
        },
        "id": "OJ50ESTwqVA-",
        "outputId": "4b666aa1-3481-4f59-cbce-b8f6de76924e"
      },
      "execution_count": 11,
      "outputs": [
        {
          "output_type": "execute_result",
          "data": {
            "text/plain": [
              "numpy.ndarray"
            ]
          },
          "metadata": {},
          "execution_count": 11
        }
      ]
    },
    {
      "cell_type": "code",
      "source": [
        "print(array_c)"
      ],
      "metadata": {
        "colab": {
          "base_uri": "https://localhost:8080/"
        },
        "id": "YgUVCxdIqXdk",
        "outputId": "6646e1ba-cf9f-4774-95f4-5a60c495d5bd"
      },
      "execution_count": 12,
      "outputs": [
        {
          "output_type": "stream",
          "name": "stdout",
          "text": [
            "13\n"
          ]
        }
      ]
    },
    {
      "cell_type": "code",
      "source": [
        "array_c.shape"
      ],
      "metadata": {
        "colab": {
          "base_uri": "https://localhost:8080/"
        },
        "id": "KcU656lEqp7I",
        "outputId": "d5be93ab-31ac-483a-8ac6-2a633695703f"
      },
      "execution_count": 13,
      "outputs": [
        {
          "output_type": "execute_result",
          "data": {
            "text/plain": [
              "()"
            ]
          },
          "metadata": {},
          "execution_count": 13
        }
      ]
    },
    {
      "cell_type": "code",
      "source": [
        "array_d = np.array([15]) # one-dimensional array\n",
        "array_d"
      ],
      "metadata": {
        "colab": {
          "base_uri": "https://localhost:8080/"
        },
        "id": "Pq0Wl59eqr5g",
        "outputId": "5062fa8e-4f35-49d4-dfd4-61e78b970c03"
      },
      "execution_count": 14,
      "outputs": [
        {
          "output_type": "execute_result",
          "data": {
            "text/plain": [
              "array([15])"
            ]
          },
          "metadata": {},
          "execution_count": 14
        }
      ]
    },
    {
      "cell_type": "code",
      "source": [
        "type(array_d)"
      ],
      "metadata": {
        "colab": {
          "base_uri": "https://localhost:8080/"
        },
        "id": "Kgq1nd0xq7v6",
        "outputId": "a79f736a-9a6c-4e6e-c38a-7e5b52beb6be"
      },
      "execution_count": 15,
      "outputs": [
        {
          "output_type": "execute_result",
          "data": {
            "text/plain": [
              "numpy.ndarray"
            ]
          },
          "metadata": {},
          "execution_count": 15
        }
      ]
    },
    {
      "cell_type": "code",
      "source": [
        "array_d.shape"
      ],
      "metadata": {
        "colab": {
          "base_uri": "https://localhost:8080/"
        },
        "id": "SQvThcYwthhb",
        "outputId": "d849ffeb-276d-4744-99b3-184bcdafaef0"
      },
      "execution_count": 16,
      "outputs": [
        {
          "output_type": "execute_result",
          "data": {
            "text/plain": [
              "(1,)"
            ]
          },
          "metadata": {},
          "execution_count": 16
        }
      ]
    },
    {
      "cell_type": "code",
      "source": [
        "array_e = np.array([[12]]) # two-dimensional array\n",
        "array_e"
      ],
      "metadata": {
        "colab": {
          "base_uri": "https://localhost:8080/"
        },
        "id": "KL4OXvrttqr-",
        "outputId": "65b1ced9-f38b-4bc2-f2ab-421d8868fcee"
      },
      "execution_count": 17,
      "outputs": [
        {
          "output_type": "execute_result",
          "data": {
            "text/plain": [
              "array([[12]])"
            ]
          },
          "metadata": {},
          "execution_count": 17
        }
      ]
    },
    {
      "cell_type": "markdown",
      "source": [
        "Arrays vs. Lists"
      ],
      "metadata": {
        "id": "Ec-kLpbvysgO"
      }
    },
    {
      "cell_type": "code",
      "source": [
        "list_a = [[1,2,3],[4,5,6]]"
      ],
      "metadata": {
        "id": "gLavFWdvtxCp"
      },
      "execution_count": 18,
      "outputs": []
    },
    {
      "cell_type": "code",
      "source": [
        "len(list_a)"
      ],
      "metadata": {
        "id": "wHhcplJo3fGa",
        "outputId": "34fb5a40-5a1d-4545-b48a-be61a4e42a62",
        "colab": {
          "base_uri": "https://localhost:8080/"
        }
      },
      "execution_count": 19,
      "outputs": [
        {
          "output_type": "execute_result",
          "data": {
            "text/plain": [
              "2"
            ]
          },
          "metadata": {},
          "execution_count": 19
        }
      ]
    },
    {
      "cell_type": "code",
      "source": [
        "array_a = np.array(list_a)"
      ],
      "metadata": {
        "id": "44Lje-MX3pfi"
      },
      "execution_count": 20,
      "outputs": []
    },
    {
      "cell_type": "code",
      "source": [
        "type(list_a)"
      ],
      "metadata": {
        "colab": {
          "base_uri": "https://localhost:8080/"
        },
        "id": "LXDiyexB355Z",
        "outputId": "c0b1ccd7-6677-42fc-f91a-8b349c401bb2"
      },
      "execution_count": 21,
      "outputs": [
        {
          "output_type": "execute_result",
          "data": {
            "text/plain": [
              "list"
            ]
          },
          "metadata": {},
          "execution_count": 21
        }
      ]
    },
    {
      "cell_type": "code",
      "source": [
        "type(array_a)"
      ],
      "metadata": {
        "colab": {
          "base_uri": "https://localhost:8080/"
        },
        "id": "Ut11kT6g3zGm",
        "outputId": "e8c51db8-3d55-444e-a3a1-39c762bb9820"
      },
      "execution_count": 23,
      "outputs": [
        {
          "output_type": "execute_result",
          "data": {
            "text/plain": [
              "numpy.ndarray"
            ]
          },
          "metadata": {},
          "execution_count": 23
        }
      ]
    },
    {
      "cell_type": "code",
      "source": [
        "print(list_a)"
      ],
      "metadata": {
        "colab": {
          "base_uri": "https://localhost:8080/"
        },
        "id": "12JcCnPH5mfH",
        "outputId": "5872d549-371e-4879-da09-8d9cdee8a792"
      },
      "execution_count": 22,
      "outputs": [
        {
          "output_type": "stream",
          "name": "stdout",
          "text": [
            "[[1, 2, 3], [4, 5, 6]]\n"
          ]
        }
      ]
    },
    {
      "cell_type": "code",
      "source": [
        "print(array_a)"
      ],
      "metadata": {
        "colab": {
          "base_uri": "https://localhost:8080/"
        },
        "id": "lxNp0kNM5sDw",
        "outputId": "3ce865b2-fffa-41bb-f4d9-cc414fb835ae"
      },
      "execution_count": 24,
      "outputs": [
        {
          "output_type": "stream",
          "name": "stdout",
          "text": [
            "[[1 2 3]\n",
            " [4 5 6]]\n"
          ]
        }
      ]
    },
    {
      "cell_type": "code",
      "source": [
        "array_a.shape"
      ],
      "metadata": {
        "colab": {
          "base_uri": "https://localhost:8080/"
        },
        "id": "524ZuD9_59_o",
        "outputId": "b6cf3f01-0636-4c2b-b5c9-a696cc2e0392"
      },
      "execution_count": 25,
      "outputs": [
        {
          "output_type": "execute_result",
          "data": {
            "text/plain": [
              "(2, 3)"
            ]
          },
          "metadata": {},
          "execution_count": 25
        }
      ]
    },
    {
      "cell_type": "code",
      "source": [
        "len(list_a)"
      ],
      "metadata": {
        "colab": {
          "base_uri": "https://localhost:8080/"
        },
        "id": "RicGU-qu6JPH",
        "outputId": "cc9c693f-3af6-4773-b2ac-1a123fd6bd4c"
      },
      "execution_count": 26,
      "outputs": [
        {
          "output_type": "execute_result",
          "data": {
            "text/plain": [
              "2"
            ]
          },
          "metadata": {},
          "execution_count": 26
        }
      ]
    },
    {
      "cell_type": "code",
      "source": [
        "len(list_a[0])"
      ],
      "metadata": {
        "colab": {
          "base_uri": "https://localhost:8080/"
        },
        "id": "hIrT5pFYCblF",
        "outputId": "b7ac2e65-92ec-451e-a7e3-e40a518c13ef"
      },
      "execution_count": 27,
      "outputs": [
        {
          "output_type": "execute_result",
          "data": {
            "text/plain": [
              "3"
            ]
          },
          "metadata": {},
          "execution_count": 27
        }
      ]
    },
    {
      "cell_type": "code",
      "source": [
        "list_a"
      ],
      "metadata": {
        "colab": {
          "base_uri": "https://localhost:8080/"
        },
        "id": "4Y4JdVUPk5mT",
        "outputId": "60afefe2-9684-4e5f-fe37-e183335e8e0c"
      },
      "execution_count": 28,
      "outputs": [
        {
          "output_type": "execute_result",
          "data": {
            "text/plain": [
              "[[1, 2, 3], [4, 5, 6]]"
            ]
          },
          "metadata": {},
          "execution_count": 28
        }
      ]
    },
    {
      "cell_type": "code",
      "source": [
        "array_a"
      ],
      "metadata": {
        "colab": {
          "base_uri": "https://localhost:8080/"
        },
        "id": "Z2CU7YXslJLY",
        "outputId": "c1355b96-b3bd-4b3f-e990-dc58fa764d85"
      },
      "execution_count": 29,
      "outputs": [
        {
          "output_type": "execute_result",
          "data": {
            "text/plain": [
              "array([[1, 2, 3],\n",
              "       [4, 5, 6]])"
            ]
          },
          "metadata": {},
          "execution_count": 29
        }
      ]
    },
    {
      "cell_type": "code",
      "source": [
        "list_b = list_a[0] + list_a[1]\n",
        "array_b = array_a[0] + array_a[1]"
      ],
      "metadata": {
        "id": "IaUFhMk_lUPS"
      },
      "execution_count": 30,
      "outputs": []
    },
    {
      "cell_type": "code",
      "source": [
        "print(list_b)"
      ],
      "metadata": {
        "colab": {
          "base_uri": "https://localhost:8080/"
        },
        "id": "28nskWhIlwMl",
        "outputId": "a86575ab-e41c-4d71-dc80-8a8e12d380ea"
      },
      "execution_count": 31,
      "outputs": [
        {
          "output_type": "stream",
          "name": "stdout",
          "text": [
            "[1, 2, 3, 4, 5, 6]\n"
          ]
        }
      ]
    },
    {
      "cell_type": "code",
      "source": [
        "print(array_b)"
      ],
      "metadata": {
        "colab": {
          "base_uri": "https://localhost:8080/"
        },
        "id": "zc-WcpYYl2ep",
        "outputId": "b5ca151b-6860-4d62-de04-fe0b55c20716"
      },
      "execution_count": 32,
      "outputs": [
        {
          "output_type": "stream",
          "name": "stdout",
          "text": [
            "[5 7 9]\n"
          ]
        }
      ]
    },
    {
      "cell_type": "code",
      "source": [
        "import math\n",
        "array_e = math.sqrt(array_a[1,0])\n",
        "print(array_e)"
      ],
      "metadata": {
        "colab": {
          "base_uri": "https://localhost:8080/"
        },
        "id": "w8Z89ZlAl75h",
        "outputId": "83d95d9c-cd92-44a4-c07c-a4da43fdac17"
      },
      "execution_count": 33,
      "outputs": [
        {
          "output_type": "stream",
          "name": "stdout",
          "text": [
            "2.0\n"
          ]
        }
      ]
    },
    {
      "cell_type": "code",
      "source": [
        "np.sqrt(array_a)"
      ],
      "metadata": {
        "colab": {
          "base_uri": "https://localhost:8080/"
        },
        "id": "9DATxxMkmhNA",
        "outputId": "6e489cf9-7256-4efb-a3e0-2fea98ad060e"
      },
      "execution_count": 34,
      "outputs": [
        {
          "output_type": "execute_result",
          "data": {
            "text/plain": [
              "array([[1.        , 1.41421356, 1.73205081],\n",
              "       [2.        , 2.23606798, 2.44948974]])"
            ]
          },
          "metadata": {},
          "execution_count": 34
        }
      ]
    },
    {
      "cell_type": "markdown",
      "source": [
        "String vs Object vs Numbers"
      ],
      "metadata": {
        "id": "hzaQWRNRmzEf"
      }
    },
    {
      "cell_type": "code",
      "source": [
        "lending_co_lt = np.genfromtxt(\"lending-co-LT.csv\", \n",
        "                              delimiter =',',\n",
        "                              dtype = np.int32)\n",
        "lending_co_lt"
      ],
      "metadata": {
        "id": "Kk25GlJdm7t0",
        "colab": {
          "base_uri": "https://localhost:8080/"
        },
        "outputId": "db68f588-5612-47cc-8df6-14d774e31bf3"
      },
      "execution_count": 35,
      "outputs": [
        {
          "output_type": "execute_result",
          "data": {
            "text/plain": [
              "array([[   -1,    -1,    -1, ...,    -1,    -1,    -1],\n",
              "       [    1,    -1,    -1, ...,    -1,    -1, 16600],\n",
              "       [    2,    -1,    -1, ...,    -1,    -1, 16600],\n",
              "       ...,\n",
              "       [ 1041,    -1,    -1, ...,    -1,    -1, 16600],\n",
              "       [ 1042,    -1,    -1, ...,    -1,    -1, 15600],\n",
              "       [ 1043,    -1,    -1, ...,    -1,    -1, 16600]], dtype=int32)"
            ]
          },
          "metadata": {},
          "execution_count": 35
        }
      ]
    },
    {
      "cell_type": "code",
      "source": [
        "lending_co_lt = np.genfromtxt(\"lending-co-LT.csv\", \n",
        "                              delimiter =',',\n",
        "                              dtype = np.object)\n",
        "lending_co_lt"
      ],
      "metadata": {
        "colab": {
          "base_uri": "https://localhost:8080/"
        },
        "id": "QY4zVJZ3n8h8",
        "outputId": "02a448dc-5891-4542-92c0-f9197f01b143"
      },
      "execution_count": 36,
      "outputs": [
        {
          "output_type": "stream",
          "name": "stderr",
          "text": [
            "<ipython-input-36-549b33b80288>:3: DeprecationWarning: `np.object` is a deprecated alias for the builtin `object`. To silence this warning, use `object` by itself. Doing this will not modify any behavior and is safe. \n",
            "Deprecated in NumPy 1.20; for more details and guidance: https://numpy.org/devdocs/release/1.20.0-notes.html#deprecations\n",
            "  dtype = np.object)\n"
          ]
        },
        {
          "output_type": "execute_result",
          "data": {
            "text/plain": [
              "array([[b'LoanID', b'StringID', b'Product', ..., b'Location', b'Region',\n",
              "        b'TotalPrice'],\n",
              "       [b'1', b'id_1', b'Product B', ..., b'Location 2', b'Region 2',\n",
              "        b'16600.0'],\n",
              "       [b'2', b'id_2', b'Product B', ..., b'Location 3', b'', b'16600.0'],\n",
              "       ...,\n",
              "       [b'1041', b'id_1041', b'Product B', ..., b'Location 23',\n",
              "        b'Region 4', b'16600.0'],\n",
              "       [b'1042', b'id_1042', b'Product C', ..., b'Location 52',\n",
              "        b'Region 6', b'15600.0'],\n",
              "       [b'1043', b'id_1043', b'Product B', ..., b'Location 142',\n",
              "        b'Region 6', b'16600.0']], dtype=object)"
            ]
          },
          "metadata": {},
          "execution_count": 36
        }
      ]
    },
    {
      "cell_type": "code",
      "source": [
        "lending_co_lt = np.genfromtxt(\"lending-co-LT.csv\", \n",
        "                              delimiter =',',\n",
        "                              dtype = (np.int32, np.str, np.str, np.str, np.str, np.str, np.int32))\n",
        "print(lending_co_lt)"
      ],
      "metadata": {
        "id": "BkIpMd9XprES",
        "colab": {
          "base_uri": "https://localhost:8080/"
        },
        "outputId": "c582074a-d960-4ee4-8695-8748e36826cc"
      },
      "execution_count": 39,
      "outputs": [
        {
          "output_type": "stream",
          "name": "stdout",
          "text": [
            "[(  -1, '', '', '', '', '',    -1) (   1, '', '', '', '', '', 16600)\n",
            " (   2, '', '', '', '', '', 16600) ... (1041, '', '', '', '', '', 16600)\n",
            " (1042, '', '', '', '', '', 15600) (1043, '', '', '', '', '', 16600)]\n"
          ]
        },
        {
          "output_type": "stream",
          "name": "stderr",
          "text": [
            "<ipython-input-39-2228906b7099>:3: DeprecationWarning: `np.str` is a deprecated alias for the builtin `str`. To silence this warning, use `str` by itself. Doing this will not modify any behavior and is safe. If you specifically wanted the numpy scalar type, use `np.str_` here.\n",
            "Deprecated in NumPy 1.20; for more details and guidance: https://numpy.org/devdocs/release/1.20.0-notes.html#deprecations\n",
            "  dtype = (np.int32, np.str, np.str, np.str, np.str, np.str, np.int32))\n"
          ]
        }
      ]
    },
    {
      "cell_type": "code",
      "source": [],
      "metadata": {
        "id": "cTOzlgpoAPK8"
      },
      "execution_count": null,
      "outputs": []
    }
  ]
}