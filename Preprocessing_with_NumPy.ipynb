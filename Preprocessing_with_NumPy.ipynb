{
  "nbformat": 4,
  "nbformat_minor": 0,
  "metadata": {
    "colab": {
      "provenance": [],
      "authorship_tag": "ABX9TyP/1utDUunWEIi3zKnTrsdU",
      "include_colab_link": true
    },
    "kernelspec": {
      "name": "python3",
      "display_name": "Python 3"
    },
    "language_info": {
      "name": "python"
    }
  },
  "cells": [
    {
      "cell_type": "markdown",
      "metadata": {
        "id": "view-in-github",
        "colab_type": "text"
      },
      "source": [
        "<a href=\"https://colab.research.google.com/github/dilaraesmer/The-Data-Analyst-Course-Complete-Data-Analyst-Bootcamp-2023/blob/main/Preprocessing_with_NumPy.ipynb\" target=\"_parent\"><img src=\"https://colab.research.google.com/assets/colab-badge.svg\" alt=\"Open In Colab\"/></a>"
      ]
    },
    {
      "cell_type": "code",
      "execution_count": 82,
      "metadata": {
        "id": "Bhuq1jNr0Nlr"
      },
      "outputs": [],
      "source": [
        "import numpy as np"
      ]
    },
    {
      "cell_type": "markdown",
      "source": [
        "Checking for Missing Values "
      ],
      "metadata": {
        "id": "5gGlxr3F0ttk"
      }
    },
    {
      "cell_type": "code",
      "source": [
        "lending_co_data_numeric = np.loadtxt(\"Lending-company-Numeric.csv\", delimiter=',')"
      ],
      "metadata": {
        "id": "zO0RYBpu0sJO"
      },
      "execution_count": null,
      "outputs": []
    },
    {
      "cell_type": "code",
      "source": [
        "np.isnan(lending_co_data_numeric).sum()"
      ],
      "metadata": {
        "colab": {
          "base_uri": "https://localhost:8080/"
        },
        "id": "ZwW4_cum22_p",
        "outputId": "d95bad0d-15e4-4077-fff7-9e965e6ac4ba"
      },
      "execution_count": null,
      "outputs": [
        {
          "output_type": "execute_result",
          "data": {
            "text/plain": [
              "0"
            ]
          },
          "metadata": {},
          "execution_count": 5
        }
      ]
    },
    {
      "cell_type": "code",
      "source": [
        "lending_co_data_numeric_NAN = np.genfromtxt(\"Lending-company-Numeric-NAN.csv\", delimiter = ';')"
      ],
      "metadata": {
        "id": "-HX7oDYb3RLO"
      },
      "execution_count": null,
      "outputs": []
    },
    {
      "cell_type": "code",
      "source": [
        "np.isnan(lending_co_data_numeric_NAN)"
      ],
      "metadata": {
        "colab": {
          "base_uri": "https://localhost:8080/"
        },
        "id": "M6PPx_ZM35Qu",
        "outputId": "b78261f9-9163-41f3-b91c-f3f4da5d8a20"
      },
      "execution_count": null,
      "outputs": [
        {
          "output_type": "execute_result",
          "data": {
            "text/plain": [
              "array([[False, False, False, False, False, False],\n",
              "       [False, False, False, False, False, False],\n",
              "       [False, False, False, False, False, False],\n",
              "       ...,\n",
              "       [ True, False, False, False, False, False],\n",
              "       [False, False, False, False, False, False],\n",
              "       [False, False, False, False, False, False]])"
            ]
          },
          "metadata": {},
          "execution_count": 7
        }
      ]
    },
    {
      "cell_type": "code",
      "source": [
        "np.isnan(lending_co_data_numeric_NAN).sum()"
      ],
      "metadata": {
        "colab": {
          "base_uri": "https://localhost:8080/"
        },
        "id": "zYw_MJ4n4B44",
        "outputId": "126cf318-442b-48e1-b327-d4387fd63582"
      },
      "execution_count": null,
      "outputs": [
        {
          "output_type": "execute_result",
          "data": {
            "text/plain": [
              "260"
            ]
          },
          "metadata": {},
          "execution_count": 8
        }
      ]
    },
    {
      "cell_type": "code",
      "source": [
        "# lending_co_data_numeric_NAN = np.genfromtxt(\"Lending-company-Numeric-NAN.csv\", \n",
        "#                                            delimiter = ';',\n",
        "#                                            filling_values = 0)"
      ],
      "metadata": {
        "id": "LqJjeaUn4UlU"
      },
      "execution_count": null,
      "outputs": []
    },
    {
      "cell_type": "code",
      "source": [
        "np.isnan(lending_co_data_numeric_NAN).sum()"
      ],
      "metadata": {
        "colab": {
          "base_uri": "https://localhost:8080/"
        },
        "id": "bS7k_SJ94h4C",
        "outputId": "eead6b40-0277-440f-da73-09937ea2a863"
      },
      "execution_count": null,
      "outputs": [
        {
          "output_type": "execute_result",
          "data": {
            "text/plain": [
              "260"
            ]
          },
          "metadata": {},
          "execution_count": 10
        }
      ]
    },
    {
      "cell_type": "code",
      "source": [
        "temporary_fill = np.nanmax(lending_co_data_numeric_NAN).round(2) + 1"
      ],
      "metadata": {
        "id": "4a8MS9Te4plX"
      },
      "execution_count": null,
      "outputs": []
    },
    {
      "cell_type": "code",
      "source": [
        "temporary_fill"
      ],
      "metadata": {
        "colab": {
          "base_uri": "https://localhost:8080/"
        },
        "id": "-yLNsbkc5XSo",
        "outputId": "50a953e4-b38b-41eb-bcc8-1859e685194c"
      },
      "execution_count": null,
      "outputs": [
        {
          "output_type": "execute_result",
          "data": {
            "text/plain": [
              "64002.0"
            ]
          },
          "metadata": {},
          "execution_count": 12
        }
      ]
    },
    {
      "cell_type": "code",
      "source": [
        "lending_co_data_numeric_NAN = np.genfromtxt(\"Lending-company-Numeric-NAN.csv\", \n",
        "                                            delimiter = ';',\n",
        "                                            filling_values = temporary_fill)"
      ],
      "metadata": {
        "id": "3UFzI4-w5eyu"
      },
      "execution_count": null,
      "outputs": []
    },
    {
      "cell_type": "code",
      "source": [
        "np.isnan(lending_co_data_numeric_NAN)"
      ],
      "metadata": {
        "colab": {
          "base_uri": "https://localhost:8080/"
        },
        "id": "GMHRzboF5nIk",
        "outputId": "013708c6-42d5-49b8-9d49-e9a56341857b"
      },
      "execution_count": null,
      "outputs": [
        {
          "output_type": "execute_result",
          "data": {
            "text/plain": [
              "array([[False, False, False, False, False, False],\n",
              "       [False, False, False, False, False, False],\n",
              "       [False, False, False, False, False, False],\n",
              "       ...,\n",
              "       [False, False, False, False, False, False],\n",
              "       [False, False, False, False, False, False],\n",
              "       [False, False, False, False, False, False]])"
            ]
          },
          "metadata": {},
          "execution_count": 14
        }
      ]
    },
    {
      "cell_type": "code",
      "source": [
        "np.isnan(lending_co_data_numeric_NAN).sum()"
      ],
      "metadata": {
        "colab": {
          "base_uri": "https://localhost:8080/"
        },
        "id": "2tz6w8Fs55F8",
        "outputId": "7cbb195d-eda9-4a6f-bd1c-cef8195fbfd0"
      },
      "execution_count": null,
      "outputs": [
        {
          "output_type": "execute_result",
          "data": {
            "text/plain": [
              "0"
            ]
          },
          "metadata": {},
          "execution_count": 15
        }
      ]
    },
    {
      "cell_type": "markdown",
      "source": [
        "Substituting Missing Values"
      ],
      "metadata": {
        "id": "NGr5SGH-6GQi"
      }
    },
    {
      "cell_type": "code",
      "source": [
        "lending_co_data_numeric_NAN = np.genfromtxt(\"Lending-company-Numeric-NAN.csv\", delimiter = ';')\n",
        "lending_co_data_numeric_NAN"
      ],
      "metadata": {
        "id": "g2rP43RjarE0",
        "colab": {
          "base_uri": "https://localhost:8080/"
        },
        "outputId": "fe1c735f-bbf3-432b-c2de-d3cd7ba75aab"
      },
      "execution_count": null,
      "outputs": [
        {
          "output_type": "execute_result",
          "data": {
            "text/plain": [
              "array([[ 2000.,    40.,   365.,  3121.,  4241., 13621.],\n",
              "       [ 2000.,    40.,   365.,  3061.,  4171., 15041.],\n",
              "       [ 1000.,    40.,   365.,  2160.,  3280., 15340.],\n",
              "       ...,\n",
              "       [   nan,    40.,   365.,  4201.,  5001., 16600.],\n",
              "       [ 1000.,    40.,   365.,  2080.,  3320., 15600.],\n",
              "       [ 2000.,    40.,   365.,  4601.,  4601., 16600.]])"
            ]
          },
          "metadata": {},
          "execution_count": 16
        }
      ]
    },
    {
      "cell_type": "code",
      "source": [
        "temporary_mean = np.nanmean(lending_co_data_numeric_NAN, axis = 0).round(2)"
      ],
      "metadata": {
        "id": "ZwrSkVNxbNEJ"
      },
      "execution_count": null,
      "outputs": []
    },
    {
      "cell_type": "code",
      "source": [
        "temporary_mean[0]"
      ],
      "metadata": {
        "colab": {
          "base_uri": "https://localhost:8080/"
        },
        "id": "SuwA_NRmcJu9",
        "outputId": "78450ff0-437d-43a7-cf93-4033eae190bb"
      },
      "execution_count": null,
      "outputs": [
        {
          "output_type": "execute_result",
          "data": {
            "text/plain": [
              "2250.25"
            ]
          },
          "metadata": {},
          "execution_count": 18
        }
      ]
    },
    {
      "cell_type": "code",
      "source": [
        "temporary_fill = np.nanmax(lending_co_data_numeric_NAN).round(2) + 1\n",
        "\n",
        "lending_co_data_numeric_NAN = np.genfromtxt('Lending-company-Numeric-NAN.csv',\n",
        "                                            delimiter = ';',\n",
        "                                            filling_values = temporary_fill)\n",
        "lending_co_data_numeric_NAN"
      ],
      "metadata": {
        "colab": {
          "base_uri": "https://localhost:8080/"
        },
        "id": "b9w3BmJBcRfr",
        "outputId": "1114ad4b-ea99-4939-b8f2-ac47b2ce696f"
      },
      "execution_count": null,
      "outputs": [
        {
          "output_type": "execute_result",
          "data": {
            "text/plain": [
              "array([[2.0000e+03, 4.0000e+01, 3.6500e+02, 3.1210e+03, 4.2410e+03,\n",
              "        1.3621e+04],\n",
              "       [2.0000e+03, 4.0000e+01, 3.6500e+02, 3.0610e+03, 4.1710e+03,\n",
              "        1.5041e+04],\n",
              "       [1.0000e+03, 4.0000e+01, 3.6500e+02, 2.1600e+03, 3.2800e+03,\n",
              "        1.5340e+04],\n",
              "       ...,\n",
              "       [6.4002e+04, 4.0000e+01, 3.6500e+02, 4.2010e+03, 5.0010e+03,\n",
              "        1.6600e+04],\n",
              "       [1.0000e+03, 4.0000e+01, 3.6500e+02, 2.0800e+03, 3.3200e+03,\n",
              "        1.5600e+04],\n",
              "       [2.0000e+03, 4.0000e+01, 3.6500e+02, 4.6010e+03, 4.6010e+03,\n",
              "        1.6600e+04]])"
            ]
          },
          "metadata": {},
          "execution_count": 19
        }
      ]
    },
    {
      "cell_type": "code",
      "source": [
        "temporary_fill"
      ],
      "metadata": {
        "colab": {
          "base_uri": "https://localhost:8080/"
        },
        "id": "OIcZpbstdXxA",
        "outputId": "1adb8030-ecee-4dd1-d665-aacf956c4b5d"
      },
      "execution_count": null,
      "outputs": [
        {
          "output_type": "execute_result",
          "data": {
            "text/plain": [
              "64002.0"
            ]
          },
          "metadata": {},
          "execution_count": 20
        }
      ]
    },
    {
      "cell_type": "code",
      "source": [
        "np.mean(lending_co_data_numeric_NAN[:,0]).round(2)"
      ],
      "metadata": {
        "colab": {
          "base_uri": "https://localhost:8080/"
        },
        "id": "4MlitLSPdhpV",
        "outputId": "949257a4-b6c7-4b8f-9b46-51e0ae8df51e"
      },
      "execution_count": null,
      "outputs": [
        {
          "output_type": "execute_result",
          "data": {
            "text/plain": [
              "4263.25"
            ]
          },
          "metadata": {},
          "execution_count": 21
        }
      ]
    },
    {
      "cell_type": "code",
      "source": [
        "temporary_mean[0]"
      ],
      "metadata": {
        "colab": {
          "base_uri": "https://localhost:8080/"
        },
        "id": "lZcHGvA9d5PU",
        "outputId": "ce60001a-e30e-4c39-8004-f29f82a9c6f5"
      },
      "execution_count": null,
      "outputs": [
        {
          "output_type": "execute_result",
          "data": {
            "text/plain": [
              "2250.25"
            ]
          },
          "metadata": {},
          "execution_count": 22
        }
      ]
    },
    {
      "cell_type": "code",
      "source": [
        "lending_co_data_numeric_NAN[:,0] = np.where(lending_co_data_numeric_NAN[:,0] == temporary_fill,\n",
        "                                            temporary_mean[0],\n",
        "                                            lending_co_data_numeric_NAN[:,0])"
      ],
      "metadata": {
        "id": "bAbVwDIOf_9_"
      },
      "execution_count": null,
      "outputs": []
    },
    {
      "cell_type": "code",
      "source": [
        "np.mean(lending_co_data_numeric_NAN[:,0]).round(2)"
      ],
      "metadata": {
        "colab": {
          "base_uri": "https://localhost:8080/"
        },
        "id": "_70GXb8Hhc26",
        "outputId": "78347435-b338-457e-f1f7-67da743e3dcd"
      },
      "execution_count": null,
      "outputs": [
        {
          "output_type": "execute_result",
          "data": {
            "text/plain": [
              "2250.25"
            ]
          },
          "metadata": {},
          "execution_count": 24
        }
      ]
    },
    {
      "cell_type": "code",
      "source": [
        "for i in range(lending_co_data_numeric_NAN.shape[1]):\n",
        "  lending_co_data_numeric_NAN[:,1] = np.where(lending_co_data_numeric_NAN[:,1] < 0,\n",
        "                                              0,\n",
        "                                              lending_co_data_numeric_NAN[:,1])"
      ],
      "metadata": {
        "id": "VIZj7YkzinJa"
      },
      "execution_count": null,
      "outputs": []
    },
    {
      "cell_type": "markdown",
      "source": [
        "Reshaping"
      ],
      "metadata": {
        "id": "x5IPYgGOoJ1u"
      }
    },
    {
      "cell_type": "code",
      "source": [
        "lending_co_data_numeric = np.loadtxt(\"Lending-company-Numeric.csv\", delimiter = ',')"
      ],
      "metadata": {
        "id": "4x_SvAQitXae"
      },
      "execution_count": null,
      "outputs": []
    },
    {
      "cell_type": "code",
      "source": [
        "lending_co_data_numeric"
      ],
      "metadata": {
        "colab": {
          "base_uri": "https://localhost:8080/"
        },
        "id": "msFRFmsPtp7G",
        "outputId": "2ae14c9e-e2c1-424b-917b-d2f2c6056201"
      },
      "execution_count": null,
      "outputs": [
        {
          "output_type": "execute_result",
          "data": {
            "text/plain": [
              "array([[ 2000.,    40.,   365.,  3121.,  4241., 13621.],\n",
              "       [ 2000.,    40.,   365.,  3061.,  4171., 15041.],\n",
              "       [ 1000.,    40.,   365.,  2160.,  3280., 15340.],\n",
              "       ...,\n",
              "       [ 2000.,    40.,   365.,  4201.,  5001., 16600.],\n",
              "       [ 1000.,    40.,   365.,  2080.,  3320., 15600.],\n",
              "       [ 2000.,    40.,   365.,  4601.,  4601., 16600.]])"
            ]
          },
          "metadata": {},
          "execution_count": 27
        }
      ]
    },
    {
      "cell_type": "code",
      "source": [
        "lending_co_data_numeric.shape"
      ],
      "metadata": {
        "colab": {
          "base_uri": "https://localhost:8080/"
        },
        "id": "dK0o9Dj-uBrC",
        "outputId": "41969ee0-1a85-407f-9c34-a520fb1db75e"
      },
      "execution_count": null,
      "outputs": [
        {
          "output_type": "execute_result",
          "data": {
            "text/plain": [
              "(1043, 6)"
            ]
          },
          "metadata": {},
          "execution_count": 28
        }
      ]
    },
    {
      "cell_type": "code",
      "source": [
        "np.reshape(lending_co_data_numeric, (6,1043))"
      ],
      "metadata": {
        "colab": {
          "base_uri": "https://localhost:8080/"
        },
        "id": "lYN4KlXRutyl",
        "outputId": "4f4828e7-d783-4a25-d64c-900301d3e442"
      },
      "execution_count": null,
      "outputs": [
        {
          "output_type": "execute_result",
          "data": {
            "text/plain": [
              "array([[ 2000.,    40.,   365., ...,   365.,  1581.,  3041.],\n",
              "       [12277.,  2000.,    40., ...,    50.,   365.,  5350.],\n",
              "       [ 6850., 15150.,  1000., ...,  2000.,    40.,   365.],\n",
              "       [ 3101.,  4351., 16600., ..., 16600.,  2000.,    40.],\n",
              "       [  365.,  3441.,  4661., ...,  8450., 22250.,  2000.],\n",
              "       [   40.,   365.,  3701., ...,  4601.,  4601., 16600.]])"
            ]
          },
          "metadata": {},
          "execution_count": 29
        }
      ]
    },
    {
      "cell_type": "code",
      "source": [
        "np.transpose(lending_co_data_numeric)"
      ],
      "metadata": {
        "colab": {
          "base_uri": "https://localhost:8080/"
        },
        "id": "SrHu_kG5wDLh",
        "outputId": "e7e1c654-f386-4c01-f6ab-c0c261b6c4bd"
      },
      "execution_count": null,
      "outputs": [
        {
          "output_type": "execute_result",
          "data": {
            "text/plain": [
              "array([[ 2000.,  2000.,  1000., ...,  2000.,  1000.,  2000.],\n",
              "       [   40.,    40.,    40., ...,    40.,    40.,    40.],\n",
              "       [  365.,   365.,   365., ...,   365.,   365.,   365.],\n",
              "       [ 3121.,  3061.,  2160., ...,  4201.,  2080.,  4601.],\n",
              "       [ 4241.,  4171.,  3280., ...,  5001.,  3320.,  4601.],\n",
              "       [13621., 15041., 15340., ..., 16600., 15600., 16600.]])"
            ]
          },
          "metadata": {},
          "execution_count": 30
        }
      ]
    },
    {
      "cell_type": "code",
      "source": [
        "np.reshape(lending_co_data_numeric, (2,3,1043))"
      ],
      "metadata": {
        "colab": {
          "base_uri": "https://localhost:8080/"
        },
        "id": "iIiKS2xBwenY",
        "outputId": "2d91ca85-91f6-4f3f-b27d-00f40c488d9d"
      },
      "execution_count": null,
      "outputs": [
        {
          "output_type": "execute_result",
          "data": {
            "text/plain": [
              "array([[[ 2000.,    40.,   365., ...,   365.,  1581.,  3041.],\n",
              "        [12277.,  2000.,    40., ...,    50.,   365.,  5350.],\n",
              "        [ 6850., 15150.,  1000., ...,  2000.,    40.,   365.]],\n",
              "\n",
              "       [[ 3101.,  4351., 16600., ..., 16600.,  2000.,    40.],\n",
              "        [  365.,  3441.,  4661., ...,  8450., 22250.,  2000.],\n",
              "        [   40.,   365.,  3701., ...,  4601.,  4601., 16600.]]])"
            ]
          },
          "metadata": {},
          "execution_count": 31
        }
      ]
    },
    {
      "cell_type": "markdown",
      "source": [
        "Removing Values"
      ],
      "metadata": {
        "id": "VhB19TRGM-VP"
      }
    },
    {
      "cell_type": "code",
      "source": [
        "lending_co_data_numeric"
      ],
      "metadata": {
        "colab": {
          "base_uri": "https://localhost:8080/"
        },
        "id": "bgvhCGeJM84g",
        "outputId": "ca0f59bb-3706-4705-f525-2bfee0b4e10b"
      },
      "execution_count": null,
      "outputs": [
        {
          "output_type": "execute_result",
          "data": {
            "text/plain": [
              "array([[ 2000.,    40.,   365.,  3121.,  4241., 13621.],\n",
              "       [ 2000.,    40.,   365.,  3061.,  4171., 15041.],\n",
              "       [ 1000.,    40.,   365.,  2160.,  3280., 15340.],\n",
              "       ...,\n",
              "       [ 2000.,    40.,   365.,  4201.,  5001., 16600.],\n",
              "       [ 1000.,    40.,   365.,  2080.,  3320., 15600.],\n",
              "       [ 2000.,    40.,   365.,  4601.,  4601., 16600.]])"
            ]
          },
          "metadata": {},
          "execution_count": 32
        }
      ]
    },
    {
      "cell_type": "code",
      "source": [
        "np.delete(lending_co_data_numeric, 0).shape"
      ],
      "metadata": {
        "colab": {
          "base_uri": "https://localhost:8080/"
        },
        "id": "YNyeoO3VNRc3",
        "outputId": "c6a1fc01-8e6f-4ee5-8420-404a700d663e"
      },
      "execution_count": null,
      "outputs": [
        {
          "output_type": "execute_result",
          "data": {
            "text/plain": [
              "(6257,)"
            ]
          },
          "metadata": {},
          "execution_count": 33
        }
      ]
    },
    {
      "cell_type": "code",
      "source": [
        "lending_co_data_numeric.size"
      ],
      "metadata": {
        "colab": {
          "base_uri": "https://localhost:8080/"
        },
        "id": "QjhLGDAzN-ec",
        "outputId": "4c47a08b-10d1-4a7c-c284-919befb17dbb"
      },
      "execution_count": null,
      "outputs": [
        {
          "output_type": "execute_result",
          "data": {
            "text/plain": [
              "6258"
            ]
          },
          "metadata": {},
          "execution_count": 34
        }
      ]
    },
    {
      "cell_type": "code",
      "source": [
        "lending_co_data_numeric"
      ],
      "metadata": {
        "colab": {
          "base_uri": "https://localhost:8080/"
        },
        "id": "gQp6bx4nOSAh",
        "outputId": "cc232183-7cf0-460c-d7bc-57d91a13e231"
      },
      "execution_count": null,
      "outputs": [
        {
          "output_type": "execute_result",
          "data": {
            "text/plain": [
              "array([[ 2000.,    40.,   365.,  3121.,  4241., 13621.],\n",
              "       [ 2000.,    40.,   365.,  3061.,  4171., 15041.],\n",
              "       [ 1000.,    40.,   365.,  2160.,  3280., 15340.],\n",
              "       ...,\n",
              "       [ 2000.,    40.,   365.,  4201.,  5001., 16600.],\n",
              "       [ 1000.,    40.,   365.,  2080.,  3320., 15600.],\n",
              "       [ 2000.,    40.,   365.,  4601.,  4601., 16600.]])"
            ]
          },
          "metadata": {},
          "execution_count": 35
        }
      ]
    },
    {
      "cell_type": "code",
      "source": [
        "np.delete(lending_co_data_numeric, 0, axis = 1)"
      ],
      "metadata": {
        "colab": {
          "base_uri": "https://localhost:8080/"
        },
        "id": "oGbXvhjQOUZ2",
        "outputId": "7bb83a75-0469-4a8d-c9a5-dca0e00e65ac"
      },
      "execution_count": null,
      "outputs": [
        {
          "output_type": "execute_result",
          "data": {
            "text/plain": [
              "array([[   40.,   365.,  3121.,  4241., 13621.],\n",
              "       [   40.,   365.,  3061.,  4171., 15041.],\n",
              "       [   40.,   365.,  2160.,  3280., 15340.],\n",
              "       ...,\n",
              "       [   40.,   365.,  4201.,  5001., 16600.],\n",
              "       [   40.,   365.,  2080.,  3320., 15600.],\n",
              "       [   40.,   365.,  4601.,  4601., 16600.]])"
            ]
          },
          "metadata": {},
          "execution_count": 36
        }
      ]
    },
    {
      "cell_type": "code",
      "source": [
        "np.delete(lending_co_data_numeric, 1, axis = 1)"
      ],
      "metadata": {
        "colab": {
          "base_uri": "https://localhost:8080/"
        },
        "id": "hwMwSIWHO2ah",
        "outputId": "a7ede6b1-8994-48bc-df33-daad4ee83109"
      },
      "execution_count": null,
      "outputs": [
        {
          "output_type": "execute_result",
          "data": {
            "text/plain": [
              "array([[ 2000.,   365.,  3121.,  4241., 13621.],\n",
              "       [ 2000.,   365.,  3061.,  4171., 15041.],\n",
              "       [ 1000.,   365.,  2160.,  3280., 15340.],\n",
              "       ...,\n",
              "       [ 2000.,   365.,  4201.,  5001., 16600.],\n",
              "       [ 1000.,   365.,  2080.,  3320., 15600.],\n",
              "       [ 2000.,   365.,  4601.,  4601., 16600.]])"
            ]
          },
          "metadata": {},
          "execution_count": 37
        }
      ]
    },
    {
      "cell_type": "code",
      "source": [
        "np.delete(lending_co_data_numeric, [0,2,4], axis = 1)"
      ],
      "metadata": {
        "colab": {
          "base_uri": "https://localhost:8080/"
        },
        "id": "mVZz703vPWEY",
        "outputId": "29cf8ac5-bbe7-48eb-ecaf-492d29829a04"
      },
      "execution_count": null,
      "outputs": [
        {
          "output_type": "execute_result",
          "data": {
            "text/plain": [
              "array([[   40.,  3121., 13621.],\n",
              "       [   40.,  3061., 15041.],\n",
              "       [   40.,  2160., 15340.],\n",
              "       ...,\n",
              "       [   40.,  4201., 16600.],\n",
              "       [   40.,  2080., 15600.],\n",
              "       [   40.,  4601., 16600.]])"
            ]
          },
          "metadata": {},
          "execution_count": 38
        }
      ]
    },
    {
      "cell_type": "code",
      "source": [
        "np.delete(np.delete(lending_co_data_numeric, [0,2,4], axis = 1), [0,2,-1], axis = 0)"
      ],
      "metadata": {
        "colab": {
          "base_uri": "https://localhost:8080/"
        },
        "id": "oJzziWVlPdUJ",
        "outputId": "60d33700-eaab-4d57-b6da-771067389921"
      },
      "execution_count": null,
      "outputs": [
        {
          "output_type": "execute_result",
          "data": {
            "text/plain": [
              "array([[   40.,  3061., 15041.],\n",
              "       [   40.,  3041., 15321.],\n",
              "       [   50.,  3470., 13720.],\n",
              "       ...,\n",
              "       [   40.,  4240., 16600.],\n",
              "       [   40.,  4201., 16600.],\n",
              "       [   40.,  2080., 15600.]])"
            ]
          },
          "metadata": {},
          "execution_count": 39
        }
      ]
    },
    {
      "cell_type": "markdown",
      "source": [
        "Sorting Data"
      ],
      "metadata": {
        "id": "TgwXbQnlQrfR"
      }
    },
    {
      "cell_type": "code",
      "source": [
        "np.sort(lending_co_data_numeric)"
      ],
      "metadata": {
        "colab": {
          "base_uri": "https://localhost:8080/"
        },
        "id": "pvqr4DtPQdKs",
        "outputId": "41dfc8ae-398f-4c2b-a56f-771cad85c572"
      },
      "execution_count": null,
      "outputs": [
        {
          "output_type": "execute_result",
          "data": {
            "text/plain": [
              "array([[   40.,   365.,  2000.,  3121.,  4241., 13621.],\n",
              "       [   40.,   365.,  2000.,  3061.,  4171., 15041.],\n",
              "       [   40.,   365.,  1000.,  2160.,  3280., 15340.],\n",
              "       ...,\n",
              "       [   40.,   365.,  2000.,  4201.,  5001., 16600.],\n",
              "       [   40.,   365.,  1000.,  2080.,  3320., 15600.],\n",
              "       [   40.,   365.,  2000.,  4601.,  4601., 16600.]])"
            ]
          },
          "metadata": {},
          "execution_count": 40
        }
      ]
    },
    {
      "cell_type": "code",
      "source": [
        "np.sort(lending_co_data_numeric).shape"
      ],
      "metadata": {
        "colab": {
          "base_uri": "https://localhost:8080/"
        },
        "id": "qGFqehlXRHNX",
        "outputId": "b3425c7f-5db2-46f3-e809-42d5b6bb5cac"
      },
      "execution_count": null,
      "outputs": [
        {
          "output_type": "execute_result",
          "data": {
            "text/plain": [
              "(1043, 6)"
            ]
          },
          "metadata": {},
          "execution_count": 41
        }
      ]
    },
    {
      "cell_type": "code",
      "source": [
        "np.sort(lending_co_data_numeric, axis = 0)"
      ],
      "metadata": {
        "colab": {
          "base_uri": "https://localhost:8080/"
        },
        "id": "0kKq6VQKRLOB",
        "outputId": "ebdfeebf-ecfa-4de1-cd12-72124fbec203"
      },
      "execution_count": null,
      "outputs": [
        {
          "output_type": "execute_result",
          "data": {
            "text/plain": [
              "array([[ 1.0000e+03,  3.5000e+01,  3.6500e+02, -2.8700e+03, -2.8700e+03,\n",
              "        -3.5000e+02],\n",
              "       [ 1.0000e+03,  3.5000e+01,  3.6500e+02, -2.5500e+03, -2.1000e+03,\n",
              "         1.5000e+02],\n",
              "       [ 1.0000e+03,  3.5000e+01,  3.6500e+02, -2.4500e+03, -2.0000e+03,\n",
              "         1.1000e+03],\n",
              "       ...,\n",
              "       [ 9.0000e+03,  1.2500e+02,  3.6500e+02,  1.6751e+04,  1.8751e+04,\n",
              "         5.4625e+04],\n",
              "       [ 9.0000e+03,  1.6500e+02,  3.6500e+02,  1.7650e+04,  2.0001e+04,\n",
              "         5.4625e+04],\n",
              "       [ 9.0000e+03,  1.6500e+02,  3.6500e+02,  1.9001e+04,  2.2001e+04,\n",
              "         6.4001e+04]])"
            ]
          },
          "metadata": {},
          "execution_count": 42
        }
      ]
    },
    {
      "cell_type": "code",
      "source": [
        "np.set_printoptions(suppress = True)"
      ],
      "metadata": {
        "id": "Atd1ozjMia1o"
      },
      "execution_count": null,
      "outputs": []
    },
    {
      "cell_type": "code",
      "source": [
        "np.sort(lending_co_data_numeric, axis = None)"
      ],
      "metadata": {
        "colab": {
          "base_uri": "https://localhost:8080/"
        },
        "id": "qVU1NacvjN10",
        "outputId": "1ca5a707-d781-42ed-9fdb-059b373e3dae"
      },
      "execution_count": null,
      "outputs": [
        {
          "output_type": "execute_result",
          "data": {
            "text/plain": [
              "array([-2870., -2870., -2550., ..., 54625., 54625., 64001.])"
            ]
          },
          "metadata": {},
          "execution_count": 44
        }
      ]
    },
    {
      "cell_type": "code",
      "source": [
        "np.sort(lending_co_data_numeric)"
      ],
      "metadata": {
        "colab": {
          "base_uri": "https://localhost:8080/"
        },
        "id": "8WbG0B0gjUU7",
        "outputId": "384a24a3-6e11-4856-a115-e0fea7c470bb"
      },
      "execution_count": null,
      "outputs": [
        {
          "output_type": "execute_result",
          "data": {
            "text/plain": [
              "array([[   40.,   365.,  2000.,  3121.,  4241., 13621.],\n",
              "       [   40.,   365.,  2000.,  3061.,  4171., 15041.],\n",
              "       [   40.,   365.,  1000.,  2160.,  3280., 15340.],\n",
              "       ...,\n",
              "       [   40.,   365.,  2000.,  4201.,  5001., 16600.],\n",
              "       [   40.,   365.,  1000.,  2080.,  3320., 15600.],\n",
              "       [   40.,   365.,  2000.,  4601.,  4601., 16600.]])"
            ]
          },
          "metadata": {},
          "execution_count": 45
        }
      ]
    },
    {
      "cell_type": "code",
      "source": [
        "np.sort(-lending_co_data_numeric)"
      ],
      "metadata": {
        "colab": {
          "base_uri": "https://localhost:8080/"
        },
        "id": "22ZV3kWPjd93",
        "outputId": "3871a874-e980-427f-8bbe-79200df3b476"
      },
      "execution_count": null,
      "outputs": [
        {
          "output_type": "execute_result",
          "data": {
            "text/plain": [
              "array([[-13621.,  -4241.,  -3121.,  -2000.,   -365.,    -40.],\n",
              "       [-15041.,  -4171.,  -3061.,  -2000.,   -365.,    -40.],\n",
              "       [-15340.,  -3280.,  -2160.,  -1000.,   -365.,    -40.],\n",
              "       ...,\n",
              "       [-16600.,  -5001.,  -4201.,  -2000.,   -365.,    -40.],\n",
              "       [-15600.,  -3320.,  -2080.,  -1000.,   -365.,    -40.],\n",
              "       [-16600.,  -4601.,  -4601.,  -2000.,   -365.,    -40.]])"
            ]
          },
          "metadata": {},
          "execution_count": 46
        }
      ]
    },
    {
      "cell_type": "code",
      "source": [
        "-np.sort(-lending_co_data_numeric)"
      ],
      "metadata": {
        "colab": {
          "base_uri": "https://localhost:8080/"
        },
        "id": "cAVDQmvrjoqA",
        "outputId": "ca8ef2e7-9991-4db1-cb93-a22b9bd8a9af"
      },
      "execution_count": null,
      "outputs": [
        {
          "output_type": "execute_result",
          "data": {
            "text/plain": [
              "array([[13621.,  4241.,  3121.,  2000.,   365.,    40.],\n",
              "       [15041.,  4171.,  3061.,  2000.,   365.,    40.],\n",
              "       [15340.,  3280.,  2160.,  1000.,   365.,    40.],\n",
              "       ...,\n",
              "       [16600.,  5001.,  4201.,  2000.,   365.,    40.],\n",
              "       [15600.,  3320.,  2080.,  1000.,   365.,    40.],\n",
              "       [16600.,  4601.,  4601.,  2000.,   365.,    40.]])"
            ]
          },
          "metadata": {},
          "execution_count": 47
        }
      ]
    },
    {
      "cell_type": "code",
      "source": [
        "-np.sort(lending_co_data_numeric)"
      ],
      "metadata": {
        "colab": {
          "base_uri": "https://localhost:8080/"
        },
        "id": "tT2w7giDj17M",
        "outputId": "70f6bb24-af16-4502-be7b-702f66fbba4c"
      },
      "execution_count": null,
      "outputs": [
        {
          "output_type": "execute_result",
          "data": {
            "text/plain": [
              "array([[   -40.,   -365.,  -2000.,  -3121.,  -4241., -13621.],\n",
              "       [   -40.,   -365.,  -2000.,  -3061.,  -4171., -15041.],\n",
              "       [   -40.,   -365.,  -1000.,  -2160.,  -3280., -15340.],\n",
              "       ...,\n",
              "       [   -40.,   -365.,  -2000.,  -4201.,  -5001., -16600.],\n",
              "       [   -40.,   -365.,  -1000.,  -2080.,  -3320., -15600.],\n",
              "       [   -40.,   -365.,  -2000.,  -4601.,  -4601., -16600.]])"
            ]
          },
          "metadata": {},
          "execution_count": 48
        }
      ]
    },
    {
      "cell_type": "code",
      "source": [
        "lending_co_data_numeric"
      ],
      "metadata": {
        "colab": {
          "base_uri": "https://localhost:8080/"
        },
        "id": "qtYIiYGqkEou",
        "outputId": "488f9193-b10d-4438-e56f-383af92f5862"
      },
      "execution_count": null,
      "outputs": [
        {
          "output_type": "execute_result",
          "data": {
            "text/plain": [
              "array([[ 2000.,    40.,   365.,  3121.,  4241., 13621.],\n",
              "       [ 2000.,    40.,   365.,  3061.,  4171., 15041.],\n",
              "       [ 1000.,    40.,   365.,  2160.,  3280., 15340.],\n",
              "       ...,\n",
              "       [ 2000.,    40.,   365.,  4201.,  5001., 16600.],\n",
              "       [ 1000.,    40.,   365.,  2080.,  3320., 15600.],\n",
              "       [ 2000.,    40.,   365.,  4601.,  4601., 16600.]])"
            ]
          },
          "metadata": {},
          "execution_count": 49
        }
      ]
    },
    {
      "cell_type": "code",
      "source": [
        "np.sort(lending_co_data_numeric[:,3])"
      ],
      "metadata": {
        "colab": {
          "base_uri": "https://localhost:8080/"
        },
        "id": "7Vx8GUuKka8N",
        "outputId": "4f37118a-3f8e-4bd7-eab2-3fc1ee92b9a9"
      },
      "execution_count": null,
      "outputs": [
        {
          "output_type": "execute_result",
          "data": {
            "text/plain": [
              "array([-2870., -2550., -2450., ..., 16751., 17650., 19001.])"
            ]
          },
          "metadata": {},
          "execution_count": 50
        }
      ]
    },
    {
      "cell_type": "code",
      "source": [
        "lending_co_data_numeric[:,3].sort()\n",
        "lending_co_data_numeric"
      ],
      "metadata": {
        "id": "PVsfcMXnlpvb",
        "outputId": "2cfaeba2-7f35-442f-e04e-7e95fac1a211",
        "colab": {
          "base_uri": "https://localhost:8080/"
        }
      },
      "execution_count": null,
      "outputs": [
        {
          "output_type": "execute_result",
          "data": {
            "text/plain": [
              "array([[ 2000.,    40.,   365., -2870.,  4241., 13621.],\n",
              "       [ 2000.,    40.,   365., -2550.,  4171., 15041.],\n",
              "       [ 1000.,    40.,   365., -2450.,  3280., 15340.],\n",
              "       ...,\n",
              "       [ 2000.,    40.,   365., 16751.,  5001., 16600.],\n",
              "       [ 1000.,    40.,   365., 17650.,  3320., 15600.],\n",
              "       [ 2000.,    40.,   365., 19001.,  4601., 16600.]])"
            ]
          },
          "metadata": {},
          "execution_count": 51
        }
      ]
    },
    {
      "cell_type": "markdown",
      "source": [
        "Argument Functions"
      ],
      "metadata": {
        "id": "aKcfdhUgOT-c"
      }
    },
    {
      "cell_type": "markdown",
      "source": [
        "np.argsort()"
      ],
      "metadata": {
        "id": "RvkfZ0NBOsIS"
      }
    },
    {
      "cell_type": "code",
      "source": [
        "lending_co_data_numeric"
      ],
      "metadata": {
        "colab": {
          "base_uri": "https://localhost:8080/"
        },
        "id": "db8JmK1YOPIM",
        "outputId": "93b2e360-9ece-40ec-cad8-94c5c2c4033a"
      },
      "execution_count": null,
      "outputs": [
        {
          "output_type": "execute_result",
          "data": {
            "text/plain": [
              "array([[ 2000.,    40.,   365., -2870.,  4241., 13621.],\n",
              "       [ 2000.,    40.,   365., -2550.,  4171., 15041.],\n",
              "       [ 1000.,    40.,   365., -2450.,  3280., 15340.],\n",
              "       ...,\n",
              "       [ 2000.,    40.,   365., 16751.,  5001., 16600.],\n",
              "       [ 1000.,    40.,   365., 17650.,  3320., 15600.],\n",
              "       [ 2000.,    40.,   365., 19001.,  4601., 16600.]])"
            ]
          },
          "metadata": {},
          "execution_count": 52
        }
      ]
    },
    {
      "cell_type": "code",
      "source": [
        "np.argsort(lending_co_data_numeric)"
      ],
      "metadata": {
        "colab": {
          "base_uri": "https://localhost:8080/"
        },
        "id": "utfJqA1LQIYW",
        "outputId": "4297832a-bc14-4b2d-e182-fae13d55df50"
      },
      "execution_count": null,
      "outputs": [
        {
          "output_type": "execute_result",
          "data": {
            "text/plain": [
              "array([[3, 1, 2, 0, 4, 5],\n",
              "       [3, 1, 2, 0, 4, 5],\n",
              "       [3, 1, 2, 0, 4, 5],\n",
              "       ...,\n",
              "       [1, 2, 0, 4, 5, 3],\n",
              "       [1, 2, 0, 4, 5, 3],\n",
              "       [1, 2, 0, 4, 5, 3]])"
            ]
          },
          "metadata": {},
          "execution_count": 53
        }
      ]
    },
    {
      "cell_type": "code",
      "source": [
        "np.argsort(lending_co_data_numeric, axis = 0)"
      ],
      "metadata": {
        "colab": {
          "base_uri": "https://localhost:8080/"
        },
        "id": "aPQHjzF0RLkC",
        "outputId": "af39e7f6-13db-4b59-8041-f65707591b52"
      },
      "execution_count": null,
      "outputs": [
        {
          "output_type": "execute_result",
          "data": {
            "text/plain": [
              "array([[ 537,  443,    0,    0,   32,  482],\n",
              "       [ 639,  327,  687,    1,  166,  493],\n",
              "       [ 849,  432,  688,    2,   85,  166],\n",
              "       ...,\n",
              "       [  27,  326,  355, 1040, 1019,  568],\n",
              "       [ 277,   27,  357, 1041, 1033,  534],\n",
              "       [ 420,  408, 1042, 1042,  912,   27]])"
            ]
          },
          "metadata": {},
          "execution_count": 54
        }
      ]
    },
    {
      "cell_type": "code",
      "source": [
        "lending_co_data_numeric[482,5]"
      ],
      "metadata": {
        "colab": {
          "base_uri": "https://localhost:8080/"
        },
        "id": "wMIboR2oRgVu",
        "outputId": "e8408524-ef23-40c9-b7ea-2724582666b1"
      },
      "execution_count": null,
      "outputs": [
        {
          "output_type": "execute_result",
          "data": {
            "text/plain": [
              "-350.0"
            ]
          },
          "metadata": {},
          "execution_count": 55
        }
      ]
    },
    {
      "cell_type": "code",
      "source": [
        "lending_co_data_numeric = lending_co_data_numeric[np.argsort(lending_co_data_numeric[:,0])]\n",
        "lending_co_data_numeric"
      ],
      "metadata": {
        "colab": {
          "base_uri": "https://localhost:8080/"
        },
        "id": "C4UwapaIRx2E",
        "outputId": "13b72fcd-d89b-484a-d9ae-6b3d6400ea22"
      },
      "execution_count": null,
      "outputs": [
        {
          "output_type": "execute_result",
          "data": {
            "text/plain": [
              "array([[ 1000.,    40.,   365.,  3418.,  3400., 15600.],\n",
              "       [ 1000.,    40.,   365.,  3750.,  3800., 15600.],\n",
              "       [ 1000.,    40.,   365.,  5500.,  3950., 15600.],\n",
              "       ...,\n",
              "       [ 9000.,   165.,   365.,  -750., 16846., 64001.],\n",
              "       [ 9000.,   125.,   365.,  2981., 15751., 38626.],\n",
              "       [ 9000.,   125.,   365.,  3321., 14251., 25626.]])"
            ]
          },
          "metadata": {},
          "execution_count": 56
        }
      ]
    },
    {
      "cell_type": "code",
      "source": [
        "lending_co_data_numeric.argsort(axis = 0)"
      ],
      "metadata": {
        "colab": {
          "base_uri": "https://localhost:8080/"
        },
        "id": "Wl0JTdrISVAQ",
        "outputId": "2f39b4aa-15e3-4273-b3fc-4f0ff920a5b8"
      },
      "execution_count": null,
      "outputs": [
        {
          "output_type": "execute_result",
          "data": {
            "text/plain": [
              "array([[   0,   22,    0,  342,  199,  172],\n",
              "       [ 155,   62,  687,  650,   53,  160],\n",
              "       [ 156,   38,  688,  177,  169,   53],\n",
              "       ...,\n",
              "       [1022, 1042,  355,  412, 1037, 1023],\n",
              "       [1031, 1039,  357,  194, 1029, 1024],\n",
              "       [1042, 1040, 1042,  716, 1027, 1040]])"
            ]
          },
          "metadata": {},
          "execution_count": 57
        }
      ]
    },
    {
      "cell_type": "code",
      "source": [
        "lending_co_data_numeric"
      ],
      "metadata": {
        "colab": {
          "base_uri": "https://localhost:8080/"
        },
        "id": "Gl3MRyUtTHyI",
        "outputId": "aaf81381-9fca-43a7-8a39-51e178402943"
      },
      "execution_count": null,
      "outputs": [
        {
          "output_type": "execute_result",
          "data": {
            "text/plain": [
              "array([[ 1000.,    40.,   365.,  3418.,  3400., 15600.],\n",
              "       [ 1000.,    40.,   365.,  3750.,  3800., 15600.],\n",
              "       [ 1000.,    40.,   365.,  5500.,  3950., 15600.],\n",
              "       ...,\n",
              "       [ 9000.,   165.,   365.,  -750., 16846., 64001.],\n",
              "       [ 9000.,   125.,   365.,  2981., 15751., 38626.],\n",
              "       [ 9000.,   125.,   365.,  3321., 14251., 25626.]])"
            ]
          },
          "metadata": {},
          "execution_count": 58
        }
      ]
    },
    {
      "cell_type": "markdown",
      "source": [
        "np.argwhere()"
      ],
      "metadata": {
        "id": "_iOadV8ZU-UO"
      }
    },
    {
      "cell_type": "code",
      "source": [
        "np.argwhere(lending_co_data_numeric)"
      ],
      "metadata": {
        "colab": {
          "base_uri": "https://localhost:8080/"
        },
        "id": "mX79KS1AVBrP",
        "outputId": "449d5629-d316-427e-da82-7dd9872e2cef"
      },
      "execution_count": null,
      "outputs": [
        {
          "output_type": "execute_result",
          "data": {
            "text/plain": [
              "array([[   0,    0],\n",
              "       [   0,    1],\n",
              "       [   0,    2],\n",
              "       ...,\n",
              "       [1042,    3],\n",
              "       [1042,    4],\n",
              "       [1042,    5]])"
            ]
          },
          "metadata": {},
          "execution_count": 59
        }
      ]
    },
    {
      "cell_type": "code",
      "source": [
        "np.argwhere(lending_co_data_numeric == False)"
      ],
      "metadata": {
        "colab": {
          "base_uri": "https://localhost:8080/"
        },
        "id": "20JL4EvjVoIs",
        "outputId": "e313f2ed-201c-413d-9574-7d8e32185a7d"
      },
      "execution_count": null,
      "outputs": [
        {
          "output_type": "execute_result",
          "data": {
            "text/plain": [
              "array([[219,   4],\n",
              "       [649,   3]])"
            ]
          },
          "metadata": {},
          "execution_count": 60
        }
      ]
    },
    {
      "cell_type": "code",
      "source": [
        "lending_co_data_numeric[430]"
      ],
      "metadata": {
        "colab": {
          "base_uri": "https://localhost:8080/"
        },
        "id": "_2hW79dCWjOH",
        "outputId": "24f70799-61e8-4c15-d65a-e28a76474a27"
      },
      "execution_count": null,
      "outputs": [
        {
          "output_type": "execute_result",
          "data": {
            "text/plain": [
              "array([ 2000.,    50.,   365.,  7951.,  5251., 20250.])"
            ]
          },
          "metadata": {},
          "execution_count": 61
        }
      ]
    },
    {
      "cell_type": "code",
      "source": [
        "lending_co_data_numeric"
      ],
      "metadata": {
        "colab": {
          "base_uri": "https://localhost:8080/"
        },
        "id": "gHkp4b9UXrtW",
        "outputId": "ace5c03d-db1a-4385-cd93-e612a1e5edd7"
      },
      "execution_count": null,
      "outputs": [
        {
          "output_type": "execute_result",
          "data": {
            "text/plain": [
              "array([[ 1000.,    40.,   365.,  3418.,  3400., 15600.],\n",
              "       [ 1000.,    40.,   365.,  3750.,  3800., 15600.],\n",
              "       [ 1000.,    40.,   365.,  5500.,  3950., 15600.],\n",
              "       ...,\n",
              "       [ 9000.,   165.,   365.,  -750., 16846., 64001.],\n",
              "       [ 9000.,   125.,   365.,  2981., 15751., 38626.],\n",
              "       [ 9000.,   125.,   365.,  3321., 14251., 25626.]])"
            ]
          },
          "metadata": {},
          "execution_count": 62
        }
      ]
    },
    {
      "cell_type": "code",
      "source": [
        "np.argwhere(lending_co_data_numeric %2 == 0)"
      ],
      "metadata": {
        "colab": {
          "base_uri": "https://localhost:8080/"
        },
        "id": "lSsLSJT7X3WH",
        "outputId": "cb6d6d20-747f-4afe-8e52-e54b4eede8f8"
      },
      "execution_count": null,
      "outputs": [
        {
          "output_type": "execute_result",
          "data": {
            "text/plain": [
              "array([[   0,    0],\n",
              "       [   0,    1],\n",
              "       [   0,    3],\n",
              "       ...,\n",
              "       [1041,    5],\n",
              "       [1042,    0],\n",
              "       [1042,    5]])"
            ]
          },
          "metadata": {},
          "execution_count": 63
        }
      ]
    },
    {
      "cell_type": "code",
      "source": [
        "np.isnan(lending_co_data_numeric).sum()"
      ],
      "metadata": {
        "colab": {
          "base_uri": "https://localhost:8080/"
        },
        "id": "idE4zywAYcJD",
        "outputId": "e9e230f5-d38d-4bb1-d78b-66d7cf0f1e34"
      },
      "execution_count": null,
      "outputs": [
        {
          "output_type": "execute_result",
          "data": {
            "text/plain": [
              "0"
            ]
          },
          "metadata": {},
          "execution_count": 64
        }
      ]
    },
    {
      "cell_type": "code",
      "source": [
        "lending_co_data_numeric_NAN = np.genfromtxt(\"Lending-company-Numeric-NAN.csv\", delimiter = ';')\n",
        "lending_co_data_numeric_NAN"
      ],
      "metadata": {
        "colab": {
          "base_uri": "https://localhost:8080/"
        },
        "id": "zaTNzMv9aBD2",
        "outputId": "aa0d4b9f-3c9a-416b-d97a-4d4d1917756d"
      },
      "execution_count": null,
      "outputs": [
        {
          "output_type": "execute_result",
          "data": {
            "text/plain": [
              "array([[ 2000.,    40.,   365.,  3121.,  4241., 13621.],\n",
              "       [ 2000.,    40.,   365.,  3061.,  4171., 15041.],\n",
              "       [ 1000.,    40.,   365.,  2160.,  3280., 15340.],\n",
              "       ...,\n",
              "       [   nan,    40.,   365.,  4201.,  5001., 16600.],\n",
              "       [ 1000.,    40.,   365.,  2080.,  3320., 15600.],\n",
              "       [ 2000.,    40.,   365.,  4601.,  4601., 16600.]])"
            ]
          },
          "metadata": {},
          "execution_count": 65
        }
      ]
    },
    {
      "cell_type": "code",
      "source": [
        "np.argwhere(np.isnan(lending_co_data_numeric_NAN))"
      ],
      "metadata": {
        "colab": {
          "base_uri": "https://localhost:8080/"
        },
        "id": "tObMzXVcac46",
        "outputId": "f849b140-d964-4735-ad07-1ade908ff3f1"
      },
      "execution_count": null,
      "outputs": [
        {
          "output_type": "execute_result",
          "data": {
            "text/plain": [
              "array([[  11,    3],\n",
              "       [  15,    3],\n",
              "       [  27,    3],\n",
              "       [  58,    3],\n",
              "       [  60,    4],\n",
              "       [  85,    4],\n",
              "       [ 117,    5],\n",
              "       [ 152,    1],\n",
              "       [ 152,    2],\n",
              "       [ 152,    4],\n",
              "       [ 172,    1],\n",
              "       [ 175,    1],\n",
              "       [ 175,    2],\n",
              "       [ 176,    3],\n",
              "       [ 177,    4],\n",
              "       [ 178,    5],\n",
              "       [ 211,    3],\n",
              "       [ 229,    0],\n",
              "       [ 230,    1],\n",
              "       [ 237,    1],\n",
              "       [ 247,    3],\n",
              "       [ 251,    5],\n",
              "       [ 252,    4],\n",
              "       [ 258,    1],\n",
              "       [ 260,    3],\n",
              "       [ 262,    4],\n",
              "       [ 271,    5],\n",
              "       [ 272,    4],\n",
              "       [ 284,    2],\n",
              "       [ 284,    3],\n",
              "       [ 297,    1],\n",
              "       [ 297,    2],\n",
              "       [ 300,    3],\n",
              "       [ 315,    3],\n",
              "       [ 315,    5],\n",
              "       [ 327,    4],\n",
              "       [ 336,    4],\n",
              "       [ 343,    0],\n",
              "       [ 344,    2],\n",
              "       [ 346,    2],\n",
              "       [ 363,    3],\n",
              "       [ 375,    3],\n",
              "       [ 377,    2],\n",
              "       [ 398,    5],\n",
              "       [ 416,    4],\n",
              "       [ 428,    0],\n",
              "       [ 432,    1],\n",
              "       [ 433,    3],\n",
              "       [ 434,    2],\n",
              "       [ 440,    3],\n",
              "       [ 441,    1],\n",
              "       [ 446,    2],\n",
              "       [ 455,    1],\n",
              "       [ 456,    2],\n",
              "       [ 458,    2],\n",
              "       [ 461,    3],\n",
              "       [ 467,    4],\n",
              "       [ 468,    0],\n",
              "       [ 469,    3],\n",
              "       [ 470,    0],\n",
              "       [ 481,    1],\n",
              "       [ 482,    3],\n",
              "       [ 484,    4],\n",
              "       [ 489,    0],\n",
              "       [ 493,    5],\n",
              "       [ 499,    0],\n",
              "       [ 504,    3],\n",
              "       [ 506,    1],\n",
              "       [ 517,    4],\n",
              "       [ 518,    0],\n",
              "       [ 521,    2],\n",
              "       [ 530,    5],\n",
              "       [ 532,    3],\n",
              "       [ 534,    5],\n",
              "       [ 547,    3],\n",
              "       [ 549,    5],\n",
              "       [ 553,    5],\n",
              "       [ 554,    5],\n",
              "       [ 559,    3],\n",
              "       [ 566,    0],\n",
              "       [ 566,    1],\n",
              "       [ 566,    2],\n",
              "       [ 567,    0],\n",
              "       [ 567,    1],\n",
              "       [ 567,    2],\n",
              "       [ 581,    1],\n",
              "       [ 581,    2],\n",
              "       [ 582,    1],\n",
              "       [ 582,    2],\n",
              "       [ 583,    1],\n",
              "       [ 583,    2],\n",
              "       [ 593,    3],\n",
              "       [ 594,    3],\n",
              "       [ 595,    3],\n",
              "       [ 596,    3],\n",
              "       [ 609,    4],\n",
              "       [ 609,    5],\n",
              "       [ 610,    4],\n",
              "       [ 610,    5],\n",
              "       [ 611,    4],\n",
              "       [ 611,    5],\n",
              "       [ 612,    4],\n",
              "       [ 612,    5],\n",
              "       [ 623,    2],\n",
              "       [ 623,    3],\n",
              "       [ 624,    2],\n",
              "       [ 624,    3],\n",
              "       [ 625,    2],\n",
              "       [ 625,    3],\n",
              "       [ 626,    2],\n",
              "       [ 626,    3],\n",
              "       [ 627,    2],\n",
              "       [ 627,    3],\n",
              "       [ 636,    0],\n",
              "       [ 637,    0],\n",
              "       [ 637,    4],\n",
              "       [ 637,    5],\n",
              "       [ 638,    0],\n",
              "       [ 638,    4],\n",
              "       [ 638,    5],\n",
              "       [ 639,    4],\n",
              "       [ 639,    5],\n",
              "       [ 640,    4],\n",
              "       [ 640,    5],\n",
              "       [ 641,    4],\n",
              "       [ 641,    5],\n",
              "       [ 653,    1],\n",
              "       [ 653,    2],\n",
              "       [ 653,    3],\n",
              "       [ 653,    4],\n",
              "       [ 654,    1],\n",
              "       [ 654,    2],\n",
              "       [ 654,    3],\n",
              "       [ 654,    4],\n",
              "       [ 655,    1],\n",
              "       [ 655,    2],\n",
              "       [ 655,    3],\n",
              "       [ 655,    4],\n",
              "       [ 685,    2],\n",
              "       [ 686,    0],\n",
              "       [ 701,    4],\n",
              "       [ 704,    2],\n",
              "       [ 724,    1],\n",
              "       [ 724,    2],\n",
              "       [ 730,    1],\n",
              "       [ 730,    2],\n",
              "       [ 730,    3],\n",
              "       [ 731,    1],\n",
              "       [ 731,    2],\n",
              "       [ 731,    3],\n",
              "       [ 732,    1],\n",
              "       [ 732,    2],\n",
              "       [ 732,    3],\n",
              "       [ 733,    1],\n",
              "       [ 733,    2],\n",
              "       [ 733,    3],\n",
              "       [ 742,    4],\n",
              "       [ 747,    3],\n",
              "       [ 755,    1],\n",
              "       [ 758,    1],\n",
              "       [ 760,    1],\n",
              "       [ 764,    0],\n",
              "       [ 764,    1],\n",
              "       [ 764,    2],\n",
              "       [ 764,    3],\n",
              "       [ 764,    4],\n",
              "       [ 764,    5],\n",
              "       [ 765,    3],\n",
              "       [ 775,    1],\n",
              "       [ 775,    2],\n",
              "       [ 775,    3],\n",
              "       [ 776,    1],\n",
              "       [ 776,    2],\n",
              "       [ 776,    3],\n",
              "       [ 777,    1],\n",
              "       [ 777,    2],\n",
              "       [ 777,    3],\n",
              "       [ 778,    1],\n",
              "       [ 778,    2],\n",
              "       [ 778,    3],\n",
              "       [ 787,    4],\n",
              "       [ 788,    1],\n",
              "       [ 790,    2],\n",
              "       [ 794,    3],\n",
              "       [ 795,    5],\n",
              "       [ 796,    1],\n",
              "       [ 796,    4],\n",
              "       [ 800,    0],\n",
              "       [ 801,    1],\n",
              "       [ 802,    1],\n",
              "       [ 803,    2],\n",
              "       [ 805,    0],\n",
              "       [ 809,    0],\n",
              "       [ 810,    0],\n",
              "       [ 811,    0],\n",
              "       [ 812,    1],\n",
              "       [ 820,    0],\n",
              "       [ 820,    3],\n",
              "       [ 820,    4],\n",
              "       [ 822,    2],\n",
              "       [ 823,    2],\n",
              "       [ 825,    0],\n",
              "       [ 830,    1],\n",
              "       [ 830,    2],\n",
              "       [ 836,    3],\n",
              "       [ 837,    3],\n",
              "       [ 838,    3],\n",
              "       [ 839,    4],\n",
              "       [ 843,    2],\n",
              "       [ 856,    0],\n",
              "       [ 856,    1],\n",
              "       [ 856,    3],\n",
              "       [ 856,    4],\n",
              "       [ 856,    5],\n",
              "       [ 857,    0],\n",
              "       [ 858,    1],\n",
              "       [ 870,    0],\n",
              "       [ 870,    2],\n",
              "       [ 870,    3],\n",
              "       [ 872,    0],\n",
              "       [ 873,    0],\n",
              "       [ 874,    1],\n",
              "       [ 890,    1],\n",
              "       [ 890,    2],\n",
              "       [ 890,    3],\n",
              "       [ 909,    1],\n",
              "       [ 910,    0],\n",
              "       [ 912,    0],\n",
              "       [ 912,    2],\n",
              "       [ 912,    3],\n",
              "       [ 912,    4],\n",
              "       [ 928,    1],\n",
              "       [ 928,    2],\n",
              "       [ 928,    3],\n",
              "       [ 929,    1],\n",
              "       [ 929,    2],\n",
              "       [ 929,    3],\n",
              "       [ 930,    3],\n",
              "       [ 958,    2],\n",
              "       [ 959,    3],\n",
              "       [ 960,    3],\n",
              "       [1024,    0],\n",
              "       [1024,    2],\n",
              "       [1026,    2],\n",
              "       [1026,    4],\n",
              "       [1028,    0],\n",
              "       [1028,    3],\n",
              "       [1028,    4],\n",
              "       [1029,    0],\n",
              "       [1030,    1],\n",
              "       [1030,    5],\n",
              "       [1032,    0],\n",
              "       [1032,    5],\n",
              "       [1034,    3],\n",
              "       [1035,    4],\n",
              "       [1036,    2],\n",
              "       [1037,    1],\n",
              "       [1038,    4],\n",
              "       [1039,    3],\n",
              "       [1040,    0]])"
            ]
          },
          "metadata": {},
          "execution_count": 66
        }
      ]
    },
    {
      "cell_type": "code",
      "source": [
        "lending_co_data_numeric_NAN[928]"
      ],
      "metadata": {
        "colab": {
          "base_uri": "https://localhost:8080/"
        },
        "id": "TnHvLGJNcJDG",
        "outputId": "e46873fa-907c-465b-9028-a23dd9cba66c"
      },
      "execution_count": null,
      "outputs": [
        {
          "output_type": "execute_result",
          "data": {
            "text/plain": [
              "array([ 2000.,    nan,    nan,    nan,  6601., 16600.])"
            ]
          },
          "metadata": {},
          "execution_count": 67
        }
      ]
    },
    {
      "cell_type": "code",
      "source": [
        "for array_index in np.argwhere(np.isnan(lending_co_data_numeric_NAN)):\n",
        "  lending_co_data_numeric_NAN[array_index[0], array_index[1]] = 0"
      ],
      "metadata": {
        "id": "dM2Xi7dZcyzK"
      },
      "execution_count": null,
      "outputs": []
    },
    {
      "cell_type": "code",
      "source": [
        "lending_co_data_numeric_NAN[928]"
      ],
      "metadata": {
        "colab": {
          "base_uri": "https://localhost:8080/"
        },
        "id": "fe_NPDGMdmKW",
        "outputId": "d847e041-0b03-4607-9371-e5031f0181c5"
      },
      "execution_count": null,
      "outputs": [
        {
          "output_type": "execute_result",
          "data": {
            "text/plain": [
              "array([ 2000.,     0.,     0.,     0.,  6601., 16600.])"
            ]
          },
          "metadata": {},
          "execution_count": 69
        }
      ]
    },
    {
      "cell_type": "code",
      "source": [
        "np.isnan(lending_co_data_numeric_NAN).sum()"
      ],
      "metadata": {
        "colab": {
          "base_uri": "https://localhost:8080/"
        },
        "id": "MK6d6iNjdvU1",
        "outputId": "a42a71d3-321a-4a17-b538-9c8a397f45da"
      },
      "execution_count": null,
      "outputs": [
        {
          "output_type": "execute_result",
          "data": {
            "text/plain": [
              "0"
            ]
          },
          "metadata": {},
          "execution_count": 70
        }
      ]
    },
    {
      "cell_type": "markdown",
      "source": [
        "Shuffling Data"
      ],
      "metadata": {
        "id": "huq_sXkxkgkC"
      }
    },
    {
      "cell_type": "code",
      "source": [
        "lending_co_data_numeric = np.loadtxt('Lending-company-Numeric.csv', delimiter = ',')[:8]\n",
        "lending_co_data_numeric"
      ],
      "metadata": {
        "colab": {
          "base_uri": "https://localhost:8080/"
        },
        "id": "Z5rMVd1alIdW",
        "outputId": "dbb1dbbe-2e3e-4c6d-c573-486eaca46ba0"
      },
      "execution_count": null,
      "outputs": [
        {
          "output_type": "execute_result",
          "data": {
            "text/plain": [
              "array([[ 2000.,    40.,   365.,  3121.,  4241., 13621.],\n",
              "       [ 2000.,    40.,   365.,  3061.,  4171., 15041.],\n",
              "       [ 1000.,    40.,   365.,  2160.,  3280., 15340.],\n",
              "       [ 2000.,    40.,   365.,  3041.,  4241., 15321.],\n",
              "       [ 2000.,    50.,   365.,  3470.,  4820., 13720.],\n",
              "       [ 2000.,    40.,   365.,  3201.,  4141., 14141.],\n",
              "       [ 2000.,    50.,   365.,  1851.,  3251., 17701.],\n",
              "       [ 2000.,    40.,   365.,  3971.,  4131., 15351.]])"
            ]
          },
          "metadata": {},
          "execution_count": 71
        }
      ]
    },
    {
      "cell_type": "code",
      "source": [
        "np.random.shuffle(lending_co_data_numeric)"
      ],
      "metadata": {
        "id": "oblmTrVUllEN"
      },
      "execution_count": null,
      "outputs": []
    },
    {
      "cell_type": "code",
      "source": [
        "lending_co_data_numeric"
      ],
      "metadata": {
        "colab": {
          "base_uri": "https://localhost:8080/"
        },
        "id": "PE-18Xpwlyy0",
        "outputId": "198a8970-1015-4b4e-c905-f8287e69ceaf"
      },
      "execution_count": null,
      "outputs": [
        {
          "output_type": "execute_result",
          "data": {
            "text/plain": [
              "array([[ 2000.,    40.,   365.,  3201.,  4141., 14141.],\n",
              "       [ 2000.,    40.,   365.,  3041.,  4241., 15321.],\n",
              "       [ 1000.,    40.,   365.,  2160.,  3280., 15340.],\n",
              "       [ 2000.,    50.,   365.,  3470.,  4820., 13720.],\n",
              "       [ 2000.,    40.,   365.,  3121.,  4241., 13621.],\n",
              "       [ 2000.,    50.,   365.,  1851.,  3251., 17701.],\n",
              "       [ 2000.,    40.,   365.,  3061.,  4171., 15041.],\n",
              "       [ 2000.,    40.,   365.,  3971.,  4131., 15351.]])"
            ]
          },
          "metadata": {},
          "execution_count": 73
        }
      ]
    },
    {
      "cell_type": "code",
      "source": [
        "lending_co_data_numeric = np.loadtxt('Lending-company-Numeric.csv', delimiter = ',')\n",
        "lending_co_data_numeric"
      ],
      "metadata": {
        "colab": {
          "base_uri": "https://localhost:8080/"
        },
        "id": "da03j00cmEYA",
        "outputId": "cec21dff-99ef-4f71-df27-d3f0954afafd"
      },
      "execution_count": null,
      "outputs": [
        {
          "output_type": "execute_result",
          "data": {
            "text/plain": [
              "array([[ 2000.,    40.,   365.,  3121.,  4241., 13621.],\n",
              "       [ 2000.,    40.,   365.,  3061.,  4171., 15041.],\n",
              "       [ 1000.,    40.,   365.,  2160.,  3280., 15340.],\n",
              "       ...,\n",
              "       [ 2000.,    40.,   365.,  4201.,  5001., 16600.],\n",
              "       [ 1000.,    40.,   365.,  2080.,  3320., 15600.],\n",
              "       [ 2000.,    40.,   365.,  4601.,  4601., 16600.]])"
            ]
          },
          "metadata": {},
          "execution_count": 74
        }
      ]
    },
    {
      "cell_type": "code",
      "source": [
        "from numpy.random import shuffle"
      ],
      "metadata": {
        "id": "TG-ipWjKmf5m"
      },
      "execution_count": null,
      "outputs": []
    },
    {
      "cell_type": "code",
      "source": [
        "shuffle(lending_co_data_numeric)\n",
        "lending_co_data_numeric"
      ],
      "metadata": {
        "colab": {
          "base_uri": "https://localhost:8080/"
        },
        "id": "hY9vgBdsnJX9",
        "outputId": "d48328fb-d239-4edd-e3dc-2c406893548a"
      },
      "execution_count": null,
      "outputs": [
        {
          "output_type": "execute_result",
          "data": {
            "text/plain": [
              "array([[ 1000.,    40.,   365.,  2520.,  3740., 15600.],\n",
              "       [ 2000.,    50.,   365.,  4251.,  4951., 20250.],\n",
              "       [ 2000.,    50.,   365.,  8201.,  9801., 20250.],\n",
              "       ...,\n",
              "       [ 1000.,    50.,   365., -1450.,     0., 13850.],\n",
              "       [ 2000.,    40.,   365.,  3401.,  4601., 16600.],\n",
              "       [ 2000.,    40.,   365.,  3401.,  5001., 16600.]])"
            ]
          },
          "metadata": {},
          "execution_count": 76
        }
      ]
    },
    {
      "cell_type": "code",
      "source": [
        "from numpy.random import Generator as gen\n",
        "from numpy.random import PCG64 as pcg"
      ],
      "metadata": {
        "id": "r8be3inkofM9"
      },
      "execution_count": null,
      "outputs": []
    },
    {
      "cell_type": "code",
      "source": [
        "array_RG = gen(pcg())\n",
        "array_RG.shuffle(lending_co_data_numeric)\n",
        "lending_co_data_numeric"
      ],
      "metadata": {
        "colab": {
          "base_uri": "https://localhost:8080/"
        },
        "id": "LHpwFSEboqU1",
        "outputId": "1ec7f8a7-6318-4daa-c001-2ccf96a74ae9"
      },
      "execution_count": null,
      "outputs": [
        {
          "output_type": "execute_result",
          "data": {
            "text/plain": [
              "array([[ 2000.,    40.,   365.,  3121.,  4521., 16600.],\n",
              "       [ 2000.,    40.,   365.,  3040.,  4200., 16600.],\n",
              "       [ 2000.,    50.,   365.,  7251.,  7251., 20250.],\n",
              "       ...,\n",
              "       [ 2000.,    40.,   365.,  3151.,  4441., 13541.],\n",
              "       [ 2000.,    40.,   365.,  4201.,  6601., 16600.],\n",
              "       [ 4000.,    50.,   365.,  5300.,  6800., 18900.]])"
            ]
          },
          "metadata": {},
          "execution_count": 78
        }
      ]
    },
    {
      "cell_type": "code",
      "source": [
        "array_RG = gen(pcg(seed=365))\n",
        "array_RG.shuffle(lending_co_data_numeric)\n",
        "lending_co_data_numeric"
      ],
      "metadata": {
        "colab": {
          "base_uri": "https://localhost:8080/"
        },
        "id": "DFrGkATspnmc",
        "outputId": "bb06d6c1-1df2-414f-cc4a-e412288851f2"
      },
      "execution_count": null,
      "outputs": [
        {
          "output_type": "execute_result",
          "data": {
            "text/plain": [
              "array([[ 2000.,    40.,   365.,  6581.,  8781., 15181.],\n",
              "       [ 2000.,    40.,   365.,  3081.,  4281., 16600.],\n",
              "       [ 2000.,    40.,   365.,  2241.,  2601.,  8171.],\n",
              "       ...,\n",
              "       [ 2000.,    40.,   365.,  3340.,  4690., 16600.],\n",
              "       [ 2000.,    40.,   365.,  4601.,  4601., 16600.],\n",
              "       [ 1000.,    50.,   365.,  1450.,  2750., 17200.]])"
            ]
          },
          "metadata": {},
          "execution_count": 79
        }
      ]
    },
    {
      "cell_type": "markdown",
      "source": [
        "Casting"
      ],
      "metadata": {
        "id": "tpaC2eB1p1xp"
      }
    },
    {
      "cell_type": "code",
      "source": [
        "lending_co_data_numeric.astype(dtype = np.int32)"
      ],
      "metadata": {
        "colab": {
          "base_uri": "https://localhost:8080/"
        },
        "id": "Z7QVVpobCeld",
        "outputId": "6af15f12-d815-422a-a1be-ad0a3eb29dc2"
      },
      "execution_count": null,
      "outputs": [
        {
          "output_type": "execute_result",
          "data": {
            "text/plain": [
              "array([[ 2000,    40,   365,  6581,  8781, 15181],\n",
              "       [ 2000,    40,   365,  3081,  4281, 16600],\n",
              "       [ 2000,    40,   365,  2241,  2601,  8171],\n",
              "       ...,\n",
              "       [ 2000,    40,   365,  3340,  4690, 16600],\n",
              "       [ 2000,    40,   365,  4601,  4601, 16600],\n",
              "       [ 1000,    50,   365,  1450,  2750, 17200]], dtype=int32)"
            ]
          },
          "metadata": {},
          "execution_count": 80
        }
      ]
    },
    {
      "cell_type": "code",
      "source": [
        "lending_co_data_numeric.astype(dtype = np.str)"
      ],
      "metadata": {
        "colab": {
          "base_uri": "https://localhost:8080/"
        },
        "id": "zys7qTDnC3Sa",
        "outputId": "d2712e52-5ae7-4372-bd47-417854304ace"
      },
      "execution_count": null,
      "outputs": [
        {
          "output_type": "stream",
          "name": "stderr",
          "text": [
            "<ipython-input-81-25dbd518c046>:1: DeprecationWarning: `np.str` is a deprecated alias for the builtin `str`. To silence this warning, use `str` by itself. Doing this will not modify any behavior and is safe. If you specifically wanted the numpy scalar type, use `np.str_` here.\n",
            "Deprecated in NumPy 1.20; for more details and guidance: https://numpy.org/devdocs/release/1.20.0-notes.html#deprecations\n",
            "  lending_co_data_numeric.astype(dtype = np.str)\n"
          ]
        },
        {
          "output_type": "execute_result",
          "data": {
            "text/plain": [
              "array([['2000.0', '40.0', '365.0', '6581.0', '8781.0', '15181.0'],\n",
              "       ['2000.0', '40.0', '365.0', '3081.0', '4281.0', '16600.0'],\n",
              "       ['2000.0', '40.0', '365.0', '2241.0', '2601.0', '8171.0'],\n",
              "       ...,\n",
              "       ['2000.0', '40.0', '365.0', '3340.0', '4690.0', '16600.0'],\n",
              "       ['2000.0', '40.0', '365.0', '4601.0', '4601.0', '16600.0'],\n",
              "       ['1000.0', '50.0', '365.0', '1450.0', '2750.0', '17200.0']],\n",
              "      dtype='<U32')"
            ]
          },
          "metadata": {},
          "execution_count": 81
        }
      ]
    },
    {
      "cell_type": "code",
      "source": [
        "lending_co_data_numeric = lending_co_data_numeric.astype(dtype = np.str)"
      ],
      "metadata": {
        "colab": {
          "base_uri": "https://localhost:8080/"
        },
        "id": "TnL9DsDpDRAw",
        "outputId": "94849591-32a3-4e4d-c9f4-ea86d8c87b81"
      },
      "execution_count": 84,
      "outputs": [
        {
          "output_type": "stream",
          "name": "stderr",
          "text": [
            "<ipython-input-84-a6af592c9966>:1: DeprecationWarning: `np.str` is a deprecated alias for the builtin `str`. To silence this warning, use `str` by itself. Doing this will not modify any behavior and is safe. If you specifically wanted the numpy scalar type, use `np.str_` here.\n",
            "Deprecated in NumPy 1.20; for more details and guidance: https://numpy.org/devdocs/release/1.20.0-notes.html#deprecations\n",
            "  lending_co_data_numeric = lending_co_data_numeric.astype(dtype = np.str)\n"
          ]
        }
      ]
    },
    {
      "cell_type": "code",
      "source": [
        " lending_co_data_numeric"
      ],
      "metadata": {
        "colab": {
          "base_uri": "https://localhost:8080/"
        },
        "id": "Z0qPZq7hDpRi",
        "outputId": "3562fdb2-fccb-4370-bc2a-7eb848c80d02"
      },
      "execution_count": 85,
      "outputs": [
        {
          "output_type": "execute_result",
          "data": {
            "text/plain": [
              "array([['2000.0', '40.0', '365.0', '6581.0', '8781.0', '15181.0'],\n",
              "       ['2000.0', '40.0', '365.0', '3081.0', '4281.0', '16600.0'],\n",
              "       ['2000.0', '40.0', '365.0', '2241.0', '2601.0', '8171.0'],\n",
              "       ...,\n",
              "       ['2000.0', '40.0', '365.0', '3340.0', '4690.0', '16600.0'],\n",
              "       ['2000.0', '40.0', '365.0', '4601.0', '4601.0', '16600.0'],\n",
              "       ['1000.0', '50.0', '365.0', '1450.0', '2750.0', '17200.0']],\n",
              "      dtype='<U32')"
            ]
          },
          "metadata": {},
          "execution_count": 85
        }
      ]
    }
  ]
}