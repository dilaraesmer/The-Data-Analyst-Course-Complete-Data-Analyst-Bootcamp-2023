{
  "nbformat": 4,
  "nbformat_minor": 0,
  "metadata": {
    "colab": {
      "provenance": [],
      "authorship_tag": "ABX9TyOwEvwt9IQDOScgIUIcGTYq",
      "include_colab_link": true
    },
    "kernelspec": {
      "name": "python3",
      "display_name": "Python 3"
    },
    "language_info": {
      "name": "python"
    }
  },
  "cells": [
    {
      "cell_type": "markdown",
      "metadata": {
        "id": "view-in-github",
        "colab_type": "text"
      },
      "source": [
        "<a href=\"https://colab.research.google.com/github/dilaraesmer/The-Data-Analyst-Course-Complete-Data-Analyst-Bootcamp-2023/blob/main/Preprocessing_with_NumPy.ipynb\" target=\"_parent\"><img src=\"https://colab.research.google.com/assets/colab-badge.svg\" alt=\"Open In Colab\"/></a>"
      ]
    },
    {
      "cell_type": "code",
      "execution_count": null,
      "metadata": {
        "id": "Bhuq1jNr0Nlr"
      },
      "outputs": [],
      "source": [
        "import numpy as np"
      ]
    },
    {
      "cell_type": "markdown",
      "source": [
        "Checking for Missing Values "
      ],
      "metadata": {
        "id": "5gGlxr3F0ttk"
      }
    },
    {
      "cell_type": "code",
      "source": [
        "lending_co_data_numeric = np.loadtxt(\"Lending-company-Numeric.csv\", delimiter=',')"
      ],
      "metadata": {
        "id": "zO0RYBpu0sJO"
      },
      "execution_count": null,
      "outputs": []
    },
    {
      "cell_type": "code",
      "source": [
        "np.isnan(lending_co_data_numeric).sum()"
      ],
      "metadata": {
        "colab": {
          "base_uri": "https://localhost:8080/"
        },
        "id": "ZwW4_cum22_p",
        "outputId": "bc3fd191-7248-4f8f-e493-73e9f51d05cb"
      },
      "execution_count": null,
      "outputs": [
        {
          "output_type": "execute_result",
          "data": {
            "text/plain": [
              "0"
            ]
          },
          "metadata": {},
          "execution_count": 4
        }
      ]
    },
    {
      "cell_type": "code",
      "source": [
        "lending_co_data_numeric_NAN = np.genfromtxt(\"Lending-company-Numeric-NAN.csv\", delimiter = ';')"
      ],
      "metadata": {
        "id": "-HX7oDYb3RLO"
      },
      "execution_count": null,
      "outputs": []
    },
    {
      "cell_type": "code",
      "source": [
        "np.isnan(lending_co_data_numeric_NAN)"
      ],
      "metadata": {
        "colab": {
          "base_uri": "https://localhost:8080/"
        },
        "id": "M6PPx_ZM35Qu",
        "outputId": "aa4f6dcc-c854-4dd2-f674-b9b956fa9083"
      },
      "execution_count": null,
      "outputs": [
        {
          "output_type": "execute_result",
          "data": {
            "text/plain": [
              "array([[False, False, False, False, False, False],\n",
              "       [False, False, False, False, False, False],\n",
              "       [False, False, False, False, False, False],\n",
              "       ...,\n",
              "       [ True, False, False, False, False, False],\n",
              "       [False, False, False, False, False, False],\n",
              "       [False, False, False, False, False, False]])"
            ]
          },
          "metadata": {},
          "execution_count": 6
        }
      ]
    },
    {
      "cell_type": "code",
      "source": [
        "np.isnan(lending_co_data_numeric_NAN).sum()"
      ],
      "metadata": {
        "colab": {
          "base_uri": "https://localhost:8080/"
        },
        "id": "zYw_MJ4n4B44",
        "outputId": "af8081c5-993b-45e5-a46e-408d08ea83cf"
      },
      "execution_count": null,
      "outputs": [
        {
          "output_type": "execute_result",
          "data": {
            "text/plain": [
              "260"
            ]
          },
          "metadata": {},
          "execution_count": 7
        }
      ]
    },
    {
      "cell_type": "code",
      "source": [
        "# lending_co_data_numeric_NAN = np.genfromtxt(\"Lending-company-Numeric-NAN.csv\", \n",
        "#                                            delimiter = ';',\n",
        "#                                            filling_values = 0)"
      ],
      "metadata": {
        "id": "LqJjeaUn4UlU"
      },
      "execution_count": null,
      "outputs": []
    },
    {
      "cell_type": "code",
      "source": [
        "np.isnan(lending_co_data_numeric_NAN).sum()"
      ],
      "metadata": {
        "colab": {
          "base_uri": "https://localhost:8080/"
        },
        "id": "bS7k_SJ94h4C",
        "outputId": "1db91be0-07d7-4d99-a27f-9d50f3a05a3e"
      },
      "execution_count": null,
      "outputs": [
        {
          "output_type": "execute_result",
          "data": {
            "text/plain": [
              "260"
            ]
          },
          "metadata": {},
          "execution_count": 9
        }
      ]
    },
    {
      "cell_type": "code",
      "source": [
        "temporary_fill = np.nanmax(lending_co_data_numeric_NAN).round(2) + 1"
      ],
      "metadata": {
        "id": "4a8MS9Te4plX"
      },
      "execution_count": null,
      "outputs": []
    },
    {
      "cell_type": "code",
      "source": [
        "temporary_fill"
      ],
      "metadata": {
        "colab": {
          "base_uri": "https://localhost:8080/"
        },
        "id": "-yLNsbkc5XSo",
        "outputId": "141de797-62a5-4c88-8f86-fbe9d5652c8e"
      },
      "execution_count": null,
      "outputs": [
        {
          "output_type": "execute_result",
          "data": {
            "text/plain": [
              "64002.0"
            ]
          },
          "metadata": {},
          "execution_count": 11
        }
      ]
    },
    {
      "cell_type": "code",
      "source": [
        "lending_co_data_numeric_NAN = np.genfromtxt(\"Lending-company-Numeric-NAN.csv\", \n",
        "                                            delimiter = ';',\n",
        "                                            filling_values = temporary_fill)"
      ],
      "metadata": {
        "id": "3UFzI4-w5eyu"
      },
      "execution_count": null,
      "outputs": []
    },
    {
      "cell_type": "code",
      "source": [
        "np.isnan(lending_co_data_numeric_NAN)"
      ],
      "metadata": {
        "colab": {
          "base_uri": "https://localhost:8080/"
        },
        "id": "GMHRzboF5nIk",
        "outputId": "70e75719-50c5-4f02-dad6-1cdd234e6ade"
      },
      "execution_count": null,
      "outputs": [
        {
          "output_type": "execute_result",
          "data": {
            "text/plain": [
              "array([[False, False, False, False, False, False],\n",
              "       [False, False, False, False, False, False],\n",
              "       [False, False, False, False, False, False],\n",
              "       ...,\n",
              "       [False, False, False, False, False, False],\n",
              "       [False, False, False, False, False, False],\n",
              "       [False, False, False, False, False, False]])"
            ]
          },
          "metadata": {},
          "execution_count": 13
        }
      ]
    },
    {
      "cell_type": "code",
      "source": [
        "np.isnan(lending_co_data_numeric_NAN).sum()"
      ],
      "metadata": {
        "colab": {
          "base_uri": "https://localhost:8080/"
        },
        "id": "2tz6w8Fs55F8",
        "outputId": "7b950246-0269-4d35-80de-fe2a32e60c35"
      },
      "execution_count": null,
      "outputs": [
        {
          "output_type": "execute_result",
          "data": {
            "text/plain": [
              "0"
            ]
          },
          "metadata": {},
          "execution_count": 14
        }
      ]
    },
    {
      "cell_type": "markdown",
      "source": [
        "Substituting Missing Values"
      ],
      "metadata": {
        "id": "NGr5SGH-6GQi"
      }
    },
    {
      "cell_type": "code",
      "source": [
        "lending_co_data_numeric_NAN = np.genfromtxt(\"Lending-company-Numeric-NAN.csv\", delimiter = ';')\n",
        "lending_co_data_numeric_NAN"
      ],
      "metadata": {
        "id": "g2rP43RjarE0",
        "colab": {
          "base_uri": "https://localhost:8080/"
        },
        "outputId": "28b94a3a-35b2-4ef7-f99a-121c0ccbe1b2"
      },
      "execution_count": null,
      "outputs": [
        {
          "output_type": "execute_result",
          "data": {
            "text/plain": [
              "array([[ 2000.,    40.,   365.,  3121.,  4241., 13621.],\n",
              "       [ 2000.,    40.,   365.,  3061.,  4171., 15041.],\n",
              "       [ 1000.,    40.,   365.,  2160.,  3280., 15340.],\n",
              "       ...,\n",
              "       [   nan,    40.,   365.,  4201.,  5001., 16600.],\n",
              "       [ 1000.,    40.,   365.,  2080.,  3320., 15600.],\n",
              "       [ 2000.,    40.,   365.,  4601.,  4601., 16600.]])"
            ]
          },
          "metadata": {},
          "execution_count": 15
        }
      ]
    },
    {
      "cell_type": "code",
      "source": [
        "temporary_mean = np.nanmean(lending_co_data_numeric_NAN, axis = 0).round(2)"
      ],
      "metadata": {
        "id": "ZwrSkVNxbNEJ"
      },
      "execution_count": null,
      "outputs": []
    },
    {
      "cell_type": "code",
      "source": [
        "temporary_mean[0]"
      ],
      "metadata": {
        "colab": {
          "base_uri": "https://localhost:8080/"
        },
        "id": "SuwA_NRmcJu9",
        "outputId": "88ba47c9-8660-4a8d-80ab-382c0bdf2494"
      },
      "execution_count": null,
      "outputs": [
        {
          "output_type": "execute_result",
          "data": {
            "text/plain": [
              "2250.25"
            ]
          },
          "metadata": {},
          "execution_count": 17
        }
      ]
    },
    {
      "cell_type": "code",
      "source": [
        "temporary_fill = np.nanmax(lending_co_data_numeric_NAN).round(2) + 1\n",
        "\n",
        "lending_co_data_numeric_NAN = np.genfromtxt('Lending-company-Numeric-NAN.csv',\n",
        "                                            delimiter = ';',\n",
        "                                            filling_values = temporary_fill)\n",
        "lending_co_data_numeric_NAN"
      ],
      "metadata": {
        "colab": {
          "base_uri": "https://localhost:8080/"
        },
        "id": "b9w3BmJBcRfr",
        "outputId": "9fbb9672-22e4-4afd-d707-139f1276c149"
      },
      "execution_count": null,
      "outputs": [
        {
          "output_type": "execute_result",
          "data": {
            "text/plain": [
              "array([[2.0000e+03, 4.0000e+01, 3.6500e+02, 3.1210e+03, 4.2410e+03,\n",
              "        1.3621e+04],\n",
              "       [2.0000e+03, 4.0000e+01, 3.6500e+02, 3.0610e+03, 4.1710e+03,\n",
              "        1.5041e+04],\n",
              "       [1.0000e+03, 4.0000e+01, 3.6500e+02, 2.1600e+03, 3.2800e+03,\n",
              "        1.5340e+04],\n",
              "       ...,\n",
              "       [6.4002e+04, 4.0000e+01, 3.6500e+02, 4.2010e+03, 5.0010e+03,\n",
              "        1.6600e+04],\n",
              "       [1.0000e+03, 4.0000e+01, 3.6500e+02, 2.0800e+03, 3.3200e+03,\n",
              "        1.5600e+04],\n",
              "       [2.0000e+03, 4.0000e+01, 3.6500e+02, 4.6010e+03, 4.6010e+03,\n",
              "        1.6600e+04]])"
            ]
          },
          "metadata": {},
          "execution_count": 18
        }
      ]
    },
    {
      "cell_type": "code",
      "source": [
        "temporary_fill"
      ],
      "metadata": {
        "colab": {
          "base_uri": "https://localhost:8080/"
        },
        "id": "OIcZpbstdXxA",
        "outputId": "d977a0f6-79ce-49c3-8086-ef0bf74e661e"
      },
      "execution_count": null,
      "outputs": [
        {
          "output_type": "execute_result",
          "data": {
            "text/plain": [
              "64002.0"
            ]
          },
          "metadata": {},
          "execution_count": 19
        }
      ]
    },
    {
      "cell_type": "code",
      "source": [
        "np.mean(lending_co_data_numeric_NAN[:,0]).round(2)"
      ],
      "metadata": {
        "colab": {
          "base_uri": "https://localhost:8080/"
        },
        "id": "4MlitLSPdhpV",
        "outputId": "efd5973a-a594-4bba-fbb8-e077528b1c97"
      },
      "execution_count": null,
      "outputs": [
        {
          "output_type": "execute_result",
          "data": {
            "text/plain": [
              "4263.25"
            ]
          },
          "metadata": {},
          "execution_count": 20
        }
      ]
    },
    {
      "cell_type": "code",
      "source": [
        "temporary_mean[0]"
      ],
      "metadata": {
        "colab": {
          "base_uri": "https://localhost:8080/"
        },
        "id": "lZcHGvA9d5PU",
        "outputId": "de3de0be-47eb-4395-876b-6e5f99f88fda"
      },
      "execution_count": null,
      "outputs": [
        {
          "output_type": "execute_result",
          "data": {
            "text/plain": [
              "2250.25"
            ]
          },
          "metadata": {},
          "execution_count": 21
        }
      ]
    },
    {
      "cell_type": "code",
      "source": [
        "lending_co_data_numeric_NAN[:,0] = np.where(lending_co_data_numeric_NAN[:,0] == temporary_fill,\n",
        "                                            temporary_mean[0],\n",
        "                                            lending_co_data_numeric_NAN[:,0])"
      ],
      "metadata": {
        "id": "bAbVwDIOf_9_"
      },
      "execution_count": null,
      "outputs": []
    },
    {
      "cell_type": "code",
      "source": [
        "np.mean(lending_co_data_numeric_NAN[:,0]).round(2)"
      ],
      "metadata": {
        "colab": {
          "base_uri": "https://localhost:8080/"
        },
        "id": "_70GXb8Hhc26",
        "outputId": "c0225757-bf06-4fab-e117-a0e1b88fa605"
      },
      "execution_count": null,
      "outputs": [
        {
          "output_type": "execute_result",
          "data": {
            "text/plain": [
              "2250.25"
            ]
          },
          "metadata": {},
          "execution_count": 23
        }
      ]
    },
    {
      "cell_type": "code",
      "source": [
        "for i in range(lending_co_data_numeric_NAN.shape[1]):\n",
        "  lending_co_data_numeric_NAN[:,1] = np.where(lending_co_data_numeric_NAN[:,1] < 0,\n",
        "                                              0,\n",
        "                                              lending_co_data_numeric_NAN[:,1])"
      ],
      "metadata": {
        "id": "VIZj7YkzinJa"
      },
      "execution_count": null,
      "outputs": []
    },
    {
      "cell_type": "markdown",
      "source": [
        "Reshaping"
      ],
      "metadata": {
        "id": "x5IPYgGOoJ1u"
      }
    },
    {
      "cell_type": "code",
      "source": [
        "lending_co_data_numeric = np.loadtxt(\"Lending-company-Numeric.csv\", delimiter = ',')"
      ],
      "metadata": {
        "id": "4x_SvAQitXae"
      },
      "execution_count": null,
      "outputs": []
    },
    {
      "cell_type": "code",
      "source": [
        "lending_co_data_numeric"
      ],
      "metadata": {
        "colab": {
          "base_uri": "https://localhost:8080/"
        },
        "id": "msFRFmsPtp7G",
        "outputId": "135ab3a5-e2f1-4708-884e-e1930f6203de"
      },
      "execution_count": null,
      "outputs": [
        {
          "output_type": "execute_result",
          "data": {
            "text/plain": [
              "array([[ 2000.,    40.,   365.,  3121.,  4241., 13621.],\n",
              "       [ 2000.,    40.,   365.,  3061.,  4171., 15041.],\n",
              "       [ 1000.,    40.,   365.,  2160.,  3280., 15340.],\n",
              "       ...,\n",
              "       [ 2000.,    40.,   365.,  4201.,  5001., 16600.],\n",
              "       [ 1000.,    40.,   365.,  2080.,  3320., 15600.],\n",
              "       [ 2000.,    40.,   365.,  4601.,  4601., 16600.]])"
            ]
          },
          "metadata": {},
          "execution_count": 26
        }
      ]
    },
    {
      "cell_type": "code",
      "source": [
        "lending_co_data_numeric.shape"
      ],
      "metadata": {
        "colab": {
          "base_uri": "https://localhost:8080/"
        },
        "id": "dK0o9Dj-uBrC",
        "outputId": "1f98c70f-2f87-4fbf-a56b-48271b0abce3"
      },
      "execution_count": null,
      "outputs": [
        {
          "output_type": "execute_result",
          "data": {
            "text/plain": [
              "(1043, 6)"
            ]
          },
          "metadata": {},
          "execution_count": 27
        }
      ]
    },
    {
      "cell_type": "code",
      "source": [
        "np.reshape(lending_co_data_numeric, (6,1043))"
      ],
      "metadata": {
        "colab": {
          "base_uri": "https://localhost:8080/"
        },
        "id": "lYN4KlXRutyl",
        "outputId": "fd6999f2-eae8-4c55-e484-18a6abadaedf"
      },
      "execution_count": null,
      "outputs": [
        {
          "output_type": "execute_result",
          "data": {
            "text/plain": [
              "array([[ 2000.,    40.,   365., ...,   365.,  1581.,  3041.],\n",
              "       [12277.,  2000.,    40., ...,    50.,   365.,  5350.],\n",
              "       [ 6850., 15150.,  1000., ...,  2000.,    40.,   365.],\n",
              "       [ 3101.,  4351., 16600., ..., 16600.,  2000.,    40.],\n",
              "       [  365.,  3441.,  4661., ...,  8450., 22250.,  2000.],\n",
              "       [   40.,   365.,  3701., ...,  4601.,  4601., 16600.]])"
            ]
          },
          "metadata": {},
          "execution_count": 28
        }
      ]
    },
    {
      "cell_type": "code",
      "source": [
        "np.transpose(lending_co_data_numeric)"
      ],
      "metadata": {
        "colab": {
          "base_uri": "https://localhost:8080/"
        },
        "id": "SrHu_kG5wDLh",
        "outputId": "4a31d0a6-3048-46e2-efa8-e54b957ca421"
      },
      "execution_count": null,
      "outputs": [
        {
          "output_type": "execute_result",
          "data": {
            "text/plain": [
              "array([[ 2000.,  2000.,  1000., ...,  2000.,  1000.,  2000.],\n",
              "       [   40.,    40.,    40., ...,    40.,    40.,    40.],\n",
              "       [  365.,   365.,   365., ...,   365.,   365.,   365.],\n",
              "       [ 3121.,  3061.,  2160., ...,  4201.,  2080.,  4601.],\n",
              "       [ 4241.,  4171.,  3280., ...,  5001.,  3320.,  4601.],\n",
              "       [13621., 15041., 15340., ..., 16600., 15600., 16600.]])"
            ]
          },
          "metadata": {},
          "execution_count": 29
        }
      ]
    },
    {
      "cell_type": "code",
      "source": [
        "np.reshape(lending_co_data_numeric, (2,3,1043))"
      ],
      "metadata": {
        "colab": {
          "base_uri": "https://localhost:8080/"
        },
        "id": "iIiKS2xBwenY",
        "outputId": "9acd9e79-7576-4b8d-afc4-f65ff027aa8e"
      },
      "execution_count": null,
      "outputs": [
        {
          "output_type": "execute_result",
          "data": {
            "text/plain": [
              "array([[[ 2000.,    40.,   365., ...,   365.,  1581.,  3041.],\n",
              "        [12277.,  2000.,    40., ...,    50.,   365.,  5350.],\n",
              "        [ 6850., 15150.,  1000., ...,  2000.,    40.,   365.]],\n",
              "\n",
              "       [[ 3101.,  4351., 16600., ..., 16600.,  2000.,    40.],\n",
              "        [  365.,  3441.,  4661., ...,  8450., 22250.,  2000.],\n",
              "        [   40.,   365.,  3701., ...,  4601.,  4601., 16600.]]])"
            ]
          },
          "metadata": {},
          "execution_count": 30
        }
      ]
    },
    {
      "cell_type": "markdown",
      "source": [
        "Removing Values"
      ],
      "metadata": {
        "id": "VhB19TRGM-VP"
      }
    },
    {
      "cell_type": "code",
      "source": [
        "lending_co_data_numeric"
      ],
      "metadata": {
        "colab": {
          "base_uri": "https://localhost:8080/"
        },
        "id": "bgvhCGeJM84g",
        "outputId": "082628d9-ce1b-47d1-9473-169e5f8b49eb"
      },
      "execution_count": null,
      "outputs": [
        {
          "output_type": "execute_result",
          "data": {
            "text/plain": [
              "array([[ 2000.,    40.,   365.,  3121.,  4241., 13621.],\n",
              "       [ 2000.,    40.,   365.,  3061.,  4171., 15041.],\n",
              "       [ 1000.,    40.,   365.,  2160.,  3280., 15340.],\n",
              "       ...,\n",
              "       [ 2000.,    40.,   365.,  4201.,  5001., 16600.],\n",
              "       [ 1000.,    40.,   365.,  2080.,  3320., 15600.],\n",
              "       [ 2000.,    40.,   365.,  4601.,  4601., 16600.]])"
            ]
          },
          "metadata": {},
          "execution_count": 31
        }
      ]
    },
    {
      "cell_type": "code",
      "source": [
        "np.delete(lending_co_data_numeric, 0).shape"
      ],
      "metadata": {
        "colab": {
          "base_uri": "https://localhost:8080/"
        },
        "id": "YNyeoO3VNRc3",
        "outputId": "c5a160f0-2dbe-46f4-e387-f233edf4c5bf"
      },
      "execution_count": null,
      "outputs": [
        {
          "output_type": "execute_result",
          "data": {
            "text/plain": [
              "(6257,)"
            ]
          },
          "metadata": {},
          "execution_count": 32
        }
      ]
    },
    {
      "cell_type": "code",
      "source": [
        "lending_co_data_numeric.size"
      ],
      "metadata": {
        "colab": {
          "base_uri": "https://localhost:8080/"
        },
        "id": "QjhLGDAzN-ec",
        "outputId": "02f5d490-012b-49f9-f3c6-ee83301c904d"
      },
      "execution_count": null,
      "outputs": [
        {
          "output_type": "execute_result",
          "data": {
            "text/plain": [
              "6258"
            ]
          },
          "metadata": {},
          "execution_count": 33
        }
      ]
    },
    {
      "cell_type": "code",
      "source": [
        "lending_co_data_numeric"
      ],
      "metadata": {
        "colab": {
          "base_uri": "https://localhost:8080/"
        },
        "id": "gQp6bx4nOSAh",
        "outputId": "3aaba579-8f07-4e86-ace7-0fa9af44d096"
      },
      "execution_count": null,
      "outputs": [
        {
          "output_type": "execute_result",
          "data": {
            "text/plain": [
              "array([[ 2000.,    40.,   365.,  3121.,  4241., 13621.],\n",
              "       [ 2000.,    40.,   365.,  3061.,  4171., 15041.],\n",
              "       [ 1000.,    40.,   365.,  2160.,  3280., 15340.],\n",
              "       ...,\n",
              "       [ 2000.,    40.,   365.,  4201.,  5001., 16600.],\n",
              "       [ 1000.,    40.,   365.,  2080.,  3320., 15600.],\n",
              "       [ 2000.,    40.,   365.,  4601.,  4601., 16600.]])"
            ]
          },
          "metadata": {},
          "execution_count": 34
        }
      ]
    },
    {
      "cell_type": "code",
      "source": [
        "np.delete(lending_co_data_numeric, 0, axis = 1)"
      ],
      "metadata": {
        "colab": {
          "base_uri": "https://localhost:8080/"
        },
        "id": "oGbXvhjQOUZ2",
        "outputId": "36f988d4-1352-4b27-a923-69177dd0f258"
      },
      "execution_count": null,
      "outputs": [
        {
          "output_type": "execute_result",
          "data": {
            "text/plain": [
              "array([[   40.,   365.,  3121.,  4241., 13621.],\n",
              "       [   40.,   365.,  3061.,  4171., 15041.],\n",
              "       [   40.,   365.,  2160.,  3280., 15340.],\n",
              "       ...,\n",
              "       [   40.,   365.,  4201.,  5001., 16600.],\n",
              "       [   40.,   365.,  2080.,  3320., 15600.],\n",
              "       [   40.,   365.,  4601.,  4601., 16600.]])"
            ]
          },
          "metadata": {},
          "execution_count": 35
        }
      ]
    },
    {
      "cell_type": "code",
      "source": [
        "np.delete(lending_co_data_numeric, 1, axis = 1)"
      ],
      "metadata": {
        "colab": {
          "base_uri": "https://localhost:8080/"
        },
        "id": "hwMwSIWHO2ah",
        "outputId": "f1ee1487-d8a2-4182-eb38-b3bcc34f5799"
      },
      "execution_count": null,
      "outputs": [
        {
          "output_type": "execute_result",
          "data": {
            "text/plain": [
              "array([[ 2000.,   365.,  3121.,  4241., 13621.],\n",
              "       [ 2000.,   365.,  3061.,  4171., 15041.],\n",
              "       [ 1000.,   365.,  2160.,  3280., 15340.],\n",
              "       ...,\n",
              "       [ 2000.,   365.,  4201.,  5001., 16600.],\n",
              "       [ 1000.,   365.,  2080.,  3320., 15600.],\n",
              "       [ 2000.,   365.,  4601.,  4601., 16600.]])"
            ]
          },
          "metadata": {},
          "execution_count": 36
        }
      ]
    },
    {
      "cell_type": "code",
      "source": [
        "np.delete(lending_co_data_numeric, [0,2,4], axis = 1)"
      ],
      "metadata": {
        "colab": {
          "base_uri": "https://localhost:8080/"
        },
        "id": "mVZz703vPWEY",
        "outputId": "5430f95e-e25f-4646-8ae6-17aa216a7c97"
      },
      "execution_count": null,
      "outputs": [
        {
          "output_type": "execute_result",
          "data": {
            "text/plain": [
              "array([[   40.,  3121., 13621.],\n",
              "       [   40.,  3061., 15041.],\n",
              "       [   40.,  2160., 15340.],\n",
              "       ...,\n",
              "       [   40.,  4201., 16600.],\n",
              "       [   40.,  2080., 15600.],\n",
              "       [   40.,  4601., 16600.]])"
            ]
          },
          "metadata": {},
          "execution_count": 37
        }
      ]
    },
    {
      "cell_type": "code",
      "source": [
        "np.delete(np.delete(lending_co_data_numeric, [0,2,4], axis = 1), [0,2,-1], axis = 0)"
      ],
      "metadata": {
        "colab": {
          "base_uri": "https://localhost:8080/"
        },
        "id": "oJzziWVlPdUJ",
        "outputId": "35af27c5-59bb-49f9-d697-e9a492a4c1a8"
      },
      "execution_count": null,
      "outputs": [
        {
          "output_type": "execute_result",
          "data": {
            "text/plain": [
              "array([[   40.,  3061., 15041.],\n",
              "       [   40.,  3041., 15321.],\n",
              "       [   50.,  3470., 13720.],\n",
              "       ...,\n",
              "       [   40.,  4240., 16600.],\n",
              "       [   40.,  4201., 16600.],\n",
              "       [   40.,  2080., 15600.]])"
            ]
          },
          "metadata": {},
          "execution_count": 38
        }
      ]
    },
    {
      "cell_type": "markdown",
      "source": [
        "Sorting Data"
      ],
      "metadata": {
        "id": "TgwXbQnlQrfR"
      }
    },
    {
      "cell_type": "code",
      "source": [
        "np.sort(lending_co_data_numeric)"
      ],
      "metadata": {
        "colab": {
          "base_uri": "https://localhost:8080/"
        },
        "id": "pvqr4DtPQdKs",
        "outputId": "4dbee3b3-c512-419b-e5a6-8fd243e1e775"
      },
      "execution_count": null,
      "outputs": [
        {
          "output_type": "execute_result",
          "data": {
            "text/plain": [
              "array([[   40.,   365.,  2000.,  3121.,  4241., 13621.],\n",
              "       [   40.,   365.,  2000.,  3061.,  4171., 15041.],\n",
              "       [   40.,   365.,  1000.,  2160.,  3280., 15340.],\n",
              "       ...,\n",
              "       [   40.,   365.,  2000.,  4201.,  5001., 16600.],\n",
              "       [   40.,   365.,  1000.,  2080.,  3320., 15600.],\n",
              "       [   40.,   365.,  2000.,  4601.,  4601., 16600.]])"
            ]
          },
          "metadata": {},
          "execution_count": 39
        }
      ]
    },
    {
      "cell_type": "code",
      "source": [
        "np.sort(lending_co_data_numeric).shape"
      ],
      "metadata": {
        "colab": {
          "base_uri": "https://localhost:8080/"
        },
        "id": "qGFqehlXRHNX",
        "outputId": "b12fc5de-1d94-48cd-f4f6-f71f88749e49"
      },
      "execution_count": null,
      "outputs": [
        {
          "output_type": "execute_result",
          "data": {
            "text/plain": [
              "(1043, 6)"
            ]
          },
          "metadata": {},
          "execution_count": 40
        }
      ]
    },
    {
      "cell_type": "code",
      "source": [
        "np.sort(lending_co_data_numeric, axis = 0)"
      ],
      "metadata": {
        "colab": {
          "base_uri": "https://localhost:8080/"
        },
        "id": "0kKq6VQKRLOB",
        "outputId": "eb00b355-b3c8-4fd7-e67d-1486f7c07219"
      },
      "execution_count": null,
      "outputs": [
        {
          "output_type": "execute_result",
          "data": {
            "text/plain": [
              "array([[ 1.0000e+03,  3.5000e+01,  3.6500e+02, -2.8700e+03, -2.8700e+03,\n",
              "        -3.5000e+02],\n",
              "       [ 1.0000e+03,  3.5000e+01,  3.6500e+02, -2.5500e+03, -2.1000e+03,\n",
              "         1.5000e+02],\n",
              "       [ 1.0000e+03,  3.5000e+01,  3.6500e+02, -2.4500e+03, -2.0000e+03,\n",
              "         1.1000e+03],\n",
              "       ...,\n",
              "       [ 9.0000e+03,  1.2500e+02,  3.6500e+02,  1.6751e+04,  1.8751e+04,\n",
              "         5.4625e+04],\n",
              "       [ 9.0000e+03,  1.6500e+02,  3.6500e+02,  1.7650e+04,  2.0001e+04,\n",
              "         5.4625e+04],\n",
              "       [ 9.0000e+03,  1.6500e+02,  3.6500e+02,  1.9001e+04,  2.2001e+04,\n",
              "         6.4001e+04]])"
            ]
          },
          "metadata": {},
          "execution_count": 41
        }
      ]
    },
    {
      "cell_type": "code",
      "source": [
        "np.set_printoptions(suppress = True)"
      ],
      "metadata": {
        "id": "Atd1ozjMia1o"
      },
      "execution_count": null,
      "outputs": []
    },
    {
      "cell_type": "code",
      "source": [
        "np.sort(lending_co_data_numeric, axis = None)"
      ],
      "metadata": {
        "colab": {
          "base_uri": "https://localhost:8080/"
        },
        "id": "qVU1NacvjN10",
        "outputId": "4168bef9-5281-41d0-ef8d-a863311d3c4f"
      },
      "execution_count": null,
      "outputs": [
        {
          "output_type": "execute_result",
          "data": {
            "text/plain": [
              "array([-2870., -2870., -2550., ..., 54625., 54625., 64001.])"
            ]
          },
          "metadata": {},
          "execution_count": 43
        }
      ]
    },
    {
      "cell_type": "code",
      "source": [
        "np.sort(lending_co_data_numeric)"
      ],
      "metadata": {
        "colab": {
          "base_uri": "https://localhost:8080/"
        },
        "id": "8WbG0B0gjUU7",
        "outputId": "aa6416ad-aed8-48cd-8ced-8619bbb60a7c"
      },
      "execution_count": null,
      "outputs": [
        {
          "output_type": "execute_result",
          "data": {
            "text/plain": [
              "array([[   40.,   365.,  2000.,  3121.,  4241., 13621.],\n",
              "       [   40.,   365.,  2000.,  3061.,  4171., 15041.],\n",
              "       [   40.,   365.,  1000.,  2160.,  3280., 15340.],\n",
              "       ...,\n",
              "       [   40.,   365.,  2000.,  4201.,  5001., 16600.],\n",
              "       [   40.,   365.,  1000.,  2080.,  3320., 15600.],\n",
              "       [   40.,   365.,  2000.,  4601.,  4601., 16600.]])"
            ]
          },
          "metadata": {},
          "execution_count": 44
        }
      ]
    },
    {
      "cell_type": "code",
      "source": [
        "np.sort(-lending_co_data_numeric)"
      ],
      "metadata": {
        "colab": {
          "base_uri": "https://localhost:8080/"
        },
        "id": "22ZV3kWPjd93",
        "outputId": "96bc56c7-7fe2-43e5-a0aa-3627d976c3ac"
      },
      "execution_count": null,
      "outputs": [
        {
          "output_type": "execute_result",
          "data": {
            "text/plain": [
              "array([[-13621.,  -4241.,  -3121.,  -2000.,   -365.,    -40.],\n",
              "       [-15041.,  -4171.,  -3061.,  -2000.,   -365.,    -40.],\n",
              "       [-15340.,  -3280.,  -2160.,  -1000.,   -365.,    -40.],\n",
              "       ...,\n",
              "       [-16600.,  -5001.,  -4201.,  -2000.,   -365.,    -40.],\n",
              "       [-15600.,  -3320.,  -2080.,  -1000.,   -365.,    -40.],\n",
              "       [-16600.,  -4601.,  -4601.,  -2000.,   -365.,    -40.]])"
            ]
          },
          "metadata": {},
          "execution_count": 45
        }
      ]
    },
    {
      "cell_type": "code",
      "source": [
        "-np.sort(-lending_co_data_numeric)"
      ],
      "metadata": {
        "colab": {
          "base_uri": "https://localhost:8080/"
        },
        "id": "cAVDQmvrjoqA",
        "outputId": "f3b91e23-418f-4ad0-ee3d-2cb8d2141e68"
      },
      "execution_count": null,
      "outputs": [
        {
          "output_type": "execute_result",
          "data": {
            "text/plain": [
              "array([[13621.,  4241.,  3121.,  2000.,   365.,    40.],\n",
              "       [15041.,  4171.,  3061.,  2000.,   365.,    40.],\n",
              "       [15340.,  3280.,  2160.,  1000.,   365.,    40.],\n",
              "       ...,\n",
              "       [16600.,  5001.,  4201.,  2000.,   365.,    40.],\n",
              "       [15600.,  3320.,  2080.,  1000.,   365.,    40.],\n",
              "       [16600.,  4601.,  4601.,  2000.,   365.,    40.]])"
            ]
          },
          "metadata": {},
          "execution_count": 46
        }
      ]
    },
    {
      "cell_type": "code",
      "source": [
        "-np.sort(lending_co_data_numeric)"
      ],
      "metadata": {
        "colab": {
          "base_uri": "https://localhost:8080/"
        },
        "id": "tT2w7giDj17M",
        "outputId": "cf593126-46e9-4e89-9c47-1032e8acabdf"
      },
      "execution_count": null,
      "outputs": [
        {
          "output_type": "execute_result",
          "data": {
            "text/plain": [
              "array([[   -40.,   -365.,  -2000.,  -3121.,  -4241., -13621.],\n",
              "       [   -40.,   -365.,  -2000.,  -3061.,  -4171., -15041.],\n",
              "       [   -40.,   -365.,  -1000.,  -2160.,  -3280., -15340.],\n",
              "       ...,\n",
              "       [   -40.,   -365.,  -2000.,  -4201.,  -5001., -16600.],\n",
              "       [   -40.,   -365.,  -1000.,  -2080.,  -3320., -15600.],\n",
              "       [   -40.,   -365.,  -2000.,  -4601.,  -4601., -16600.]])"
            ]
          },
          "metadata": {},
          "execution_count": 47
        }
      ]
    },
    {
      "cell_type": "code",
      "source": [
        "lending_co_data_numeric"
      ],
      "metadata": {
        "colab": {
          "base_uri": "https://localhost:8080/"
        },
        "id": "qtYIiYGqkEou",
        "outputId": "cc9204dd-ed4d-42d0-f8e5-c35cc1e14c1e"
      },
      "execution_count": null,
      "outputs": [
        {
          "output_type": "execute_result",
          "data": {
            "text/plain": [
              "array([[ 2000.,    40.,   365.,  3121.,  4241., 13621.],\n",
              "       [ 2000.,    40.,   365.,  3061.,  4171., 15041.],\n",
              "       [ 1000.,    40.,   365.,  2160.,  3280., 15340.],\n",
              "       ...,\n",
              "       [ 2000.,    40.,   365.,  4201.,  5001., 16600.],\n",
              "       [ 1000.,    40.,   365.,  2080.,  3320., 15600.],\n",
              "       [ 2000.,    40.,   365.,  4601.,  4601., 16600.]])"
            ]
          },
          "metadata": {},
          "execution_count": 48
        }
      ]
    },
    {
      "cell_type": "code",
      "source": [
        "np.sort(lending_co_data_numeric[:,3])"
      ],
      "metadata": {
        "colab": {
          "base_uri": "https://localhost:8080/"
        },
        "id": "7Vx8GUuKka8N",
        "outputId": "23a85855-8fbf-4c7b-bac1-3943620fa9f5"
      },
      "execution_count": null,
      "outputs": [
        {
          "output_type": "execute_result",
          "data": {
            "text/plain": [
              "array([-2870., -2550., -2450., ..., 16751., 17650., 19001.])"
            ]
          },
          "metadata": {},
          "execution_count": 49
        }
      ]
    },
    {
      "cell_type": "code",
      "source": [
        "lending_co_data_numeric[:,3].sort()\n",
        "lending_co_data_numeric"
      ],
      "metadata": {
        "id": "PVsfcMXnlpvb",
        "outputId": "e944fcda-acff-42ec-deb6-cbd38d241565",
        "colab": {
          "base_uri": "https://localhost:8080/"
        }
      },
      "execution_count": null,
      "outputs": [
        {
          "output_type": "execute_result",
          "data": {
            "text/plain": [
              "array([[ 2000.,    40.,   365., -2870.,  4241., 13621.],\n",
              "       [ 2000.,    40.,   365., -2550.,  4171., 15041.],\n",
              "       [ 1000.,    40.,   365., -2450.,  3280., 15340.],\n",
              "       ...,\n",
              "       [ 2000.,    40.,   365., 16751.,  5001., 16600.],\n",
              "       [ 1000.,    40.,   365., 17650.,  3320., 15600.],\n",
              "       [ 2000.,    40.,   365., 19001.,  4601., 16600.]])"
            ]
          },
          "metadata": {},
          "execution_count": 50
        }
      ]
    },
    {
      "cell_type": "markdown",
      "source": [
        "Argument Functions"
      ],
      "metadata": {
        "id": "aKcfdhUgOT-c"
      }
    },
    {
      "cell_type": "markdown",
      "source": [
        "np.argsort()"
      ],
      "metadata": {
        "id": "RvkfZ0NBOsIS"
      }
    },
    {
      "cell_type": "code",
      "source": [
        "lending_co_data_numeric"
      ],
      "metadata": {
        "colab": {
          "base_uri": "https://localhost:8080/"
        },
        "id": "db8JmK1YOPIM",
        "outputId": "723a0b74-8107-400f-b990-39111e535a51"
      },
      "execution_count": null,
      "outputs": [
        {
          "output_type": "execute_result",
          "data": {
            "text/plain": [
              "array([[ 2000.,    40.,   365., -2870.,  4241., 13621.],\n",
              "       [ 2000.,    40.,   365., -2550.,  4171., 15041.],\n",
              "       [ 1000.,    40.,   365., -2450.,  3280., 15340.],\n",
              "       ...,\n",
              "       [ 2000.,    40.,   365., 16751.,  5001., 16600.],\n",
              "       [ 1000.,    40.,   365., 17650.,  3320., 15600.],\n",
              "       [ 2000.,    40.,   365., 19001.,  4601., 16600.]])"
            ]
          },
          "metadata": {},
          "execution_count": 51
        }
      ]
    },
    {
      "cell_type": "code",
      "source": [
        "np.argsort(lending_co_data_numeric)"
      ],
      "metadata": {
        "colab": {
          "base_uri": "https://localhost:8080/"
        },
        "id": "utfJqA1LQIYW",
        "outputId": "327dd408-c807-45c7-ad7a-df0714687767"
      },
      "execution_count": null,
      "outputs": [
        {
          "output_type": "execute_result",
          "data": {
            "text/plain": [
              "array([[3, 1, 2, 0, 4, 5],\n",
              "       [3, 1, 2, 0, 4, 5],\n",
              "       [3, 1, 2, 0, 4, 5],\n",
              "       ...,\n",
              "       [1, 2, 0, 4, 5, 3],\n",
              "       [1, 2, 0, 4, 5, 3],\n",
              "       [1, 2, 0, 4, 5, 3]])"
            ]
          },
          "metadata": {},
          "execution_count": 52
        }
      ]
    },
    {
      "cell_type": "code",
      "source": [
        "np.argsort(lending_co_data_numeric, axis = 0)"
      ],
      "metadata": {
        "colab": {
          "base_uri": "https://localhost:8080/"
        },
        "id": "aPQHjzF0RLkC",
        "outputId": "634555a0-ebdf-49c7-e601-c11bb13814dc"
      },
      "execution_count": null,
      "outputs": [
        {
          "output_type": "execute_result",
          "data": {
            "text/plain": [
              "array([[ 537,  443,    0,    0,   32,  482],\n",
              "       [ 639,  327,  687,    1,  166,  493],\n",
              "       [ 849,  432,  688,    2,   85,  166],\n",
              "       ...,\n",
              "       [  27,  326,  355, 1040, 1019,  568],\n",
              "       [ 277,   27,  357, 1041, 1033,  534],\n",
              "       [ 420,  408, 1042, 1042,  912,   27]])"
            ]
          },
          "metadata": {},
          "execution_count": 53
        }
      ]
    },
    {
      "cell_type": "code",
      "source": [
        "lending_co_data_numeric[482,5]"
      ],
      "metadata": {
        "colab": {
          "base_uri": "https://localhost:8080/"
        },
        "id": "wMIboR2oRgVu",
        "outputId": "b2b2f7fa-b2a7-4a84-fccd-16b120ef8806"
      },
      "execution_count": null,
      "outputs": [
        {
          "output_type": "execute_result",
          "data": {
            "text/plain": [
              "-350.0"
            ]
          },
          "metadata": {},
          "execution_count": 54
        }
      ]
    },
    {
      "cell_type": "code",
      "source": [
        "lending_co_data_numeric = lending_co_data_numeric[np.argsort(lending_co_data_numeric[:,0])]\n",
        "lending_co_data_numeric"
      ],
      "metadata": {
        "colab": {
          "base_uri": "https://localhost:8080/"
        },
        "id": "C4UwapaIRx2E",
        "outputId": "f52ed7ef-7da3-4ea2-f799-ab62e80fdd90"
      },
      "execution_count": null,
      "outputs": [
        {
          "output_type": "execute_result",
          "data": {
            "text/plain": [
              "array([[ 1000.,    40.,   365.,  3418.,  3400., 15600.],\n",
              "       [ 1000.,    40.,   365.,  3750.,  3800., 15600.],\n",
              "       [ 1000.,    40.,   365.,  5500.,  3950., 15600.],\n",
              "       ...,\n",
              "       [ 9000.,   165.,   365.,  -750., 16846., 64001.],\n",
              "       [ 9000.,   125.,   365.,  2981., 15751., 38626.],\n",
              "       [ 9000.,   125.,   365.,  3321., 14251., 25626.]])"
            ]
          },
          "metadata": {},
          "execution_count": 55
        }
      ]
    },
    {
      "cell_type": "code",
      "source": [
        "lending_co_data_numeric.argsort(axis = 0)"
      ],
      "metadata": {
        "colab": {
          "base_uri": "https://localhost:8080/"
        },
        "id": "Wl0JTdrISVAQ",
        "outputId": "1aa80e70-1ea1-4d9d-849b-fcccc17d0049"
      },
      "execution_count": null,
      "outputs": [
        {
          "output_type": "execute_result",
          "data": {
            "text/plain": [
              "array([[   0,   22,    0,  342,  199,  172],\n",
              "       [ 155,   62,  687,  650,   53,  160],\n",
              "       [ 156,   38,  688,  177,  169,   53],\n",
              "       ...,\n",
              "       [1022, 1042,  355,  412, 1037, 1023],\n",
              "       [1031, 1039,  357,  194, 1029, 1024],\n",
              "       [1042, 1040, 1042,  716, 1027, 1040]])"
            ]
          },
          "metadata": {},
          "execution_count": 56
        }
      ]
    },
    {
      "cell_type": "code",
      "source": [
        "lending_co_data_numeric"
      ],
      "metadata": {
        "colab": {
          "base_uri": "https://localhost:8080/"
        },
        "id": "Gl3MRyUtTHyI",
        "outputId": "66606700-8171-481c-8725-36067cc49c11"
      },
      "execution_count": null,
      "outputs": [
        {
          "output_type": "execute_result",
          "data": {
            "text/plain": [
              "array([[ 1000.,    40.,   365.,  3418.,  3400., 15600.],\n",
              "       [ 1000.,    40.,   365.,  3750.,  3800., 15600.],\n",
              "       [ 1000.,    40.,   365.,  5500.,  3950., 15600.],\n",
              "       ...,\n",
              "       [ 9000.,   165.,   365.,  -750., 16846., 64001.],\n",
              "       [ 9000.,   125.,   365.,  2981., 15751., 38626.],\n",
              "       [ 9000.,   125.,   365.,  3321., 14251., 25626.]])"
            ]
          },
          "metadata": {},
          "execution_count": 57
        }
      ]
    },
    {
      "cell_type": "markdown",
      "source": [
        "np.argwhere()"
      ],
      "metadata": {
        "id": "_iOadV8ZU-UO"
      }
    },
    {
      "cell_type": "code",
      "source": [
        "np.argwhere(lending_co_data_numeric)"
      ],
      "metadata": {
        "colab": {
          "base_uri": "https://localhost:8080/"
        },
        "id": "mX79KS1AVBrP",
        "outputId": "0447e38f-8662-435c-a0c9-ae02408e81f6"
      },
      "execution_count": null,
      "outputs": [
        {
          "output_type": "execute_result",
          "data": {
            "text/plain": [
              "array([[   0,    0],\n",
              "       [   0,    1],\n",
              "       [   0,    2],\n",
              "       ...,\n",
              "       [1042,    3],\n",
              "       [1042,    4],\n",
              "       [1042,    5]])"
            ]
          },
          "metadata": {},
          "execution_count": 58
        }
      ]
    },
    {
      "cell_type": "code",
      "source": [
        "np.argwhere(lending_co_data_numeric == False)"
      ],
      "metadata": {
        "colab": {
          "base_uri": "https://localhost:8080/"
        },
        "id": "20JL4EvjVoIs",
        "outputId": "41a18fda-b2c7-40ca-ea68-6c622cce6343"
      },
      "execution_count": null,
      "outputs": [
        {
          "output_type": "execute_result",
          "data": {
            "text/plain": [
              "array([[219,   4],\n",
              "       [649,   3]])"
            ]
          },
          "metadata": {},
          "execution_count": 59
        }
      ]
    },
    {
      "cell_type": "code",
      "source": [
        "lending_co_data_numeric[430]"
      ],
      "metadata": {
        "colab": {
          "base_uri": "https://localhost:8080/"
        },
        "id": "_2hW79dCWjOH",
        "outputId": "4bedea60-d805-468e-c0a3-d4ed30a65f9f"
      },
      "execution_count": null,
      "outputs": [
        {
          "output_type": "execute_result",
          "data": {
            "text/plain": [
              "array([ 2000.,    50.,   365.,  7951.,  5251., 20250.])"
            ]
          },
          "metadata": {},
          "execution_count": 60
        }
      ]
    },
    {
      "cell_type": "code",
      "source": [
        "lending_co_data_numeric"
      ],
      "metadata": {
        "colab": {
          "base_uri": "https://localhost:8080/"
        },
        "id": "gHkp4b9UXrtW",
        "outputId": "ca272c07-59a4-4cee-9a7f-90b22c1f6294"
      },
      "execution_count": null,
      "outputs": [
        {
          "output_type": "execute_result",
          "data": {
            "text/plain": [
              "array([[ 1000.,    40.,   365.,  3418.,  3400., 15600.],\n",
              "       [ 1000.,    40.,   365.,  3750.,  3800., 15600.],\n",
              "       [ 1000.,    40.,   365.,  5500.,  3950., 15600.],\n",
              "       ...,\n",
              "       [ 9000.,   165.,   365.,  -750., 16846., 64001.],\n",
              "       [ 9000.,   125.,   365.,  2981., 15751., 38626.],\n",
              "       [ 9000.,   125.,   365.,  3321., 14251., 25626.]])"
            ]
          },
          "metadata": {},
          "execution_count": 61
        }
      ]
    },
    {
      "cell_type": "code",
      "source": [
        "np.argwhere(lending_co_data_numeric %2 == 0)"
      ],
      "metadata": {
        "colab": {
          "base_uri": "https://localhost:8080/"
        },
        "id": "lSsLSJT7X3WH",
        "outputId": "a5612092-bcb9-4b9c-bab6-c46ddc607520"
      },
      "execution_count": null,
      "outputs": [
        {
          "output_type": "execute_result",
          "data": {
            "text/plain": [
              "array([[   0,    0],\n",
              "       [   0,    1],\n",
              "       [   0,    3],\n",
              "       ...,\n",
              "       [1041,    5],\n",
              "       [1042,    0],\n",
              "       [1042,    5]])"
            ]
          },
          "metadata": {},
          "execution_count": 62
        }
      ]
    },
    {
      "cell_type": "code",
      "source": [
        "np.isnan(lending_co_data_numeric).sum()"
      ],
      "metadata": {
        "colab": {
          "base_uri": "https://localhost:8080/"
        },
        "id": "idE4zywAYcJD",
        "outputId": "322e9308-7df5-4f2b-98cf-1e0aa43d6710"
      },
      "execution_count": null,
      "outputs": [
        {
          "output_type": "execute_result",
          "data": {
            "text/plain": [
              "0"
            ]
          },
          "metadata": {},
          "execution_count": 63
        }
      ]
    },
    {
      "cell_type": "code",
      "source": [
        "lending_co_data_numeric_NAN = np.genfromtxt(\"Lending-company-Numeric-NAN.csv\", delimiter = ';')\n",
        "lending_co_data_numeric_NAN"
      ],
      "metadata": {
        "colab": {
          "base_uri": "https://localhost:8080/"
        },
        "id": "zaTNzMv9aBD2",
        "outputId": "28d2b323-ff4a-44f5-8bcc-4367c80eb069"
      },
      "execution_count": null,
      "outputs": [
        {
          "output_type": "execute_result",
          "data": {
            "text/plain": [
              "array([[ 2000.,    40.,   365.,  3121.,  4241., 13621.],\n",
              "       [ 2000.,    40.,   365.,  3061.,  4171., 15041.],\n",
              "       [ 1000.,    40.,   365.,  2160.,  3280., 15340.],\n",
              "       ...,\n",
              "       [   nan,    40.,   365.,  4201.,  5001., 16600.],\n",
              "       [ 1000.,    40.,   365.,  2080.,  3320., 15600.],\n",
              "       [ 2000.,    40.,   365.,  4601.,  4601., 16600.]])"
            ]
          },
          "metadata": {},
          "execution_count": 64
        }
      ]
    },
    {
      "cell_type": "code",
      "source": [
        "np.argwhere(np.isnan(lending_co_data_numeric_NAN))"
      ],
      "metadata": {
        "colab": {
          "base_uri": "https://localhost:8080/"
        },
        "id": "tObMzXVcac46",
        "outputId": "781e2300-d40e-46e1-acbb-c314cad3f826"
      },
      "execution_count": null,
      "outputs": [
        {
          "output_type": "execute_result",
          "data": {
            "text/plain": [
              "array([[  11,    3],\n",
              "       [  15,    3],\n",
              "       [  27,    3],\n",
              "       [  58,    3],\n",
              "       [  60,    4],\n",
              "       [  85,    4],\n",
              "       [ 117,    5],\n",
              "       [ 152,    1],\n",
              "       [ 152,    2],\n",
              "       [ 152,    4],\n",
              "       [ 172,    1],\n",
              "       [ 175,    1],\n",
              "       [ 175,    2],\n",
              "       [ 176,    3],\n",
              "       [ 177,    4],\n",
              "       [ 178,    5],\n",
              "       [ 211,    3],\n",
              "       [ 229,    0],\n",
              "       [ 230,    1],\n",
              "       [ 237,    1],\n",
              "       [ 247,    3],\n",
              "       [ 251,    5],\n",
              "       [ 252,    4],\n",
              "       [ 258,    1],\n",
              "       [ 260,    3],\n",
              "       [ 262,    4],\n",
              "       [ 271,    5],\n",
              "       [ 272,    4],\n",
              "       [ 284,    2],\n",
              "       [ 284,    3],\n",
              "       [ 297,    1],\n",
              "       [ 297,    2],\n",
              "       [ 300,    3],\n",
              "       [ 315,    3],\n",
              "       [ 315,    5],\n",
              "       [ 327,    4],\n",
              "       [ 336,    4],\n",
              "       [ 343,    0],\n",
              "       [ 344,    2],\n",
              "       [ 346,    2],\n",
              "       [ 363,    3],\n",
              "       [ 375,    3],\n",
              "       [ 377,    2],\n",
              "       [ 398,    5],\n",
              "       [ 416,    4],\n",
              "       [ 428,    0],\n",
              "       [ 432,    1],\n",
              "       [ 433,    3],\n",
              "       [ 434,    2],\n",
              "       [ 440,    3],\n",
              "       [ 441,    1],\n",
              "       [ 446,    2],\n",
              "       [ 455,    1],\n",
              "       [ 456,    2],\n",
              "       [ 458,    2],\n",
              "       [ 461,    3],\n",
              "       [ 467,    4],\n",
              "       [ 468,    0],\n",
              "       [ 469,    3],\n",
              "       [ 470,    0],\n",
              "       [ 481,    1],\n",
              "       [ 482,    3],\n",
              "       [ 484,    4],\n",
              "       [ 489,    0],\n",
              "       [ 493,    5],\n",
              "       [ 499,    0],\n",
              "       [ 504,    3],\n",
              "       [ 506,    1],\n",
              "       [ 517,    4],\n",
              "       [ 518,    0],\n",
              "       [ 521,    2],\n",
              "       [ 530,    5],\n",
              "       [ 532,    3],\n",
              "       [ 534,    5],\n",
              "       [ 547,    3],\n",
              "       [ 549,    5],\n",
              "       [ 553,    5],\n",
              "       [ 554,    5],\n",
              "       [ 559,    3],\n",
              "       [ 566,    0],\n",
              "       [ 566,    1],\n",
              "       [ 566,    2],\n",
              "       [ 567,    0],\n",
              "       [ 567,    1],\n",
              "       [ 567,    2],\n",
              "       [ 581,    1],\n",
              "       [ 581,    2],\n",
              "       [ 582,    1],\n",
              "       [ 582,    2],\n",
              "       [ 583,    1],\n",
              "       [ 583,    2],\n",
              "       [ 593,    3],\n",
              "       [ 594,    3],\n",
              "       [ 595,    3],\n",
              "       [ 596,    3],\n",
              "       [ 609,    4],\n",
              "       [ 609,    5],\n",
              "       [ 610,    4],\n",
              "       [ 610,    5],\n",
              "       [ 611,    4],\n",
              "       [ 611,    5],\n",
              "       [ 612,    4],\n",
              "       [ 612,    5],\n",
              "       [ 623,    2],\n",
              "       [ 623,    3],\n",
              "       [ 624,    2],\n",
              "       [ 624,    3],\n",
              "       [ 625,    2],\n",
              "       [ 625,    3],\n",
              "       [ 626,    2],\n",
              "       [ 626,    3],\n",
              "       [ 627,    2],\n",
              "       [ 627,    3],\n",
              "       [ 636,    0],\n",
              "       [ 637,    0],\n",
              "       [ 637,    4],\n",
              "       [ 637,    5],\n",
              "       [ 638,    0],\n",
              "       [ 638,    4],\n",
              "       [ 638,    5],\n",
              "       [ 639,    4],\n",
              "       [ 639,    5],\n",
              "       [ 640,    4],\n",
              "       [ 640,    5],\n",
              "       [ 641,    4],\n",
              "       [ 641,    5],\n",
              "       [ 653,    1],\n",
              "       [ 653,    2],\n",
              "       [ 653,    3],\n",
              "       [ 653,    4],\n",
              "       [ 654,    1],\n",
              "       [ 654,    2],\n",
              "       [ 654,    3],\n",
              "       [ 654,    4],\n",
              "       [ 655,    1],\n",
              "       [ 655,    2],\n",
              "       [ 655,    3],\n",
              "       [ 655,    4],\n",
              "       [ 685,    2],\n",
              "       [ 686,    0],\n",
              "       [ 701,    4],\n",
              "       [ 704,    2],\n",
              "       [ 724,    1],\n",
              "       [ 724,    2],\n",
              "       [ 730,    1],\n",
              "       [ 730,    2],\n",
              "       [ 730,    3],\n",
              "       [ 731,    1],\n",
              "       [ 731,    2],\n",
              "       [ 731,    3],\n",
              "       [ 732,    1],\n",
              "       [ 732,    2],\n",
              "       [ 732,    3],\n",
              "       [ 733,    1],\n",
              "       [ 733,    2],\n",
              "       [ 733,    3],\n",
              "       [ 742,    4],\n",
              "       [ 747,    3],\n",
              "       [ 755,    1],\n",
              "       [ 758,    1],\n",
              "       [ 760,    1],\n",
              "       [ 764,    0],\n",
              "       [ 764,    1],\n",
              "       [ 764,    2],\n",
              "       [ 764,    3],\n",
              "       [ 764,    4],\n",
              "       [ 764,    5],\n",
              "       [ 765,    3],\n",
              "       [ 775,    1],\n",
              "       [ 775,    2],\n",
              "       [ 775,    3],\n",
              "       [ 776,    1],\n",
              "       [ 776,    2],\n",
              "       [ 776,    3],\n",
              "       [ 777,    1],\n",
              "       [ 777,    2],\n",
              "       [ 777,    3],\n",
              "       [ 778,    1],\n",
              "       [ 778,    2],\n",
              "       [ 778,    3],\n",
              "       [ 787,    4],\n",
              "       [ 788,    1],\n",
              "       [ 790,    2],\n",
              "       [ 794,    3],\n",
              "       [ 795,    5],\n",
              "       [ 796,    1],\n",
              "       [ 796,    4],\n",
              "       [ 800,    0],\n",
              "       [ 801,    1],\n",
              "       [ 802,    1],\n",
              "       [ 803,    2],\n",
              "       [ 805,    0],\n",
              "       [ 809,    0],\n",
              "       [ 810,    0],\n",
              "       [ 811,    0],\n",
              "       [ 812,    1],\n",
              "       [ 820,    0],\n",
              "       [ 820,    3],\n",
              "       [ 820,    4],\n",
              "       [ 822,    2],\n",
              "       [ 823,    2],\n",
              "       [ 825,    0],\n",
              "       [ 830,    1],\n",
              "       [ 830,    2],\n",
              "       [ 836,    3],\n",
              "       [ 837,    3],\n",
              "       [ 838,    3],\n",
              "       [ 839,    4],\n",
              "       [ 843,    2],\n",
              "       [ 856,    0],\n",
              "       [ 856,    1],\n",
              "       [ 856,    3],\n",
              "       [ 856,    4],\n",
              "       [ 856,    5],\n",
              "       [ 857,    0],\n",
              "       [ 858,    1],\n",
              "       [ 870,    0],\n",
              "       [ 870,    2],\n",
              "       [ 870,    3],\n",
              "       [ 872,    0],\n",
              "       [ 873,    0],\n",
              "       [ 874,    1],\n",
              "       [ 890,    1],\n",
              "       [ 890,    2],\n",
              "       [ 890,    3],\n",
              "       [ 909,    1],\n",
              "       [ 910,    0],\n",
              "       [ 912,    0],\n",
              "       [ 912,    2],\n",
              "       [ 912,    3],\n",
              "       [ 912,    4],\n",
              "       [ 928,    1],\n",
              "       [ 928,    2],\n",
              "       [ 928,    3],\n",
              "       [ 929,    1],\n",
              "       [ 929,    2],\n",
              "       [ 929,    3],\n",
              "       [ 930,    3],\n",
              "       [ 958,    2],\n",
              "       [ 959,    3],\n",
              "       [ 960,    3],\n",
              "       [1024,    0],\n",
              "       [1024,    2],\n",
              "       [1026,    2],\n",
              "       [1026,    4],\n",
              "       [1028,    0],\n",
              "       [1028,    3],\n",
              "       [1028,    4],\n",
              "       [1029,    0],\n",
              "       [1030,    1],\n",
              "       [1030,    5],\n",
              "       [1032,    0],\n",
              "       [1032,    5],\n",
              "       [1034,    3],\n",
              "       [1035,    4],\n",
              "       [1036,    2],\n",
              "       [1037,    1],\n",
              "       [1038,    4],\n",
              "       [1039,    3],\n",
              "       [1040,    0]])"
            ]
          },
          "metadata": {},
          "execution_count": 65
        }
      ]
    },
    {
      "cell_type": "code",
      "source": [
        "lending_co_data_numeric_NAN[928]"
      ],
      "metadata": {
        "colab": {
          "base_uri": "https://localhost:8080/"
        },
        "id": "TnHvLGJNcJDG",
        "outputId": "58acb232-2a3f-4441-a3f3-737a8bddc9cc"
      },
      "execution_count": null,
      "outputs": [
        {
          "output_type": "execute_result",
          "data": {
            "text/plain": [
              "array([ 2000.,    nan,    nan,    nan,  6601., 16600.])"
            ]
          },
          "metadata": {},
          "execution_count": 66
        }
      ]
    },
    {
      "cell_type": "code",
      "source": [
        "for array_index in np.argwhere(np.isnan(lending_co_data_numeric_NAN)):\n",
        "  lending_co_data_numeric_NAN[array_index[0], array_index[1]] = 0"
      ],
      "metadata": {
        "id": "dM2Xi7dZcyzK"
      },
      "execution_count": null,
      "outputs": []
    },
    {
      "cell_type": "code",
      "source": [
        "lending_co_data_numeric_NAN[928]"
      ],
      "metadata": {
        "colab": {
          "base_uri": "https://localhost:8080/"
        },
        "id": "fe_NPDGMdmKW",
        "outputId": "ae062c22-907b-4564-a642-762484ff140f"
      },
      "execution_count": null,
      "outputs": [
        {
          "output_type": "execute_result",
          "data": {
            "text/plain": [
              "array([ 2000.,     0.,     0.,     0.,  6601., 16600.])"
            ]
          },
          "metadata": {},
          "execution_count": 68
        }
      ]
    },
    {
      "cell_type": "code",
      "source": [
        "np.isnan(lending_co_data_numeric_NAN).sum()"
      ],
      "metadata": {
        "colab": {
          "base_uri": "https://localhost:8080/"
        },
        "id": "MK6d6iNjdvU1",
        "outputId": "eafc046f-19e5-4cf2-e145-45ed7e2f55f6"
      },
      "execution_count": null,
      "outputs": [
        {
          "output_type": "execute_result",
          "data": {
            "text/plain": [
              "0"
            ]
          },
          "metadata": {},
          "execution_count": 69
        }
      ]
    },
    {
      "cell_type": "markdown",
      "source": [
        "Shuffling Data"
      ],
      "metadata": {
        "id": "huq_sXkxkgkC"
      }
    },
    {
      "cell_type": "code",
      "source": [
        "lending_co_data_numeric = np.loadtxt('Lending-company-Numeric.csv', delimiter = ',')[:8]\n",
        "lending_co_data_numeric"
      ],
      "metadata": {
        "colab": {
          "base_uri": "https://localhost:8080/"
        },
        "id": "Z5rMVd1alIdW",
        "outputId": "89db48b1-4437-4c38-8429-6a06a1519e75"
      },
      "execution_count": null,
      "outputs": [
        {
          "output_type": "execute_result",
          "data": {
            "text/plain": [
              "array([[ 2000.,    40.,   365.,  3121.,  4241., 13621.],\n",
              "       [ 2000.,    40.,   365.,  3061.,  4171., 15041.],\n",
              "       [ 1000.,    40.,   365.,  2160.,  3280., 15340.],\n",
              "       [ 2000.,    40.,   365.,  3041.,  4241., 15321.],\n",
              "       [ 2000.,    50.,   365.,  3470.,  4820., 13720.],\n",
              "       [ 2000.,    40.,   365.,  3201.,  4141., 14141.],\n",
              "       [ 2000.,    50.,   365.,  1851.,  3251., 17701.],\n",
              "       [ 2000.,    40.,   365.,  3971.,  4131., 15351.]])"
            ]
          },
          "metadata": {},
          "execution_count": 70
        }
      ]
    },
    {
      "cell_type": "code",
      "source": [
        "np.random.shuffle(lending_co_data_numeric)"
      ],
      "metadata": {
        "id": "oblmTrVUllEN"
      },
      "execution_count": null,
      "outputs": []
    },
    {
      "cell_type": "code",
      "source": [
        "lending_co_data_numeric"
      ],
      "metadata": {
        "colab": {
          "base_uri": "https://localhost:8080/"
        },
        "id": "PE-18Xpwlyy0",
        "outputId": "732cc08b-2b89-4ffa-dff6-7d02ad053ef6"
      },
      "execution_count": null,
      "outputs": [
        {
          "output_type": "execute_result",
          "data": {
            "text/plain": [
              "array([[ 2000.,    40.,   365.,  3971.,  4131., 15351.],\n",
              "       [ 2000.,    50.,   365.,  3470.,  4820., 13720.],\n",
              "       [ 1000.,    40.,   365.,  2160.,  3280., 15340.],\n",
              "       [ 2000.,    50.,   365.,  1851.,  3251., 17701.],\n",
              "       [ 2000.,    40.,   365.,  3041.,  4241., 15321.],\n",
              "       [ 2000.,    40.,   365.,  3121.,  4241., 13621.],\n",
              "       [ 2000.,    40.,   365.,  3201.,  4141., 14141.],\n",
              "       [ 2000.,    40.,   365.,  3061.,  4171., 15041.]])"
            ]
          },
          "metadata": {},
          "execution_count": 72
        }
      ]
    },
    {
      "cell_type": "code",
      "source": [
        "lending_co_data_numeric = np.loadtxt('Lending-company-Numeric.csv', delimiter = ',')\n",
        "lending_co_data_numeric"
      ],
      "metadata": {
        "colab": {
          "base_uri": "https://localhost:8080/"
        },
        "id": "da03j00cmEYA",
        "outputId": "b508acda-2294-435f-d799-11ac12093c8d"
      },
      "execution_count": null,
      "outputs": [
        {
          "output_type": "execute_result",
          "data": {
            "text/plain": [
              "array([[ 2000.,    40.,   365.,  3121.,  4241., 13621.],\n",
              "       [ 2000.,    40.,   365.,  3061.,  4171., 15041.],\n",
              "       [ 1000.,    40.,   365.,  2160.,  3280., 15340.],\n",
              "       ...,\n",
              "       [ 2000.,    40.,   365.,  4201.,  5001., 16600.],\n",
              "       [ 1000.,    40.,   365.,  2080.,  3320., 15600.],\n",
              "       [ 2000.,    40.,   365.,  4601.,  4601., 16600.]])"
            ]
          },
          "metadata": {},
          "execution_count": 73
        }
      ]
    },
    {
      "cell_type": "code",
      "source": [
        "from numpy.random import shuffle"
      ],
      "metadata": {
        "id": "TG-ipWjKmf5m"
      },
      "execution_count": null,
      "outputs": []
    },
    {
      "cell_type": "code",
      "source": [
        "shuffle(lending_co_data_numeric)\n",
        "lending_co_data_numeric"
      ],
      "metadata": {
        "colab": {
          "base_uri": "https://localhost:8080/"
        },
        "id": "hY9vgBdsnJX9",
        "outputId": "0ca26ac6-d984-42b6-fa17-ce2ac59164ef"
      },
      "execution_count": null,
      "outputs": [
        {
          "output_type": "execute_result",
          "data": {
            "text/plain": [
              "array([[ 1000.,    40.,   365.,  2200.,  3400., 15600.],\n",
              "       [ 2000.,    40.,   365.,  3401.,  4601., 16600.],\n",
              "       [ 4000.,    50.,   365.,  5900.,  7500., 22250.],\n",
              "       ...,\n",
              "       [ 2000.,    40.,   365.,  3160.,  4440., 15600.],\n",
              "       [ 4000.,    50.,   365.,  6500.,  7700., 19310.],\n",
              "       [ 2000.,    50.,   365.,  2801.,  3626.,  4676.]])"
            ]
          },
          "metadata": {},
          "execution_count": 75
        }
      ]
    },
    {
      "cell_type": "code",
      "source": [
        "from numpy.random import Generator as gen\n",
        "from numpy.random import PCG64 as pcg"
      ],
      "metadata": {
        "id": "r8be3inkofM9"
      },
      "execution_count": null,
      "outputs": []
    },
    {
      "cell_type": "code",
      "source": [
        "array_RG = gen(pcg())\n",
        "array_RG.shuffle(lending_co_data_numeric)\n",
        "lending_co_data_numeric"
      ],
      "metadata": {
        "colab": {
          "base_uri": "https://localhost:8080/"
        },
        "id": "LHpwFSEboqU1",
        "outputId": "77a7023c-35a4-4dba-8228-908126a993ad"
      },
      "execution_count": null,
      "outputs": [
        {
          "output_type": "execute_result",
          "data": {
            "text/plain": [
              "array([[ 1000.,    40.,   365.,  2560.,  3680., 14340.],\n",
              "       [ 2000.,    50.,   365.,  3551.,  4751., 19101.],\n",
              "       [ 1000.,    50.,   365.,   800.,  1450., 19250.],\n",
              "       ...,\n",
              "       [ 2000.,    50.,   365.,  3650.,  4950., 19150.],\n",
              "       [ 2000.,    40.,   365.,  2981.,  3451.,  7781.],\n",
              "       [ 4000.,    50.,   365.,  5750.,  7350., 22250.]])"
            ]
          },
          "metadata": {},
          "execution_count": 77
        }
      ]
    },
    {
      "cell_type": "code",
      "source": [
        "array_RG = gen(pcg(seed=365))\n",
        "array_RG.shuffle(lending_co_data_numeric)\n",
        "lending_co_data_numeric"
      ],
      "metadata": {
        "colab": {
          "base_uri": "https://localhost:8080/"
        },
        "id": "DFrGkATspnmc",
        "outputId": "0d456e0e-5ac1-4965-9c54-dc340c57105a"
      },
      "execution_count": null,
      "outputs": [
        {
          "output_type": "execute_result",
          "data": {
            "text/plain": [
              "array([[ 2000.,    40.,   365.,  2941.,  3621., 15241.],\n",
              "       [ 1000.,    50.,   365.,   450.,  2050., 12000.],\n",
              "       [ 2000.,    40.,   365.,  3681.,  6081., 16241.],\n",
              "       ...,\n",
              "       [ 9000.,   125.,   365., 19001., 22001., 54625.],\n",
              "       [ 2000.,    40.,   365.,  4601.,  4601., 16071.],\n",
              "       [ 1000.,    50.,   365.,   250.,   850.,  5050.]])"
            ]
          },
          "metadata": {},
          "execution_count": 78
        }
      ]
    },
    {
      "cell_type": "markdown",
      "source": [
        "Casting"
      ],
      "metadata": {
        "id": "tpaC2eB1p1xp"
      }
    },
    {
      "cell_type": "code",
      "source": [
        "lending_co_data_numeric.astype(dtype = np.int32)"
      ],
      "metadata": {
        "colab": {
          "base_uri": "https://localhost:8080/"
        },
        "id": "Z7QVVpobCeld",
        "outputId": "2bf22813-02dc-44fc-a5fa-20e75aaabb52"
      },
      "execution_count": null,
      "outputs": [
        {
          "output_type": "execute_result",
          "data": {
            "text/plain": [
              "array([[ 2000,    40,   365,  2941,  3621, 15241],\n",
              "       [ 1000,    50,   365,   450,  2050, 12000],\n",
              "       [ 2000,    40,   365,  3681,  6081, 16241],\n",
              "       ...,\n",
              "       [ 9000,   125,   365, 19001, 22001, 54625],\n",
              "       [ 2000,    40,   365,  4601,  4601, 16071],\n",
              "       [ 1000,    50,   365,   250,   850,  5050]], dtype=int32)"
            ]
          },
          "metadata": {},
          "execution_count": 79
        }
      ]
    },
    {
      "cell_type": "code",
      "source": [
        "lending_co_data_numeric.astype(dtype = np.str)"
      ],
      "metadata": {
        "colab": {
          "base_uri": "https://localhost:8080/"
        },
        "id": "zys7qTDnC3Sa",
        "outputId": "005596cf-39f2-48c4-ddd5-5c760bd6a058"
      },
      "execution_count": null,
      "outputs": [
        {
          "output_type": "stream",
          "name": "stderr",
          "text": [
            "<ipython-input-80-25dbd518c046>:1: DeprecationWarning: `np.str` is a deprecated alias for the builtin `str`. To silence this warning, use `str` by itself. Doing this will not modify any behavior and is safe. If you specifically wanted the numpy scalar type, use `np.str_` here.\n",
            "Deprecated in NumPy 1.20; for more details and guidance: https://numpy.org/devdocs/release/1.20.0-notes.html#deprecations\n",
            "  lending_co_data_numeric.astype(dtype = np.str)\n"
          ]
        },
        {
          "output_type": "execute_result",
          "data": {
            "text/plain": [
              "array([['2000.0', '40.0', '365.0', '2941.0', '3621.0', '15241.0'],\n",
              "       ['1000.0', '50.0', '365.0', '450.0', '2050.0', '12000.0'],\n",
              "       ['2000.0', '40.0', '365.0', '3681.0', '6081.0', '16241.0'],\n",
              "       ...,\n",
              "       ['9000.0', '125.0', '365.0', '19001.0', '22001.0', '54625.0'],\n",
              "       ['2000.0', '40.0', '365.0', '4601.0', '4601.0', '16071.0'],\n",
              "       ['1000.0', '50.0', '365.0', '250.0', '850.0', '5050.0']],\n",
              "      dtype='<U32')"
            ]
          },
          "metadata": {},
          "execution_count": 80
        }
      ]
    },
    {
      "cell_type": "code",
      "source": [
        "lending_co_data_numeric = lending_co_data_numeric.astype(dtype = np.str)"
      ],
      "metadata": {
        "colab": {
          "base_uri": "https://localhost:8080/"
        },
        "id": "TnL9DsDpDRAw",
        "outputId": "e2f6e817-46b9-4da0-9419-92a9f610844d"
      },
      "execution_count": null,
      "outputs": [
        {
          "output_type": "stream",
          "name": "stderr",
          "text": [
            "<ipython-input-81-a6af592c9966>:1: DeprecationWarning: `np.str` is a deprecated alias for the builtin `str`. To silence this warning, use `str` by itself. Doing this will not modify any behavior and is safe. If you specifically wanted the numpy scalar type, use `np.str_` here.\n",
            "Deprecated in NumPy 1.20; for more details and guidance: https://numpy.org/devdocs/release/1.20.0-notes.html#deprecations\n",
            "  lending_co_data_numeric = lending_co_data_numeric.astype(dtype = np.str)\n"
          ]
        }
      ]
    },
    {
      "cell_type": "code",
      "source": [
        "lending_co_data_numeric"
      ],
      "metadata": {
        "colab": {
          "base_uri": "https://localhost:8080/"
        },
        "id": "Z0qPZq7hDpRi",
        "outputId": "92db8d0a-d6c7-4225-e6c7-69e8ffef3c8a"
      },
      "execution_count": null,
      "outputs": [
        {
          "output_type": "execute_result",
          "data": {
            "text/plain": [
              "array([['2000.0', '40.0', '365.0', '2941.0', '3621.0', '15241.0'],\n",
              "       ['1000.0', '50.0', '365.0', '450.0', '2050.0', '12000.0'],\n",
              "       ['2000.0', '40.0', '365.0', '3681.0', '6081.0', '16241.0'],\n",
              "       ...,\n",
              "       ['9000.0', '125.0', '365.0', '19001.0', '22001.0', '54625.0'],\n",
              "       ['2000.0', '40.0', '365.0', '4601.0', '4601.0', '16071.0'],\n",
              "       ['1000.0', '50.0', '365.0', '250.0', '850.0', '5050.0']],\n",
              "      dtype='<U32')"
            ]
          },
          "metadata": {},
          "execution_count": 82
        }
      ]
    },
    {
      "cell_type": "code",
      "source": [
        "type(lending_co_data_numeric)"
      ],
      "metadata": {
        "colab": {
          "base_uri": "https://localhost:8080/"
        },
        "id": "qpiO3Qm1D72S",
        "outputId": "474a68c4-8ec4-44e4-aba7-05a1d219f152"
      },
      "execution_count": null,
      "outputs": [
        {
          "output_type": "execute_result",
          "data": {
            "text/plain": [
              "numpy.ndarray"
            ]
          },
          "metadata": {},
          "execution_count": 83
        }
      ]
    },
    {
      "cell_type": "code",
      "source": [
        "# ERROR - We can't directly cast these strings into integers\n",
        "lending_co_data_numeric.astype(dtype = np.int32)"
      ],
      "metadata": {
        "colab": {
          "base_uri": "https://localhost:8080/",
          "height": 183
        },
        "id": "6cp4e_4aEVkm",
        "outputId": "8fc2e741-cf3d-48db-d8ef-7f4d15e9e2bd"
      },
      "execution_count": null,
      "outputs": [
        {
          "output_type": "error",
          "ename": "ValueError",
          "evalue": "ignored",
          "traceback": [
            "\u001b[0;31m---------------------------------------------------------------------------\u001b[0m",
            "\u001b[0;31mValueError\u001b[0m                                Traceback (most recent call last)",
            "\u001b[0;32m<ipython-input-84-27547bc88cfa>\u001b[0m in \u001b[0;36m<module>\u001b[0;34m\u001b[0m\n\u001b[1;32m      1\u001b[0m \u001b[0;31m# ERROR - We can't directly cast these strings into integers\u001b[0m\u001b[0;34m\u001b[0m\u001b[0;34m\u001b[0m\u001b[0m\n\u001b[0;32m----> 2\u001b[0;31m \u001b[0mlending_co_data_numeric\u001b[0m\u001b[0;34m.\u001b[0m\u001b[0mastype\u001b[0m\u001b[0;34m(\u001b[0m\u001b[0mdtype\u001b[0m \u001b[0;34m=\u001b[0m \u001b[0mnp\u001b[0m\u001b[0;34m.\u001b[0m\u001b[0mint32\u001b[0m\u001b[0;34m)\u001b[0m\u001b[0;34m\u001b[0m\u001b[0;34m\u001b[0m\u001b[0m\n\u001b[0m",
            "\u001b[0;31mValueError\u001b[0m: invalid literal for int() with base 10: '2000.0'"
          ]
        }
      ]
    },
    {
      "cell_type": "code",
      "source": [
        "lending_co_data_numeric = lending_co_data_numeric.astype(dtype = np.float32)\n",
        "lending_co_data_numeric.astype(dtype = np.int32)"
      ],
      "metadata": {
        "colab": {
          "base_uri": "https://localhost:8080/"
        },
        "id": "Yz2TRa50FXEn",
        "outputId": "739de535-7e18-433f-c0e5-dfdc27873a32"
      },
      "execution_count": null,
      "outputs": [
        {
          "output_type": "execute_result",
          "data": {
            "text/plain": [
              "array([[ 2000,    40,   365,  2941,  3621, 15241],\n",
              "       [ 1000,    50,   365,   450,  2050, 12000],\n",
              "       [ 2000,    40,   365,  3681,  6081, 16241],\n",
              "       ...,\n",
              "       [ 9000,   125,   365, 19001, 22001, 54625],\n",
              "       [ 2000,    40,   365,  4601,  4601, 16071],\n",
              "       [ 1000,    50,   365,   250,   850,  5050]], dtype=int32)"
            ]
          },
          "metadata": {},
          "execution_count": 85
        }
      ]
    },
    {
      "cell_type": "code",
      "source": [
        "lending_co_data_numeric = np.loadtxt('Lending-company-Numeric.csv', delimiter = ',')\n",
        "lending_co_data_numeric = lending_co_data_numeric.astype(dtype = np.str)\n",
        "lending_co_data_numeric"
      ],
      "metadata": {
        "colab": {
          "base_uri": "https://localhost:8080/"
        },
        "id": "a5il0Ro6pMLb",
        "outputId": "945ac893-734e-486b-d75b-e3780f78b9b1"
      },
      "execution_count": null,
      "outputs": [
        {
          "output_type": "stream",
          "name": "stderr",
          "text": [
            "<ipython-input-86-2010d6477196>:2: DeprecationWarning: `np.str` is a deprecated alias for the builtin `str`. To silence this warning, use `str` by itself. Doing this will not modify any behavior and is safe. If you specifically wanted the numpy scalar type, use `np.str_` here.\n",
            "Deprecated in NumPy 1.20; for more details and guidance: https://numpy.org/devdocs/release/1.20.0-notes.html#deprecations\n",
            "  lending_co_data_numeric = lending_co_data_numeric.astype(dtype = np.str)\n"
          ]
        },
        {
          "output_type": "execute_result",
          "data": {
            "text/plain": [
              "array([['2000.0', '40.0', '365.0', '3121.0', '4241.0', '13621.0'],\n",
              "       ['2000.0', '40.0', '365.0', '3061.0', '4171.0', '15041.0'],\n",
              "       ['1000.0', '40.0', '365.0', '2160.0', '3280.0', '15340.0'],\n",
              "       ...,\n",
              "       ['2000.0', '40.0', '365.0', '4201.0', '5001.0', '16600.0'],\n",
              "       ['1000.0', '40.0', '365.0', '2080.0', '3320.0', '15600.0'],\n",
              "       ['2000.0', '40.0', '365.0', '4601.0', '4601.0', '16600.0']],\n",
              "      dtype='<U32')"
            ]
          },
          "metadata": {},
          "execution_count": 86
        }
      ]
    },
    {
      "cell_type": "code",
      "source": [
        "lending_co_data_numeric.astype(dtype = np.float32).astype(dtype = np.int32)\n",
        "lending_co_data_numeric"
      ],
      "metadata": {
        "colab": {
          "base_uri": "https://localhost:8080/"
        },
        "id": "KxYNBR1xsToa",
        "outputId": "8910cad6-b53f-44b0-8f96-e2b52017088e"
      },
      "execution_count": null,
      "outputs": [
        {
          "output_type": "execute_result",
          "data": {
            "text/plain": [
              "array([['2000.0', '40.0', '365.0', '3121.0', '4241.0', '13621.0'],\n",
              "       ['2000.0', '40.0', '365.0', '3061.0', '4171.0', '15041.0'],\n",
              "       ['1000.0', '40.0', '365.0', '2160.0', '3280.0', '15340.0'],\n",
              "       ...,\n",
              "       ['2000.0', '40.0', '365.0', '4201.0', '5001.0', '16600.0'],\n",
              "       ['1000.0', '40.0', '365.0', '2080.0', '3320.0', '15600.0'],\n",
              "       ['2000.0', '40.0', '365.0', '4601.0', '4601.0', '16600.0']],\n",
              "      dtype='<U32')"
            ]
          },
          "metadata": {},
          "execution_count": 87
        }
      ]
    },
    {
      "cell_type": "markdown",
      "source": [
        "Data Striping"
      ],
      "metadata": {
        "id": "ZPSuW3IIvTLc"
      }
    },
    {
      "cell_type": "code",
      "source": [
        "lending_co_total_price = np.genfromtxt('Lending-Company-Total-Price.csv', \n",
        "                                       delimiter = ',', \n",
        "                                       dtype = np.str,\n",
        "                                       skip_header = 1,\n",
        "                                       usecols = [1,2,4])\n",
        "lending_co_total_price"
      ],
      "metadata": {
        "id": "D1L-jeERs8Xe",
        "colab": {
          "base_uri": "https://localhost:8080/"
        },
        "outputId": "637d4e3e-cbfe-4006-958d-9f5ba74b35a9"
      },
      "execution_count": 91,
      "outputs": [
        {
          "output_type": "stream",
          "name": "stderr",
          "text": [
            "<ipython-input-91-94e890153d76>:3: DeprecationWarning: `np.str` is a deprecated alias for the builtin `str`. To silence this warning, use `str` by itself. Doing this will not modify any behavior and is safe. If you specifically wanted the numpy scalar type, use `np.str_` here.\n",
            "Deprecated in NumPy 1.20; for more details and guidance: https://numpy.org/devdocs/release/1.20.0-notes.html#deprecations\n",
            "  dtype = np.str,\n"
          ]
        },
        {
          "output_type": "execute_result",
          "data": {
            "text/plain": [
              "array([['id_1', 'Product B', 'Location 2'],\n",
              "       ['id_2', 'Product B', 'Location 3'],\n",
              "       ['id_3', 'Product C', 'Location 5'],\n",
              "       ...,\n",
              "       ['id_413', 'Product B', 'Location 135'],\n",
              "       ['id_414', 'Product C', 'Location 200'],\n",
              "       ['id_415', 'Product A', 'Location 8']], dtype='<U12')"
            ]
          },
          "metadata": {},
          "execution_count": 91
        }
      ]
    },
    {
      "cell_type": "code",
      "source": [
        "np.chararray.strip(lending_co_total_price[:,0], 'id_')"
      ],
      "metadata": {
        "colab": {
          "base_uri": "https://localhost:8080/"
        },
        "id": "ihtnk_C47pvP",
        "outputId": "60fc8df7-8fe3-4476-82ec-a2d04e22d13c"
      },
      "execution_count": 92,
      "outputs": [
        {
          "output_type": "execute_result",
          "data": {
            "text/plain": [
              "chararray(['1', '2', '3', '4', '5', '6', '7', '8', '9', '10', '11', '12',\n",
              "           '13', '14', '15', '16', '17', '18', '19', '20', '21', '22',\n",
              "           '23', '24', '25', '26', '27', '28', '29', '30', '31', '32',\n",
              "           '33', '34', '35', '36', '37', '38', '39', '40', '41', '42',\n",
              "           '43', '44', '45', '46', '47', '48', '49', '50', '51', '52',\n",
              "           '53', '54', '55', '56', '57', '58', '59', '60', '61', '62',\n",
              "           '63', '64', '65', '66', '67', '68', '69', '70', '71', '72',\n",
              "           '73', '74', '75', '76', '77', '78', '79', '80', '81', '82',\n",
              "           '83', '84', '85', '86', '87', '88', '89', '90', '91', '92',\n",
              "           '93', '94', '95', '96', '97', '98', '99', '100', '101', '102',\n",
              "           '103', '104', '105', '106', '107', '108', '109', '110', '111',\n",
              "           '112', '113', '114', '115', '116', '117', '118', '119', '120',\n",
              "           '121', '122', '123', '124', '125', '126', '127', '128', '129',\n",
              "           '130', '131', '132', '133', '134', '135', '136', '137', '138',\n",
              "           '139', '140', '141', '142', '143', '144', '145', '146', '147',\n",
              "           '148', '149', '150', '151', '152', '153', '154', '155', '156',\n",
              "           '157', '158', '159', '160', '161', '162', '163', '164', '165',\n",
              "           '166', '167', '168', '169', '170', '171', '172', '173', '174',\n",
              "           '175', '176', '177', '178', '179', '180', '181', '182', '183',\n",
              "           '184', '185', '186', '187', '188', '189', '190', '191', '192',\n",
              "           '193', '194', '195', '196', '197', '198', '199', '200', '201',\n",
              "           '202', '203', '204', '205', '206', '207', '208', '209', '210',\n",
              "           '211', '212', '213', '214', '215', '216', '217', '218', '219',\n",
              "           '220', '221', '222', '223', '224', '225', '226', '227', '228',\n",
              "           '229', '230', '231', '232', '233', '234', '235', '236', '237',\n",
              "           '238', '239', '240', '241', '242', '243', '244', '245', '246',\n",
              "           '247', '248', '249', '250', '251', '252', '253', '254', '255',\n",
              "           '256', '257', '258', '259', '260', '261', '262', '263', '264',\n",
              "           '265', '266', '267', '268', '269', '270', '271', '272', '273',\n",
              "           '274', '275', '276', '277', '278', '279', '280', '281', '282',\n",
              "           '283', '284', '285', '286', '287', '288', '289', '290', '291',\n",
              "           '292', '293', '294', '295', '296', '297', '298', '299', '300',\n",
              "           '301', '302', '303', '304', '305', '306', '307', '308', '309',\n",
              "           '310', '311', '312', '313', '314', '315', '316', '317', '318',\n",
              "           '319', '320', '321', '322', '323', '324', '325', '326', '327',\n",
              "           '328', '329', '330', '331', '332', '333', '334', '335', '336',\n",
              "           '337', '338', '339', '340', '341', '342', '343', '344', '345',\n",
              "           '346', '347', '348', '349', '350', '351', '352', '353', '354',\n",
              "           '355', '356', '357', '358', '359', '360', '361', '362', '363',\n",
              "           '364', '365', '366', '367', '368', '369', '370', '371', '372',\n",
              "           '373', '374', '375', '376', '377', '378', '379', '380', '381',\n",
              "           '382', '383', '384', '385', '386', '387', '388', '389', '390',\n",
              "           '391', '392', '393', '394', '395', '396', '397', '398', '399',\n",
              "           '400', '401', '402', '403', '404', '405', '406', '407', '408',\n",
              "           '409', '410', '411', '412', '413', '414', '415'], dtype='<U12')"
            ]
          },
          "metadata": {},
          "execution_count": 92
        }
      ]
    },
    {
      "cell_type": "code",
      "source": [
        "lending_co_total_price[:,0] = np.chararray.strip(lending_co_total_price[:,0], 'id_')\n",
        "lending_co_total_price[:,1] = np.chararray.strip(lending_co_total_price[:,1], 'Product ')\n",
        "lending_co_total_price[:,2] = np.chararray.strip(lending_co_total_price[:,0], 'Location ')\n",
        "lending_co_total_price"
      ],
      "metadata": {
        "colab": {
          "base_uri": "https://localhost:8080/"
        },
        "id": "l_BZkb9b92H8",
        "outputId": "25ece0d7-7d53-430e-ed4d-21922d6460ba"
      },
      "execution_count": 93,
      "outputs": [
        {
          "output_type": "execute_result",
          "data": {
            "text/plain": [
              "array([['1', 'B', '1'],\n",
              "       ['2', 'B', '2'],\n",
              "       ['3', 'C', '3'],\n",
              "       ...,\n",
              "       ['413', 'B', '413'],\n",
              "       ['414', 'C', '414'],\n",
              "       ['415', 'A', '415']], dtype='<U12')"
            ]
          },
          "metadata": {},
          "execution_count": 93
        }
      ]
    },
    {
      "cell_type": "code",
      "source": [
        "lending_co_total_price[:,1] = np.where(lending_co_total_price[:,1] == 'A', 1, lending_co_total_price[:,1])\n",
        "lending_co_total_price[:,1] = np.where(lending_co_total_price[:,1] == 'B', 2, lending_co_total_price[:,1])\n",
        "lending_co_total_price[:,1] = np.where(lending_co_total_price[:,1] == 'C', 3, lending_co_total_price[:,1])\n",
        "lending_co_total_price[:,1] = np.where(lending_co_total_price[:,1] == 'D', 4, lending_co_total_price[:,1])\n",
        "lending_co_total_price[:,1] = np.where(lending_co_total_price[:,1] == 'E', 5, lending_co_total_price[:,1])\n",
        "lending_co_total_price[:,1] = np.where(lending_co_total_price[:,1] == 'F', 6, lending_co_total_price[:,1])\n",
        "\n",
        "lending_co_total_price"
      ],
      "metadata": {
        "colab": {
          "base_uri": "https://localhost:8080/"
        },
        "id": "VBMiy0q8-tsg",
        "outputId": "d07bc107-fa69-45c0-dc59-2be404a33b6d"
      },
      "execution_count": 95,
      "outputs": [
        {
          "output_type": "execute_result",
          "data": {
            "text/plain": [
              "array([['1', '2', '1'],\n",
              "       ['2', '2', '2'],\n",
              "       ['3', '3', '3'],\n",
              "       ...,\n",
              "       ['413', '2', '413'],\n",
              "       ['414', '3', '414'],\n",
              "       ['415', '1', '415']], dtype='<U12')"
            ]
          },
          "metadata": {},
          "execution_count": 95
        }
      ]
    },
    {
      "cell_type": "code",
      "source": [
        "lending_co_total_price = lending_co_total_price.astype(dtype = np.int32)\n",
        "lending_co_total_price"
      ],
      "metadata": {
        "colab": {
          "base_uri": "https://localhost:8080/"
        },
        "id": "Pdtbx8bACh-l",
        "outputId": "8277c9d4-3821-4aa6-b766-802d63571643"
      },
      "execution_count": 97,
      "outputs": [
        {
          "output_type": "execute_result",
          "data": {
            "text/plain": [
              "array([[  1,   2,   1],\n",
              "       [  2,   2,   2],\n",
              "       [  3,   3,   3],\n",
              "       ...,\n",
              "       [413,   2, 413],\n",
              "       [414,   3, 414],\n",
              "       [415,   1, 415]], dtype=int32)"
            ]
          },
          "metadata": {},
          "execution_count": 97
        }
      ]
    },
    {
      "cell_type": "markdown",
      "source": [
        "Stacking"
      ],
      "metadata": {
        "id": "OaL4IZPRHqao"
      }
    },
    {
      "cell_type": "code",
      "source": [
        "lending_co_data_numeric_NAN"
      ],
      "metadata": {
        "colab": {
          "base_uri": "https://localhost:8080/"
        },
        "id": "IZdhhCkdDD6_",
        "outputId": "e932f19b-5126-4dd5-d42c-498b8e747029"
      },
      "execution_count": 98,
      "outputs": [
        {
          "output_type": "execute_result",
          "data": {
            "text/plain": [
              "array([[ 2000.,    40.,   365.,  3121.,  4241., 13621.],\n",
              "       [ 2000.,    40.,   365.,  3061.,  4171., 15041.],\n",
              "       [ 1000.,    40.,   365.,  2160.,  3280., 15340.],\n",
              "       ...,\n",
              "       [    0.,    40.,   365.,  4201.,  5001., 16600.],\n",
              "       [ 1000.,    40.,   365.,  2080.,  3320., 15600.],\n",
              "       [ 2000.,    40.,   365.,  4601.,  4601., 16600.]])"
            ]
          },
          "metadata": {},
          "execution_count": 98
        }
      ]
    },
    {
      "cell_type": "code",
      "source": [
        "np.stack((lending_co_data_numeric[:,0], lending_co_data_numeric[:,0]))"
      ],
      "metadata": {
        "colab": {
          "base_uri": "https://localhost:8080/"
        },
        "id": "mMr76wdtKO7N",
        "outputId": "ec85cf24-859d-4b1d-bb9f-8609b45dece5"
      },
      "execution_count": 104,
      "outputs": [
        {
          "output_type": "execute_result",
          "data": {
            "text/plain": [
              "array([['2000.0', '2000.0', '1000.0', ..., '2000.0', '1000.0', '2000.0'],\n",
              "       ['2000.0', '2000.0', '1000.0', ..., '2000.0', '1000.0', '2000.0']],\n",
              "      dtype='<U32')"
            ]
          },
          "metadata": {},
          "execution_count": 104
        }
      ]
    },
    {
      "cell_type": "code",
      "source": [
        "np.transpose(lending_co_data_numeric[:,:2])"
      ],
      "metadata": {
        "colab": {
          "base_uri": "https://localhost:8080/"
        },
        "id": "iAORLRdjKuql",
        "outputId": "225a5aad-9803-4e9b-f417-793c45a131ef"
      },
      "execution_count": 105,
      "outputs": [
        {
          "output_type": "execute_result",
          "data": {
            "text/plain": [
              "array([['2000.0', '2000.0', '1000.0', ..., '2000.0', '1000.0', '2000.0'],\n",
              "       ['40.0', '40.0', '40.0', ..., '40.0', '40.0', '40.0']],\n",
              "      dtype='<U32')"
            ]
          },
          "metadata": {},
          "execution_count": 105
        }
      ]
    },
    {
      "cell_type": "code",
      "source": [
        "np.stack((lending_co_data_numeric[:,0], lending_co_data_numeric[:,1]), axis = 1)"
      ],
      "metadata": {
        "colab": {
          "base_uri": "https://localhost:8080/"
        },
        "id": "FOVKocGNNTWu",
        "outputId": "b9736071-41d0-4cc6-de4e-d5f8c5975a03"
      },
      "execution_count": 107,
      "outputs": [
        {
          "output_type": "execute_result",
          "data": {
            "text/plain": [
              "array([['2000.0', '40.0'],\n",
              "       ['2000.0', '40.0'],\n",
              "       ['1000.0', '40.0'],\n",
              "       ...,\n",
              "       ['2000.0', '40.0'],\n",
              "       ['1000.0', '40.0'],\n",
              "       ['2000.0', '40.0']], dtype='<U32')"
            ]
          },
          "metadata": {},
          "execution_count": 107
        }
      ]
    },
    {
      "cell_type": "code",
      "source": [
        "# ERROR - the arrays must be the same shape\n",
        "np.stack((lending_co_data_numeric[:,0], lending_co_data_numeric[:,1], lending_co_data_numeric[:, :2]), axis = 1)"
      ],
      "metadata": {
        "colab": {
          "base_uri": "https://localhost:8080/",
          "height": 328
        },
        "id": "-hKQUizWOA5I",
        "outputId": "0e02328e-0365-4bcd-e51f-dd378309226e"
      },
      "execution_count": 111,
      "outputs": [
        {
          "output_type": "error",
          "ename": "ValueError",
          "evalue": "ignored",
          "traceback": [
            "\u001b[0;31m---------------------------------------------------------------------------\u001b[0m",
            "\u001b[0;31mValueError\u001b[0m                                Traceback (most recent call last)",
            "\u001b[0;32m<ipython-input-111-9e796afe0efb>\u001b[0m in \u001b[0;36m<module>\u001b[0;34m\u001b[0m\n\u001b[1;32m      1\u001b[0m \u001b[0;31m# the arrays must be the same shape\u001b[0m\u001b[0;34m\u001b[0m\u001b[0;34m\u001b[0m\u001b[0m\n\u001b[0;32m----> 2\u001b[0;31m \u001b[0mnp\u001b[0m\u001b[0;34m.\u001b[0m\u001b[0mstack\u001b[0m\u001b[0;34m(\u001b[0m\u001b[0;34m(\u001b[0m\u001b[0mlending_co_data_numeric\u001b[0m\u001b[0;34m[\u001b[0m\u001b[0;34m:\u001b[0m\u001b[0;34m,\u001b[0m\u001b[0;36m0\u001b[0m\u001b[0;34m]\u001b[0m\u001b[0;34m,\u001b[0m \u001b[0mlending_co_data_numeric\u001b[0m\u001b[0;34m[\u001b[0m\u001b[0;34m:\u001b[0m\u001b[0;34m,\u001b[0m\u001b[0;36m1\u001b[0m\u001b[0;34m]\u001b[0m\u001b[0;34m,\u001b[0m \u001b[0mlending_co_data_numeric\u001b[0m\u001b[0;34m[\u001b[0m\u001b[0;34m:\u001b[0m\u001b[0;34m,\u001b[0m \u001b[0;34m:\u001b[0m\u001b[0;36m2\u001b[0m\u001b[0;34m]\u001b[0m\u001b[0;34m)\u001b[0m\u001b[0;34m,\u001b[0m \u001b[0maxis\u001b[0m \u001b[0;34m=\u001b[0m \u001b[0;36m1\u001b[0m\u001b[0;34m)\u001b[0m\u001b[0;34m\u001b[0m\u001b[0;34m\u001b[0m\u001b[0m\n\u001b[0m",
            "\u001b[0;32m/usr/local/lib/python3.9/dist-packages/numpy/core/overrides.py\u001b[0m in \u001b[0;36mstack\u001b[0;34m(*args, **kwargs)\u001b[0m\n",
            "\u001b[0;32m/usr/local/lib/python3.9/dist-packages/numpy/core/shape_base.py\u001b[0m in \u001b[0;36mstack\u001b[0;34m(arrays, axis, out)\u001b[0m\n\u001b[1;32m    424\u001b[0m     \u001b[0mshapes\u001b[0m \u001b[0;34m=\u001b[0m \u001b[0;34m{\u001b[0m\u001b[0marr\u001b[0m\u001b[0;34m.\u001b[0m\u001b[0mshape\u001b[0m \u001b[0;32mfor\u001b[0m \u001b[0marr\u001b[0m \u001b[0;32min\u001b[0m \u001b[0marrays\u001b[0m\u001b[0;34m}\u001b[0m\u001b[0;34m\u001b[0m\u001b[0;34m\u001b[0m\u001b[0m\n\u001b[1;32m    425\u001b[0m     \u001b[0;32mif\u001b[0m \u001b[0mlen\u001b[0m\u001b[0;34m(\u001b[0m\u001b[0mshapes\u001b[0m\u001b[0;34m)\u001b[0m \u001b[0;34m!=\u001b[0m \u001b[0;36m1\u001b[0m\u001b[0;34m:\u001b[0m\u001b[0;34m\u001b[0m\u001b[0;34m\u001b[0m\u001b[0m\n\u001b[0;32m--> 426\u001b[0;31m         \u001b[0;32mraise\u001b[0m \u001b[0mValueError\u001b[0m\u001b[0;34m(\u001b[0m\u001b[0;34m'all input arrays must have the same shape'\u001b[0m\u001b[0;34m)\u001b[0m\u001b[0;34m\u001b[0m\u001b[0;34m\u001b[0m\u001b[0m\n\u001b[0m\u001b[1;32m    427\u001b[0m \u001b[0;34m\u001b[0m\u001b[0m\n\u001b[1;32m    428\u001b[0m     \u001b[0mresult_ndim\u001b[0m \u001b[0;34m=\u001b[0m \u001b[0marrays\u001b[0m\u001b[0;34m[\u001b[0m\u001b[0;36m0\u001b[0m\u001b[0;34m]\u001b[0m\u001b[0;34m.\u001b[0m\u001b[0mndim\u001b[0m \u001b[0;34m+\u001b[0m \u001b[0;36m1\u001b[0m\u001b[0;34m\u001b[0m\u001b[0;34m\u001b[0m\u001b[0m\n",
            "\u001b[0;31mValueError\u001b[0m: all input arrays must have the same shape"
          ]
        }
      ]
    },
    {
      "cell_type": "code",
      "source": [
        "np.stack((lending_co_data_numeric[:,0], lending_co_data_numeric[:,1], lending_co_data_numeric[:,2]), axis = 1)"
      ],
      "metadata": {
        "colab": {
          "base_uri": "https://localhost:8080/"
        },
        "id": "AkTfpeEzO9mu",
        "outputId": "61b26df0-b07d-481e-d037-1aae08e695f4"
      },
      "execution_count": 112,
      "outputs": [
        {
          "output_type": "execute_result",
          "data": {
            "text/plain": [
              "array([['2000.0', '40.0', '365.0'],\n",
              "       ['2000.0', '40.0', '365.0'],\n",
              "       ['1000.0', '40.0', '365.0'],\n",
              "       ...,\n",
              "       ['2000.0', '40.0', '365.0'],\n",
              "       ['1000.0', '40.0', '365.0'],\n",
              "       ['2000.0', '40.0', '365.0']], dtype='<U32')"
            ]
          },
          "metadata": {},
          "execution_count": 112
        }
      ]
    },
    {
      "cell_type": "code",
      "source": [
        "lending_co_data_numeric_NAN.shape"
      ],
      "metadata": {
        "colab": {
          "base_uri": "https://localhost:8080/"
        },
        "id": "3VtRdv-vP0vl",
        "outputId": "2c273ab9-715d-4a1f-9cca-7ca8ba03014d"
      },
      "execution_count": 113,
      "outputs": [
        {
          "output_type": "execute_result",
          "data": {
            "text/plain": [
              "(1043, 6)"
            ]
          },
          "metadata": {},
          "execution_count": 113
        }
      ]
    },
    {
      "cell_type": "code",
      "source": [
        "np.vstack((lending_co_data_numeric, lending_co_data_numeric_NAN))"
      ],
      "metadata": {
        "colab": {
          "base_uri": "https://localhost:8080/"
        },
        "id": "U_Hf_i0KQIBt",
        "outputId": "8a5e9421-3337-4124-b97e-e94fa4085fbf"
      },
      "execution_count": 116,
      "outputs": [
        {
          "output_type": "execute_result",
          "data": {
            "text/plain": [
              "array([['2000.0', '40.0', '365.0', '3121.0', '4241.0', '13621.0'],\n",
              "       ['2000.0', '40.0', '365.0', '3061.0', '4171.0', '15041.0'],\n",
              "       ['1000.0', '40.0', '365.0', '2160.0', '3280.0', '15340.0'],\n",
              "       ...,\n",
              "       ['0.0', '40.0', '365.0', '4201.0', '5001.0', '16600.0'],\n",
              "       ['1000.0', '40.0', '365.0', '2080.0', '3320.0', '15600.0'],\n",
              "       ['2000.0', '40.0', '365.0', '4601.0', '4601.0', '16600.0']],\n",
              "      dtype='<U32')"
            ]
          },
          "metadata": {},
          "execution_count": 116
        }
      ]
    },
    {
      "cell_type": "code",
      "source": [
        "np.vstack((lending_co_data_numeric, lending_co_data_numeric_NAN)).shape"
      ],
      "metadata": {
        "colab": {
          "base_uri": "https://localhost:8080/"
        },
        "id": "dQWmYO1IQm9z",
        "outputId": "e266f931-dba7-41e3-b4fa-94d3744582c5"
      },
      "execution_count": 117,
      "outputs": [
        {
          "output_type": "execute_result",
          "data": {
            "text/plain": [
              "(2086, 6)"
            ]
          },
          "metadata": {},
          "execution_count": 117
        }
      ]
    },
    {
      "cell_type": "code",
      "source": [
        "np.hstack((lending_co_data_numeric, lending_co_data_numeric_NAN))"
      ],
      "metadata": {
        "colab": {
          "base_uri": "https://localhost:8080/"
        },
        "id": "gXfVg4xPQ9An",
        "outputId": "39b4b4ce-e7d9-4adc-d67e-51ca8252dbcc"
      },
      "execution_count": 118,
      "outputs": [
        {
          "output_type": "execute_result",
          "data": {
            "text/plain": [
              "array([['2000.0', '40.0', '365.0', ..., '3121.0', '4241.0', '13621.0'],\n",
              "       ['2000.0', '40.0', '365.0', ..., '3061.0', '4171.0', '15041.0'],\n",
              "       ['1000.0', '40.0', '365.0', ..., '2160.0', '3280.0', '15340.0'],\n",
              "       ...,\n",
              "       ['2000.0', '40.0', '365.0', ..., '4201.0', '5001.0', '16600.0'],\n",
              "       ['1000.0', '40.0', '365.0', ..., '2080.0', '3320.0', '15600.0'],\n",
              "       ['2000.0', '40.0', '365.0', ..., '4601.0', '4601.0', '16600.0']],\n",
              "      dtype='<U32')"
            ]
          },
          "metadata": {},
          "execution_count": 118
        }
      ]
    },
    {
      "cell_type": "code",
      "source": [
        "np.hstack((lending_co_data_numeric, lending_co_data_numeric_NAN)).shape"
      ],
      "metadata": {
        "colab": {
          "base_uri": "https://localhost:8080/"
        },
        "id": "HZbrVaHQRHC_",
        "outputId": "1dc175b1-5200-4932-e2cd-632503aa8bb2"
      },
      "execution_count": 119,
      "outputs": [
        {
          "output_type": "execute_result",
          "data": {
            "text/plain": [
              "(1043, 12)"
            ]
          },
          "metadata": {},
          "execution_count": 119
        }
      ]
    },
    {
      "cell_type": "code",
      "source": [
        "lending_co_data_numeric_NAN.shape"
      ],
      "metadata": {
        "colab": {
          "base_uri": "https://localhost:8080/"
        },
        "id": "DipSOhqnRmzj",
        "outputId": "1a4182ba-2c62-49a3-ca2c-3c1ee5f5078e"
      },
      "execution_count": 120,
      "outputs": [
        {
          "output_type": "execute_result",
          "data": {
            "text/plain": [
              "(1043, 6)"
            ]
          },
          "metadata": {},
          "execution_count": 120
        }
      ]
    },
    {
      "cell_type": "code",
      "source": [
        "np.dstack((lending_co_data_numeric, lending_co_data_numeric_NAN))"
      ],
      "metadata": {
        "colab": {
          "base_uri": "https://localhost:8080/"
        },
        "id": "NbruZ9GBRzNS",
        "outputId": "ad47fb28-ef07-411b-a820-f0524265e54b"
      },
      "execution_count": 122,
      "outputs": [
        {
          "output_type": "execute_result",
          "data": {
            "text/plain": [
              "array([[['2000.0', '2000.0'],\n",
              "        ['40.0', '40.0'],\n",
              "        ['365.0', '365.0'],\n",
              "        ['3121.0', '3121.0'],\n",
              "        ['4241.0', '4241.0'],\n",
              "        ['13621.0', '13621.0']],\n",
              "\n",
              "       [['2000.0', '2000.0'],\n",
              "        ['40.0', '40.0'],\n",
              "        ['365.0', '365.0'],\n",
              "        ['3061.0', '3061.0'],\n",
              "        ['4171.0', '4171.0'],\n",
              "        ['15041.0', '15041.0']],\n",
              "\n",
              "       [['1000.0', '1000.0'],\n",
              "        ['40.0', '40.0'],\n",
              "        ['365.0', '365.0'],\n",
              "        ['2160.0', '2160.0'],\n",
              "        ['3280.0', '3280.0'],\n",
              "        ['15340.0', '15340.0']],\n",
              "\n",
              "       ...,\n",
              "\n",
              "       [['2000.0', '0.0'],\n",
              "        ['40.0', '40.0'],\n",
              "        ['365.0', '365.0'],\n",
              "        ['4201.0', '4201.0'],\n",
              "        ['5001.0', '5001.0'],\n",
              "        ['16600.0', '16600.0']],\n",
              "\n",
              "       [['1000.0', '1000.0'],\n",
              "        ['40.0', '40.0'],\n",
              "        ['365.0', '365.0'],\n",
              "        ['2080.0', '2080.0'],\n",
              "        ['3320.0', '3320.0'],\n",
              "        ['15600.0', '15600.0']],\n",
              "\n",
              "       [['2000.0', '2000.0'],\n",
              "        ['40.0', '40.0'],\n",
              "        ['365.0', '365.0'],\n",
              "        ['4601.0', '4601.0'],\n",
              "        ['4601.0', '4601.0'],\n",
              "        ['16600.0', '16600.0']]], dtype='<U32')"
            ]
          },
          "metadata": {},
          "execution_count": 122
        }
      ]
    },
    {
      "cell_type": "code",
      "source": [
        "np.dstack((lending_co_data_numeric, lending_co_data_numeric_NAN))[0]"
      ],
      "metadata": {
        "colab": {
          "base_uri": "https://localhost:8080/"
        },
        "id": "I3egBZfLSKTw",
        "outputId": "4535ecf6-c143-4793-e215-c42abe1a9607"
      },
      "execution_count": 123,
      "outputs": [
        {
          "output_type": "execute_result",
          "data": {
            "text/plain": [
              "array([['2000.0', '2000.0'],\n",
              "       ['40.0', '40.0'],\n",
              "       ['365.0', '365.0'],\n",
              "       ['3121.0', '3121.0'],\n",
              "       ['4241.0', '4241.0'],\n",
              "       ['13621.0', '13621.0']], dtype='<U32')"
            ]
          },
          "metadata": {},
          "execution_count": 123
        }
      ]
    },
    {
      "cell_type": "code",
      "source": [
        "np.dstack((lending_co_data_numeric, lending_co_data_numeric_NAN))[0,:,0]"
      ],
      "metadata": {
        "colab": {
          "base_uri": "https://localhost:8080/"
        },
        "id": "rE3YVgxQS6ES",
        "outputId": "22b2a219-047d-423a-da82-75c2c02d8573"
      },
      "execution_count": 124,
      "outputs": [
        {
          "output_type": "execute_result",
          "data": {
            "text/plain": [
              "array(['2000.0', '40.0', '365.0', '3121.0', '4241.0', '13621.0'],\n",
              "      dtype='<U32')"
            ]
          },
          "metadata": {},
          "execution_count": 124
        }
      ]
    },
    {
      "cell_type": "code",
      "source": [
        "np.stack((lending_co_data_numeric, lending_co_data_numeric_NAN), axis = -1)"
      ],
      "metadata": {
        "colab": {
          "base_uri": "https://localhost:8080/"
        },
        "id": "qddbL8_ZTOki",
        "outputId": "18219547-e029-45d2-9db5-f0cce4bba305"
      },
      "execution_count": 125,
      "outputs": [
        {
          "output_type": "execute_result",
          "data": {
            "text/plain": [
              "array([[['2000.0', '2000.0'],\n",
              "        ['40.0', '40.0'],\n",
              "        ['365.0', '365.0'],\n",
              "        ['3121.0', '3121.0'],\n",
              "        ['4241.0', '4241.0'],\n",
              "        ['13621.0', '13621.0']],\n",
              "\n",
              "       [['2000.0', '2000.0'],\n",
              "        ['40.0', '40.0'],\n",
              "        ['365.0', '365.0'],\n",
              "        ['3061.0', '3061.0'],\n",
              "        ['4171.0', '4171.0'],\n",
              "        ['15041.0', '15041.0']],\n",
              "\n",
              "       [['1000.0', '1000.0'],\n",
              "        ['40.0', '40.0'],\n",
              "        ['365.0', '365.0'],\n",
              "        ['2160.0', '2160.0'],\n",
              "        ['3280.0', '3280.0'],\n",
              "        ['15340.0', '15340.0']],\n",
              "\n",
              "       ...,\n",
              "\n",
              "       [['2000.0', '0.0'],\n",
              "        ['40.0', '40.0'],\n",
              "        ['365.0', '365.0'],\n",
              "        ['4201.0', '4201.0'],\n",
              "        ['5001.0', '5001.0'],\n",
              "        ['16600.0', '16600.0']],\n",
              "\n",
              "       [['1000.0', '1000.0'],\n",
              "        ['40.0', '40.0'],\n",
              "        ['365.0', '365.0'],\n",
              "        ['2080.0', '2080.0'],\n",
              "        ['3320.0', '3320.0'],\n",
              "        ['15600.0', '15600.0']],\n",
              "\n",
              "       [['2000.0', '2000.0'],\n",
              "        ['40.0', '40.0'],\n",
              "        ['365.0', '365.0'],\n",
              "        ['4601.0', '4601.0'],\n",
              "        ['4601.0', '4601.0'],\n",
              "        ['16600.0', '16600.0']]], dtype='<U32')"
            ]
          },
          "metadata": {},
          "execution_count": 125
        }
      ]
    },
    {
      "cell_type": "markdown",
      "source": [
        "Concatenate"
      ],
      "metadata": {
        "id": "J6U4yMjGUFxV"
      }
    },
    {
      "cell_type": "code",
      "source": [
        "lending_co_data_numeric"
      ],
      "metadata": {
        "colab": {
          "base_uri": "https://localhost:8080/"
        },
        "id": "blimBJLCTbDC",
        "outputId": "84fc9b75-1e88-4ede-a4df-151a7d91578e"
      },
      "execution_count": 126,
      "outputs": [
        {
          "output_type": "execute_result",
          "data": {
            "text/plain": [
              "array([['2000.0', '40.0', '365.0', '3121.0', '4241.0', '13621.0'],\n",
              "       ['2000.0', '40.0', '365.0', '3061.0', '4171.0', '15041.0'],\n",
              "       ['1000.0', '40.0', '365.0', '2160.0', '3280.0', '15340.0'],\n",
              "       ...,\n",
              "       ['2000.0', '40.0', '365.0', '4201.0', '5001.0', '16600.0'],\n",
              "       ['1000.0', '40.0', '365.0', '2080.0', '3320.0', '15600.0'],\n",
              "       ['2000.0', '40.0', '365.0', '4601.0', '4601.0', '16600.0']],\n",
              "      dtype='<U32')"
            ]
          },
          "metadata": {},
          "execution_count": 126
        }
      ]
    },
    {
      "cell_type": "code",
      "source": [
        "np.concatenate((lending_co_data_numeric[0,:], lending_co_data_numeric[1,:]))"
      ],
      "metadata": {
        "colab": {
          "base_uri": "https://localhost:8080/"
        },
        "id": "dfkC0O04Uc0v",
        "outputId": "750272b7-9a25-4ded-a188-84bc29e5dfed"
      },
      "execution_count": 127,
      "outputs": [
        {
          "output_type": "execute_result",
          "data": {
            "text/plain": [
              "array(['2000.0', '40.0', '365.0', '3121.0', '4241.0', '13621.0', '2000.0',\n",
              "       '40.0', '365.0', '3061.0', '4171.0', '15041.0'], dtype='<U32')"
            ]
          },
          "metadata": {},
          "execution_count": 127
        }
      ]
    },
    {
      "cell_type": "code",
      "source": [
        "np.concatenate((lending_co_data_numeric, lending_co_data_numeric)).shape"
      ],
      "metadata": {
        "colab": {
          "base_uri": "https://localhost:8080/"
        },
        "id": "8sPpIl-9U7_8",
        "outputId": "8966713e-49a7-4d6c-e60f-cacc37ab759c"
      },
      "execution_count": 128,
      "outputs": [
        {
          "output_type": "execute_result",
          "data": {
            "text/plain": [
              "(2086, 6)"
            ]
          },
          "metadata": {},
          "execution_count": 128
        }
      ]
    },
    {
      "cell_type": "code",
      "source": [
        "np.concatenate((lending_co_data_numeric, lending_co_data_numeric), axis = 1)"
      ],
      "metadata": {
        "colab": {
          "base_uri": "https://localhost:8080/"
        },
        "id": "GwRFRz_rVWlA",
        "outputId": "3e9c12f6-7cbb-4c93-b6e9-e47312691408"
      },
      "execution_count": 129,
      "outputs": [
        {
          "output_type": "execute_result",
          "data": {
            "text/plain": [
              "array([['2000.0', '40.0', '365.0', ..., '3121.0', '4241.0', '13621.0'],\n",
              "       ['2000.0', '40.0', '365.0', ..., '3061.0', '4171.0', '15041.0'],\n",
              "       ['1000.0', '40.0', '365.0', ..., '2160.0', '3280.0', '15340.0'],\n",
              "       ...,\n",
              "       ['2000.0', '40.0', '365.0', ..., '4201.0', '5001.0', '16600.0'],\n",
              "       ['1000.0', '40.0', '365.0', ..., '2080.0', '3320.0', '15600.0'],\n",
              "       ['2000.0', '40.0', '365.0', ..., '4601.0', '4601.0', '16600.0']],\n",
              "      dtype='<U32')"
            ]
          },
          "metadata": {},
          "execution_count": 129
        }
      ]
    },
    {
      "cell_type": "code",
      "source": [
        "np.concatenate((lending_co_data_numeric, lending_co_data_numeric_NAN), axis = 1).shape"
      ],
      "metadata": {
        "colab": {
          "base_uri": "https://localhost:8080/"
        },
        "id": "BhAbvejkVZKk",
        "outputId": "fd3ca54d-9cd3-402e-9007-6cfde837963e"
      },
      "execution_count": 130,
      "outputs": [
        {
          "output_type": "execute_result",
          "data": {
            "text/plain": [
              "(1043, 12)"
            ]
          },
          "metadata": {},
          "execution_count": 130
        }
      ]
    },
    {
      "cell_type": "markdown",
      "source": [
        "Unique"
      ],
      "metadata": {
        "id": "kLICaNp4WGkf"
      }
    },
    {
      "cell_type": "code",
      "source": [],
      "metadata": {
        "id": "8VWI2EEiWJk7"
      },
      "execution_count": null,
      "outputs": []
    }
  ]
}