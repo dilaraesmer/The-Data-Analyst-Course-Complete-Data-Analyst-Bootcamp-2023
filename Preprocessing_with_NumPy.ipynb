{
  "nbformat": 4,
  "nbformat_minor": 0,
  "metadata": {
    "colab": {
      "provenance": [],
      "authorship_tag": "ABX9TyOUrTKHrq6pKKg4IrAza4qi",
      "include_colab_link": true
    },
    "kernelspec": {
      "name": "python3",
      "display_name": "Python 3"
    },
    "language_info": {
      "name": "python"
    }
  },
  "cells": [
    {
      "cell_type": "markdown",
      "metadata": {
        "id": "view-in-github",
        "colab_type": "text"
      },
      "source": [
        "<a href=\"https://colab.research.google.com/github/dilaraesmer/The-Data-Analyst-Course-Complete-Data-Analyst-Bootcamp-2023/blob/main/Preprocessing_with_NumPy.ipynb\" target=\"_parent\"><img src=\"https://colab.research.google.com/assets/colab-badge.svg\" alt=\"Open In Colab\"/></a>"
      ]
    },
    {
      "cell_type": "code",
      "execution_count": 3,
      "metadata": {
        "id": "Bhuq1jNr0Nlr"
      },
      "outputs": [],
      "source": [
        "import numpy as np"
      ]
    },
    {
      "cell_type": "markdown",
      "source": [
        "Checking for Missing Values "
      ],
      "metadata": {
        "id": "5gGlxr3F0ttk"
      }
    },
    {
      "cell_type": "code",
      "source": [
        "lending_co_data_numeric = np.loadtxt(\"Lending-company-Numeric.csv\", delimiter=',')"
      ],
      "metadata": {
        "id": "zO0RYBpu0sJO"
      },
      "execution_count": 5,
      "outputs": []
    },
    {
      "cell_type": "code",
      "source": [
        "np.isnan(lending_co_data_numeric).sum()"
      ],
      "metadata": {
        "colab": {
          "base_uri": "https://localhost:8080/"
        },
        "id": "ZwW4_cum22_p",
        "outputId": "436384c3-c396-4d38-f28f-0105eb5727fb"
      },
      "execution_count": 6,
      "outputs": [
        {
          "output_type": "execute_result",
          "data": {
            "text/plain": [
              "0"
            ]
          },
          "metadata": {},
          "execution_count": 6
        }
      ]
    }
  ]
}