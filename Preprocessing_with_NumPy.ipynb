{
  "nbformat": 4,
  "nbformat_minor": 0,
  "metadata": {
    "colab": {
      "provenance": [],
      "authorship_tag": "ABX9TyN9OHkq2mL99yYZjuf3RqkD",
      "include_colab_link": true
    },
    "kernelspec": {
      "name": "python3",
      "display_name": "Python 3"
    },
    "language_info": {
      "name": "python"
    }
  },
  "cells": [
    {
      "cell_type": "markdown",
      "metadata": {
        "id": "view-in-github",
        "colab_type": "text"
      },
      "source": [
        "<a href=\"https://colab.research.google.com/github/dilaraesmer/The-Data-Analyst-Course-Complete-Data-Analyst-Bootcamp-2023/blob/main/Preprocessing_with_NumPy.ipynb\" target=\"_parent\"><img src=\"https://colab.research.google.com/assets/colab-badge.svg\" alt=\"Open In Colab\"/></a>"
      ]
    },
    {
      "cell_type": "code",
      "execution_count": null,
      "metadata": {
        "id": "Bhuq1jNr0Nlr"
      },
      "outputs": [],
      "source": [
        "import numpy as np"
      ]
    },
    {
      "cell_type": "markdown",
      "source": [
        "Checking for Missing Values "
      ],
      "metadata": {
        "id": "5gGlxr3F0ttk"
      }
    },
    {
      "cell_type": "code",
      "source": [
        "lending_co_data_numeric = np.loadtxt(\"Lending-company-Numeric.csv\", delimiter=',')"
      ],
      "metadata": {
        "id": "zO0RYBpu0sJO"
      },
      "execution_count": null,
      "outputs": []
    },
    {
      "cell_type": "code",
      "source": [
        "np.isnan(lending_co_data_numeric).sum()"
      ],
      "metadata": {
        "colab": {
          "base_uri": "https://localhost:8080/"
        },
        "id": "ZwW4_cum22_p",
        "outputId": "40183c4d-cb84-4b15-ee7d-d40a9c06907a"
      },
      "execution_count": null,
      "outputs": [
        {
          "output_type": "execute_result",
          "data": {
            "text/plain": [
              "0"
            ]
          },
          "metadata": {},
          "execution_count": 4
        }
      ]
    },
    {
      "cell_type": "code",
      "source": [
        "lending_co_data_numeric_NAN = np.genfromtxt(\"Lending-company-Numeric-NAN.csv\", delimiter = ';')"
      ],
      "metadata": {
        "id": "-HX7oDYb3RLO"
      },
      "execution_count": null,
      "outputs": []
    },
    {
      "cell_type": "code",
      "source": [
        "np.isnan(lending_co_data_numeric_NAN)"
      ],
      "metadata": {
        "colab": {
          "base_uri": "https://localhost:8080/"
        },
        "id": "M6PPx_ZM35Qu",
        "outputId": "a3a6a19f-f662-4893-db32-d3f2a235c648"
      },
      "execution_count": null,
      "outputs": [
        {
          "output_type": "execute_result",
          "data": {
            "text/plain": [
              "array([[False, False, False, False, False, False],\n",
              "       [False, False, False, False, False, False],\n",
              "       [False, False, False, False, False, False],\n",
              "       ...,\n",
              "       [ True, False, False, False, False, False],\n",
              "       [False, False, False, False, False, False],\n",
              "       [False, False, False, False, False, False]])"
            ]
          },
          "metadata": {},
          "execution_count": 6
        }
      ]
    },
    {
      "cell_type": "code",
      "source": [
        "np.isnan(lending_co_data_numeric_NAN).sum()"
      ],
      "metadata": {
        "colab": {
          "base_uri": "https://localhost:8080/"
        },
        "id": "zYw_MJ4n4B44",
        "outputId": "837b3bc5-5bec-4481-f9f8-2a6e99088ff2"
      },
      "execution_count": null,
      "outputs": [
        {
          "output_type": "execute_result",
          "data": {
            "text/plain": [
              "260"
            ]
          },
          "metadata": {},
          "execution_count": 7
        }
      ]
    },
    {
      "cell_type": "code",
      "source": [
        "# lending_co_data_numeric_NAN = np.genfromtxt(\"Lending-company-Numeric-NAN.csv\", \n",
        "#                                            delimiter = ';',\n",
        "#                                            filling_values = 0)"
      ],
      "metadata": {
        "id": "LqJjeaUn4UlU"
      },
      "execution_count": null,
      "outputs": []
    },
    {
      "cell_type": "code",
      "source": [
        "np.isnan(lending_co_data_numeric_NAN).sum()"
      ],
      "metadata": {
        "colab": {
          "base_uri": "https://localhost:8080/"
        },
        "id": "bS7k_SJ94h4C",
        "outputId": "ccbc58c1-f7a3-4f77-ace0-8fe7148298c6"
      },
      "execution_count": null,
      "outputs": [
        {
          "output_type": "execute_result",
          "data": {
            "text/plain": [
              "260"
            ]
          },
          "metadata": {},
          "execution_count": 9
        }
      ]
    },
    {
      "cell_type": "code",
      "source": [
        "temporary_fill = np.nanmax(lending_co_data_numeric_NAN).round(2) + 1"
      ],
      "metadata": {
        "id": "4a8MS9Te4plX"
      },
      "execution_count": null,
      "outputs": []
    },
    {
      "cell_type": "code",
      "source": [
        "temporary_fill"
      ],
      "metadata": {
        "colab": {
          "base_uri": "https://localhost:8080/"
        },
        "id": "-yLNsbkc5XSo",
        "outputId": "150b4edc-ba89-424d-cf5a-f1ceb85e38a4"
      },
      "execution_count": null,
      "outputs": [
        {
          "output_type": "execute_result",
          "data": {
            "text/plain": [
              "64002.0"
            ]
          },
          "metadata": {},
          "execution_count": 11
        }
      ]
    },
    {
      "cell_type": "code",
      "source": [
        "lending_co_data_numeric_NAN = np.genfromtxt(\"Lending-company-Numeric-NAN.csv\", \n",
        "                                            delimiter = ';',\n",
        "                                            filling_values = temporary_fill)"
      ],
      "metadata": {
        "id": "3UFzI4-w5eyu"
      },
      "execution_count": null,
      "outputs": []
    },
    {
      "cell_type": "code",
      "source": [
        "np.isnan(lending_co_data_numeric_NAN)"
      ],
      "metadata": {
        "colab": {
          "base_uri": "https://localhost:8080/"
        },
        "id": "GMHRzboF5nIk",
        "outputId": "43ed9741-efd1-45e3-8713-2e739e3f74cd"
      },
      "execution_count": null,
      "outputs": [
        {
          "output_type": "execute_result",
          "data": {
            "text/plain": [
              "array([[False, False, False, False, False, False],\n",
              "       [False, False, False, False, False, False],\n",
              "       [False, False, False, False, False, False],\n",
              "       ...,\n",
              "       [False, False, False, False, False, False],\n",
              "       [False, False, False, False, False, False],\n",
              "       [False, False, False, False, False, False]])"
            ]
          },
          "metadata": {},
          "execution_count": 13
        }
      ]
    },
    {
      "cell_type": "code",
      "source": [
        "np.isnan(lending_co_data_numeric_NAN).sum()"
      ],
      "metadata": {
        "colab": {
          "base_uri": "https://localhost:8080/"
        },
        "id": "2tz6w8Fs55F8",
        "outputId": "90422d4b-e86f-4f80-e91a-79a4fce780d3"
      },
      "execution_count": null,
      "outputs": [
        {
          "output_type": "execute_result",
          "data": {
            "text/plain": [
              "0"
            ]
          },
          "metadata": {},
          "execution_count": 14
        }
      ]
    },
    {
      "cell_type": "markdown",
      "source": [
        "Substituting Missing Values"
      ],
      "metadata": {
        "id": "NGr5SGH-6GQi"
      }
    },
    {
      "cell_type": "code",
      "source": [
        "lending_co_data_numeric_NAN = np.genfromtxt(\"Lending-company-Numeric-NAN.csv\", delimiter = ';')\n",
        "lending_co_data_numeric_NAN"
      ],
      "metadata": {
        "id": "g2rP43RjarE0",
        "colab": {
          "base_uri": "https://localhost:8080/"
        },
        "outputId": "faae5775-f2b6-4a22-a039-c51c67b1b3e0"
      },
      "execution_count": null,
      "outputs": [
        {
          "output_type": "execute_result",
          "data": {
            "text/plain": [
              "array([[ 2000.,    40.,   365.,  3121.,  4241., 13621.],\n",
              "       [ 2000.,    40.,   365.,  3061.,  4171., 15041.],\n",
              "       [ 1000.,    40.,   365.,  2160.,  3280., 15340.],\n",
              "       ...,\n",
              "       [   nan,    40.,   365.,  4201.,  5001., 16600.],\n",
              "       [ 1000.,    40.,   365.,  2080.,  3320., 15600.],\n",
              "       [ 2000.,    40.,   365.,  4601.,  4601., 16600.]])"
            ]
          },
          "metadata": {},
          "execution_count": 15
        }
      ]
    },
    {
      "cell_type": "code",
      "source": [
        "temporary_mean = np.nanmean(lending_co_data_numeric_NAN, axis = 0).round(2)"
      ],
      "metadata": {
        "id": "ZwrSkVNxbNEJ"
      },
      "execution_count": null,
      "outputs": []
    },
    {
      "cell_type": "code",
      "source": [
        "temporary_mean[0]"
      ],
      "metadata": {
        "colab": {
          "base_uri": "https://localhost:8080/"
        },
        "id": "SuwA_NRmcJu9",
        "outputId": "afaaf14e-37cb-4e29-f34c-915e7b145e32"
      },
      "execution_count": null,
      "outputs": [
        {
          "output_type": "execute_result",
          "data": {
            "text/plain": [
              "2250.25"
            ]
          },
          "metadata": {},
          "execution_count": 17
        }
      ]
    },
    {
      "cell_type": "code",
      "source": [
        "temporary_fill = np.nanmax(lending_co_data_numeric_NAN).round(2) + 1\n",
        "\n",
        "lending_co_data_numeric_NAN = np.genfromtxt('Lending-company-Numeric-NAN.csv',\n",
        "                                            delimiter = ';',\n",
        "                                            filling_values = temporary_fill)\n",
        "lending_co_data_numeric_NAN"
      ],
      "metadata": {
        "colab": {
          "base_uri": "https://localhost:8080/"
        },
        "id": "b9w3BmJBcRfr",
        "outputId": "6a1b02ce-c53b-4e0e-c887-40df122b7abf"
      },
      "execution_count": null,
      "outputs": [
        {
          "output_type": "execute_result",
          "data": {
            "text/plain": [
              "array([[2.0000e+03, 4.0000e+01, 3.6500e+02, 3.1210e+03, 4.2410e+03,\n",
              "        1.3621e+04],\n",
              "       [2.0000e+03, 4.0000e+01, 3.6500e+02, 3.0610e+03, 4.1710e+03,\n",
              "        1.5041e+04],\n",
              "       [1.0000e+03, 4.0000e+01, 3.6500e+02, 2.1600e+03, 3.2800e+03,\n",
              "        1.5340e+04],\n",
              "       ...,\n",
              "       [6.4002e+04, 4.0000e+01, 3.6500e+02, 4.2010e+03, 5.0010e+03,\n",
              "        1.6600e+04],\n",
              "       [1.0000e+03, 4.0000e+01, 3.6500e+02, 2.0800e+03, 3.3200e+03,\n",
              "        1.5600e+04],\n",
              "       [2.0000e+03, 4.0000e+01, 3.6500e+02, 4.6010e+03, 4.6010e+03,\n",
              "        1.6600e+04]])"
            ]
          },
          "metadata": {},
          "execution_count": 18
        }
      ]
    },
    {
      "cell_type": "code",
      "source": [
        "temporary_fill"
      ],
      "metadata": {
        "colab": {
          "base_uri": "https://localhost:8080/"
        },
        "id": "OIcZpbstdXxA",
        "outputId": "2bfb0a01-4d64-4cfd-f818-eead73ab48c1"
      },
      "execution_count": null,
      "outputs": [
        {
          "output_type": "execute_result",
          "data": {
            "text/plain": [
              "64002.0"
            ]
          },
          "metadata": {},
          "execution_count": 19
        }
      ]
    },
    {
      "cell_type": "code",
      "source": [
        "np.mean(lending_co_data_numeric_NAN[:,0]).round(2)"
      ],
      "metadata": {
        "colab": {
          "base_uri": "https://localhost:8080/"
        },
        "id": "4MlitLSPdhpV",
        "outputId": "e7e982fc-cb62-48e7-b9eb-2dc8ecc00577"
      },
      "execution_count": null,
      "outputs": [
        {
          "output_type": "execute_result",
          "data": {
            "text/plain": [
              "4263.25"
            ]
          },
          "metadata": {},
          "execution_count": 20
        }
      ]
    },
    {
      "cell_type": "code",
      "source": [
        "temporary_mean[0]"
      ],
      "metadata": {
        "colab": {
          "base_uri": "https://localhost:8080/"
        },
        "id": "lZcHGvA9d5PU",
        "outputId": "382a40f7-6cb8-48e6-95b2-584309a99317"
      },
      "execution_count": null,
      "outputs": [
        {
          "output_type": "execute_result",
          "data": {
            "text/plain": [
              "2250.25"
            ]
          },
          "metadata": {},
          "execution_count": 21
        }
      ]
    },
    {
      "cell_type": "code",
      "source": [
        "lending_co_data_numeric_NAN[:,0] = np.where(lending_co_data_numeric_NAN[:,0] == temporary_fill,\n",
        "                                            temporary_mean[0],\n",
        "                                            lending_co_data_numeric_NAN[:,0])"
      ],
      "metadata": {
        "id": "bAbVwDIOf_9_"
      },
      "execution_count": null,
      "outputs": []
    },
    {
      "cell_type": "code",
      "source": [
        "np.mean(lending_co_data_numeric_NAN[:,0]).round(2)"
      ],
      "metadata": {
        "colab": {
          "base_uri": "https://localhost:8080/"
        },
        "id": "_70GXb8Hhc26",
        "outputId": "75ce3f37-715c-418e-8ac5-2618021d12f7"
      },
      "execution_count": null,
      "outputs": [
        {
          "output_type": "execute_result",
          "data": {
            "text/plain": [
              "2250.25"
            ]
          },
          "metadata": {},
          "execution_count": 23
        }
      ]
    },
    {
      "cell_type": "code",
      "source": [
        "for i in range(lending_co_data_numeric_NAN.shape[1]):\n",
        "  lending_co_data_numeric_NAN[:,1] = np.where(lending_co_data_numeric_NAN[:,1] < 0,\n",
        "                                              0,\n",
        "                                              lending_co_data_numeric_NAN[:,1])"
      ],
      "metadata": {
        "id": "VIZj7YkzinJa"
      },
      "execution_count": null,
      "outputs": []
    },
    {
      "cell_type": "markdown",
      "source": [
        "Reshaping"
      ],
      "metadata": {
        "id": "x5IPYgGOoJ1u"
      }
    },
    {
      "cell_type": "code",
      "source": [
        "lending_co_data_numeric = np.loadtxt(\"Lending-company-Numeric.csv\", delimiter = ',')"
      ],
      "metadata": {
        "id": "4x_SvAQitXae"
      },
      "execution_count": null,
      "outputs": []
    },
    {
      "cell_type": "code",
      "source": [
        "lending_co_data_numeric"
      ],
      "metadata": {
        "colab": {
          "base_uri": "https://localhost:8080/"
        },
        "id": "msFRFmsPtp7G",
        "outputId": "f4140b17-ecef-4314-c12d-fb1fdbe3fb58"
      },
      "execution_count": null,
      "outputs": [
        {
          "output_type": "execute_result",
          "data": {
            "text/plain": [
              "array([[ 2000.,    40.,   365.,  3121.,  4241., 13621.],\n",
              "       [ 2000.,    40.,   365.,  3061.,  4171., 15041.],\n",
              "       [ 1000.,    40.,   365.,  2160.,  3280., 15340.],\n",
              "       ...,\n",
              "       [ 2000.,    40.,   365.,  4201.,  5001., 16600.],\n",
              "       [ 1000.,    40.,   365.,  2080.,  3320., 15600.],\n",
              "       [ 2000.,    40.,   365.,  4601.,  4601., 16600.]])"
            ]
          },
          "metadata": {},
          "execution_count": 26
        }
      ]
    },
    {
      "cell_type": "code",
      "source": [
        "lending_co_data_numeric.shape"
      ],
      "metadata": {
        "colab": {
          "base_uri": "https://localhost:8080/"
        },
        "id": "dK0o9Dj-uBrC",
        "outputId": "70780fdf-1773-4d80-85c5-0c839935e710"
      },
      "execution_count": null,
      "outputs": [
        {
          "output_type": "execute_result",
          "data": {
            "text/plain": [
              "(1043, 6)"
            ]
          },
          "metadata": {},
          "execution_count": 27
        }
      ]
    },
    {
      "cell_type": "code",
      "source": [
        "np.reshape(lending_co_data_numeric, (6,1043))"
      ],
      "metadata": {
        "colab": {
          "base_uri": "https://localhost:8080/"
        },
        "id": "lYN4KlXRutyl",
        "outputId": "9f8f3686-8042-47c5-985c-dadaef16db9e"
      },
      "execution_count": null,
      "outputs": [
        {
          "output_type": "execute_result",
          "data": {
            "text/plain": [
              "array([[ 2000.,    40.,   365., ...,   365.,  1581.,  3041.],\n",
              "       [12277.,  2000.,    40., ...,    50.,   365.,  5350.],\n",
              "       [ 6850., 15150.,  1000., ...,  2000.,    40.,   365.],\n",
              "       [ 3101.,  4351., 16600., ..., 16600.,  2000.,    40.],\n",
              "       [  365.,  3441.,  4661., ...,  8450., 22250.,  2000.],\n",
              "       [   40.,   365.,  3701., ...,  4601.,  4601., 16600.]])"
            ]
          },
          "metadata": {},
          "execution_count": 28
        }
      ]
    },
    {
      "cell_type": "code",
      "source": [
        "np.transpose(lending_co_data_numeric)"
      ],
      "metadata": {
        "colab": {
          "base_uri": "https://localhost:8080/"
        },
        "id": "SrHu_kG5wDLh",
        "outputId": "4401819d-5310-4937-edfd-ace6f1f15893"
      },
      "execution_count": null,
      "outputs": [
        {
          "output_type": "execute_result",
          "data": {
            "text/plain": [
              "array([[ 2000.,  2000.,  1000., ...,  2000.,  1000.,  2000.],\n",
              "       [   40.,    40.,    40., ...,    40.,    40.,    40.],\n",
              "       [  365.,   365.,   365., ...,   365.,   365.,   365.],\n",
              "       [ 3121.,  3061.,  2160., ...,  4201.,  2080.,  4601.],\n",
              "       [ 4241.,  4171.,  3280., ...,  5001.,  3320.,  4601.],\n",
              "       [13621., 15041., 15340., ..., 16600., 15600., 16600.]])"
            ]
          },
          "metadata": {},
          "execution_count": 29
        }
      ]
    },
    {
      "cell_type": "code",
      "source": [
        "np.reshape(lending_co_data_numeric, (2,3,1043))"
      ],
      "metadata": {
        "colab": {
          "base_uri": "https://localhost:8080/"
        },
        "id": "iIiKS2xBwenY",
        "outputId": "a6a6f23c-1cc1-4eab-b6e2-62e2a9861119"
      },
      "execution_count": null,
      "outputs": [
        {
          "output_type": "execute_result",
          "data": {
            "text/plain": [
              "array([[[ 2000.,    40.,   365., ...,   365.,  1581.,  3041.],\n",
              "        [12277.,  2000.,    40., ...,    50.,   365.,  5350.],\n",
              "        [ 6850., 15150.,  1000., ...,  2000.,    40.,   365.]],\n",
              "\n",
              "       [[ 3101.,  4351., 16600., ..., 16600.,  2000.,    40.],\n",
              "        [  365.,  3441.,  4661., ...,  8450., 22250.,  2000.],\n",
              "        [   40.,   365.,  3701., ...,  4601.,  4601., 16600.]]])"
            ]
          },
          "metadata": {},
          "execution_count": 30
        }
      ]
    },
    {
      "cell_type": "markdown",
      "source": [
        "Removing Values"
      ],
      "metadata": {
        "id": "VhB19TRGM-VP"
      }
    },
    {
      "cell_type": "code",
      "source": [
        "lending_co_data_numeric"
      ],
      "metadata": {
        "colab": {
          "base_uri": "https://localhost:8080/"
        },
        "id": "bgvhCGeJM84g",
        "outputId": "e70a5e5e-718b-4bc4-9f75-a08c50ff9141"
      },
      "execution_count": null,
      "outputs": [
        {
          "output_type": "execute_result",
          "data": {
            "text/plain": [
              "array([[ 2000.,    40.,   365.,  3121.,  4241., 13621.],\n",
              "       [ 2000.,    40.,   365.,  3061.,  4171., 15041.],\n",
              "       [ 1000.,    40.,   365.,  2160.,  3280., 15340.],\n",
              "       ...,\n",
              "       [ 2000.,    40.,   365.,  4201.,  5001., 16600.],\n",
              "       [ 1000.,    40.,   365.,  2080.,  3320., 15600.],\n",
              "       [ 2000.,    40.,   365.,  4601.,  4601., 16600.]])"
            ]
          },
          "metadata": {},
          "execution_count": 31
        }
      ]
    },
    {
      "cell_type": "code",
      "source": [
        "np.delete(lending_co_data_numeric, 0).shape"
      ],
      "metadata": {
        "colab": {
          "base_uri": "https://localhost:8080/"
        },
        "id": "YNyeoO3VNRc3",
        "outputId": "064f687c-e14a-4176-9146-9f1284214907"
      },
      "execution_count": null,
      "outputs": [
        {
          "output_type": "execute_result",
          "data": {
            "text/plain": [
              "(6257,)"
            ]
          },
          "metadata": {},
          "execution_count": 32
        }
      ]
    },
    {
      "cell_type": "code",
      "source": [
        "lending_co_data_numeric.size"
      ],
      "metadata": {
        "colab": {
          "base_uri": "https://localhost:8080/"
        },
        "id": "QjhLGDAzN-ec",
        "outputId": "990f8216-87f5-472e-85ae-b2ade1e6237d"
      },
      "execution_count": null,
      "outputs": [
        {
          "output_type": "execute_result",
          "data": {
            "text/plain": [
              "6258"
            ]
          },
          "metadata": {},
          "execution_count": 33
        }
      ]
    },
    {
      "cell_type": "code",
      "source": [
        "lending_co_data_numeric"
      ],
      "metadata": {
        "colab": {
          "base_uri": "https://localhost:8080/"
        },
        "id": "gQp6bx4nOSAh",
        "outputId": "9c900be8-add1-4405-a1d2-c5bc5f76781a"
      },
      "execution_count": null,
      "outputs": [
        {
          "output_type": "execute_result",
          "data": {
            "text/plain": [
              "array([[ 2000.,    40.,   365.,  3121.,  4241., 13621.],\n",
              "       [ 2000.,    40.,   365.,  3061.,  4171., 15041.],\n",
              "       [ 1000.,    40.,   365.,  2160.,  3280., 15340.],\n",
              "       ...,\n",
              "       [ 2000.,    40.,   365.,  4201.,  5001., 16600.],\n",
              "       [ 1000.,    40.,   365.,  2080.,  3320., 15600.],\n",
              "       [ 2000.,    40.,   365.,  4601.,  4601., 16600.]])"
            ]
          },
          "metadata": {},
          "execution_count": 34
        }
      ]
    },
    {
      "cell_type": "code",
      "source": [
        "np.delete(lending_co_data_numeric, 0, axis = 1)"
      ],
      "metadata": {
        "colab": {
          "base_uri": "https://localhost:8080/"
        },
        "id": "oGbXvhjQOUZ2",
        "outputId": "1e51c70c-0d06-4f6a-a527-1492b631e173"
      },
      "execution_count": null,
      "outputs": [
        {
          "output_type": "execute_result",
          "data": {
            "text/plain": [
              "array([[   40.,   365.,  3121.,  4241., 13621.],\n",
              "       [   40.,   365.,  3061.,  4171., 15041.],\n",
              "       [   40.,   365.,  2160.,  3280., 15340.],\n",
              "       ...,\n",
              "       [   40.,   365.,  4201.,  5001., 16600.],\n",
              "       [   40.,   365.,  2080.,  3320., 15600.],\n",
              "       [   40.,   365.,  4601.,  4601., 16600.]])"
            ]
          },
          "metadata": {},
          "execution_count": 35
        }
      ]
    },
    {
      "cell_type": "code",
      "source": [
        "np.delete(lending_co_data_numeric, 1, axis = 1)"
      ],
      "metadata": {
        "colab": {
          "base_uri": "https://localhost:8080/"
        },
        "id": "hwMwSIWHO2ah",
        "outputId": "32c0dc61-08bd-4967-e417-7bab20043d07"
      },
      "execution_count": null,
      "outputs": [
        {
          "output_type": "execute_result",
          "data": {
            "text/plain": [
              "array([[ 2000.,   365.,  3121.,  4241., 13621.],\n",
              "       [ 2000.,   365.,  3061.,  4171., 15041.],\n",
              "       [ 1000.,   365.,  2160.,  3280., 15340.],\n",
              "       ...,\n",
              "       [ 2000.,   365.,  4201.,  5001., 16600.],\n",
              "       [ 1000.,   365.,  2080.,  3320., 15600.],\n",
              "       [ 2000.,   365.,  4601.,  4601., 16600.]])"
            ]
          },
          "metadata": {},
          "execution_count": 36
        }
      ]
    },
    {
      "cell_type": "code",
      "source": [
        "np.delete(lending_co_data_numeric, [0,2,4], axis = 1)"
      ],
      "metadata": {
        "colab": {
          "base_uri": "https://localhost:8080/"
        },
        "id": "mVZz703vPWEY",
        "outputId": "6c98cd7c-18bf-47c3-d2c5-aa9a76ef0ccc"
      },
      "execution_count": null,
      "outputs": [
        {
          "output_type": "execute_result",
          "data": {
            "text/plain": [
              "array([[   40.,  3121., 13621.],\n",
              "       [   40.,  3061., 15041.],\n",
              "       [   40.,  2160., 15340.],\n",
              "       ...,\n",
              "       [   40.,  4201., 16600.],\n",
              "       [   40.,  2080., 15600.],\n",
              "       [   40.,  4601., 16600.]])"
            ]
          },
          "metadata": {},
          "execution_count": 37
        }
      ]
    },
    {
      "cell_type": "code",
      "source": [
        "np.delete(np.delete(lending_co_data_numeric, [0,2,4], axis = 1), [0,2,-1], axis = 0)"
      ],
      "metadata": {
        "colab": {
          "base_uri": "https://localhost:8080/"
        },
        "id": "oJzziWVlPdUJ",
        "outputId": "e651769c-c676-4019-c073-89c5f3fcfdb0"
      },
      "execution_count": null,
      "outputs": [
        {
          "output_type": "execute_result",
          "data": {
            "text/plain": [
              "array([[   40.,  3061., 15041.],\n",
              "       [   40.,  3041., 15321.],\n",
              "       [   50.,  3470., 13720.],\n",
              "       ...,\n",
              "       [   40.,  4240., 16600.],\n",
              "       [   40.,  4201., 16600.],\n",
              "       [   40.,  2080., 15600.]])"
            ]
          },
          "metadata": {},
          "execution_count": 38
        }
      ]
    },
    {
      "cell_type": "markdown",
      "source": [
        "Sorting Data"
      ],
      "metadata": {
        "id": "TgwXbQnlQrfR"
      }
    },
    {
      "cell_type": "code",
      "source": [
        "np.sort(lending_co_data_numeric)"
      ],
      "metadata": {
        "colab": {
          "base_uri": "https://localhost:8080/"
        },
        "id": "pvqr4DtPQdKs",
        "outputId": "265118e6-baed-48a2-c580-e203b83012aa"
      },
      "execution_count": null,
      "outputs": [
        {
          "output_type": "execute_result",
          "data": {
            "text/plain": [
              "array([[   40.,   365.,  2000.,  3121.,  4241., 13621.],\n",
              "       [   40.,   365.,  2000.,  3061.,  4171., 15041.],\n",
              "       [   40.,   365.,  1000.,  2160.,  3280., 15340.],\n",
              "       ...,\n",
              "       [   40.,   365.,  2000.,  4201.,  5001., 16600.],\n",
              "       [   40.,   365.,  1000.,  2080.,  3320., 15600.],\n",
              "       [   40.,   365.,  2000.,  4601.,  4601., 16600.]])"
            ]
          },
          "metadata": {},
          "execution_count": 39
        }
      ]
    },
    {
      "cell_type": "code",
      "source": [
        "np.sort(lending_co_data_numeric).shape"
      ],
      "metadata": {
        "colab": {
          "base_uri": "https://localhost:8080/"
        },
        "id": "qGFqehlXRHNX",
        "outputId": "30af1b4b-2677-4263-c940-061a1aff50e1"
      },
      "execution_count": null,
      "outputs": [
        {
          "output_type": "execute_result",
          "data": {
            "text/plain": [
              "(1043, 6)"
            ]
          },
          "metadata": {},
          "execution_count": 40
        }
      ]
    },
    {
      "cell_type": "code",
      "source": [
        "np.sort(lending_co_data_numeric, axis = 0)"
      ],
      "metadata": {
        "colab": {
          "base_uri": "https://localhost:8080/"
        },
        "id": "0kKq6VQKRLOB",
        "outputId": "1015f316-fc0d-408e-d4db-1653db74141d"
      },
      "execution_count": null,
      "outputs": [
        {
          "output_type": "execute_result",
          "data": {
            "text/plain": [
              "array([[ 1.0000e+03,  3.5000e+01,  3.6500e+02, -2.8700e+03, -2.8700e+03,\n",
              "        -3.5000e+02],\n",
              "       [ 1.0000e+03,  3.5000e+01,  3.6500e+02, -2.5500e+03, -2.1000e+03,\n",
              "         1.5000e+02],\n",
              "       [ 1.0000e+03,  3.5000e+01,  3.6500e+02, -2.4500e+03, -2.0000e+03,\n",
              "         1.1000e+03],\n",
              "       ...,\n",
              "       [ 9.0000e+03,  1.2500e+02,  3.6500e+02,  1.6751e+04,  1.8751e+04,\n",
              "         5.4625e+04],\n",
              "       [ 9.0000e+03,  1.6500e+02,  3.6500e+02,  1.7650e+04,  2.0001e+04,\n",
              "         5.4625e+04],\n",
              "       [ 9.0000e+03,  1.6500e+02,  3.6500e+02,  1.9001e+04,  2.2001e+04,\n",
              "         6.4001e+04]])"
            ]
          },
          "metadata": {},
          "execution_count": 41
        }
      ]
    },
    {
      "cell_type": "code",
      "source": [
        "np.set_printoptions(suppress = True)"
      ],
      "metadata": {
        "id": "Atd1ozjMia1o"
      },
      "execution_count": null,
      "outputs": []
    },
    {
      "cell_type": "code",
      "source": [
        "np.sort(lending_co_data_numeric, axis = None)"
      ],
      "metadata": {
        "colab": {
          "base_uri": "https://localhost:8080/"
        },
        "id": "qVU1NacvjN10",
        "outputId": "e8341ca3-a88d-4d5e-e933-2e83b23f2981"
      },
      "execution_count": null,
      "outputs": [
        {
          "output_type": "execute_result",
          "data": {
            "text/plain": [
              "array([-2870., -2870., -2550., ..., 54625., 54625., 64001.])"
            ]
          },
          "metadata": {},
          "execution_count": 43
        }
      ]
    },
    {
      "cell_type": "code",
      "source": [
        "np.sort(lending_co_data_numeric)"
      ],
      "metadata": {
        "colab": {
          "base_uri": "https://localhost:8080/"
        },
        "id": "8WbG0B0gjUU7",
        "outputId": "b9e934cf-5236-4d33-9058-a28db6234d15"
      },
      "execution_count": null,
      "outputs": [
        {
          "output_type": "execute_result",
          "data": {
            "text/plain": [
              "array([[   40.,   365.,  2000.,  3121.,  4241., 13621.],\n",
              "       [   40.,   365.,  2000.,  3061.,  4171., 15041.],\n",
              "       [   40.,   365.,  1000.,  2160.,  3280., 15340.],\n",
              "       ...,\n",
              "       [   40.,   365.,  2000.,  4201.,  5001., 16600.],\n",
              "       [   40.,   365.,  1000.,  2080.,  3320., 15600.],\n",
              "       [   40.,   365.,  2000.,  4601.,  4601., 16600.]])"
            ]
          },
          "metadata": {},
          "execution_count": 44
        }
      ]
    },
    {
      "cell_type": "code",
      "source": [
        "np.sort(-lending_co_data_numeric)"
      ],
      "metadata": {
        "colab": {
          "base_uri": "https://localhost:8080/"
        },
        "id": "22ZV3kWPjd93",
        "outputId": "b9b90dda-3934-42db-b1dd-3a354c626946"
      },
      "execution_count": null,
      "outputs": [
        {
          "output_type": "execute_result",
          "data": {
            "text/plain": [
              "array([[-13621.,  -4241.,  -3121.,  -2000.,   -365.,    -40.],\n",
              "       [-15041.,  -4171.,  -3061.,  -2000.,   -365.,    -40.],\n",
              "       [-15340.,  -3280.,  -2160.,  -1000.,   -365.,    -40.],\n",
              "       ...,\n",
              "       [-16600.,  -5001.,  -4201.,  -2000.,   -365.,    -40.],\n",
              "       [-15600.,  -3320.,  -2080.,  -1000.,   -365.,    -40.],\n",
              "       [-16600.,  -4601.,  -4601.,  -2000.,   -365.,    -40.]])"
            ]
          },
          "metadata": {},
          "execution_count": 45
        }
      ]
    },
    {
      "cell_type": "code",
      "source": [
        "-np.sort(-lending_co_data_numeric)"
      ],
      "metadata": {
        "colab": {
          "base_uri": "https://localhost:8080/"
        },
        "id": "cAVDQmvrjoqA",
        "outputId": "60503a25-d6f9-49f2-8dca-15eb98010837"
      },
      "execution_count": null,
      "outputs": [
        {
          "output_type": "execute_result",
          "data": {
            "text/plain": [
              "array([[13621.,  4241.,  3121.,  2000.,   365.,    40.],\n",
              "       [15041.,  4171.,  3061.,  2000.,   365.,    40.],\n",
              "       [15340.,  3280.,  2160.,  1000.,   365.,    40.],\n",
              "       ...,\n",
              "       [16600.,  5001.,  4201.,  2000.,   365.,    40.],\n",
              "       [15600.,  3320.,  2080.,  1000.,   365.,    40.],\n",
              "       [16600.,  4601.,  4601.,  2000.,   365.,    40.]])"
            ]
          },
          "metadata": {},
          "execution_count": 46
        }
      ]
    },
    {
      "cell_type": "code",
      "source": [
        "-np.sort(lending_co_data_numeric)"
      ],
      "metadata": {
        "colab": {
          "base_uri": "https://localhost:8080/"
        },
        "id": "tT2w7giDj17M",
        "outputId": "545864b2-ebca-4704-e820-56b8257169a5"
      },
      "execution_count": null,
      "outputs": [
        {
          "output_type": "execute_result",
          "data": {
            "text/plain": [
              "array([[   -40.,   -365.,  -2000.,  -3121.,  -4241., -13621.],\n",
              "       [   -40.,   -365.,  -2000.,  -3061.,  -4171., -15041.],\n",
              "       [   -40.,   -365.,  -1000.,  -2160.,  -3280., -15340.],\n",
              "       ...,\n",
              "       [   -40.,   -365.,  -2000.,  -4201.,  -5001., -16600.],\n",
              "       [   -40.,   -365.,  -1000.,  -2080.,  -3320., -15600.],\n",
              "       [   -40.,   -365.,  -2000.,  -4601.,  -4601., -16600.]])"
            ]
          },
          "metadata": {},
          "execution_count": 47
        }
      ]
    },
    {
      "cell_type": "code",
      "source": [
        "lending_co_data_numeric"
      ],
      "metadata": {
        "colab": {
          "base_uri": "https://localhost:8080/"
        },
        "id": "qtYIiYGqkEou",
        "outputId": "cc5b46b7-eae7-4036-ddd4-267bbacf7dc6"
      },
      "execution_count": null,
      "outputs": [
        {
          "output_type": "execute_result",
          "data": {
            "text/plain": [
              "array([[ 2000.,    40.,   365.,  3121.,  4241., 13621.],\n",
              "       [ 2000.,    40.,   365.,  3061.,  4171., 15041.],\n",
              "       [ 1000.,    40.,   365.,  2160.,  3280., 15340.],\n",
              "       ...,\n",
              "       [ 2000.,    40.,   365.,  4201.,  5001., 16600.],\n",
              "       [ 1000.,    40.,   365.,  2080.,  3320., 15600.],\n",
              "       [ 2000.,    40.,   365.,  4601.,  4601., 16600.]])"
            ]
          },
          "metadata": {},
          "execution_count": 48
        }
      ]
    },
    {
      "cell_type": "code",
      "source": [
        "np.sort(lending_co_data_numeric[:,3])"
      ],
      "metadata": {
        "colab": {
          "base_uri": "https://localhost:8080/"
        },
        "id": "7Vx8GUuKka8N",
        "outputId": "fbb9010e-ce86-4882-b139-8a93df5704e5"
      },
      "execution_count": null,
      "outputs": [
        {
          "output_type": "execute_result",
          "data": {
            "text/plain": [
              "array([-2870., -2550., -2450., ..., 16751., 17650., 19001.])"
            ]
          },
          "metadata": {},
          "execution_count": 49
        }
      ]
    },
    {
      "cell_type": "code",
      "source": [
        "lending_co_data_numeric[:,3].sort()\n",
        "lending_co_data_numeric"
      ],
      "metadata": {
        "id": "PVsfcMXnlpvb",
        "outputId": "7301e3a8-ae68-4727-aa73-a8c1f13a8cc0",
        "colab": {
          "base_uri": "https://localhost:8080/"
        }
      },
      "execution_count": null,
      "outputs": [
        {
          "output_type": "execute_result",
          "data": {
            "text/plain": [
              "array([[ 2000.,    40.,   365., -2870.,  4241., 13621.],\n",
              "       [ 2000.,    40.,   365., -2550.,  4171., 15041.],\n",
              "       [ 1000.,    40.,   365., -2450.,  3280., 15340.],\n",
              "       ...,\n",
              "       [ 2000.,    40.,   365., 16751.,  5001., 16600.],\n",
              "       [ 1000.,    40.,   365., 17650.,  3320., 15600.],\n",
              "       [ 2000.,    40.,   365., 19001.,  4601., 16600.]])"
            ]
          },
          "metadata": {},
          "execution_count": 50
        }
      ]
    },
    {
      "cell_type": "markdown",
      "source": [
        "Argument Functions"
      ],
      "metadata": {
        "id": "aKcfdhUgOT-c"
      }
    },
    {
      "cell_type": "markdown",
      "source": [
        "np.argsort()"
      ],
      "metadata": {
        "id": "RvkfZ0NBOsIS"
      }
    },
    {
      "cell_type": "code",
      "source": [
        "lending_co_data_numeric"
      ],
      "metadata": {
        "colab": {
          "base_uri": "https://localhost:8080/"
        },
        "id": "db8JmK1YOPIM",
        "outputId": "5089b073-29b0-4474-8996-26fe12373615"
      },
      "execution_count": null,
      "outputs": [
        {
          "output_type": "execute_result",
          "data": {
            "text/plain": [
              "array([[ 2000.,    40.,   365., -2870.,  4241., 13621.],\n",
              "       [ 2000.,    40.,   365., -2550.,  4171., 15041.],\n",
              "       [ 1000.,    40.,   365., -2450.,  3280., 15340.],\n",
              "       ...,\n",
              "       [ 2000.,    40.,   365., 16751.,  5001., 16600.],\n",
              "       [ 1000.,    40.,   365., 17650.,  3320., 15600.],\n",
              "       [ 2000.,    40.,   365., 19001.,  4601., 16600.]])"
            ]
          },
          "metadata": {},
          "execution_count": 51
        }
      ]
    },
    {
      "cell_type": "code",
      "source": [
        "np.argsort(lending_co_data_numeric)"
      ],
      "metadata": {
        "colab": {
          "base_uri": "https://localhost:8080/"
        },
        "id": "utfJqA1LQIYW",
        "outputId": "91386dc6-3e4d-4cc5-bfd9-adf07471d689"
      },
      "execution_count": null,
      "outputs": [
        {
          "output_type": "execute_result",
          "data": {
            "text/plain": [
              "array([[3, 1, 2, 0, 4, 5],\n",
              "       [3, 1, 2, 0, 4, 5],\n",
              "       [3, 1, 2, 0, 4, 5],\n",
              "       ...,\n",
              "       [1, 2, 0, 4, 5, 3],\n",
              "       [1, 2, 0, 4, 5, 3],\n",
              "       [1, 2, 0, 4, 5, 3]])"
            ]
          },
          "metadata": {},
          "execution_count": 52
        }
      ]
    },
    {
      "cell_type": "code",
      "source": [
        "np.argsort(lending_co_data_numeric, axis = 0)"
      ],
      "metadata": {
        "colab": {
          "base_uri": "https://localhost:8080/"
        },
        "id": "aPQHjzF0RLkC",
        "outputId": "635f3d1c-af5f-454c-95d6-6a0feb48a5bf"
      },
      "execution_count": null,
      "outputs": [
        {
          "output_type": "execute_result",
          "data": {
            "text/plain": [
              "array([[ 537,  443,    0,    0,   32,  482],\n",
              "       [ 639,  327,  687,    1,  166,  493],\n",
              "       [ 849,  432,  688,    2,   85,  166],\n",
              "       ...,\n",
              "       [  27,  326,  355, 1040, 1019,  568],\n",
              "       [ 277,   27,  357, 1041, 1033,  534],\n",
              "       [ 420,  408, 1042, 1042,  912,   27]])"
            ]
          },
          "metadata": {},
          "execution_count": 53
        }
      ]
    },
    {
      "cell_type": "code",
      "source": [
        "lending_co_data_numeric[482,5]"
      ],
      "metadata": {
        "colab": {
          "base_uri": "https://localhost:8080/"
        },
        "id": "wMIboR2oRgVu",
        "outputId": "d08a3e14-a099-496e-90f4-480d429d7423"
      },
      "execution_count": null,
      "outputs": [
        {
          "output_type": "execute_result",
          "data": {
            "text/plain": [
              "-350.0"
            ]
          },
          "metadata": {},
          "execution_count": 54
        }
      ]
    },
    {
      "cell_type": "code",
      "source": [
        "lending_co_data_numeric = lending_co_data_numeric[np.argsort(lending_co_data_numeric[:,0])]\n",
        "lending_co_data_numeric"
      ],
      "metadata": {
        "colab": {
          "base_uri": "https://localhost:8080/"
        },
        "id": "C4UwapaIRx2E",
        "outputId": "8f1f57c8-a761-4380-9bb6-890f97d26171"
      },
      "execution_count": null,
      "outputs": [
        {
          "output_type": "execute_result",
          "data": {
            "text/plain": [
              "array([[ 1000.,    40.,   365.,  3418.,  3400., 15600.],\n",
              "       [ 1000.,    40.,   365.,  3750.,  3800., 15600.],\n",
              "       [ 1000.,    40.,   365.,  5500.,  3950., 15600.],\n",
              "       ...,\n",
              "       [ 9000.,   165.,   365.,  -750., 16846., 64001.],\n",
              "       [ 9000.,   125.,   365.,  2981., 15751., 38626.],\n",
              "       [ 9000.,   125.,   365.,  3321., 14251., 25626.]])"
            ]
          },
          "metadata": {},
          "execution_count": 55
        }
      ]
    },
    {
      "cell_type": "code",
      "source": [
        "lending_co_data_numeric.argsort(axis = 0)"
      ],
      "metadata": {
        "colab": {
          "base_uri": "https://localhost:8080/"
        },
        "id": "Wl0JTdrISVAQ",
        "outputId": "f1dc6c58-34f1-421d-91ae-b9acfe48a1af"
      },
      "execution_count": null,
      "outputs": [
        {
          "output_type": "execute_result",
          "data": {
            "text/plain": [
              "array([[   0,   22,    0,  342,  199,  172],\n",
              "       [ 155,   62,  687,  650,   53,  160],\n",
              "       [ 156,   38,  688,  177,  169,   53],\n",
              "       ...,\n",
              "       [1022, 1042,  355,  412, 1037, 1023],\n",
              "       [1031, 1039,  357,  194, 1029, 1024],\n",
              "       [1042, 1040, 1042,  716, 1027, 1040]])"
            ]
          },
          "metadata": {},
          "execution_count": 56
        }
      ]
    },
    {
      "cell_type": "code",
      "source": [
        "lending_co_data_numeric"
      ],
      "metadata": {
        "colab": {
          "base_uri": "https://localhost:8080/"
        },
        "id": "Gl3MRyUtTHyI",
        "outputId": "4b162026-527e-41fc-9a14-d16fe00e3ae9"
      },
      "execution_count": null,
      "outputs": [
        {
          "output_type": "execute_result",
          "data": {
            "text/plain": [
              "array([[ 1000.,    40.,   365.,  3418.,  3400., 15600.],\n",
              "       [ 1000.,    40.,   365.,  3750.,  3800., 15600.],\n",
              "       [ 1000.,    40.,   365.,  5500.,  3950., 15600.],\n",
              "       ...,\n",
              "       [ 9000.,   165.,   365.,  -750., 16846., 64001.],\n",
              "       [ 9000.,   125.,   365.,  2981., 15751., 38626.],\n",
              "       [ 9000.,   125.,   365.,  3321., 14251., 25626.]])"
            ]
          },
          "metadata": {},
          "execution_count": 57
        }
      ]
    },
    {
      "cell_type": "markdown",
      "source": [
        "np.argwhere()"
      ],
      "metadata": {
        "id": "_iOadV8ZU-UO"
      }
    },
    {
      "cell_type": "code",
      "source": [
        "np.argwhere(lending_co_data_numeric)"
      ],
      "metadata": {
        "colab": {
          "base_uri": "https://localhost:8080/"
        },
        "id": "mX79KS1AVBrP",
        "outputId": "3f2c4933-75a4-43de-a1d9-f42a94170f2d"
      },
      "execution_count": null,
      "outputs": [
        {
          "output_type": "execute_result",
          "data": {
            "text/plain": [
              "array([[   0,    0],\n",
              "       [   0,    1],\n",
              "       [   0,    2],\n",
              "       ...,\n",
              "       [1042,    3],\n",
              "       [1042,    4],\n",
              "       [1042,    5]])"
            ]
          },
          "metadata": {},
          "execution_count": 58
        }
      ]
    },
    {
      "cell_type": "code",
      "source": [
        "np.argwhere(lending_co_data_numeric == False)"
      ],
      "metadata": {
        "colab": {
          "base_uri": "https://localhost:8080/"
        },
        "id": "20JL4EvjVoIs",
        "outputId": "49c9cea4-d7fe-4da1-e679-a138b2080118"
      },
      "execution_count": null,
      "outputs": [
        {
          "output_type": "execute_result",
          "data": {
            "text/plain": [
              "array([[219,   4],\n",
              "       [649,   3]])"
            ]
          },
          "metadata": {},
          "execution_count": 59
        }
      ]
    },
    {
      "cell_type": "code",
      "source": [
        "lending_co_data_numeric[430]"
      ],
      "metadata": {
        "colab": {
          "base_uri": "https://localhost:8080/"
        },
        "id": "_2hW79dCWjOH",
        "outputId": "c63aa216-a8b5-4893-98f3-84a6e02d04a6"
      },
      "execution_count": null,
      "outputs": [
        {
          "output_type": "execute_result",
          "data": {
            "text/plain": [
              "array([ 2000.,    50.,   365.,  7951.,  5251., 20250.])"
            ]
          },
          "metadata": {},
          "execution_count": 60
        }
      ]
    },
    {
      "cell_type": "code",
      "source": [
        "lending_co_data_numeric"
      ],
      "metadata": {
        "colab": {
          "base_uri": "https://localhost:8080/"
        },
        "id": "gHkp4b9UXrtW",
        "outputId": "bdb811d3-3efb-47bc-cc41-b81abb5ede6e"
      },
      "execution_count": null,
      "outputs": [
        {
          "output_type": "execute_result",
          "data": {
            "text/plain": [
              "array([[ 1000.,    40.,   365.,  3418.,  3400., 15600.],\n",
              "       [ 1000.,    40.,   365.,  3750.,  3800., 15600.],\n",
              "       [ 1000.,    40.,   365.,  5500.,  3950., 15600.],\n",
              "       ...,\n",
              "       [ 9000.,   165.,   365.,  -750., 16846., 64001.],\n",
              "       [ 9000.,   125.,   365.,  2981., 15751., 38626.],\n",
              "       [ 9000.,   125.,   365.,  3321., 14251., 25626.]])"
            ]
          },
          "metadata": {},
          "execution_count": 61
        }
      ]
    },
    {
      "cell_type": "code",
      "source": [
        "np.argwhere(lending_co_data_numeric %2 == 0)"
      ],
      "metadata": {
        "colab": {
          "base_uri": "https://localhost:8080/"
        },
        "id": "lSsLSJT7X3WH",
        "outputId": "d2edccdb-f93f-4fac-b2a7-16082c5db8cd"
      },
      "execution_count": null,
      "outputs": [
        {
          "output_type": "execute_result",
          "data": {
            "text/plain": [
              "array([[   0,    0],\n",
              "       [   0,    1],\n",
              "       [   0,    3],\n",
              "       ...,\n",
              "       [1041,    5],\n",
              "       [1042,    0],\n",
              "       [1042,    5]])"
            ]
          },
          "metadata": {},
          "execution_count": 62
        }
      ]
    },
    {
      "cell_type": "code",
      "source": [
        "np.isnan(lending_co_data_numeric).sum()"
      ],
      "metadata": {
        "colab": {
          "base_uri": "https://localhost:8080/"
        },
        "id": "idE4zywAYcJD",
        "outputId": "5a874151-853c-4739-bd0b-4a87fba29584"
      },
      "execution_count": null,
      "outputs": [
        {
          "output_type": "execute_result",
          "data": {
            "text/plain": [
              "0"
            ]
          },
          "metadata": {},
          "execution_count": 63
        }
      ]
    },
    {
      "cell_type": "code",
      "source": [
        "lending_co_data_numeric_NAN = np.genfromtxt(\"Lending-company-Numeric-NAN.csv\", delimiter = ';')\n",
        "lending_co_data_numeric_NAN"
      ],
      "metadata": {
        "colab": {
          "base_uri": "https://localhost:8080/"
        },
        "id": "zaTNzMv9aBD2",
        "outputId": "0f47d485-78f1-4ad4-c074-1acab22b4c72"
      },
      "execution_count": null,
      "outputs": [
        {
          "output_type": "execute_result",
          "data": {
            "text/plain": [
              "array([[ 2000.,    40.,   365.,  3121.,  4241., 13621.],\n",
              "       [ 2000.,    40.,   365.,  3061.,  4171., 15041.],\n",
              "       [ 1000.,    40.,   365.,  2160.,  3280., 15340.],\n",
              "       ...,\n",
              "       [   nan,    40.,   365.,  4201.,  5001., 16600.],\n",
              "       [ 1000.,    40.,   365.,  2080.,  3320., 15600.],\n",
              "       [ 2000.,    40.,   365.,  4601.,  4601., 16600.]])"
            ]
          },
          "metadata": {},
          "execution_count": 64
        }
      ]
    },
    {
      "cell_type": "code",
      "source": [
        "np.argwhere(np.isnan(lending_co_data_numeric_NAN))"
      ],
      "metadata": {
        "colab": {
          "base_uri": "https://localhost:8080/"
        },
        "id": "tObMzXVcac46",
        "outputId": "2344af02-0377-443e-a438-0fb5b93291b9"
      },
      "execution_count": null,
      "outputs": [
        {
          "output_type": "execute_result",
          "data": {
            "text/plain": [
              "array([[  11,    3],\n",
              "       [  15,    3],\n",
              "       [  27,    3],\n",
              "       [  58,    3],\n",
              "       [  60,    4],\n",
              "       [  85,    4],\n",
              "       [ 117,    5],\n",
              "       [ 152,    1],\n",
              "       [ 152,    2],\n",
              "       [ 152,    4],\n",
              "       [ 172,    1],\n",
              "       [ 175,    1],\n",
              "       [ 175,    2],\n",
              "       [ 176,    3],\n",
              "       [ 177,    4],\n",
              "       [ 178,    5],\n",
              "       [ 211,    3],\n",
              "       [ 229,    0],\n",
              "       [ 230,    1],\n",
              "       [ 237,    1],\n",
              "       [ 247,    3],\n",
              "       [ 251,    5],\n",
              "       [ 252,    4],\n",
              "       [ 258,    1],\n",
              "       [ 260,    3],\n",
              "       [ 262,    4],\n",
              "       [ 271,    5],\n",
              "       [ 272,    4],\n",
              "       [ 284,    2],\n",
              "       [ 284,    3],\n",
              "       [ 297,    1],\n",
              "       [ 297,    2],\n",
              "       [ 300,    3],\n",
              "       [ 315,    3],\n",
              "       [ 315,    5],\n",
              "       [ 327,    4],\n",
              "       [ 336,    4],\n",
              "       [ 343,    0],\n",
              "       [ 344,    2],\n",
              "       [ 346,    2],\n",
              "       [ 363,    3],\n",
              "       [ 375,    3],\n",
              "       [ 377,    2],\n",
              "       [ 398,    5],\n",
              "       [ 416,    4],\n",
              "       [ 428,    0],\n",
              "       [ 432,    1],\n",
              "       [ 433,    3],\n",
              "       [ 434,    2],\n",
              "       [ 440,    3],\n",
              "       [ 441,    1],\n",
              "       [ 446,    2],\n",
              "       [ 455,    1],\n",
              "       [ 456,    2],\n",
              "       [ 458,    2],\n",
              "       [ 461,    3],\n",
              "       [ 467,    4],\n",
              "       [ 468,    0],\n",
              "       [ 469,    3],\n",
              "       [ 470,    0],\n",
              "       [ 481,    1],\n",
              "       [ 482,    3],\n",
              "       [ 484,    4],\n",
              "       [ 489,    0],\n",
              "       [ 493,    5],\n",
              "       [ 499,    0],\n",
              "       [ 504,    3],\n",
              "       [ 506,    1],\n",
              "       [ 517,    4],\n",
              "       [ 518,    0],\n",
              "       [ 521,    2],\n",
              "       [ 530,    5],\n",
              "       [ 532,    3],\n",
              "       [ 534,    5],\n",
              "       [ 547,    3],\n",
              "       [ 549,    5],\n",
              "       [ 553,    5],\n",
              "       [ 554,    5],\n",
              "       [ 559,    3],\n",
              "       [ 566,    0],\n",
              "       [ 566,    1],\n",
              "       [ 566,    2],\n",
              "       [ 567,    0],\n",
              "       [ 567,    1],\n",
              "       [ 567,    2],\n",
              "       [ 581,    1],\n",
              "       [ 581,    2],\n",
              "       [ 582,    1],\n",
              "       [ 582,    2],\n",
              "       [ 583,    1],\n",
              "       [ 583,    2],\n",
              "       [ 593,    3],\n",
              "       [ 594,    3],\n",
              "       [ 595,    3],\n",
              "       [ 596,    3],\n",
              "       [ 609,    4],\n",
              "       [ 609,    5],\n",
              "       [ 610,    4],\n",
              "       [ 610,    5],\n",
              "       [ 611,    4],\n",
              "       [ 611,    5],\n",
              "       [ 612,    4],\n",
              "       [ 612,    5],\n",
              "       [ 623,    2],\n",
              "       [ 623,    3],\n",
              "       [ 624,    2],\n",
              "       [ 624,    3],\n",
              "       [ 625,    2],\n",
              "       [ 625,    3],\n",
              "       [ 626,    2],\n",
              "       [ 626,    3],\n",
              "       [ 627,    2],\n",
              "       [ 627,    3],\n",
              "       [ 636,    0],\n",
              "       [ 637,    0],\n",
              "       [ 637,    4],\n",
              "       [ 637,    5],\n",
              "       [ 638,    0],\n",
              "       [ 638,    4],\n",
              "       [ 638,    5],\n",
              "       [ 639,    4],\n",
              "       [ 639,    5],\n",
              "       [ 640,    4],\n",
              "       [ 640,    5],\n",
              "       [ 641,    4],\n",
              "       [ 641,    5],\n",
              "       [ 653,    1],\n",
              "       [ 653,    2],\n",
              "       [ 653,    3],\n",
              "       [ 653,    4],\n",
              "       [ 654,    1],\n",
              "       [ 654,    2],\n",
              "       [ 654,    3],\n",
              "       [ 654,    4],\n",
              "       [ 655,    1],\n",
              "       [ 655,    2],\n",
              "       [ 655,    3],\n",
              "       [ 655,    4],\n",
              "       [ 685,    2],\n",
              "       [ 686,    0],\n",
              "       [ 701,    4],\n",
              "       [ 704,    2],\n",
              "       [ 724,    1],\n",
              "       [ 724,    2],\n",
              "       [ 730,    1],\n",
              "       [ 730,    2],\n",
              "       [ 730,    3],\n",
              "       [ 731,    1],\n",
              "       [ 731,    2],\n",
              "       [ 731,    3],\n",
              "       [ 732,    1],\n",
              "       [ 732,    2],\n",
              "       [ 732,    3],\n",
              "       [ 733,    1],\n",
              "       [ 733,    2],\n",
              "       [ 733,    3],\n",
              "       [ 742,    4],\n",
              "       [ 747,    3],\n",
              "       [ 755,    1],\n",
              "       [ 758,    1],\n",
              "       [ 760,    1],\n",
              "       [ 764,    0],\n",
              "       [ 764,    1],\n",
              "       [ 764,    2],\n",
              "       [ 764,    3],\n",
              "       [ 764,    4],\n",
              "       [ 764,    5],\n",
              "       [ 765,    3],\n",
              "       [ 775,    1],\n",
              "       [ 775,    2],\n",
              "       [ 775,    3],\n",
              "       [ 776,    1],\n",
              "       [ 776,    2],\n",
              "       [ 776,    3],\n",
              "       [ 777,    1],\n",
              "       [ 777,    2],\n",
              "       [ 777,    3],\n",
              "       [ 778,    1],\n",
              "       [ 778,    2],\n",
              "       [ 778,    3],\n",
              "       [ 787,    4],\n",
              "       [ 788,    1],\n",
              "       [ 790,    2],\n",
              "       [ 794,    3],\n",
              "       [ 795,    5],\n",
              "       [ 796,    1],\n",
              "       [ 796,    4],\n",
              "       [ 800,    0],\n",
              "       [ 801,    1],\n",
              "       [ 802,    1],\n",
              "       [ 803,    2],\n",
              "       [ 805,    0],\n",
              "       [ 809,    0],\n",
              "       [ 810,    0],\n",
              "       [ 811,    0],\n",
              "       [ 812,    1],\n",
              "       [ 820,    0],\n",
              "       [ 820,    3],\n",
              "       [ 820,    4],\n",
              "       [ 822,    2],\n",
              "       [ 823,    2],\n",
              "       [ 825,    0],\n",
              "       [ 830,    1],\n",
              "       [ 830,    2],\n",
              "       [ 836,    3],\n",
              "       [ 837,    3],\n",
              "       [ 838,    3],\n",
              "       [ 839,    4],\n",
              "       [ 843,    2],\n",
              "       [ 856,    0],\n",
              "       [ 856,    1],\n",
              "       [ 856,    3],\n",
              "       [ 856,    4],\n",
              "       [ 856,    5],\n",
              "       [ 857,    0],\n",
              "       [ 858,    1],\n",
              "       [ 870,    0],\n",
              "       [ 870,    2],\n",
              "       [ 870,    3],\n",
              "       [ 872,    0],\n",
              "       [ 873,    0],\n",
              "       [ 874,    1],\n",
              "       [ 890,    1],\n",
              "       [ 890,    2],\n",
              "       [ 890,    3],\n",
              "       [ 909,    1],\n",
              "       [ 910,    0],\n",
              "       [ 912,    0],\n",
              "       [ 912,    2],\n",
              "       [ 912,    3],\n",
              "       [ 912,    4],\n",
              "       [ 928,    1],\n",
              "       [ 928,    2],\n",
              "       [ 928,    3],\n",
              "       [ 929,    1],\n",
              "       [ 929,    2],\n",
              "       [ 929,    3],\n",
              "       [ 930,    3],\n",
              "       [ 958,    2],\n",
              "       [ 959,    3],\n",
              "       [ 960,    3],\n",
              "       [1024,    0],\n",
              "       [1024,    2],\n",
              "       [1026,    2],\n",
              "       [1026,    4],\n",
              "       [1028,    0],\n",
              "       [1028,    3],\n",
              "       [1028,    4],\n",
              "       [1029,    0],\n",
              "       [1030,    1],\n",
              "       [1030,    5],\n",
              "       [1032,    0],\n",
              "       [1032,    5],\n",
              "       [1034,    3],\n",
              "       [1035,    4],\n",
              "       [1036,    2],\n",
              "       [1037,    1],\n",
              "       [1038,    4],\n",
              "       [1039,    3],\n",
              "       [1040,    0]])"
            ]
          },
          "metadata": {},
          "execution_count": 65
        }
      ]
    },
    {
      "cell_type": "code",
      "source": [
        "lending_co_data_numeric_NAN[928]"
      ],
      "metadata": {
        "colab": {
          "base_uri": "https://localhost:8080/"
        },
        "id": "TnHvLGJNcJDG",
        "outputId": "671957e5-268b-4660-ddc0-f845bdf8ad29"
      },
      "execution_count": null,
      "outputs": [
        {
          "output_type": "execute_result",
          "data": {
            "text/plain": [
              "array([ 2000.,    nan,    nan,    nan,  6601., 16600.])"
            ]
          },
          "metadata": {},
          "execution_count": 66
        }
      ]
    },
    {
      "cell_type": "code",
      "source": [
        "for array_index in np.argwhere(np.isnan(lending_co_data_numeric_NAN)):\n",
        "  lending_co_data_numeric_NAN[array_index[0], array_index[1]] = 0"
      ],
      "metadata": {
        "id": "dM2Xi7dZcyzK"
      },
      "execution_count": null,
      "outputs": []
    },
    {
      "cell_type": "code",
      "source": [
        "lending_co_data_numeric_NAN[928]"
      ],
      "metadata": {
        "colab": {
          "base_uri": "https://localhost:8080/"
        },
        "id": "fe_NPDGMdmKW",
        "outputId": "6aa60c44-5b45-4897-d969-c34660128b6a"
      },
      "execution_count": null,
      "outputs": [
        {
          "output_type": "execute_result",
          "data": {
            "text/plain": [
              "array([ 2000.,     0.,     0.,     0.,  6601., 16600.])"
            ]
          },
          "metadata": {},
          "execution_count": 68
        }
      ]
    },
    {
      "cell_type": "code",
      "source": [
        "np.isnan(lending_co_data_numeric_NAN).sum()"
      ],
      "metadata": {
        "colab": {
          "base_uri": "https://localhost:8080/"
        },
        "id": "MK6d6iNjdvU1",
        "outputId": "2b63aed8-e263-4e18-a6d6-4453b31afdec"
      },
      "execution_count": null,
      "outputs": [
        {
          "output_type": "execute_result",
          "data": {
            "text/plain": [
              "0"
            ]
          },
          "metadata": {},
          "execution_count": 69
        }
      ]
    },
    {
      "cell_type": "markdown",
      "source": [
        "Shuffling Data"
      ],
      "metadata": {
        "id": "huq_sXkxkgkC"
      }
    },
    {
      "cell_type": "code",
      "source": [
        "lending_co_data_numeric = np.loadtxt('Lending-company-Numeric.csv', delimiter = ',')[:8]\n",
        "lending_co_data_numeric"
      ],
      "metadata": {
        "colab": {
          "base_uri": "https://localhost:8080/"
        },
        "id": "Z5rMVd1alIdW",
        "outputId": "836f9afb-4fc3-42ce-8cb4-08f3c030020c"
      },
      "execution_count": 74,
      "outputs": [
        {
          "output_type": "execute_result",
          "data": {
            "text/plain": [
              "array([[ 2000.,    40.,   365.,  3121.,  4241., 13621.],\n",
              "       [ 2000.,    40.,   365.,  3061.,  4171., 15041.],\n",
              "       [ 1000.,    40.,   365.,  2160.,  3280., 15340.],\n",
              "       [ 2000.,    40.,   365.,  3041.,  4241., 15321.],\n",
              "       [ 2000.,    50.,   365.,  3470.,  4820., 13720.],\n",
              "       [ 2000.,    40.,   365.,  3201.,  4141., 14141.],\n",
              "       [ 2000.,    50.,   365.,  1851.,  3251., 17701.],\n",
              "       [ 2000.,    40.,   365.,  3971.,  4131., 15351.]])"
            ]
          },
          "metadata": {},
          "execution_count": 74
        }
      ]
    },
    {
      "cell_type": "code",
      "source": [
        "np.random.shuffle(lending_co_data_numeric)"
      ],
      "metadata": {
        "id": "oblmTrVUllEN"
      },
      "execution_count": 75,
      "outputs": []
    },
    {
      "cell_type": "code",
      "source": [
        "lending_co_data_numeric"
      ],
      "metadata": {
        "colab": {
          "base_uri": "https://localhost:8080/"
        },
        "id": "PE-18Xpwlyy0",
        "outputId": "0a6661de-58b6-42f4-b50f-f90d7a900306"
      },
      "execution_count": 76,
      "outputs": [
        {
          "output_type": "execute_result",
          "data": {
            "text/plain": [
              "array([[ 2000.,    40.,   365.,  3971.,  4131., 15351.],\n",
              "       [ 2000.,    40.,   365.,  3121.,  4241., 13621.],\n",
              "       [ 2000.,    40.,   365.,  3041.,  4241., 15321.],\n",
              "       [ 2000.,    40.,   365.,  3061.,  4171., 15041.],\n",
              "       [ 2000.,    40.,   365.,  3201.,  4141., 14141.],\n",
              "       [ 2000.,    50.,   365.,  1851.,  3251., 17701.],\n",
              "       [ 2000.,    50.,   365.,  3470.,  4820., 13720.],\n",
              "       [ 1000.,    40.,   365.,  2160.,  3280., 15340.]])"
            ]
          },
          "metadata": {},
          "execution_count": 76
        }
      ]
    },
    {
      "cell_type": "code",
      "source": [
        "lending_co_data_numeric = np.loadtxt('Lending-company-Numeric.csv', delimiter = ',')\n",
        "lending_co_data_numeric"
      ],
      "metadata": {
        "colab": {
          "base_uri": "https://localhost:8080/"
        },
        "id": "da03j00cmEYA",
        "outputId": "a069b756-531a-4afc-e884-27cfe3cd8d22"
      },
      "execution_count": 77,
      "outputs": [
        {
          "output_type": "execute_result",
          "data": {
            "text/plain": [
              "array([[ 2000.,    40.,   365.,  3121.,  4241., 13621.],\n",
              "       [ 2000.,    40.,   365.,  3061.,  4171., 15041.],\n",
              "       [ 1000.,    40.,   365.,  2160.,  3280., 15340.],\n",
              "       ...,\n",
              "       [ 2000.,    40.,   365.,  4201.,  5001., 16600.],\n",
              "       [ 1000.,    40.,   365.,  2080.,  3320., 15600.],\n",
              "       [ 2000.,    40.,   365.,  4601.,  4601., 16600.]])"
            ]
          },
          "metadata": {},
          "execution_count": 77
        }
      ]
    },
    {
      "cell_type": "code",
      "source": [
        "from numpy.random import shuffle"
      ],
      "metadata": {
        "id": "TG-ipWjKmf5m"
      },
      "execution_count": 83,
      "outputs": []
    },
    {
      "cell_type": "code",
      "source": [
        "shuffle(lending_co_data_numeric)\n",
        "lending_co_data_numeric"
      ],
      "metadata": {
        "colab": {
          "base_uri": "https://localhost:8080/"
        },
        "id": "hY9vgBdsnJX9",
        "outputId": "23c227a5-5863-44f4-ec3f-0b92629d19ef"
      },
      "execution_count": 84,
      "outputs": [
        {
          "output_type": "execute_result",
          "data": {
            "text/plain": [
              "array([[ 2000.,    40.,   365.,  3120.,  4314., 16600.],\n",
              "       [ 4000.,    50.,   365.,  5350.,  6850., 22250.],\n",
              "       [ 2000.,    50.,   365.,  3750.,  5000., 12110.],\n",
              "       ...,\n",
              "       [ 2000.,    40.,   365.,  4361.,  4979., 16600.],\n",
              "       [ 2000.,    40.,   365.,  3481.,  5361., 16600.],\n",
              "       [ 2000.,    40.,   365.,  3200.,  4400., 16600.]])"
            ]
          },
          "metadata": {},
          "execution_count": 84
        }
      ]
    },
    {
      "cell_type": "code",
      "source": [
        "from numpy.random import Generator as gen\n",
        "from numpy.random import PCG64 as pcg"
      ],
      "metadata": {
        "id": "r8be3inkofM9"
      },
      "execution_count": 86,
      "outputs": []
    },
    {
      "cell_type": "code",
      "source": [
        "array_RG = gen(pcg())\n",
        "array_RG.shuffle(lending_co_data_numeric)\n",
        "lending_co_data_numeric"
      ],
      "metadata": {
        "colab": {
          "base_uri": "https://localhost:8080/"
        },
        "id": "LHpwFSEboqU1",
        "outputId": "37bc8866-e6a0-49ee-cf0f-47149805016b"
      },
      "execution_count": 87,
      "outputs": [
        {
          "output_type": "execute_result",
          "data": {
            "text/plain": [
              "array([[ 2000.,    40.,   365.,  3400., 13800., 16600.],\n",
              "       [ 2000.,    40.,   365.,  3040.,  4200., 16600.],\n",
              "       [ 2000.,    40.,   365.,  4651.,  4651., 16451.],\n",
              "       ...,\n",
              "       [ 2000.,    40.,   365.,  4201.,  5321., 16600.],\n",
              "       [ 4000.,    50.,   365., 11980., 13980., 22250.],\n",
              "       [ 2000.,    40.,   365.,  3201.,  4401., 14001.]])"
            ]
          },
          "metadata": {},
          "execution_count": 87
        }
      ]
    },
    {
      "cell_type": "code",
      "source": [
        "array_RG = gen(pcg(seed=365))\n",
        "array_RG.shuffle(lending_co_data_numeric)\n",
        "lending_co_data_numeric"
      ],
      "metadata": {
        "colab": {
          "base_uri": "https://localhost:8080/"
        },
        "id": "DFrGkATspnmc",
        "outputId": "464b4757-d52d-4c9f-a599-5f5e212ccdcf"
      },
      "execution_count": 88,
      "outputs": [
        {
          "output_type": "execute_result",
          "data": {
            "text/plain": [
              "array([[ 4000.,    50.,   365.,  5450.,  7000., 20750.],\n",
              "       [ 2000.,    50.,   365.,  3450.,  4900., 19350.],\n",
              "       [ 1000.,    50.,   365.,   800.,  2000.,  9350.],\n",
              "       ...,\n",
              "       [ 2000.,    40.,   365.,  3361.,  4601., 16600.],\n",
              "       [ 2000.,    40.,   365.,  4200.,  4400., 16600.],\n",
              "       [ 1000.,    50.,   365., -2100., -1200.,  7690.]])"
            ]
          },
          "metadata": {},
          "execution_count": 88
        }
      ]
    }
  ]
}