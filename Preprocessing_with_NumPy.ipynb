{
  "nbformat": 4,
  "nbformat_minor": 0,
  "metadata": {
    "colab": {
      "provenance": [],
      "authorship_tag": "ABX9TyONbJsi5y0RpZJAMfWMudFs",
      "include_colab_link": true
    },
    "kernelspec": {
      "name": "python3",
      "display_name": "Python 3"
    },
    "language_info": {
      "name": "python"
    }
  },
  "cells": [
    {
      "cell_type": "markdown",
      "metadata": {
        "id": "view-in-github",
        "colab_type": "text"
      },
      "source": [
        "<a href=\"https://colab.research.google.com/github/dilaraesmer/The-Data-Analyst-Course-Complete-Data-Analyst-Bootcamp-2023/blob/main/Preprocessing_with_NumPy.ipynb\" target=\"_parent\"><img src=\"https://colab.research.google.com/assets/colab-badge.svg\" alt=\"Open In Colab\"/></a>"
      ]
    },
    {
      "cell_type": "code",
      "execution_count": null,
      "metadata": {
        "id": "Bhuq1jNr0Nlr"
      },
      "outputs": [],
      "source": [
        "import numpy as np"
      ]
    },
    {
      "cell_type": "markdown",
      "source": [
        "Checking for Missing Values "
      ],
      "metadata": {
        "id": "5gGlxr3F0ttk"
      }
    },
    {
      "cell_type": "code",
      "source": [
        "lending_co_data_numeric = np.loadtxt(\"Lending-company-Numeric.csv\", delimiter=',')"
      ],
      "metadata": {
        "id": "zO0RYBpu0sJO"
      },
      "execution_count": null,
      "outputs": []
    },
    {
      "cell_type": "code",
      "source": [
        "np.isnan(lending_co_data_numeric).sum()"
      ],
      "metadata": {
        "colab": {
          "base_uri": "https://localhost:8080/"
        },
        "id": "ZwW4_cum22_p",
        "outputId": "87d4403c-60f3-44ed-996a-522ebf7dfe9e"
      },
      "execution_count": null,
      "outputs": [
        {
          "output_type": "execute_result",
          "data": {
            "text/plain": [
              "0"
            ]
          },
          "metadata": {},
          "execution_count": 3
        }
      ]
    },
    {
      "cell_type": "code",
      "source": [
        "lending_co_data_numeric_NAN = np.genfromtxt(\"Lending-company-Numeric-NAN.csv\", delimiter = ';')"
      ],
      "metadata": {
        "id": "-HX7oDYb3RLO"
      },
      "execution_count": null,
      "outputs": []
    },
    {
      "cell_type": "code",
      "source": [
        "np.isnan(lending_co_data_numeric_NAN)"
      ],
      "metadata": {
        "colab": {
          "base_uri": "https://localhost:8080/"
        },
        "id": "M6PPx_ZM35Qu",
        "outputId": "4ae93fa1-d339-4473-b87e-47539b91718c"
      },
      "execution_count": null,
      "outputs": [
        {
          "output_type": "execute_result",
          "data": {
            "text/plain": [
              "array([[False, False, False, False, False, False],\n",
              "       [False, False, False, False, False, False],\n",
              "       [False, False, False, False, False, False],\n",
              "       ...,\n",
              "       [ True, False, False, False, False, False],\n",
              "       [False, False, False, False, False, False],\n",
              "       [False, False, False, False, False, False]])"
            ]
          },
          "metadata": {},
          "execution_count": 5
        }
      ]
    },
    {
      "cell_type": "code",
      "source": [
        "np.isnan(lending_co_data_numeric_NAN).sum()"
      ],
      "metadata": {
        "colab": {
          "base_uri": "https://localhost:8080/"
        },
        "id": "zYw_MJ4n4B44",
        "outputId": "a0355f47-0251-45c8-97a2-c25d90b8e4fd"
      },
      "execution_count": null,
      "outputs": [
        {
          "output_type": "execute_result",
          "data": {
            "text/plain": [
              "260"
            ]
          },
          "metadata": {},
          "execution_count": 6
        }
      ]
    },
    {
      "cell_type": "code",
      "source": [
        "# lending_co_data_numeric_NAN = np.genfromtxt(\"Lending-company-Numeric-NAN.csv\", \n",
        "#                                            delimiter = ';',\n",
        "#                                            filling_values = 0)"
      ],
      "metadata": {
        "id": "LqJjeaUn4UlU"
      },
      "execution_count": null,
      "outputs": []
    },
    {
      "cell_type": "code",
      "source": [
        "np.isnan(lending_co_data_numeric_NAN).sum()"
      ],
      "metadata": {
        "colab": {
          "base_uri": "https://localhost:8080/"
        },
        "id": "bS7k_SJ94h4C",
        "outputId": "0c1f1030-c67b-491e-f374-9d255ca334e7"
      },
      "execution_count": null,
      "outputs": [
        {
          "output_type": "execute_result",
          "data": {
            "text/plain": [
              "260"
            ]
          },
          "metadata": {},
          "execution_count": 8
        }
      ]
    },
    {
      "cell_type": "code",
      "source": [
        "temporary_fill = np.nanmax(lending_co_data_numeric_NAN).round(2) + 1"
      ],
      "metadata": {
        "id": "4a8MS9Te4plX"
      },
      "execution_count": null,
      "outputs": []
    },
    {
      "cell_type": "code",
      "source": [
        "temporary_fill"
      ],
      "metadata": {
        "colab": {
          "base_uri": "https://localhost:8080/"
        },
        "id": "-yLNsbkc5XSo",
        "outputId": "4e6a5ed6-0df5-49b9-f3c0-44195a9f1d2a"
      },
      "execution_count": null,
      "outputs": [
        {
          "output_type": "execute_result",
          "data": {
            "text/plain": [
              "64002.0"
            ]
          },
          "metadata": {},
          "execution_count": 10
        }
      ]
    },
    {
      "cell_type": "code",
      "source": [
        "lending_co_data_numeric_NAN = np.genfromtxt(\"Lending-company-Numeric-NAN.csv\", \n",
        "                                            delimiter = ';',\n",
        "                                            filling_values = temporary_fill)"
      ],
      "metadata": {
        "id": "3UFzI4-w5eyu"
      },
      "execution_count": null,
      "outputs": []
    },
    {
      "cell_type": "code",
      "source": [
        "np.isnan(lending_co_data_numeric_NAN)"
      ],
      "metadata": {
        "colab": {
          "base_uri": "https://localhost:8080/"
        },
        "id": "GMHRzboF5nIk",
        "outputId": "86c78717-cd26-4a0a-bc29-1fc0a61b1fd5"
      },
      "execution_count": null,
      "outputs": [
        {
          "output_type": "execute_result",
          "data": {
            "text/plain": [
              "array([[False, False, False, False, False, False],\n",
              "       [False, False, False, False, False, False],\n",
              "       [False, False, False, False, False, False],\n",
              "       ...,\n",
              "       [False, False, False, False, False, False],\n",
              "       [False, False, False, False, False, False],\n",
              "       [False, False, False, False, False, False]])"
            ]
          },
          "metadata": {},
          "execution_count": 12
        }
      ]
    },
    {
      "cell_type": "code",
      "source": [
        "np.isnan(lending_co_data_numeric_NAN).sum()"
      ],
      "metadata": {
        "colab": {
          "base_uri": "https://localhost:8080/"
        },
        "id": "2tz6w8Fs55F8",
        "outputId": "ef6edea7-1486-4dad-bdb0-a0b6f4c685b7"
      },
      "execution_count": null,
      "outputs": [
        {
          "output_type": "execute_result",
          "data": {
            "text/plain": [
              "0"
            ]
          },
          "metadata": {},
          "execution_count": 13
        }
      ]
    },
    {
      "cell_type": "markdown",
      "source": [
        "Substituting Missing Values"
      ],
      "metadata": {
        "id": "NGr5SGH-6GQi"
      }
    },
    {
      "cell_type": "code",
      "source": [
        "lending_co_data_numeric_NAN = np.genfromtxt(\"Lending-company-Numeric-NAN.csv\", delimiter = ';')\n",
        "lending_co_data_numeric_NAN"
      ],
      "metadata": {
        "id": "g2rP43RjarE0",
        "colab": {
          "base_uri": "https://localhost:8080/"
        },
        "outputId": "bb3eb960-64c1-45b3-fe06-4ac43213201c"
      },
      "execution_count": null,
      "outputs": [
        {
          "output_type": "execute_result",
          "data": {
            "text/plain": [
              "array([[ 2000.,    40.,   365.,  3121.,  4241., 13621.],\n",
              "       [ 2000.,    40.,   365.,  3061.,  4171., 15041.],\n",
              "       [ 1000.,    40.,   365.,  2160.,  3280., 15340.],\n",
              "       ...,\n",
              "       [   nan,    40.,   365.,  4201.,  5001., 16600.],\n",
              "       [ 1000.,    40.,   365.,  2080.,  3320., 15600.],\n",
              "       [ 2000.,    40.,   365.,  4601.,  4601., 16600.]])"
            ]
          },
          "metadata": {},
          "execution_count": 14
        }
      ]
    },
    {
      "cell_type": "code",
      "source": [
        "temporary_mean = np.nanmean(lending_co_data_numeric_NAN, axis = 0).round(2)"
      ],
      "metadata": {
        "id": "ZwrSkVNxbNEJ"
      },
      "execution_count": null,
      "outputs": []
    },
    {
      "cell_type": "code",
      "source": [
        "temporary_mean[0]"
      ],
      "metadata": {
        "colab": {
          "base_uri": "https://localhost:8080/"
        },
        "id": "SuwA_NRmcJu9",
        "outputId": "405dc7d2-2583-4cf8-f83d-5d795b943375"
      },
      "execution_count": null,
      "outputs": [
        {
          "output_type": "execute_result",
          "data": {
            "text/plain": [
              "2250.25"
            ]
          },
          "metadata": {},
          "execution_count": 16
        }
      ]
    },
    {
      "cell_type": "code",
      "source": [
        "temporary_fill = np.nanmax(lending_co_data_numeric_NAN).round(2) + 1\n",
        "\n",
        "lending_co_data_numeric_NAN = np.genfromtxt('Lending-company-Numeric-NAN.csv',\n",
        "                                            delimiter = ';',\n",
        "                                            filling_values = temporary_fill)\n",
        "lending_co_data_numeric_NAN"
      ],
      "metadata": {
        "colab": {
          "base_uri": "https://localhost:8080/"
        },
        "id": "b9w3BmJBcRfr",
        "outputId": "948f5603-cc28-40a7-c0ca-9425b5cac58b"
      },
      "execution_count": null,
      "outputs": [
        {
          "output_type": "execute_result",
          "data": {
            "text/plain": [
              "array([[2.0000e+03, 4.0000e+01, 3.6500e+02, 3.1210e+03, 4.2410e+03,\n",
              "        1.3621e+04],\n",
              "       [2.0000e+03, 4.0000e+01, 3.6500e+02, 3.0610e+03, 4.1710e+03,\n",
              "        1.5041e+04],\n",
              "       [1.0000e+03, 4.0000e+01, 3.6500e+02, 2.1600e+03, 3.2800e+03,\n",
              "        1.5340e+04],\n",
              "       ...,\n",
              "       [6.4002e+04, 4.0000e+01, 3.6500e+02, 4.2010e+03, 5.0010e+03,\n",
              "        1.6600e+04],\n",
              "       [1.0000e+03, 4.0000e+01, 3.6500e+02, 2.0800e+03, 3.3200e+03,\n",
              "        1.5600e+04],\n",
              "       [2.0000e+03, 4.0000e+01, 3.6500e+02, 4.6010e+03, 4.6010e+03,\n",
              "        1.6600e+04]])"
            ]
          },
          "metadata": {},
          "execution_count": 17
        }
      ]
    },
    {
      "cell_type": "code",
      "source": [
        "temporary_fill"
      ],
      "metadata": {
        "colab": {
          "base_uri": "https://localhost:8080/"
        },
        "id": "OIcZpbstdXxA",
        "outputId": "599d6b1c-80ac-4adc-d86c-d088759608b1"
      },
      "execution_count": null,
      "outputs": [
        {
          "output_type": "execute_result",
          "data": {
            "text/plain": [
              "64002.0"
            ]
          },
          "metadata": {},
          "execution_count": 18
        }
      ]
    },
    {
      "cell_type": "code",
      "source": [
        "np.mean(lending_co_data_numeric_NAN[:,0]).round(2)"
      ],
      "metadata": {
        "colab": {
          "base_uri": "https://localhost:8080/"
        },
        "id": "4MlitLSPdhpV",
        "outputId": "408d08e7-2b49-4a4f-c96d-ad7a6d687346"
      },
      "execution_count": null,
      "outputs": [
        {
          "output_type": "execute_result",
          "data": {
            "text/plain": [
              "4263.25"
            ]
          },
          "metadata": {},
          "execution_count": 19
        }
      ]
    },
    {
      "cell_type": "code",
      "source": [
        "temporary_mean[0]"
      ],
      "metadata": {
        "colab": {
          "base_uri": "https://localhost:8080/"
        },
        "id": "lZcHGvA9d5PU",
        "outputId": "50f8b0c2-d520-418e-becd-28127c91809c"
      },
      "execution_count": null,
      "outputs": [
        {
          "output_type": "execute_result",
          "data": {
            "text/plain": [
              "2250.25"
            ]
          },
          "metadata": {},
          "execution_count": 20
        }
      ]
    },
    {
      "cell_type": "code",
      "source": [
        "lending_co_data_numeric_NAN[:,0] = np.where(lending_co_data_numeric_NAN[:,0] == temporary_fill,\n",
        "                                            temporary_mean[0],\n",
        "                                            lending_co_data_numeric_NAN[:,0])"
      ],
      "metadata": {
        "id": "bAbVwDIOf_9_"
      },
      "execution_count": null,
      "outputs": []
    },
    {
      "cell_type": "code",
      "source": [
        "np.mean(lending_co_data_numeric_NAN[:,0]).round(2)"
      ],
      "metadata": {
        "colab": {
          "base_uri": "https://localhost:8080/"
        },
        "id": "_70GXb8Hhc26",
        "outputId": "3d2de956-1933-430f-a806-cc9083fffb18"
      },
      "execution_count": null,
      "outputs": [
        {
          "output_type": "execute_result",
          "data": {
            "text/plain": [
              "2250.25"
            ]
          },
          "metadata": {},
          "execution_count": 22
        }
      ]
    },
    {
      "cell_type": "code",
      "source": [
        "for i in range(lending_co_data_numeric_NAN.shape[1]):\n",
        "  lending_co_data_numeric_NAN[:,1] = np.where(lending_co_data_numeric_NAN[:,1] < 0,\n",
        "                                              0,\n",
        "                                              lending_co_data_numeric_NAN[:,1])"
      ],
      "metadata": {
        "id": "VIZj7YkzinJa"
      },
      "execution_count": null,
      "outputs": []
    },
    {
      "cell_type": "markdown",
      "source": [
        "Reshaping"
      ],
      "metadata": {
        "id": "x5IPYgGOoJ1u"
      }
    },
    {
      "cell_type": "code",
      "source": [
        "lending_co_data_numeric = np.loadtxt(\"Lending-company-Numeric.csv\", delimiter = ',')"
      ],
      "metadata": {
        "id": "4x_SvAQitXae"
      },
      "execution_count": null,
      "outputs": []
    },
    {
      "cell_type": "code",
      "source": [
        "lending_co_data_numeric"
      ],
      "metadata": {
        "colab": {
          "base_uri": "https://localhost:8080/"
        },
        "id": "msFRFmsPtp7G",
        "outputId": "70777528-8493-4ea8-b6b6-78d2ddb4c168"
      },
      "execution_count": null,
      "outputs": [
        {
          "output_type": "execute_result",
          "data": {
            "text/plain": [
              "array([[ 2000.,    40.,   365.,  3121.,  4241., 13621.],\n",
              "       [ 2000.,    40.,   365.,  3061.,  4171., 15041.],\n",
              "       [ 1000.,    40.,   365.,  2160.,  3280., 15340.],\n",
              "       ...,\n",
              "       [ 2000.,    40.,   365.,  4201.,  5001., 16600.],\n",
              "       [ 1000.,    40.,   365.,  2080.,  3320., 15600.],\n",
              "       [ 2000.,    40.,   365.,  4601.,  4601., 16600.]])"
            ]
          },
          "metadata": {},
          "execution_count": 25
        }
      ]
    },
    {
      "cell_type": "code",
      "source": [
        "lending_co_data_numeric.shape"
      ],
      "metadata": {
        "colab": {
          "base_uri": "https://localhost:8080/"
        },
        "id": "dK0o9Dj-uBrC",
        "outputId": "1725a9a3-5b92-4902-a1c5-f008a48b6942"
      },
      "execution_count": null,
      "outputs": [
        {
          "output_type": "execute_result",
          "data": {
            "text/plain": [
              "(1043, 6)"
            ]
          },
          "metadata": {},
          "execution_count": 26
        }
      ]
    },
    {
      "cell_type": "code",
      "source": [
        "np.reshape(lending_co_data_numeric, (6,1043))"
      ],
      "metadata": {
        "colab": {
          "base_uri": "https://localhost:8080/"
        },
        "id": "lYN4KlXRutyl",
        "outputId": "2ad63a18-38f3-4410-9cd6-ee2eeaf4334c"
      },
      "execution_count": null,
      "outputs": [
        {
          "output_type": "execute_result",
          "data": {
            "text/plain": [
              "array([[ 2000.,    40.,   365., ...,   365.,  1581.,  3041.],\n",
              "       [12277.,  2000.,    40., ...,    50.,   365.,  5350.],\n",
              "       [ 6850., 15150.,  1000., ...,  2000.,    40.,   365.],\n",
              "       [ 3101.,  4351., 16600., ..., 16600.,  2000.,    40.],\n",
              "       [  365.,  3441.,  4661., ...,  8450., 22250.,  2000.],\n",
              "       [   40.,   365.,  3701., ...,  4601.,  4601., 16600.]])"
            ]
          },
          "metadata": {},
          "execution_count": 27
        }
      ]
    },
    {
      "cell_type": "code",
      "source": [
        "np.transpose(lending_co_data_numeric)"
      ],
      "metadata": {
        "colab": {
          "base_uri": "https://localhost:8080/"
        },
        "id": "SrHu_kG5wDLh",
        "outputId": "2fef7aa9-9379-47fc-f544-5d9a3c6c5387"
      },
      "execution_count": null,
      "outputs": [
        {
          "output_type": "execute_result",
          "data": {
            "text/plain": [
              "array([[ 2000.,  2000.,  1000., ...,  2000.,  1000.,  2000.],\n",
              "       [   40.,    40.,    40., ...,    40.,    40.,    40.],\n",
              "       [  365.,   365.,   365., ...,   365.,   365.,   365.],\n",
              "       [ 3121.,  3061.,  2160., ...,  4201.,  2080.,  4601.],\n",
              "       [ 4241.,  4171.,  3280., ...,  5001.,  3320.,  4601.],\n",
              "       [13621., 15041., 15340., ..., 16600., 15600., 16600.]])"
            ]
          },
          "metadata": {},
          "execution_count": 28
        }
      ]
    },
    {
      "cell_type": "code",
      "source": [
        "np.reshape(lending_co_data_numeric, (2,3,1043))"
      ],
      "metadata": {
        "colab": {
          "base_uri": "https://localhost:8080/"
        },
        "id": "iIiKS2xBwenY",
        "outputId": "6a5dcb63-34b9-4630-8294-dfb1c1a23a70"
      },
      "execution_count": null,
      "outputs": [
        {
          "output_type": "execute_result",
          "data": {
            "text/plain": [
              "array([[[ 2000.,    40.,   365., ...,   365.,  1581.,  3041.],\n",
              "        [12277.,  2000.,    40., ...,    50.,   365.,  5350.],\n",
              "        [ 6850., 15150.,  1000., ...,  2000.,    40.,   365.]],\n",
              "\n",
              "       [[ 3101.,  4351., 16600., ..., 16600.,  2000.,    40.],\n",
              "        [  365.,  3441.,  4661., ...,  8450., 22250.,  2000.],\n",
              "        [   40.,   365.,  3701., ...,  4601.,  4601., 16600.]]])"
            ]
          },
          "metadata": {},
          "execution_count": 29
        }
      ]
    },
    {
      "cell_type": "markdown",
      "source": [
        "Removing Values"
      ],
      "metadata": {
        "id": "VhB19TRGM-VP"
      }
    },
    {
      "cell_type": "code",
      "source": [
        "lending_co_data_numeric"
      ],
      "metadata": {
        "colab": {
          "base_uri": "https://localhost:8080/"
        },
        "id": "bgvhCGeJM84g",
        "outputId": "38b5380e-22b9-4dc3-b6da-bb711c18688d"
      },
      "execution_count": null,
      "outputs": [
        {
          "output_type": "execute_result",
          "data": {
            "text/plain": [
              "array([[ 2000.,    40.,   365.,  3121.,  4241., 13621.],\n",
              "       [ 2000.,    40.,   365.,  3061.,  4171., 15041.],\n",
              "       [ 1000.,    40.,   365.,  2160.,  3280., 15340.],\n",
              "       ...,\n",
              "       [ 2000.,    40.,   365.,  4201.,  5001., 16600.],\n",
              "       [ 1000.,    40.,   365.,  2080.,  3320., 15600.],\n",
              "       [ 2000.,    40.,   365.,  4601.,  4601., 16600.]])"
            ]
          },
          "metadata": {},
          "execution_count": 30
        }
      ]
    },
    {
      "cell_type": "code",
      "source": [
        "np.delete(lending_co_data_numeric, 0).shape"
      ],
      "metadata": {
        "colab": {
          "base_uri": "https://localhost:8080/"
        },
        "id": "YNyeoO3VNRc3",
        "outputId": "fb37ff03-81e9-4b9b-b687-e2fced43e71a"
      },
      "execution_count": null,
      "outputs": [
        {
          "output_type": "execute_result",
          "data": {
            "text/plain": [
              "(6257,)"
            ]
          },
          "metadata": {},
          "execution_count": 31
        }
      ]
    },
    {
      "cell_type": "code",
      "source": [
        "lending_co_data_numeric.size"
      ],
      "metadata": {
        "colab": {
          "base_uri": "https://localhost:8080/"
        },
        "id": "QjhLGDAzN-ec",
        "outputId": "4f595784-5df0-4cba-c538-4c438bc5c5bd"
      },
      "execution_count": null,
      "outputs": [
        {
          "output_type": "execute_result",
          "data": {
            "text/plain": [
              "6258"
            ]
          },
          "metadata": {},
          "execution_count": 32
        }
      ]
    },
    {
      "cell_type": "code",
      "source": [
        "lending_co_data_numeric"
      ],
      "metadata": {
        "colab": {
          "base_uri": "https://localhost:8080/"
        },
        "id": "gQp6bx4nOSAh",
        "outputId": "ebb44286-29d4-4819-872b-5f223b3274a9"
      },
      "execution_count": null,
      "outputs": [
        {
          "output_type": "execute_result",
          "data": {
            "text/plain": [
              "array([[ 2000.,    40.,   365.,  3121.,  4241., 13621.],\n",
              "       [ 2000.,    40.,   365.,  3061.,  4171., 15041.],\n",
              "       [ 1000.,    40.,   365.,  2160.,  3280., 15340.],\n",
              "       ...,\n",
              "       [ 2000.,    40.,   365.,  4201.,  5001., 16600.],\n",
              "       [ 1000.,    40.,   365.,  2080.,  3320., 15600.],\n",
              "       [ 2000.,    40.,   365.,  4601.,  4601., 16600.]])"
            ]
          },
          "metadata": {},
          "execution_count": 33
        }
      ]
    },
    {
      "cell_type": "code",
      "source": [
        "np.delete(lending_co_data_numeric, 0, axis = 1)"
      ],
      "metadata": {
        "colab": {
          "base_uri": "https://localhost:8080/"
        },
        "id": "oGbXvhjQOUZ2",
        "outputId": "fed55ce5-9f26-47b7-dcf8-8bb96230bdad"
      },
      "execution_count": null,
      "outputs": [
        {
          "output_type": "execute_result",
          "data": {
            "text/plain": [
              "array([[   40.,   365.,  3121.,  4241., 13621.],\n",
              "       [   40.,   365.,  3061.,  4171., 15041.],\n",
              "       [   40.,   365.,  2160.,  3280., 15340.],\n",
              "       ...,\n",
              "       [   40.,   365.,  4201.,  5001., 16600.],\n",
              "       [   40.,   365.,  2080.,  3320., 15600.],\n",
              "       [   40.,   365.,  4601.,  4601., 16600.]])"
            ]
          },
          "metadata": {},
          "execution_count": 34
        }
      ]
    },
    {
      "cell_type": "code",
      "source": [
        "np.delete(lending_co_data_numeric, 1, axis = 1)"
      ],
      "metadata": {
        "colab": {
          "base_uri": "https://localhost:8080/"
        },
        "id": "hwMwSIWHO2ah",
        "outputId": "a8f11a63-ff70-4602-a53b-8461b3c883a8"
      },
      "execution_count": null,
      "outputs": [
        {
          "output_type": "execute_result",
          "data": {
            "text/plain": [
              "array([[ 2000.,   365.,  3121.,  4241., 13621.],\n",
              "       [ 2000.,   365.,  3061.,  4171., 15041.],\n",
              "       [ 1000.,   365.,  2160.,  3280., 15340.],\n",
              "       ...,\n",
              "       [ 2000.,   365.,  4201.,  5001., 16600.],\n",
              "       [ 1000.,   365.,  2080.,  3320., 15600.],\n",
              "       [ 2000.,   365.,  4601.,  4601., 16600.]])"
            ]
          },
          "metadata": {},
          "execution_count": 35
        }
      ]
    },
    {
      "cell_type": "code",
      "source": [
        "np.delete(lending_co_data_numeric, [0,2,4], axis = 1)"
      ],
      "metadata": {
        "colab": {
          "base_uri": "https://localhost:8080/"
        },
        "id": "mVZz703vPWEY",
        "outputId": "63ec123a-0f0f-43aa-98d6-fa87ef98ddc2"
      },
      "execution_count": null,
      "outputs": [
        {
          "output_type": "execute_result",
          "data": {
            "text/plain": [
              "array([[   40.,  3121., 13621.],\n",
              "       [   40.,  3061., 15041.],\n",
              "       [   40.,  2160., 15340.],\n",
              "       ...,\n",
              "       [   40.,  4201., 16600.],\n",
              "       [   40.,  2080., 15600.],\n",
              "       [   40.,  4601., 16600.]])"
            ]
          },
          "metadata": {},
          "execution_count": 36
        }
      ]
    },
    {
      "cell_type": "code",
      "source": [
        "np.delete(np.delete(lending_co_data_numeric, [0,2,4], axis = 1), [0,2,-1], axis = 0)"
      ],
      "metadata": {
        "colab": {
          "base_uri": "https://localhost:8080/"
        },
        "id": "oJzziWVlPdUJ",
        "outputId": "883bb34a-6c98-4d4a-c1ba-fe771b21595f"
      },
      "execution_count": null,
      "outputs": [
        {
          "output_type": "execute_result",
          "data": {
            "text/plain": [
              "array([[   40.,  3061., 15041.],\n",
              "       [   40.,  3041., 15321.],\n",
              "       [   50.,  3470., 13720.],\n",
              "       ...,\n",
              "       [   40.,  4240., 16600.],\n",
              "       [   40.,  4201., 16600.],\n",
              "       [   40.,  2080., 15600.]])"
            ]
          },
          "metadata": {},
          "execution_count": 37
        }
      ]
    },
    {
      "cell_type": "markdown",
      "source": [
        "Sorting Data"
      ],
      "metadata": {
        "id": "TgwXbQnlQrfR"
      }
    },
    {
      "cell_type": "code",
      "source": [
        "np.sort(lending_co_data_numeric)"
      ],
      "metadata": {
        "colab": {
          "base_uri": "https://localhost:8080/"
        },
        "id": "pvqr4DtPQdKs",
        "outputId": "262c82f6-dbd4-4b93-9c62-df4eab9eef21"
      },
      "execution_count": null,
      "outputs": [
        {
          "output_type": "execute_result",
          "data": {
            "text/plain": [
              "array([[   40.,   365.,  2000.,  3121.,  4241., 13621.],\n",
              "       [   40.,   365.,  2000.,  3061.,  4171., 15041.],\n",
              "       [   40.,   365.,  1000.,  2160.,  3280., 15340.],\n",
              "       ...,\n",
              "       [   40.,   365.,  2000.,  4201.,  5001., 16600.],\n",
              "       [   40.,   365.,  1000.,  2080.,  3320., 15600.],\n",
              "       [   40.,   365.,  2000.,  4601.,  4601., 16600.]])"
            ]
          },
          "metadata": {},
          "execution_count": 38
        }
      ]
    },
    {
      "cell_type": "code",
      "source": [
        "np.sort(lending_co_data_numeric).shape"
      ],
      "metadata": {
        "colab": {
          "base_uri": "https://localhost:8080/"
        },
        "id": "qGFqehlXRHNX",
        "outputId": "0d367d36-de45-406b-a26f-7583de813c17"
      },
      "execution_count": null,
      "outputs": [
        {
          "output_type": "execute_result",
          "data": {
            "text/plain": [
              "(1043, 6)"
            ]
          },
          "metadata": {},
          "execution_count": 39
        }
      ]
    },
    {
      "cell_type": "code",
      "source": [
        "np.sort(lending_co_data_numeric, axis = 0)"
      ],
      "metadata": {
        "colab": {
          "base_uri": "https://localhost:8080/"
        },
        "id": "0kKq6VQKRLOB",
        "outputId": "8b7fe680-e836-4945-da10-18f5f13abe6a"
      },
      "execution_count": null,
      "outputs": [
        {
          "output_type": "execute_result",
          "data": {
            "text/plain": [
              "array([[ 1.0000e+03,  3.5000e+01,  3.6500e+02, -2.8700e+03, -2.8700e+03,\n",
              "        -3.5000e+02],\n",
              "       [ 1.0000e+03,  3.5000e+01,  3.6500e+02, -2.5500e+03, -2.1000e+03,\n",
              "         1.5000e+02],\n",
              "       [ 1.0000e+03,  3.5000e+01,  3.6500e+02, -2.4500e+03, -2.0000e+03,\n",
              "         1.1000e+03],\n",
              "       ...,\n",
              "       [ 9.0000e+03,  1.2500e+02,  3.6500e+02,  1.6751e+04,  1.8751e+04,\n",
              "         5.4625e+04],\n",
              "       [ 9.0000e+03,  1.6500e+02,  3.6500e+02,  1.7650e+04,  2.0001e+04,\n",
              "         5.4625e+04],\n",
              "       [ 9.0000e+03,  1.6500e+02,  3.6500e+02,  1.9001e+04,  2.2001e+04,\n",
              "         6.4001e+04]])"
            ]
          },
          "metadata": {},
          "execution_count": 40
        }
      ]
    },
    {
      "cell_type": "code",
      "source": [
        "np.set_printoptions(suppress = True)"
      ],
      "metadata": {
        "id": "Atd1ozjMia1o"
      },
      "execution_count": null,
      "outputs": []
    },
    {
      "cell_type": "code",
      "source": [
        "np.sort(lending_co_data_numeric, axis = None)"
      ],
      "metadata": {
        "colab": {
          "base_uri": "https://localhost:8080/"
        },
        "id": "qVU1NacvjN10",
        "outputId": "11a58d26-2e7b-46a2-da6c-7a299417f72b"
      },
      "execution_count": null,
      "outputs": [
        {
          "output_type": "execute_result",
          "data": {
            "text/plain": [
              "array([-2870., -2870., -2550., ..., 54625., 54625., 64001.])"
            ]
          },
          "metadata": {},
          "execution_count": 42
        }
      ]
    },
    {
      "cell_type": "code",
      "source": [
        "np.sort(lending_co_data_numeric)"
      ],
      "metadata": {
        "colab": {
          "base_uri": "https://localhost:8080/"
        },
        "id": "8WbG0B0gjUU7",
        "outputId": "9b5e11aa-9047-4f9e-879a-af141655e7b4"
      },
      "execution_count": null,
      "outputs": [
        {
          "output_type": "execute_result",
          "data": {
            "text/plain": [
              "array([[   40.,   365.,  2000.,  3121.,  4241., 13621.],\n",
              "       [   40.,   365.,  2000.,  3061.,  4171., 15041.],\n",
              "       [   40.,   365.,  1000.,  2160.,  3280., 15340.],\n",
              "       ...,\n",
              "       [   40.,   365.,  2000.,  4201.,  5001., 16600.],\n",
              "       [   40.,   365.,  1000.,  2080.,  3320., 15600.],\n",
              "       [   40.,   365.,  2000.,  4601.,  4601., 16600.]])"
            ]
          },
          "metadata": {},
          "execution_count": 43
        }
      ]
    },
    {
      "cell_type": "code",
      "source": [
        "np.sort(-lending_co_data_numeric)"
      ],
      "metadata": {
        "colab": {
          "base_uri": "https://localhost:8080/"
        },
        "id": "22ZV3kWPjd93",
        "outputId": "5f3cfa42-1a6b-46d1-ff61-447af7040390"
      },
      "execution_count": null,
      "outputs": [
        {
          "output_type": "execute_result",
          "data": {
            "text/plain": [
              "array([[-13621.,  -4241.,  -3121.,  -2000.,   -365.,    -40.],\n",
              "       [-15041.,  -4171.,  -3061.,  -2000.,   -365.,    -40.],\n",
              "       [-15340.,  -3280.,  -2160.,  -1000.,   -365.,    -40.],\n",
              "       ...,\n",
              "       [-16600.,  -5001.,  -4201.,  -2000.,   -365.,    -40.],\n",
              "       [-15600.,  -3320.,  -2080.,  -1000.,   -365.,    -40.],\n",
              "       [-16600.,  -4601.,  -4601.,  -2000.,   -365.,    -40.]])"
            ]
          },
          "metadata": {},
          "execution_count": 48
        }
      ]
    },
    {
      "cell_type": "code",
      "source": [
        "-np.sort(-lending_co_data_numeric)"
      ],
      "metadata": {
        "colab": {
          "base_uri": "https://localhost:8080/"
        },
        "id": "cAVDQmvrjoqA",
        "outputId": "82df66fa-c0b6-4d24-b119-405e949a72ac"
      },
      "execution_count": null,
      "outputs": [
        {
          "output_type": "execute_result",
          "data": {
            "text/plain": [
              "array([[13621.,  4241.,  3121.,  2000.,   365.,    40.],\n",
              "       [15041.,  4171.,  3061.,  2000.,   365.,    40.],\n",
              "       [15340.,  3280.,  2160.,  1000.,   365.,    40.],\n",
              "       ...,\n",
              "       [16600.,  5001.,  4201.,  2000.,   365.,    40.],\n",
              "       [15600.,  3320.,  2080.,  1000.,   365.,    40.],\n",
              "       [16600.,  4601.,  4601.,  2000.,   365.,    40.]])"
            ]
          },
          "metadata": {},
          "execution_count": 49
        }
      ]
    },
    {
      "cell_type": "code",
      "source": [
        "-np.sort(lending_co_data_numeric)"
      ],
      "metadata": {
        "colab": {
          "base_uri": "https://localhost:8080/"
        },
        "id": "tT2w7giDj17M",
        "outputId": "187bcee6-5758-4af6-c120-ddc60d411c7d"
      },
      "execution_count": null,
      "outputs": [
        {
          "output_type": "execute_result",
          "data": {
            "text/plain": [
              "array([[   -40.,   -365.,  -2000.,  -3121.,  -4241., -13621.],\n",
              "       [   -40.,   -365.,  -2000.,  -3061.,  -4171., -15041.],\n",
              "       [   -40.,   -365.,  -1000.,  -2160.,  -3280., -15340.],\n",
              "       ...,\n",
              "       [   -40.,   -365.,  -2000.,  -4201.,  -5001., -16600.],\n",
              "       [   -40.,   -365.,  -1000.,  -2080.,  -3320., -15600.],\n",
              "       [   -40.,   -365.,  -2000.,  -4601.,  -4601., -16600.]])"
            ]
          },
          "metadata": {},
          "execution_count": 50
        }
      ]
    },
    {
      "cell_type": "code",
      "source": [
        "lending_co_data_numeric"
      ],
      "metadata": {
        "colab": {
          "base_uri": "https://localhost:8080/"
        },
        "id": "qtYIiYGqkEou",
        "outputId": "6bb62bbb-7654-41bc-cfa7-4759874f69c6"
      },
      "execution_count": null,
      "outputs": [
        {
          "output_type": "execute_result",
          "data": {
            "text/plain": [
              "array([[ 2000.,    40.,   365.,  3121.,  4241., 13621.],\n",
              "       [ 2000.,    40.,   365.,  3061.,  4171., 15041.],\n",
              "       [ 1000.,    40.,   365.,  2160.,  3280., 15340.],\n",
              "       ...,\n",
              "       [ 2000.,    40.,   365.,  4201.,  5001., 16600.],\n",
              "       [ 1000.,    40.,   365.,  2080.,  3320., 15600.],\n",
              "       [ 2000.,    40.,   365.,  4601.,  4601., 16600.]])"
            ]
          },
          "metadata": {},
          "execution_count": 53
        }
      ]
    },
    {
      "cell_type": "code",
      "source": [
        "np.sort(lending_co_data_numeric[:,3])"
      ],
      "metadata": {
        "colab": {
          "base_uri": "https://localhost:8080/"
        },
        "id": "7Vx8GUuKka8N",
        "outputId": "c2435ae5-dbb4-4dd8-c409-722bc6bb9cf6"
      },
      "execution_count": null,
      "outputs": [
        {
          "output_type": "execute_result",
          "data": {
            "text/plain": [
              "array([-2870., -2550., -2450., ..., 16751., 17650., 19001.])"
            ]
          },
          "metadata": {},
          "execution_count": 55
        }
      ]
    },
    {
      "cell_type": "code",
      "source": [
        "lending_co_data_numeric[:,3].sort()\n",
        "lending_co_data_numeric"
      ],
      "metadata": {
        "id": "PVsfcMXnlpvb",
        "outputId": "b26053ca-f644-4ca2-b52a-3393fc65ed9a",
        "colab": {
          "base_uri": "https://localhost:8080/"
        }
      },
      "execution_count": null,
      "outputs": [
        {
          "output_type": "execute_result",
          "data": {
            "text/plain": [
              "array([[-2870.,  -350.,    50.,   365.,  1000.,  1160.],\n",
              "       [-2870.,    40.,   100.,   365.,  1000.,  1500.],\n",
              "       [-2550.,    40.,   150.,   365.,  1000.,  2200.],\n",
              "       ...,\n",
              "       [  125.,   365.,  7251.,  9201., 18751., 54625.],\n",
              "       [  125.,   365.,  9000., 12126., 20001., 54625.],\n",
              "       [  165.,   365.,  9000., 13900., 22001., 64001.]])"
            ]
          },
          "metadata": {},
          "execution_count": 67
        }
      ]
    },
    {
      "cell_type": "markdown",
      "source": [
        "Argument Functions"
      ],
      "metadata": {
        "id": "aKcfdhUgOT-c"
      }
    },
    {
      "cell_type": "markdown",
      "source": [
        "np.argsort()"
      ],
      "metadata": {
        "id": "RvkfZ0NBOsIS"
      }
    },
    {
      "cell_type": "code",
      "source": [
        "lending_co_data_numeric"
      ],
      "metadata": {
        "colab": {
          "base_uri": "https://localhost:8080/"
        },
        "id": "db8JmK1YOPIM",
        "outputId": "95a3c510-6f5d-4783-a094-5f45c0ec1dc2"
      },
      "execution_count": 50,
      "outputs": [
        {
          "output_type": "execute_result",
          "data": {
            "text/plain": [
              "array([[ 2000.,    40.,   365., -2870.,  4241., 13621.],\n",
              "       [ 2000.,    40.,   365., -2550.,  4171., 15041.],\n",
              "       [ 1000.,    40.,   365., -2450.,  3280., 15340.],\n",
              "       ...,\n",
              "       [ 2000.,    40.,   365., 16751.,  5001., 16600.],\n",
              "       [ 1000.,    40.,   365., 17650.,  3320., 15600.],\n",
              "       [ 2000.,    40.,   365., 19001.,  4601., 16600.]])"
            ]
          },
          "metadata": {},
          "execution_count": 50
        }
      ]
    },
    {
      "cell_type": "code",
      "source": [
        "np.argsort(lending_co_data_numeric)"
      ],
      "metadata": {
        "colab": {
          "base_uri": "https://localhost:8080/"
        },
        "id": "utfJqA1LQIYW",
        "outputId": "9b58ba14-ec52-4016-9223-dd880e235db9"
      },
      "execution_count": 51,
      "outputs": [
        {
          "output_type": "execute_result",
          "data": {
            "text/plain": [
              "array([[3, 1, 2, 0, 4, 5],\n",
              "       [3, 1, 2, 0, 4, 5],\n",
              "       [3, 1, 2, 0, 4, 5],\n",
              "       ...,\n",
              "       [1, 2, 0, 4, 5, 3],\n",
              "       [1, 2, 0, 4, 5, 3],\n",
              "       [1, 2, 0, 4, 5, 3]])"
            ]
          },
          "metadata": {},
          "execution_count": 51
        }
      ]
    },
    {
      "cell_type": "code",
      "source": [
        "np.argsort(lending_co_data_numeric, axis = 0)"
      ],
      "metadata": {
        "colab": {
          "base_uri": "https://localhost:8080/"
        },
        "id": "aPQHjzF0RLkC",
        "outputId": "2df0cdf1-3713-489d-98e9-4b04bf11a8e2"
      },
      "execution_count": 52,
      "outputs": [
        {
          "output_type": "execute_result",
          "data": {
            "text/plain": [
              "array([[ 537,  443,    0,    0,   32,  482],\n",
              "       [ 639,  327,  687,    1,  166,  493],\n",
              "       [ 849,  432,  688,    2,   85,  166],\n",
              "       ...,\n",
              "       [  27,  326,  355, 1040, 1019,  568],\n",
              "       [ 277,   27,  357, 1041, 1033,  534],\n",
              "       [ 420,  408, 1042, 1042,  912,   27]])"
            ]
          },
          "metadata": {},
          "execution_count": 52
        }
      ]
    },
    {
      "cell_type": "code",
      "source": [
        "lending_co_data_numeric[482,5]"
      ],
      "metadata": {
        "colab": {
          "base_uri": "https://localhost:8080/"
        },
        "id": "wMIboR2oRgVu",
        "outputId": "5b6c03fd-5ae5-4ab1-9ab1-bd38348961ca"
      },
      "execution_count": 53,
      "outputs": [
        {
          "output_type": "execute_result",
          "data": {
            "text/plain": [
              "-350.0"
            ]
          },
          "metadata": {},
          "execution_count": 53
        }
      ]
    },
    {
      "cell_type": "code",
      "source": [
        "lending_co_data_numeric = lending_co_data_numeric[np.argsort(lending_co_data_numeric[:,0])]\n",
        "lending_co_data_numeric"
      ],
      "metadata": {
        "colab": {
          "base_uri": "https://localhost:8080/"
        },
        "id": "C4UwapaIRx2E",
        "outputId": "f7ef965c-aef6-4e33-8b7a-49f3460abbc0"
      },
      "execution_count": 54,
      "outputs": [
        {
          "output_type": "execute_result",
          "data": {
            "text/plain": [
              "array([[ 1000.,    40.,   365.,  3418.,  3400., 15600.],\n",
              "       [ 1000.,    40.,   365.,  3750.,  3800., 15600.],\n",
              "       [ 1000.,    40.,   365.,  5500.,  3950., 15600.],\n",
              "       ...,\n",
              "       [ 9000.,   165.,   365.,  -750., 16846., 64001.],\n",
              "       [ 9000.,   125.,   365.,  2981., 15751., 38626.],\n",
              "       [ 9000.,   125.,   365.,  3321., 14251., 25626.]])"
            ]
          },
          "metadata": {},
          "execution_count": 54
        }
      ]
    }
  ]
}