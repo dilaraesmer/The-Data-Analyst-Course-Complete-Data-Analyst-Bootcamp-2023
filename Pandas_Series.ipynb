{
  "nbformat": 4,
  "nbformat_minor": 0,
  "metadata": {
    "colab": {
      "provenance": [],
      "authorship_tag": "ABX9TyMFasr38sbaxL47bXMAcbhS",
      "include_colab_link": true
    },
    "kernelspec": {
      "name": "python3",
      "display_name": "Python 3"
    },
    "language_info": {
      "name": "python"
    }
  },
  "cells": [
    {
      "cell_type": "markdown",
      "metadata": {
        "id": "view-in-github",
        "colab_type": "text"
      },
      "source": [
        "<a href=\"https://colab.research.google.com/github/dilaraesmer/The-Data-Analyst-Course-Complete-Data-Analyst-Bootcamp-2023/blob/main/Pandas_Series.ipynb\" target=\"_parent\"><img src=\"https://colab.research.google.com/assets/colab-badge.svg\" alt=\"Open In Colab\"/></a>"
      ]
    },
    {
      "cell_type": "markdown",
      "source": [
        "pandas Series: .values, .array, .to_numpy()"
      ],
      "metadata": {
        "id": "o0DcOtNnX1Sa"
      }
    },
    {
      "cell_type": "markdown",
      "source": [
        "Converting Series into Arrays"
      ],
      "metadata": {
        "id": "cba5l_Q2tyYj"
      }
    },
    {
      "cell_type": "code",
      "source": [
        "import pandas as pd\n",
        "import numpy as np"
      ],
      "metadata": {
        "id": "pG2_O2kXUulr"
      },
      "execution_count": null,
      "outputs": []
    },
    {
      "cell_type": "code",
      "source": [
        "prices_per_category = pd.Series({'Product A': 22250, 'Product B': 16600, 'Product C':15600})\n",
        "prices_per_category"
      ],
      "metadata": {
        "colab": {
          "base_uri": "https://localhost:8080/"
        },
        "id": "vRRLK08yZDgu",
        "outputId": "39c4b5e8-93cd-44e2-beae-7e3040263c70"
      },
      "execution_count": null,
      "outputs": [
        {
          "output_type": "execute_result",
          "data": {
            "text/plain": [
              "Product A    22250\n",
              "Product B    16600\n",
              "Product C    15600\n",
              "dtype: int64"
            ]
          },
          "metadata": {},
          "execution_count": 2
        }
      ]
    },
    {
      "cell_type": "code",
      "source": [
        "prices_per_category.values"
      ],
      "metadata": {
        "colab": {
          "base_uri": "https://localhost:8080/"
        },
        "id": "oB6NZ_nDaOE_",
        "outputId": "254edb37-f704-4665-a476-92382fb51209"
      },
      "execution_count": null,
      "outputs": [
        {
          "output_type": "execute_result",
          "data": {
            "text/plain": [
              "array([22250, 16600, 15600])"
            ]
          },
          "metadata": {},
          "execution_count": 3
        }
      ]
    },
    {
      "cell_type": "code",
      "source": [
        "type(prices_per_category.values)"
      ],
      "metadata": {
        "colab": {
          "base_uri": "https://localhost:8080/"
        },
        "id": "7XGAvb-YaVvD",
        "outputId": "86dcfbde-e6ef-4b99-b341-7b1fdf4042b9"
      },
      "execution_count": null,
      "outputs": [
        {
          "output_type": "execute_result",
          "data": {
            "text/plain": [
              "numpy.ndarray"
            ]
          },
          "metadata": {},
          "execution_count": 4
        }
      ]
    },
    {
      "cell_type": "code",
      "source": [
        "prices_per_category.array"
      ],
      "metadata": {
        "colab": {
          "base_uri": "https://localhost:8080/"
        },
        "id": "FjzjCRORaZyr",
        "outputId": "8acf9a1f-f41d-4995-b547-e86ad23806b8"
      },
      "execution_count": null,
      "outputs": [
        {
          "output_type": "execute_result",
          "data": {
            "text/plain": [
              "<PandasArray>\n",
              "[22250, 16600, 15600]\n",
              "Length: 3, dtype: int64"
            ]
          },
          "metadata": {},
          "execution_count": 5
        }
      ]
    },
    {
      "cell_type": "code",
      "source": [
        "type(prices_per_category.array)"
      ],
      "metadata": {
        "colab": {
          "base_uri": "https://localhost:8080/"
        },
        "id": "CfXA55WTaewO",
        "outputId": "f63ca6b2-abac-424a-84f4-26d952bb0005"
      },
      "execution_count": null,
      "outputs": [
        {
          "output_type": "execute_result",
          "data": {
            "text/plain": [
              "pandas.core.arrays.numpy_.PandasArray"
            ]
          },
          "metadata": {},
          "execution_count": 6
        }
      ]
    },
    {
      "cell_type": "code",
      "source": [
        "prices_per_category.to_numpy()"
      ],
      "metadata": {
        "colab": {
          "base_uri": "https://localhost:8080/"
        },
        "id": "GZ6YW0i2ah_4",
        "outputId": "b47436a6-1759-474f-a92e-fe74720981c6"
      },
      "execution_count": null,
      "outputs": [
        {
          "output_type": "execute_result",
          "data": {
            "text/plain": [
              "array([22250, 16600, 15600])"
            ]
          },
          "metadata": {},
          "execution_count": 7
        }
      ]
    },
    {
      "cell_type": "code",
      "source": [
        "type(prices_per_category.to_numpy())"
      ],
      "metadata": {
        "colab": {
          "base_uri": "https://localhost:8080/"
        },
        "id": "v8W-mAxhJlBH",
        "outputId": "981a14e6-9510-4547-b781-25b24819c04d"
      },
      "execution_count": null,
      "outputs": [
        {
          "output_type": "execute_result",
          "data": {
            "text/plain": [
              "numpy.ndarray"
            ]
          },
          "metadata": {},
          "execution_count": 8
        }
      ]
    },
    {
      "cell_type": "code",
      "source": [
        "test_array = prices_per_category[['Product A', 'Product B']].to_numpy(dtype='float')\n",
        "test_array"
      ],
      "metadata": {
        "colab": {
          "base_uri": "https://localhost:8080/"
        },
        "id": "4xKCUEgzLYCm",
        "outputId": "eb9c187e-5494-4310-c2a3-c9c77e2915a9"
      },
      "execution_count": null,
      "outputs": [
        {
          "output_type": "execute_result",
          "data": {
            "text/plain": [
              "array([22250., 16600.])"
            ]
          },
          "metadata": {},
          "execution_count": 9
        }
      ]
    },
    {
      "cell_type": "code",
      "source": [
        "type(test_array[0])"
      ],
      "metadata": {
        "colab": {
          "base_uri": "https://localhost:8080/"
        },
        "id": "voMa0R1pL2JC",
        "outputId": "f84e906d-5724-498e-f2d9-0e442a230444"
      },
      "execution_count": null,
      "outputs": [
        {
          "output_type": "execute_result",
          "data": {
            "text/plain": [
              "numpy.float64"
            ]
          },
          "metadata": {},
          "execution_count": 10
        }
      ]
    },
    {
      "cell_type": "code",
      "source": [
        "prices_per_category.values[0]"
      ],
      "metadata": {
        "colab": {
          "base_uri": "https://localhost:8080/"
        },
        "id": "icZhZK5BL8d-",
        "outputId": "57e16dc3-1b16-4314-baa7-2fe7f465403e"
      },
      "execution_count": null,
      "outputs": [
        {
          "output_type": "execute_result",
          "data": {
            "text/plain": [
              "22250"
            ]
          },
          "metadata": {},
          "execution_count": 11
        }
      ]
    },
    {
      "cell_type": "code",
      "source": [
        "type(prices_per_category.values[0])"
      ],
      "metadata": {
        "colab": {
          "base_uri": "https://localhost:8080/"
        },
        "id": "PA91q0UyMHhq",
        "outputId": "5ade85e5-210f-49c5-dce1-e549bb822041"
      },
      "execution_count": null,
      "outputs": [
        {
          "output_type": "execute_result",
          "data": {
            "text/plain": [
              "numpy.int64"
            ]
          },
          "metadata": {},
          "execution_count": 12
        }
      ]
    },
    {
      "cell_type": "code",
      "source": [
        "prices_per_category.array[0]"
      ],
      "metadata": {
        "colab": {
          "base_uri": "https://localhost:8080/"
        },
        "id": "lQ1sjkdlMNfX",
        "outputId": "2dc8a5fb-579e-47f7-f37d-bfc7929f91f4"
      },
      "execution_count": null,
      "outputs": [
        {
          "output_type": "execute_result",
          "data": {
            "text/plain": [
              "22250"
            ]
          },
          "metadata": {},
          "execution_count": 13
        }
      ]
    },
    {
      "cell_type": "code",
      "source": [
        "type(prices_per_category.array[0])"
      ],
      "metadata": {
        "colab": {
          "base_uri": "https://localhost:8080/"
        },
        "id": "Yv8pjt7iMTB5",
        "outputId": "5b29205d-3f57-417e-aef0-caa4a5704499"
      },
      "execution_count": null,
      "outputs": [
        {
          "output_type": "execute_result",
          "data": {
            "text/plain": [
              "numpy.int64"
            ]
          },
          "metadata": {},
          "execution_count": 14
        }
      ]
    },
    {
      "cell_type": "code",
      "source": [
        "prices_per_category.to_numpy()[0]"
      ],
      "metadata": {
        "colab": {
          "base_uri": "https://localhost:8080/"
        },
        "id": "gSZ3JI6zND6f",
        "outputId": "49628a5f-8f9e-4950-8b89-48fc6b5f8683"
      },
      "execution_count": null,
      "outputs": [
        {
          "output_type": "execute_result",
          "data": {
            "text/plain": [
              "22250"
            ]
          },
          "metadata": {},
          "execution_count": 15
        }
      ]
    },
    {
      "cell_type": "code",
      "source": [
        "type(prices_per_category.to_numpy()[0])"
      ],
      "metadata": {
        "id": "n4aPuCcHNOsU",
        "outputId": "9512bc76-b271-4ceb-9f08-f91270df3265",
        "colab": {
          "base_uri": "https://localhost:8080/"
        }
      },
      "execution_count": null,
      "outputs": [
        {
          "output_type": "execute_result",
          "data": {
            "text/plain": [
              "numpy.int64"
            ]
          },
          "metadata": {},
          "execution_count": 16
        }
      ]
    },
    {
      "cell_type": "markdown",
      "source": [
        ".sort_values()"
      ],
      "metadata": {
        "id": "6aQ22OA6vxuj"
      }
    },
    {
      "cell_type": "code",
      "source": [
        "numbers = pd.Series([15, 1000, 23, 45, 444])\n",
        "numbers"
      ],
      "metadata": {
        "colab": {
          "base_uri": "https://localhost:8080/"
        },
        "id": "Rp6ZIo22vxjq",
        "outputId": "d68d39cf-34b7-4973-fa49-4b590cd11fb2"
      },
      "execution_count": 18,
      "outputs": [
        {
          "output_type": "execute_result",
          "data": {
            "text/plain": [
              "0      15\n",
              "1    1000\n",
              "2      23\n",
              "3      45\n",
              "4     444\n",
              "dtype: int64"
            ]
          },
          "metadata": {},
          "execution_count": 18
        }
      ]
    },
    {
      "cell_type": "code",
      "source": [
        "numbers.sort_values()"
      ],
      "metadata": {
        "colab": {
          "base_uri": "https://localhost:8080/"
        },
        "id": "2ZVabkPQv-cp",
        "outputId": "54ff9848-461e-4c73-f364-b0c4a1385974"
      },
      "execution_count": 20,
      "outputs": [
        {
          "output_type": "execute_result",
          "data": {
            "text/plain": [
              "0      15\n",
              "2      23\n",
              "3      45\n",
              "4     444\n",
              "1    1000\n",
              "dtype: int64"
            ]
          },
          "metadata": {},
          "execution_count": 20
        }
      ]
    },
    {
      "cell_type": "code",
      "source": [
        "numbers.sort_values(ascending=True)"
      ],
      "metadata": {
        "colab": {
          "base_uri": "https://localhost:8080/"
        },
        "id": "5491bfSdwL33",
        "outputId": "ef81eeb1-2aa6-4203-8d21-ae9296206606"
      },
      "execution_count": 22,
      "outputs": [
        {
          "output_type": "execute_result",
          "data": {
            "text/plain": [
              "0      15\n",
              "2      23\n",
              "3      45\n",
              "4     444\n",
              "1    1000\n",
              "dtype: int64"
            ]
          },
          "metadata": {},
          "execution_count": 22
        }
      ]
    },
    {
      "cell_type": "code",
      "source": [
        "numbers.sort_values(ascending=False)"
      ],
      "metadata": {
        "colab": {
          "base_uri": "https://localhost:8080/"
        },
        "id": "eYldpEWJwhuX",
        "outputId": "66d70f27-93bf-419a-d23b-faaa878d1e27"
      },
      "execution_count": 23,
      "outputs": [
        {
          "output_type": "execute_result",
          "data": {
            "text/plain": [
              "1    1000\n",
              "4     444\n",
              "3      45\n",
              "2      23\n",
              "0      15\n",
              "dtype: int64"
            ]
          },
          "metadata": {},
          "execution_count": 23
        }
      ]
    },
    {
      "cell_type": "code",
      "source": [
        "data = pd.read_csv('Location.csv', squeeze = True)\n",
        "location_data = data.copy()\n",
        "location_data.head()"
      ],
      "metadata": {
        "colab": {
          "base_uri": "https://localhost:8080/"
        },
        "id": "fQ4hrByrwmw7",
        "outputId": "01b05597-202e-4e6d-d696-b3ff4006ddb8"
      },
      "execution_count": 26,
      "outputs": [
        {
          "output_type": "execute_result",
          "data": {
            "text/plain": [
              "0     Location 3\n",
              "1     Location 6\n",
              "2     Location 8\n",
              "3    Location 26\n",
              "4    Location 34\n",
              "Name: Location, dtype: object"
            ]
          },
          "metadata": {},
          "execution_count": 26
        }
      ]
    },
    {
      "cell_type": "code",
      "source": [
        "location_data.sort_values()"
      ],
      "metadata": {
        "colab": {
          "base_uri": "https://localhost:8080/"
        },
        "id": "Tyo6v1-kxAzt",
        "outputId": "979c770d-5e2e-42da-8453-c1547eac7aa4"
      },
      "execution_count": 28,
      "outputs": [
        {
          "output_type": "execute_result",
          "data": {
            "text/plain": [
              "637     Location 1\n",
              "884     Location 1\n",
              "465     Location 1\n",
              "716    Location 10\n",
              "623    Location 10\n",
              "          ...     \n",
              "482    Location 97\n",
              "128    Location 97\n",
              "669    Location 97\n",
              "757    Location 98\n",
              "372    Location 99\n",
              "Name: Location, Length: 1043, dtype: object"
            ]
          },
          "metadata": {},
          "execution_count": 28
        }
      ]
    },
    {
      "cell_type": "code",
      "source": [
        "location_data.sort_values(ascending=True)"
      ],
      "metadata": {
        "colab": {
          "base_uri": "https://localhost:8080/"
        },
        "id": "ZkI5GohAxIIF",
        "outputId": "58cdf95c-23e5-4ce5-e31f-677a35f7faa3"
      },
      "execution_count": 29,
      "outputs": [
        {
          "output_type": "execute_result",
          "data": {
            "text/plain": [
              "637     Location 1\n",
              "884     Location 1\n",
              "465     Location 1\n",
              "716    Location 10\n",
              "623    Location 10\n",
              "          ...     \n",
              "482    Location 97\n",
              "128    Location 97\n",
              "669    Location 97\n",
              "757    Location 98\n",
              "372    Location 99\n",
              "Name: Location, Length: 1043, dtype: object"
            ]
          },
          "metadata": {},
          "execution_count": 29
        }
      ]
    },
    {
      "cell_type": "code",
      "source": [
        "location_data.sort_values(ascending=False)"
      ],
      "metadata": {
        "colab": {
          "base_uri": "https://localhost:8080/"
        },
        "id": "1RR9Sf2hxNKW",
        "outputId": "b6661a9f-464c-4002-b223-762e362aa46e"
      },
      "execution_count": 30,
      "outputs": [
        {
          "output_type": "execute_result",
          "data": {
            "text/plain": [
              "372    Location 99\n",
              "757    Location 98\n",
              "128    Location 97\n",
              "482    Location 97\n",
              "271    Location 97\n",
              "          ...     \n",
              "202    Location 10\n",
              "298    Location 10\n",
              "637     Location 1\n",
              "884     Location 1\n",
              "465     Location 1\n",
              "Name: Location, Length: 1043, dtype: object"
            ]
          },
          "metadata": {},
          "execution_count": 30
        }
      ]
    },
    {
      "cell_type": "markdown",
      "source": [
        "Notes:\n",
        "\n",
        ".sort_values() arranges the values of the object it's been applied to\n",
        "\n",
        "The index values comply with the object's data that will lead the way"
      ],
      "metadata": {
        "id": "BhAF8cm5xkNi"
      }
    },
    {
      "cell_type": "markdown",
      "source": [
        "Attribute and Method Chaining "
      ],
      "metadata": {
        "id": "cjzIbQpGyPJn"
      }
    },
    {
      "cell_type": "markdown",
      "source": [
        "Method chaining \n",
        "\n",
        "* organizes and applies several method calls on certain object in a given order\n",
        "\n",
        "* each call performs its action and returns an intermediate output\n",
        "\n",
        "* every next method from the chain respects the value returned by the previous one"
      ],
      "metadata": {
        "id": "McV3aHja0RZU"
      }
    },
    {
      "cell_type": "code",
      "source": [
        "location_data.index"
      ],
      "metadata": {
        "colab": {
          "base_uri": "https://localhost:8080/"
        },
        "id": "MhKOQ75kxct6",
        "outputId": "1b6b8411-e88e-4073-994a-316d43f224ec"
      },
      "execution_count": 31,
      "outputs": [
        {
          "output_type": "execute_result",
          "data": {
            "text/plain": [
              "RangeIndex(start=0, stop=1043, step=1)"
            ]
          },
          "metadata": {},
          "execution_count": 31
        }
      ]
    },
    {
      "cell_type": "code",
      "source": [
        "location_data.name"
      ],
      "metadata": {
        "colab": {
          "base_uri": "https://localhost:8080/",
          "height": 35
        },
        "id": "f_lTl52lygld",
        "outputId": "f51f81db-7740-46e1-f588-9fb61b179bd0"
      },
      "execution_count": 32,
      "outputs": [
        {
          "output_type": "execute_result",
          "data": {
            "text/plain": [
              "'Location'"
            ],
            "application/vnd.google.colaboratory.intrinsic+json": {
              "type": "string"
            }
          },
          "metadata": {},
          "execution_count": 32
        }
      ]
    },
    {
      "cell_type": "code",
      "source": [
        "location_data.index.name"
      ],
      "metadata": {
        "id": "ey9O4shlymrl"
      },
      "execution_count": 33,
      "outputs": []
    },
    {
      "cell_type": "code",
      "source": [
        "location_data.index.name = 'Index'"
      ],
      "metadata": {
        "id": "CcRRTGXhyvPz"
      },
      "execution_count": 37,
      "outputs": []
    },
    {
      "cell_type": "code",
      "source": [
        "location_data"
      ],
      "metadata": {
        "colab": {
          "base_uri": "https://localhost:8080/"
        },
        "id": "lQrXBzETyxWC",
        "outputId": "aad6ba7b-4060-41af-8a6e-5ebc3f64f425"
      },
      "execution_count": 38,
      "outputs": [
        {
          "output_type": "execute_result",
          "data": {
            "text/plain": [
              "Index\n",
              "0        Location 3\n",
              "1        Location 6\n",
              "2        Location 8\n",
              "3       Location 26\n",
              "4       Location 34\n",
              "           ...     \n",
              "1038    Location 73\n",
              "1039    Location 82\n",
              "1040    Location 11\n",
              "1041    Location 26\n",
              "1042    Location 94\n",
              "Name: Location, Length: 1043, dtype: object"
            ]
          },
          "metadata": {},
          "execution_count": 38
        }
      ]
    },
    {
      "cell_type": "code",
      "source": [
        "location_data.index.name "
      ],
      "metadata": {
        "colab": {
          "base_uri": "https://localhost:8080/",
          "height": 35
        },
        "id": "K37HPQzRzB0D",
        "outputId": "8a598443-2bce-4759-da5a-fa6f403cbae9"
      },
      "execution_count": 39,
      "outputs": [
        {
          "output_type": "execute_result",
          "data": {
            "text/plain": [
              "'Index'"
            ],
            "application/vnd.google.colaboratory.intrinsic+json": {
              "type": "string"
            }
          },
          "metadata": {},
          "execution_count": 39
        }
      ]
    },
    {
      "cell_type": "code",
      "source": [
        "location_data.sort_values()"
      ],
      "metadata": {
        "colab": {
          "base_uri": "https://localhost:8080/"
        },
        "id": "0LEy2EZXzTO_",
        "outputId": "0b939146-e89e-4d04-ebd5-50e5334bd91c"
      },
      "execution_count": 40,
      "outputs": [
        {
          "output_type": "execute_result",
          "data": {
            "text/plain": [
              "Index\n",
              "637     Location 1\n",
              "884     Location 1\n",
              "465     Location 1\n",
              "716    Location 10\n",
              "623    Location 10\n",
              "          ...     \n",
              "482    Location 97\n",
              "128    Location 97\n",
              "669    Location 97\n",
              "757    Location 98\n",
              "372    Location 99\n",
              "Name: Location, Length: 1043, dtype: object"
            ]
          },
          "metadata": {},
          "execution_count": 40
        }
      ]
    },
    {
      "cell_type": "code",
      "source": [
        "location_data.sort_values().head()"
      ],
      "metadata": {
        "colab": {
          "base_uri": "https://localhost:8080/"
        },
        "id": "b2oTAMYKzYth",
        "outputId": "c4e2f3b5-006e-421f-8bb0-5e5d09357939"
      },
      "execution_count": 41,
      "outputs": [
        {
          "output_type": "execute_result",
          "data": {
            "text/plain": [
              "Index\n",
              "637     Location 1\n",
              "884     Location 1\n",
              "465     Location 1\n",
              "716    Location 10\n",
              "623    Location 10\n",
              "Name: Location, dtype: object"
            ]
          },
          "metadata": {},
          "execution_count": 41
        }
      ]
    },
    {
      "cell_type": "code",
      "source": [
        "location_data.sort_values().tail()"
      ],
      "metadata": {
        "colab": {
          "base_uri": "https://localhost:8080/"
        },
        "id": "NuZINJa7zbph",
        "outputId": "309f22eb-cad7-4a50-f14e-9200a0c78a1a"
      },
      "execution_count": 42,
      "outputs": [
        {
          "output_type": "execute_result",
          "data": {
            "text/plain": [
              "Index\n",
              "482    Location 97\n",
              "128    Location 97\n",
              "669    Location 97\n",
              "757    Location 98\n",
              "372    Location 99\n",
              "Name: Location, dtype: object"
            ]
          },
          "metadata": {},
          "execution_count": 42
        }
      ]
    },
    {
      "cell_type": "code",
      "source": [
        "location_data.index"
      ],
      "metadata": {
        "colab": {
          "base_uri": "https://localhost:8080/"
        },
        "id": "UqIg4UCzzfoe",
        "outputId": "6da058dc-e896-4163-be75-f2b01a430ac7"
      },
      "execution_count": 43,
      "outputs": [
        {
          "output_type": "execute_result",
          "data": {
            "text/plain": [
              "RangeIndex(start=0, stop=1043, step=1, name='Index')"
            ]
          },
          "metadata": {},
          "execution_count": 43
        }
      ]
    },
    {
      "cell_type": "code",
      "source": [
        "type(location_data.index)"
      ],
      "metadata": {
        "colab": {
          "base_uri": "https://localhost:8080/"
        },
        "id": "O6IV4RGYzmK1",
        "outputId": "889901f7-2679-4157-c96c-e76d0d159119"
      },
      "execution_count": 44,
      "outputs": [
        {
          "output_type": "execute_result",
          "data": {
            "text/plain": [
              "pandas.core.indexes.range.RangeIndex"
            ]
          },
          "metadata": {},
          "execution_count": 44
        }
      ]
    },
    {
      "cell_type": "code",
      "source": [
        "location_data.index.to_numpy()"
      ],
      "metadata": {
        "colab": {
          "base_uri": "https://localhost:8080/"
        },
        "id": "z4sR-RZCz4s3",
        "outputId": "65215a0d-006d-49bf-8906-7557b5c6fd67"
      },
      "execution_count": 45,
      "outputs": [
        {
          "output_type": "execute_result",
          "data": {
            "text/plain": [
              "array([   0,    1,    2, ..., 1040, 1041, 1042])"
            ]
          },
          "metadata": {},
          "execution_count": 45
        }
      ]
    },
    {
      "cell_type": "markdown",
      "source": [
        ".sort_index()"
      ],
      "metadata": {
        "id": "8iJYpS-D1ht3"
      }
    },
    {
      "cell_type": "markdown",
      "source": [
        ".sort_index() \n",
        "\n",
        "creates a temporary copy of the object's data it^s been applied to and displays the output of its manipulation\n",
        "\n"
      ],
      "metadata": {
        "id": "hoItbbKK3fC7"
      }
    },
    {
      "cell_type": "code",
      "source": [
        "location_data.head()"
      ],
      "metadata": {
        "colab": {
          "base_uri": "https://localhost:8080/"
        },
        "id": "I_DNkofd1mTX",
        "outputId": "a0ff140b-448b-4432-90e2-dc13c440e0f9"
      },
      "execution_count": 46,
      "outputs": [
        {
          "output_type": "execute_result",
          "data": {
            "text/plain": [
              "Index\n",
              "0     Location 3\n",
              "1     Location 6\n",
              "2     Location 8\n",
              "3    Location 26\n",
              "4    Location 34\n",
              "Name: Location, dtype: object"
            ]
          },
          "metadata": {},
          "execution_count": 46
        }
      ]
    },
    {
      "cell_type": "code",
      "source": [
        "location_data_sv = location_data.sort_values(ascending=False)\n",
        "location_data_sv.head()"
      ],
      "metadata": {
        "colab": {
          "base_uri": "https://localhost:8080/"
        },
        "id": "VFCr1MAb1y9-",
        "outputId": "f3eaabca-89d1-4660-b7d5-615a056a7bf5"
      },
      "execution_count": 47,
      "outputs": [
        {
          "output_type": "execute_result",
          "data": {
            "text/plain": [
              "Index\n",
              "372    Location 99\n",
              "757    Location 98\n",
              "128    Location 97\n",
              "482    Location 97\n",
              "271    Location 97\n",
              "Name: Location, dtype: object"
            ]
          },
          "metadata": {},
          "execution_count": 47
        }
      ]
    },
    {
      "cell_type": "code",
      "source": [
        "location_data_sv.index"
      ],
      "metadata": {
        "colab": {
          "base_uri": "https://localhost:8080/"
        },
        "id": "wSIG2mhn2JIk",
        "outputId": "48b9f646-c8f8-468c-d21a-251e1effd87c"
      },
      "execution_count": 48,
      "outputs": [
        {
          "output_type": "execute_result",
          "data": {
            "text/plain": [
              "Int64Index([ 372,  757,  128,  482,  271,  669,  612,   29,  518,  598,\n",
              "            ...\n",
              "             904,  912, 1010,   14,  716,  202,  298,  637,  884,  465],\n",
              "           dtype='int64', name='Index', length=1043)"
            ]
          },
          "metadata": {},
          "execution_count": 48
        }
      ]
    },
    {
      "cell_type": "code",
      "source": [
        "location_data_sv.index.sort_values()"
      ],
      "metadata": {
        "colab": {
          "base_uri": "https://localhost:8080/"
        },
        "id": "HeVUEWDf2O77",
        "outputId": "d28fdb25-c67a-4a4c-ff58-2603549bfde2"
      },
      "execution_count": 49,
      "outputs": [
        {
          "output_type": "execute_result",
          "data": {
            "text/plain": [
              "Int64Index([   0,    1,    2,    3,    4,    5,    6,    7,    8,    9,\n",
              "            ...\n",
              "            1033, 1034, 1035, 1036, 1037, 1038, 1039, 1040, 1041, 1042],\n",
              "           dtype='int64', name='Index', length=1043)"
            ]
          },
          "metadata": {},
          "execution_count": 49
        }
      ]
    },
    {
      "cell_type": "code",
      "source": [
        "location_data_sv.index = location_data_sv.index.sort_values()"
      ],
      "metadata": {
        "id": "cFODkgtH2eu0"
      },
      "execution_count": 51,
      "outputs": []
    },
    {
      "cell_type": "code",
      "source": [
        "location_data_sv"
      ],
      "metadata": {
        "colab": {
          "base_uri": "https://localhost:8080/"
        },
        "id": "xe2S13uq2q82",
        "outputId": "4ab0d68e-391c-44c5-b046-d884efa0dcc3"
      },
      "execution_count": 52,
      "outputs": [
        {
          "output_type": "execute_result",
          "data": {
            "text/plain": [
              "Index\n",
              "0       Location 99\n",
              "1       Location 98\n",
              "2       Location 97\n",
              "3       Location 97\n",
              "4       Location 97\n",
              "           ...     \n",
              "1038    Location 10\n",
              "1039    Location 10\n",
              "1040     Location 1\n",
              "1041     Location 1\n",
              "1042     Location 1\n",
              "Name: Location, Length: 1043, dtype: object"
            ]
          },
          "metadata": {},
          "execution_count": 52
        }
      ]
    },
    {
      "cell_type": "code",
      "source": [
        "location_data_sv = location_data.sort_values(ascending=False)\n",
        "location_data_sv.head()"
      ],
      "metadata": {
        "colab": {
          "base_uri": "https://localhost:8080/"
        },
        "id": "OWK8akYZ2xf6",
        "outputId": "383aa392-944f-4d02-924c-9d9752b9935a"
      },
      "execution_count": 54,
      "outputs": [
        {
          "output_type": "execute_result",
          "data": {
            "text/plain": [
              "Index\n",
              "372    Location 99\n",
              "757    Location 98\n",
              "128    Location 97\n",
              "482    Location 97\n",
              "271    Location 97\n",
              "Name: Location, dtype: object"
            ]
          },
          "metadata": {},
          "execution_count": 54
        }
      ]
    },
    {
      "cell_type": "code",
      "source": [
        "location_data_sv.sort_index()"
      ],
      "metadata": {
        "colab": {
          "base_uri": "https://localhost:8080/"
        },
        "id": "4hcDPZkP3AKa",
        "outputId": "91c2c182-1043-4f36-aed2-e0b1c6ff2844"
      },
      "execution_count": 55,
      "outputs": [
        {
          "output_type": "execute_result",
          "data": {
            "text/plain": [
              "Index\n",
              "0        Location 3\n",
              "1        Location 6\n",
              "2        Location 8\n",
              "3       Location 26\n",
              "4       Location 34\n",
              "           ...     \n",
              "1038    Location 73\n",
              "1039    Location 82\n",
              "1040    Location 11\n",
              "1041    Location 26\n",
              "1042    Location 94\n",
              "Name: Location, Length: 1043, dtype: object"
            ]
          },
          "metadata": {},
          "execution_count": 55
        }
      ]
    },
    {
      "cell_type": "code",
      "source": [
        "location_data_sv"
      ],
      "metadata": {
        "colab": {
          "base_uri": "https://localhost:8080/"
        },
        "id": "r5-4510y3Hdx",
        "outputId": "962fcba4-53b8-4737-db22-ac7ec827cc55"
      },
      "execution_count": 56,
      "outputs": [
        {
          "output_type": "execute_result",
          "data": {
            "text/plain": [
              "Index\n",
              "372    Location 99\n",
              "757    Location 98\n",
              "128    Location 97\n",
              "482    Location 97\n",
              "271    Location 97\n",
              "          ...     \n",
              "202    Location 10\n",
              "298    Location 10\n",
              "637     Location 1\n",
              "884     Location 1\n",
              "465     Location 1\n",
              "Name: Location, Length: 1043, dtype: object"
            ]
          },
          "metadata": {},
          "execution_count": 56
        }
      ]
    },
    {
      "cell_type": "code",
      "source": [
        "location_data_sv = location_data.sort_index(ascending=True)\n",
        "location_data_sv.head()"
      ],
      "metadata": {
        "colab": {
          "base_uri": "https://localhost:8080/"
        },
        "id": "imFLtds43JoK",
        "outputId": "9f5cec1c-6b0b-4476-ee47-ce14571e1e0e"
      },
      "execution_count": 57,
      "outputs": [
        {
          "output_type": "execute_result",
          "data": {
            "text/plain": [
              "Index\n",
              "0     Location 3\n",
              "1     Location 6\n",
              "2     Location 8\n",
              "3    Location 26\n",
              "4    Location 34\n",
              "Name: Location, dtype: object"
            ]
          },
          "metadata": {},
          "execution_count": 57
        }
      ]
    }
  ]
}